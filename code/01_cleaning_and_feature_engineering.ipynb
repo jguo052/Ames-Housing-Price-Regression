{
 "cells": [
  {
   "cell_type": "code",
   "execution_count": 53,
   "id": "855e9d66-cbff-473f-8c9b-f369fe57e1de",
   "metadata": {},
   "outputs": [],
   "source": [
    "# label and scale images (hists and boxplots)"
   ]
  },
  {
   "cell_type": "markdown",
   "id": "58c751ac-cf16-4691-9a77-fd03a011371c",
   "metadata": {},
   "source": [
    "# Problem Statement\n",
    "\n",
    "---\n",
    "\n",
    "*In this project I am assuming the role of a data scientist at Zillow*\n",
    "\n",
    "**Zillow** is an American tech real-estate marketplace. **Our website advertises home and rental units** for property owners and managers. These advertisement services are one the company's primary source of income.\n",
    "\n",
    "One feature that **Zillow** is known for is that it **provides free public estimates on the value of any home**. In this project, **we use data on home sales in Ames, Iowa** and create several linear regression models that **attempt to predict the sale price of a home** based on some of its information (size in square feet, number of fireplaces, neighborhood, etc). The value of having stronger price predictions is to improve public perception of Zillow and its reliability, ultimately increasing the number of users willing to purchase advertisement on our website.\n",
    "\n",
    "We will deem our project successful if our model predicts sale prices of unseen data well. More precisely, **we will call our model succesful if the R squared score is above 0.75**.\n"
   ]
  },
  {
   "cell_type": "markdown",
   "id": "d8ace9c8-f47d-4f14-abf4-f80121c1a6fe",
   "metadata": {},
   "source": [
    "# Cleaning and Feature Engineering\n",
    "\n",
    "---"
   ]
  },
  {
   "cell_type": "markdown",
   "id": "071240ac-4d7a-489f-8258-459c69b4ea93",
   "metadata": {
    "tags": []
   },
   "source": [
    "## Imports and Functions"
   ]
  },
  {
   "cell_type": "code",
   "execution_count": 2,
   "id": "784f0029-5bbc-42f1-b9ab-665174d35786",
   "metadata": {},
   "outputs": [],
   "source": [
    "import numpy as np\n",
    "import pandas as pd\n",
    "import matplotlib.pyplot as plt\n",
    "import seaborn as sns\n",
    "\n",
    "# to remove\n",
    "from statsmodels.stats.outliers_influence import variance_inflation_factor\n",
    "from sklearn.model_selection import train_test_split, cross_val_score\n",
    "from sklearn.preprocessing import StandardScaler\n",
    "from sklearn.linear_model import LinearRegression, Ridge, RidgeCV, Lasso, LassoCV\n",
    "from sklearn import metrics\n",
    "from sklearn.model_selection import GridSearchCV"
   ]
  },
  {
   "cell_type": "code",
   "execution_count": 3,
   "id": "243221fb-a0fc-4e05-b9ae-e040a36d4a76",
   "metadata": {},
   "outputs": [],
   "source": [
    "def qual_to_num(data, feature):\n",
    "    '''\n",
    "    Takes in DataFrame and column name containing string ratings\n",
    "    replaces the ratings with numerical values\n",
    "    \n",
    "    Returns the updated DataFrame\n",
    "    '''\n",
    "    \n",
    "    # ratings that appear in the dataset\n",
    "    # and corresponding numerical value\n",
    "    qual_conversion = {'Ex': 5, 'Gd': 4, 'TA': 3, 'Fa': 2, 'Po': 1, 'NA': 0, np.nan: 0}\n",
    "    \n",
    "    # convert to ratings using dictionary\n",
    "    data[feature] = data[feature].apply(lambda x: qual_conversion[x])\n",
    "    \n",
    "    return data"
   ]
  },
  {
   "cell_type": "markdown",
   "id": "b3fa231f-8e99-4d5d-b7fc-c28e62930b1f",
   "metadata": {},
   "source": [
    "---\n",
    "\n",
    "## Dealing with Missing Values"
   ]
  },
  {
   "cell_type": "code",
   "execution_count": 4,
   "id": "8ff2b9c6-5e98-407e-ac84-6831f2c7530b",
   "metadata": {},
   "outputs": [
    {
     "data": {
      "text/plain": [
       "(2051, 81)"
      ]
     },
     "execution_count": 4,
     "metadata": {},
     "output_type": "execute_result"
    }
   ],
   "source": [
    "raw_housing = pd.read_csv('../datasets/train.csv')\n",
    "raw_housing.shape"
   ]
  },
  {
   "cell_type": "markdown",
   "id": "b32b145c-2884-4a7e-a775-6576c42de0b9",
   "metadata": {},
   "source": [
    "Cleaning 81 features is a massive task. After reading through the [data description](http://jse.amstat.org/v19n3/decock/DataDocumentation.txt), I have hand picked a much more manageable 32 variables that I believe will have the most relevance for predicting home saleprices. I tried to be lax in my choices so that many can be genuinely ruled out through objective data analysis."
   ]
  },
  {
   "cell_type": "code",
   "execution_count": 5,
   "id": "81945aab-06a6-4c0a-b3ea-a78362703f4c",
   "metadata": {},
   "outputs": [],
   "source": [
    "init_features = ['MS Zoning', 'Lot Area', 'Land Contour', 'Land Slope', 'Neighborhood', 'Condition 1',\n",
    "            'Bldg Type', 'House Style', 'Overall Qual', 'Overall Cond', 'Year Built', 'Year Remod/Add',\n",
    "           'Mas Vnr Type', 'Exter Qual', 'Exter Cond', 'Bsmt Qual', 'Bsmt Cond',\n",
    "           'Garage Area', 'Wood Deck SF', 'Open Porch SF', 'Kitchen Qual', 'Bedroom AbvGr',\n",
    "           'Full Bath', 'Half Bath', 'Fireplaces', 'Fireplace Qu', 'BsmtFin SF 1', 'Bsmt Unf SF', '1st Flr SF', '2nd Flr SF', 'Sale Type', 'SalePrice']"
   ]
  },
  {
   "cell_type": "code",
   "execution_count": 6,
   "id": "59b09455-3a73-4240-91ff-2a01a18a3ee0",
   "metadata": {},
   "outputs": [
    {
     "data": {
      "text/html": [
       "<div>\n",
       "<style scoped>\n",
       "    .dataframe tbody tr th:only-of-type {\n",
       "        vertical-align: middle;\n",
       "    }\n",
       "\n",
       "    .dataframe tbody tr th {\n",
       "        vertical-align: top;\n",
       "    }\n",
       "\n",
       "    .dataframe thead th {\n",
       "        text-align: right;\n",
       "    }\n",
       "</style>\n",
       "<table border=\"1\" class=\"dataframe\">\n",
       "  <thead>\n",
       "    <tr style=\"text-align: right;\">\n",
       "      <th></th>\n",
       "      <th>MS Zoning</th>\n",
       "      <th>Lot Area</th>\n",
       "      <th>Land Contour</th>\n",
       "      <th>Land Slope</th>\n",
       "      <th>Neighborhood</th>\n",
       "      <th>Condition 1</th>\n",
       "      <th>Bldg Type</th>\n",
       "      <th>House Style</th>\n",
       "      <th>Overall Qual</th>\n",
       "      <th>Overall Cond</th>\n",
       "      <th>...</th>\n",
       "      <th>Full Bath</th>\n",
       "      <th>Half Bath</th>\n",
       "      <th>Fireplaces</th>\n",
       "      <th>Fireplace Qu</th>\n",
       "      <th>BsmtFin SF 1</th>\n",
       "      <th>Bsmt Unf SF</th>\n",
       "      <th>1st Flr SF</th>\n",
       "      <th>2nd Flr SF</th>\n",
       "      <th>Sale Type</th>\n",
       "      <th>SalePrice</th>\n",
       "    </tr>\n",
       "  </thead>\n",
       "  <tbody>\n",
       "    <tr>\n",
       "      <th>0</th>\n",
       "      <td>RL</td>\n",
       "      <td>13517</td>\n",
       "      <td>Lvl</td>\n",
       "      <td>Gtl</td>\n",
       "      <td>Sawyer</td>\n",
       "      <td>RRAe</td>\n",
       "      <td>1Fam</td>\n",
       "      <td>2Story</td>\n",
       "      <td>6</td>\n",
       "      <td>8</td>\n",
       "      <td>...</td>\n",
       "      <td>2</td>\n",
       "      <td>1</td>\n",
       "      <td>0</td>\n",
       "      <td>NaN</td>\n",
       "      <td>533.0</td>\n",
       "      <td>192.0</td>\n",
       "      <td>725</td>\n",
       "      <td>754</td>\n",
       "      <td>WD</td>\n",
       "      <td>130500</td>\n",
       "    </tr>\n",
       "    <tr>\n",
       "      <th>1</th>\n",
       "      <td>RL</td>\n",
       "      <td>11492</td>\n",
       "      <td>Lvl</td>\n",
       "      <td>Gtl</td>\n",
       "      <td>SawyerW</td>\n",
       "      <td>Norm</td>\n",
       "      <td>1Fam</td>\n",
       "      <td>2Story</td>\n",
       "      <td>7</td>\n",
       "      <td>5</td>\n",
       "      <td>...</td>\n",
       "      <td>2</td>\n",
       "      <td>1</td>\n",
       "      <td>1</td>\n",
       "      <td>TA</td>\n",
       "      <td>637.0</td>\n",
       "      <td>276.0</td>\n",
       "      <td>913</td>\n",
       "      <td>1209</td>\n",
       "      <td>WD</td>\n",
       "      <td>220000</td>\n",
       "    </tr>\n",
       "    <tr>\n",
       "      <th>2</th>\n",
       "      <td>RL</td>\n",
       "      <td>7922</td>\n",
       "      <td>Lvl</td>\n",
       "      <td>Gtl</td>\n",
       "      <td>NAmes</td>\n",
       "      <td>Norm</td>\n",
       "      <td>1Fam</td>\n",
       "      <td>1Story</td>\n",
       "      <td>5</td>\n",
       "      <td>7</td>\n",
       "      <td>...</td>\n",
       "      <td>1</td>\n",
       "      <td>0</td>\n",
       "      <td>0</td>\n",
       "      <td>NaN</td>\n",
       "      <td>731.0</td>\n",
       "      <td>326.0</td>\n",
       "      <td>1057</td>\n",
       "      <td>0</td>\n",
       "      <td>WD</td>\n",
       "      <td>109000</td>\n",
       "    </tr>\n",
       "    <tr>\n",
       "      <th>3</th>\n",
       "      <td>RL</td>\n",
       "      <td>9802</td>\n",
       "      <td>Lvl</td>\n",
       "      <td>Gtl</td>\n",
       "      <td>Timber</td>\n",
       "      <td>Norm</td>\n",
       "      <td>1Fam</td>\n",
       "      <td>2Story</td>\n",
       "      <td>5</td>\n",
       "      <td>5</td>\n",
       "      <td>...</td>\n",
       "      <td>2</td>\n",
       "      <td>1</td>\n",
       "      <td>0</td>\n",
       "      <td>NaN</td>\n",
       "      <td>0.0</td>\n",
       "      <td>384.0</td>\n",
       "      <td>744</td>\n",
       "      <td>700</td>\n",
       "      <td>WD</td>\n",
       "      <td>174000</td>\n",
       "    </tr>\n",
       "    <tr>\n",
       "      <th>4</th>\n",
       "      <td>RL</td>\n",
       "      <td>14235</td>\n",
       "      <td>Lvl</td>\n",
       "      <td>Gtl</td>\n",
       "      <td>SawyerW</td>\n",
       "      <td>Norm</td>\n",
       "      <td>1Fam</td>\n",
       "      <td>1.5Fin</td>\n",
       "      <td>6</td>\n",
       "      <td>8</td>\n",
       "      <td>...</td>\n",
       "      <td>2</td>\n",
       "      <td>0</td>\n",
       "      <td>0</td>\n",
       "      <td>NaN</td>\n",
       "      <td>0.0</td>\n",
       "      <td>676.0</td>\n",
       "      <td>831</td>\n",
       "      <td>614</td>\n",
       "      <td>WD</td>\n",
       "      <td>138500</td>\n",
       "    </tr>\n",
       "  </tbody>\n",
       "</table>\n",
       "<p>5 rows × 32 columns</p>\n",
       "</div>"
      ],
      "text/plain": [
       "  MS Zoning  Lot Area Land Contour Land Slope Neighborhood Condition 1  \\\n",
       "0        RL     13517          Lvl        Gtl       Sawyer        RRAe   \n",
       "1        RL     11492          Lvl        Gtl      SawyerW        Norm   \n",
       "2        RL      7922          Lvl        Gtl        NAmes        Norm   \n",
       "3        RL      9802          Lvl        Gtl       Timber        Norm   \n",
       "4        RL     14235          Lvl        Gtl      SawyerW        Norm   \n",
       "\n",
       "  Bldg Type House Style  Overall Qual  Overall Cond  ...  Full Bath  \\\n",
       "0      1Fam      2Story             6             8  ...          2   \n",
       "1      1Fam      2Story             7             5  ...          2   \n",
       "2      1Fam      1Story             5             7  ...          1   \n",
       "3      1Fam      2Story             5             5  ...          2   \n",
       "4      1Fam      1.5Fin             6             8  ...          2   \n",
       "\n",
       "   Half Bath Fireplaces Fireplace Qu BsmtFin SF 1 Bsmt Unf SF 1st Flr SF  \\\n",
       "0          1          0          NaN        533.0       192.0        725   \n",
       "1          1          1           TA        637.0       276.0        913   \n",
       "2          0          0          NaN        731.0       326.0       1057   \n",
       "3          1          0          NaN          0.0       384.0        744   \n",
       "4          0          0          NaN          0.0       676.0        831   \n",
       "\n",
       "   2nd Flr SF  Sale Type  SalePrice  \n",
       "0         754        WD      130500  \n",
       "1        1209        WD      220000  \n",
       "2           0        WD      109000  \n",
       "3         700        WD      174000  \n",
       "4         614        WD      138500  \n",
       "\n",
       "[5 rows x 32 columns]"
      ]
     },
     "execution_count": 6,
     "metadata": {},
     "output_type": "execute_result"
    }
   ],
   "source": [
    "house = raw_housing[init_features].copy()\n",
    "house.head()"
   ]
  },
  {
   "cell_type": "markdown",
   "id": "c1b44f35-f31b-4312-a611-fcbada417024",
   "metadata": {},
   "source": [
    "Let us begin our data cleaning by making the columns easier to work with and more Pythonic."
   ]
  },
  {
   "cell_type": "code",
   "execution_count": 7,
   "id": "9d3d4df0-0055-4d5d-ac76-5b1e4303f1b6",
   "metadata": {},
   "outputs": [],
   "source": [
    "house.columns = [col.lower().replace(' ','_').replace('/','_') for col in house.columns]"
   ]
  },
  {
   "cell_type": "code",
   "execution_count": 8,
   "id": "ef63b63d-2169-4988-91d8-21e32cd151ff",
   "metadata": {
    "tags": []
   },
   "outputs": [
    {
     "data": {
      "text/html": [
       "<div>\n",
       "<style scoped>\n",
       "    .dataframe tbody tr th:only-of-type {\n",
       "        vertical-align: middle;\n",
       "    }\n",
       "\n",
       "    .dataframe tbody tr th {\n",
       "        vertical-align: top;\n",
       "    }\n",
       "\n",
       "    .dataframe thead th {\n",
       "        text-align: right;\n",
       "    }\n",
       "</style>\n",
       "<table border=\"1\" class=\"dataframe\">\n",
       "  <thead>\n",
       "    <tr style=\"text-align: right;\">\n",
       "      <th></th>\n",
       "      <th>ms_zoning</th>\n",
       "      <th>lot_area</th>\n",
       "      <th>land_contour</th>\n",
       "      <th>land_slope</th>\n",
       "      <th>neighborhood</th>\n",
       "      <th>condition_1</th>\n",
       "      <th>bldg_type</th>\n",
       "      <th>house_style</th>\n",
       "      <th>overall_qual</th>\n",
       "      <th>overall_cond</th>\n",
       "      <th>...</th>\n",
       "      <th>full_bath</th>\n",
       "      <th>half_bath</th>\n",
       "      <th>fireplaces</th>\n",
       "      <th>fireplace_qu</th>\n",
       "      <th>bsmtfin_sf_1</th>\n",
       "      <th>bsmt_unf_sf</th>\n",
       "      <th>1st_flr_sf</th>\n",
       "      <th>2nd_flr_sf</th>\n",
       "      <th>sale_type</th>\n",
       "      <th>saleprice</th>\n",
       "    </tr>\n",
       "  </thead>\n",
       "  <tbody>\n",
       "    <tr>\n",
       "      <th>0</th>\n",
       "      <td>RL</td>\n",
       "      <td>13517</td>\n",
       "      <td>Lvl</td>\n",
       "      <td>Gtl</td>\n",
       "      <td>Sawyer</td>\n",
       "      <td>RRAe</td>\n",
       "      <td>1Fam</td>\n",
       "      <td>2Story</td>\n",
       "      <td>6</td>\n",
       "      <td>8</td>\n",
       "      <td>...</td>\n",
       "      <td>2</td>\n",
       "      <td>1</td>\n",
       "      <td>0</td>\n",
       "      <td>NaN</td>\n",
       "      <td>533.0</td>\n",
       "      <td>192.0</td>\n",
       "      <td>725</td>\n",
       "      <td>754</td>\n",
       "      <td>WD</td>\n",
       "      <td>130500</td>\n",
       "    </tr>\n",
       "    <tr>\n",
       "      <th>1</th>\n",
       "      <td>RL</td>\n",
       "      <td>11492</td>\n",
       "      <td>Lvl</td>\n",
       "      <td>Gtl</td>\n",
       "      <td>SawyerW</td>\n",
       "      <td>Norm</td>\n",
       "      <td>1Fam</td>\n",
       "      <td>2Story</td>\n",
       "      <td>7</td>\n",
       "      <td>5</td>\n",
       "      <td>...</td>\n",
       "      <td>2</td>\n",
       "      <td>1</td>\n",
       "      <td>1</td>\n",
       "      <td>TA</td>\n",
       "      <td>637.0</td>\n",
       "      <td>276.0</td>\n",
       "      <td>913</td>\n",
       "      <td>1209</td>\n",
       "      <td>WD</td>\n",
       "      <td>220000</td>\n",
       "    </tr>\n",
       "    <tr>\n",
       "      <th>2</th>\n",
       "      <td>RL</td>\n",
       "      <td>7922</td>\n",
       "      <td>Lvl</td>\n",
       "      <td>Gtl</td>\n",
       "      <td>NAmes</td>\n",
       "      <td>Norm</td>\n",
       "      <td>1Fam</td>\n",
       "      <td>1Story</td>\n",
       "      <td>5</td>\n",
       "      <td>7</td>\n",
       "      <td>...</td>\n",
       "      <td>1</td>\n",
       "      <td>0</td>\n",
       "      <td>0</td>\n",
       "      <td>NaN</td>\n",
       "      <td>731.0</td>\n",
       "      <td>326.0</td>\n",
       "      <td>1057</td>\n",
       "      <td>0</td>\n",
       "      <td>WD</td>\n",
       "      <td>109000</td>\n",
       "    </tr>\n",
       "    <tr>\n",
       "      <th>3</th>\n",
       "      <td>RL</td>\n",
       "      <td>9802</td>\n",
       "      <td>Lvl</td>\n",
       "      <td>Gtl</td>\n",
       "      <td>Timber</td>\n",
       "      <td>Norm</td>\n",
       "      <td>1Fam</td>\n",
       "      <td>2Story</td>\n",
       "      <td>5</td>\n",
       "      <td>5</td>\n",
       "      <td>...</td>\n",
       "      <td>2</td>\n",
       "      <td>1</td>\n",
       "      <td>0</td>\n",
       "      <td>NaN</td>\n",
       "      <td>0.0</td>\n",
       "      <td>384.0</td>\n",
       "      <td>744</td>\n",
       "      <td>700</td>\n",
       "      <td>WD</td>\n",
       "      <td>174000</td>\n",
       "    </tr>\n",
       "    <tr>\n",
       "      <th>4</th>\n",
       "      <td>RL</td>\n",
       "      <td>14235</td>\n",
       "      <td>Lvl</td>\n",
       "      <td>Gtl</td>\n",
       "      <td>SawyerW</td>\n",
       "      <td>Norm</td>\n",
       "      <td>1Fam</td>\n",
       "      <td>1.5Fin</td>\n",
       "      <td>6</td>\n",
       "      <td>8</td>\n",
       "      <td>...</td>\n",
       "      <td>2</td>\n",
       "      <td>0</td>\n",
       "      <td>0</td>\n",
       "      <td>NaN</td>\n",
       "      <td>0.0</td>\n",
       "      <td>676.0</td>\n",
       "      <td>831</td>\n",
       "      <td>614</td>\n",
       "      <td>WD</td>\n",
       "      <td>138500</td>\n",
       "    </tr>\n",
       "  </tbody>\n",
       "</table>\n",
       "<p>5 rows × 32 columns</p>\n",
       "</div>"
      ],
      "text/plain": [
       "  ms_zoning  lot_area land_contour land_slope neighborhood condition_1  \\\n",
       "0        RL     13517          Lvl        Gtl       Sawyer        RRAe   \n",
       "1        RL     11492          Lvl        Gtl      SawyerW        Norm   \n",
       "2        RL      7922          Lvl        Gtl        NAmes        Norm   \n",
       "3        RL      9802          Lvl        Gtl       Timber        Norm   \n",
       "4        RL     14235          Lvl        Gtl      SawyerW        Norm   \n",
       "\n",
       "  bldg_type house_style  overall_qual  overall_cond  ...  full_bath  \\\n",
       "0      1Fam      2Story             6             8  ...          2   \n",
       "1      1Fam      2Story             7             5  ...          2   \n",
       "2      1Fam      1Story             5             7  ...          1   \n",
       "3      1Fam      2Story             5             5  ...          2   \n",
       "4      1Fam      1.5Fin             6             8  ...          2   \n",
       "\n",
       "   half_bath fireplaces fireplace_qu bsmtfin_sf_1 bsmt_unf_sf 1st_flr_sf  \\\n",
       "0          1          0          NaN        533.0       192.0        725   \n",
       "1          1          1           TA        637.0       276.0        913   \n",
       "2          0          0          NaN        731.0       326.0       1057   \n",
       "3          1          0          NaN          0.0       384.0        744   \n",
       "4          0          0          NaN          0.0       676.0        831   \n",
       "\n",
       "   2nd_flr_sf  sale_type  saleprice  \n",
       "0         754        WD      130500  \n",
       "1        1209        WD      220000  \n",
       "2           0        WD      109000  \n",
       "3         700        WD      174000  \n",
       "4         614        WD      138500  \n",
       "\n",
       "[5 rows x 32 columns]"
      ]
     },
     "execution_count": 8,
     "metadata": {},
     "output_type": "execute_result"
    }
   ],
   "source": [
    "house.head()"
   ]
  },
  {
   "cell_type": "markdown",
   "id": "1d89ab80-4a2a-46e3-be9a-6893d462f335",
   "metadata": {},
   "source": [
    "Our first major task is to deal with the missing values in the dataset. When we check which columns have missing values, we see that some columns have identical counts. Let us start by seeing if these counts appear in the same observations."
   ]
  },
  {
   "cell_type": "code",
   "execution_count": 9,
   "id": "45e9f186-ba56-47f1-8009-d01d2d2218a1",
   "metadata": {},
   "outputs": [
    {
     "data": {
      "text/plain": [
       "ms_zoning            0\n",
       "lot_area             0\n",
       "land_contour         0\n",
       "land_slope           0\n",
       "neighborhood         0\n",
       "condition_1          0\n",
       "bldg_type            0\n",
       "house_style          0\n",
       "overall_qual         0\n",
       "overall_cond         0\n",
       "year_built           0\n",
       "year_remod_add       0\n",
       "mas_vnr_type        22\n",
       "exter_qual           0\n",
       "exter_cond           0\n",
       "bsmt_qual           55\n",
       "bsmt_cond           55\n",
       "garage_area          1\n",
       "wood_deck_sf         0\n",
       "open_porch_sf        0\n",
       "kitchen_qual         0\n",
       "bedroom_abvgr        0\n",
       "full_bath            0\n",
       "half_bath            0\n",
       "fireplaces           0\n",
       "fireplace_qu      1000\n",
       "bsmtfin_sf_1         1\n",
       "bsmt_unf_sf          1\n",
       "1st_flr_sf           0\n",
       "2nd_flr_sf           0\n",
       "sale_type            0\n",
       "saleprice            0\n",
       "dtype: int64"
      ]
     },
     "execution_count": 9,
     "metadata": {},
     "output_type": "execute_result"
    }
   ],
   "source": [
    "house.isnull().sum()"
   ]
  },
  {
   "cell_type": "markdown",
   "id": "21169416-7ea3-49e2-a412-a520e137aa3b",
   "metadata": {},
   "source": [
    "Below we see that there is one row missing all the basement data. It may be fair to assume that the home is missing a basement and these values would all be zero."
   ]
  },
  {
   "cell_type": "code",
   "execution_count": 10,
   "id": "76e05639-eb43-4486-a727-4ddb987410b1",
   "metadata": {},
   "outputs": [
    {
     "data": {
      "text/html": [
       "<div>\n",
       "<style scoped>\n",
       "    .dataframe tbody tr th:only-of-type {\n",
       "        vertical-align: middle;\n",
       "    }\n",
       "\n",
       "    .dataframe tbody tr th {\n",
       "        vertical-align: top;\n",
       "    }\n",
       "\n",
       "    .dataframe thead th {\n",
       "        text-align: right;\n",
       "    }\n",
       "</style>\n",
       "<table border=\"1\" class=\"dataframe\">\n",
       "  <thead>\n",
       "    <tr style=\"text-align: right;\">\n",
       "      <th></th>\n",
       "      <th>bsmt_qual</th>\n",
       "      <th>bsmt_cond</th>\n",
       "      <th>garage_area</th>\n",
       "      <th>bsmtfin_sf_1</th>\n",
       "      <th>bsmt_unf_sf</th>\n",
       "    </tr>\n",
       "  </thead>\n",
       "  <tbody>\n",
       "    <tr>\n",
       "      <th>1327</th>\n",
       "      <td>NaN</td>\n",
       "      <td>NaN</td>\n",
       "      <td>280.0</td>\n",
       "      <td>NaN</td>\n",
       "      <td>NaN</td>\n",
       "    </tr>\n",
       "  </tbody>\n",
       "</table>\n",
       "</div>"
      ],
      "text/plain": [
       "     bsmt_qual bsmt_cond  garage_area  bsmtfin_sf_1  bsmt_unf_sf\n",
       "1327       NaN       NaN        280.0           NaN          NaN"
      ]
     },
     "execution_count": 10,
     "metadata": {},
     "output_type": "execute_result"
    }
   ],
   "source": [
    "null_basement_info = house[house['bsmtfin_sf_1'].isna()]\n",
    "null_basement_info[['bsmt_qual', 'bsmt_cond', 'garage_area', 'bsmtfin_sf_1', 'bsmt_unf_sf']]"
   ]
  },
  {
   "cell_type": "code",
   "execution_count": 11,
   "id": "4cd44263-9a53-4295-9504-12d6b47515fa",
   "metadata": {},
   "outputs": [],
   "source": [
    "# turn missing basement square feet info into zeros\n",
    "# basement quality and condition will be dealt with later\n",
    "house.loc[house['bsmtfin_sf_1'].isna(), ['bsmtfin_sf_1', 'bsmt_unf_sf']] = 0"
   ]
  },
  {
   "cell_type": "markdown",
   "id": "524b7559-6cd2-40d6-b509-869c7bc6b8e7",
   "metadata": {},
   "source": [
    "We only have one garage related column so it is more challenging to infer about the row with a missing `garage_area` value. It is likely fine to convert this singe row's `garage_area` value to zero also."
   ]
  },
  {
   "cell_type": "code",
   "execution_count": 12,
   "id": "5957549e-655a-4e8e-bc22-00016416a2bf",
   "metadata": {},
   "outputs": [],
   "source": [
    "house.loc[house['garage_area'].isna(), 'garage_area'] = 0"
   ]
  },
  {
   "cell_type": "markdown",
   "id": "d423994f-7990-45e0-bcb0-f9da1afa1458",
   "metadata": {},
   "source": [
    "Missing values in the basement columns appear to be homes without basements. We see the missing 55 entries in the same rows for `bsmt_qual` and `bsmt_cond`."
   ]
  },
  {
   "cell_type": "code",
   "execution_count": 13,
   "id": "48f59941-6151-4436-acc2-20b5f5aaa9bd",
   "metadata": {},
   "outputs": [
    {
     "data": {
      "text/plain": [
       "NaN    55\n",
       "Name: bsmt_cond, dtype: int64"
      ]
     },
     "execution_count": 13,
     "metadata": {},
     "output_type": "execute_result"
    }
   ],
   "source": [
    "# takes the data that is missing bsmt_qual and checks what the bsmt_cond are\n",
    "house.loc[house['bsmt_qual'].isnull(), 'bsmt_cond'].value_counts(dropna = False)"
   ]
  },
  {
   "cell_type": "code",
   "execution_count": 14,
   "id": "2b88b688-3891-40d2-8892-aa296e02343f",
   "metadata": {},
   "outputs": [],
   "source": [
    "# converts descriptive rating to numerical\n",
    "house = qual_to_num(house, 'bsmt_qual')\n",
    "house = qual_to_num(house, 'bsmt_cond')"
   ]
  },
  {
   "cell_type": "markdown",
   "id": "f0fe647a-0f2b-408d-95a9-51dacc107066",
   "metadata": {},
   "source": [
    "We see the same issue arise with `fireplaces` and `fireplace_qu`. The homes with zero fireplaces are fittingly missing descriptions for the quality of their fireplace."
   ]
  },
  {
   "cell_type": "code",
   "execution_count": 15,
   "id": "7e7b7da0-012c-4ac1-b2e9-a660451c53f9",
   "metadata": {},
   "outputs": [
    {
     "data": {
      "text/plain": [
       "NaN    1000\n",
       "Name: fireplace_qu, dtype: int64"
      ]
     },
     "execution_count": 15,
     "metadata": {},
     "output_type": "execute_result"
    }
   ],
   "source": [
    "# homes with 0 fireplaces are have NaN fireplace_qu values\n",
    "house.loc[house['fireplaces'] == 0, 'fireplace_qu'].value_counts(dropna = False)"
   ]
  },
  {
   "cell_type": "code",
   "execution_count": 16,
   "id": "c0faf8ca-9ed0-45c3-84e0-9c2c87ced76f",
   "metadata": {},
   "outputs": [],
   "source": [
    "# converts descriptive rating to numerical\n",
    "house = qual_to_num(house, 'fireplace_qu')"
   ]
  },
  {
   "cell_type": "markdown",
   "id": "a5eb7eb3-66f8-4081-9280-549f8ce04a86",
   "metadata": {},
   "source": [
    "The only remaining column with missing entires is `mas_vnr_typ`. Below we see that 'None' is the most frequent value in the column. With only 22 missing values, it seems like it will not be harmful to replace the missing values with 'None'"
   ]
  },
  {
   "cell_type": "code",
   "execution_count": 17,
   "id": "95956285-6a8f-45d6-aee2-efb5fd4d2edb",
   "metadata": {},
   "outputs": [
    {
     "data": {
      "text/plain": [
       "ms_zoning          0\n",
       "lot_area           0\n",
       "land_contour       0\n",
       "land_slope         0\n",
       "neighborhood       0\n",
       "condition_1        0\n",
       "bldg_type          0\n",
       "house_style        0\n",
       "overall_qual       0\n",
       "overall_cond       0\n",
       "year_built         0\n",
       "year_remod_add     0\n",
       "mas_vnr_type      22\n",
       "exter_qual         0\n",
       "exter_cond         0\n",
       "bsmt_qual          0\n",
       "bsmt_cond          0\n",
       "garage_area        0\n",
       "wood_deck_sf       0\n",
       "open_porch_sf      0\n",
       "kitchen_qual       0\n",
       "bedroom_abvgr      0\n",
       "full_bath          0\n",
       "half_bath          0\n",
       "fireplaces         0\n",
       "fireplace_qu       0\n",
       "bsmtfin_sf_1       0\n",
       "bsmt_unf_sf        0\n",
       "1st_flr_sf         0\n",
       "2nd_flr_sf         0\n",
       "sale_type          0\n",
       "saleprice          0\n",
       "dtype: int64"
      ]
     },
     "execution_count": 17,
     "metadata": {},
     "output_type": "execute_result"
    }
   ],
   "source": [
    "house.isnull().sum()"
   ]
  },
  {
   "cell_type": "code",
   "execution_count": 18,
   "id": "2c17e089-fb3c-4355-b50f-d71079fe38d1",
   "metadata": {},
   "outputs": [
    {
     "data": {
      "text/plain": [
       "None       1218\n",
       "BrkFace     630\n",
       "Stone       168\n",
       "NaN          22\n",
       "BrkCmn       13\n",
       "Name: mas_vnr_type, dtype: int64"
      ]
     },
     "execution_count": 18,
     "metadata": {},
     "output_type": "execute_result"
    }
   ],
   "source": [
    "house['mas_vnr_type'].value_counts(dropna = False)"
   ]
  },
  {
   "cell_type": "code",
   "execution_count": 19,
   "id": "5ec0d1b5-14cb-4b36-bb57-f211815e17c9",
   "metadata": {},
   "outputs": [],
   "source": [
    "house.loc[house['mas_vnr_type'].isna(), 'mas_vnr_type'] = 'None'"
   ]
  },
  {
   "cell_type": "markdown",
   "id": "96f6b601-e794-48d4-a097-cec9f073667c",
   "metadata": {},
   "source": [
    "---\n",
    "\n",
    "## Feature Engineering"
   ]
  },
  {
   "cell_type": "markdown",
   "id": "c37faf3c-7dda-4a94-ac00-0a17ddeda23d",
   "metadata": {},
   "source": [
    "Many aspects of the homes have two ratings in the dataset called condition and quality. Let us convert these scores to numeric values and take their product, that way homes which features that score well in both quality and condition are marked with a notibly higher score."
   ]
  },
  {
   "cell_type": "code",
   "execution_count": 20,
   "id": "5590ef71-986e-441d-b154-244449e30d34",
   "metadata": {},
   "outputs": [],
   "source": [
    "# convert descriptive rating to numerical\n",
    "house = qual_to_num(house, 'kitchen_qual')\n",
    "house = qual_to_num(house,'exter_qual')\n",
    "house = qual_to_num(house, 'exter_cond')"
   ]
  },
  {
   "cell_type": "code",
   "execution_count": 21,
   "id": "8c2fa3d4-b22e-4b2d-b6d8-b7b152a596cb",
   "metadata": {},
   "outputs": [],
   "source": [
    "# combines pairs of overall quality and condition columns into a single column via multiplication\n",
    "house['qual_cond'] = house['overall_qual'] * house['overall_cond']\n",
    "house.drop(columns = ['overall_qual', 'overall_cond'], inplace = True)\n",
    "\n",
    "house['exter_qual_cond'] = house['exter_qual'] * house['exter_cond']\n",
    "house.drop(columns = ['exter_qual', 'exter_cond'], inplace = True)\n",
    "\n",
    "house['bsmt_qual_cond'] = house['bsmt_qual'] * house['bsmt_cond']\n",
    "house.drop(columns = ['bsmt_qual', 'bsmt_cond'], inplace = True)"
   ]
  },
  {
   "cell_type": "markdown",
   "id": "3e11b647-aa18-4495-b464-0a380c723d20",
   "metadata": {},
   "source": [
    "Fireplaces have a count column and a quality column. To note homes with a large number of high quality fireplaces, let us again from a new column by taking the product of the two."
   ]
  },
  {
   "cell_type": "code",
   "execution_count": 22,
   "id": "4084d801-501f-4148-bf3c-82b291899516",
   "metadata": {},
   "outputs": [],
   "source": [
    "# combines fireplace count and quality rating via multiplication\n",
    "house['fireplaces_weighted'] = house['fireplaces'] * house['fireplace_qu']\n",
    "house.drop(columns = ['fireplaces', 'fireplace_qu'], inplace = True)"
   ]
  },
  {
   "cell_type": "markdown",
   "id": "3f353a79-3e3a-4fd3-91ff-397246ca262c",
   "metadata": {},
   "source": [
    "Above basement living area seems like a very important feature. Let us build this column by summing the values of the first floor and second floor areas."
   ]
  },
  {
   "cell_type": "code",
   "execution_count": 23,
   "id": "33661dc4-a15e-42f0-bc44-ea06f41e6383",
   "metadata": {},
   "outputs": [],
   "source": [
    "house['sq_ft'] = house['1st_flr_sf'] + house['2nd_flr_sf']\n",
    "house.drop(columns = ['1st_flr_sf', '2nd_flr_sf'], inplace = True)"
   ]
  },
  {
   "cell_type": "markdown",
   "id": "db39e883-050f-47a1-a976-5b7873f4b0ca",
   "metadata": {},
   "source": [
    "Basement area also seems important for predicting home prices. It seems fair to expect that finished basements are more relevant than unfinished basements. Let us sum the areas of the two but only weight unfinished basements at half their amount."
   ]
  },
  {
   "cell_type": "code",
   "execution_count": 24,
   "id": "a3b1e8de-1310-48ad-8eeb-842cd36516a7",
   "metadata": {},
   "outputs": [],
   "source": [
    "# adds square feet (SF) measurements with weights:\n",
    "# 1*(Finished SF) + 0.5(Unfinished SF)\n",
    "house['bsmt_weighted_sf'] = house['bsmtfin_sf_1'] + 0.5*house['bsmt_unf_sf']\n",
    "house.drop(columns = ['bsmtfin_sf_1', 'bsmt_unf_sf'], inplace = True)"
   ]
  },
  {
   "cell_type": "markdown",
   "id": "a56f83f0-9513-4f12-8bd1-b5cc91f72961",
   "metadata": {},
   "source": [
    "The number of baths is a common count brought up with home value. Let us sum full and half bath counts together."
   ]
  },
  {
   "cell_type": "code",
   "execution_count": 25,
   "id": "bce659c2-d248-471b-a347-38eb8a6102d8",
   "metadata": {},
   "outputs": [],
   "source": [
    "# combines full bath and half bath into one column\n",
    "house['bath'] = house['full_bath'] + 0.5*house['half_bath']\n",
    "house.drop(columns = ['full_bath', 'half_bath'], inplace = True)"
   ]
  },
  {
   "cell_type": "markdown",
   "id": "7e94a260-df2b-4266-b1f5-4dea0ebbf63b",
   "metadata": {},
   "source": [
    "---\n",
    "\n",
    "## Removing Outliers"
   ]
  },
  {
   "cell_type": "code",
   "execution_count": 26,
   "id": "d9f013a2-1721-4968-84dc-7139ce27cfdf",
   "metadata": {},
   "outputs": [
    {
     "data": {
      "text/html": [
       "<div>\n",
       "<style scoped>\n",
       "    .dataframe tbody tr th:only-of-type {\n",
       "        vertical-align: middle;\n",
       "    }\n",
       "\n",
       "    .dataframe tbody tr th {\n",
       "        vertical-align: top;\n",
       "    }\n",
       "\n",
       "    .dataframe thead th {\n",
       "        text-align: right;\n",
       "    }\n",
       "</style>\n",
       "<table border=\"1\" class=\"dataframe\">\n",
       "  <thead>\n",
       "    <tr style=\"text-align: right;\">\n",
       "      <th></th>\n",
       "      <th>lot_area</th>\n",
       "      <th>year_built</th>\n",
       "      <th>year_remod_add</th>\n",
       "      <th>garage_area</th>\n",
       "      <th>wood_deck_sf</th>\n",
       "      <th>open_porch_sf</th>\n",
       "      <th>kitchen_qual</th>\n",
       "      <th>bedroom_abvgr</th>\n",
       "      <th>saleprice</th>\n",
       "      <th>qual_cond</th>\n",
       "      <th>exter_qual_cond</th>\n",
       "      <th>bsmt_qual_cond</th>\n",
       "      <th>fireplaces_weighted</th>\n",
       "      <th>sq_ft</th>\n",
       "      <th>bsmt_weighted_sf</th>\n",
       "      <th>bath</th>\n",
       "    </tr>\n",
       "  </thead>\n",
       "  <tbody>\n",
       "    <tr>\n",
       "      <th>count</th>\n",
       "      <td>2051.000000</td>\n",
       "      <td>2051.000000</td>\n",
       "      <td>2051.000000</td>\n",
       "      <td>2051.000000</td>\n",
       "      <td>2051.000000</td>\n",
       "      <td>2051.000000</td>\n",
       "      <td>2051.000000</td>\n",
       "      <td>2051.000000</td>\n",
       "      <td>2051.000000</td>\n",
       "      <td>2051.000000</td>\n",
       "      <td>2051.000000</td>\n",
       "      <td>2051.000000</td>\n",
       "      <td>2051.000000</td>\n",
       "      <td>2051.000000</td>\n",
       "      <td>2051.000000</td>\n",
       "      <td>2051.000000</td>\n",
       "    </tr>\n",
       "    <tr>\n",
       "      <th>mean</th>\n",
       "      <td>10065.208191</td>\n",
       "      <td>1971.708922</td>\n",
       "      <td>1984.190151</td>\n",
       "      <td>473.440761</td>\n",
       "      <td>93.833740</td>\n",
       "      <td>47.556802</td>\n",
       "      <td>3.517309</td>\n",
       "      <td>2.843491</td>\n",
       "      <td>181469.701609</td>\n",
       "      <td>33.866407</td>\n",
       "      <td>10.518284</td>\n",
       "      <td>10.549000</td>\n",
       "      <td>2.033642</td>\n",
       "      <td>1493.817162</td>\n",
       "      <td>725.810580</td>\n",
       "      <td>1.762799</td>\n",
       "    </tr>\n",
       "    <tr>\n",
       "      <th>std</th>\n",
       "      <td>6742.488909</td>\n",
       "      <td>30.177889</td>\n",
       "      <td>21.036250</td>\n",
       "      <td>216.135102</td>\n",
       "      <td>128.549416</td>\n",
       "      <td>66.747241</td>\n",
       "      <td>0.665577</td>\n",
       "      <td>0.826618</td>\n",
       "      <td>79258.659352</td>\n",
       "      <td>9.255859</td>\n",
       "      <td>2.195124</td>\n",
       "      <td>3.061151</td>\n",
       "      <td>2.283203</td>\n",
       "      <td>497.618666</td>\n",
       "      <td>406.466601</td>\n",
       "      <td>0.637775</td>\n",
       "    </tr>\n",
       "    <tr>\n",
       "      <th>min</th>\n",
       "      <td>1300.000000</td>\n",
       "      <td>1872.000000</td>\n",
       "      <td>1950.000000</td>\n",
       "      <td>0.000000</td>\n",
       "      <td>0.000000</td>\n",
       "      <td>0.000000</td>\n",
       "      <td>2.000000</td>\n",
       "      <td>0.000000</td>\n",
       "      <td>12789.000000</td>\n",
       "      <td>1.000000</td>\n",
       "      <td>2.000000</td>\n",
       "      <td>0.000000</td>\n",
       "      <td>0.000000</td>\n",
       "      <td>334.000000</td>\n",
       "      <td>0.000000</td>\n",
       "      <td>0.000000</td>\n",
       "    </tr>\n",
       "    <tr>\n",
       "      <th>25%</th>\n",
       "      <td>7500.000000</td>\n",
       "      <td>1953.500000</td>\n",
       "      <td>1964.500000</td>\n",
       "      <td>319.000000</td>\n",
       "      <td>0.000000</td>\n",
       "      <td>0.000000</td>\n",
       "      <td>3.000000</td>\n",
       "      <td>2.000000</td>\n",
       "      <td>129825.000000</td>\n",
       "      <td>30.000000</td>\n",
       "      <td>9.000000</td>\n",
       "      <td>9.000000</td>\n",
       "      <td>0.000000</td>\n",
       "      <td>1124.500000</td>\n",
       "      <td>440.250000</td>\n",
       "      <td>1.000000</td>\n",
       "    </tr>\n",
       "    <tr>\n",
       "      <th>50%</th>\n",
       "      <td>9430.000000</td>\n",
       "      <td>1974.000000</td>\n",
       "      <td>1993.000000</td>\n",
       "      <td>480.000000</td>\n",
       "      <td>0.000000</td>\n",
       "      <td>27.000000</td>\n",
       "      <td>3.000000</td>\n",
       "      <td>3.000000</td>\n",
       "      <td>162500.000000</td>\n",
       "      <td>35.000000</td>\n",
       "      <td>9.000000</td>\n",
       "      <td>12.000000</td>\n",
       "      <td>1.000000</td>\n",
       "      <td>1440.000000</td>\n",
       "      <td>674.500000</td>\n",
       "      <td>2.000000</td>\n",
       "    </tr>\n",
       "    <tr>\n",
       "      <th>75%</th>\n",
       "      <td>11513.500000</td>\n",
       "      <td>2001.000000</td>\n",
       "      <td>2004.000000</td>\n",
       "      <td>576.000000</td>\n",
       "      <td>168.000000</td>\n",
       "      <td>70.000000</td>\n",
       "      <td>4.000000</td>\n",
       "      <td>3.000000</td>\n",
       "      <td>214000.000000</td>\n",
       "      <td>40.000000</td>\n",
       "      <td>12.000000</td>\n",
       "      <td>12.000000</td>\n",
       "      <td>4.000000</td>\n",
       "      <td>1728.000000</td>\n",
       "      <td>916.750000</td>\n",
       "      <td>2.500000</td>\n",
       "    </tr>\n",
       "    <tr>\n",
       "      <th>max</th>\n",
       "      <td>159000.000000</td>\n",
       "      <td>2010.000000</td>\n",
       "      <td>2010.000000</td>\n",
       "      <td>1418.000000</td>\n",
       "      <td>1424.000000</td>\n",
       "      <td>547.000000</td>\n",
       "      <td>5.000000</td>\n",
       "      <td>8.000000</td>\n",
       "      <td>611657.000000</td>\n",
       "      <td>90.000000</td>\n",
       "      <td>25.000000</td>\n",
       "      <td>20.000000</td>\n",
       "      <td>12.000000</td>\n",
       "      <td>5642.000000</td>\n",
       "      <td>5877.000000</td>\n",
       "      <td>5.000000</td>\n",
       "    </tr>\n",
       "  </tbody>\n",
       "</table>\n",
       "</div>"
      ],
      "text/plain": [
       "            lot_area   year_built  year_remod_add  garage_area  wood_deck_sf  \\\n",
       "count    2051.000000  2051.000000     2051.000000  2051.000000   2051.000000   \n",
       "mean    10065.208191  1971.708922     1984.190151   473.440761     93.833740   \n",
       "std      6742.488909    30.177889       21.036250   216.135102    128.549416   \n",
       "min      1300.000000  1872.000000     1950.000000     0.000000      0.000000   \n",
       "25%      7500.000000  1953.500000     1964.500000   319.000000      0.000000   \n",
       "50%      9430.000000  1974.000000     1993.000000   480.000000      0.000000   \n",
       "75%     11513.500000  2001.000000     2004.000000   576.000000    168.000000   \n",
       "max    159000.000000  2010.000000     2010.000000  1418.000000   1424.000000   \n",
       "\n",
       "       open_porch_sf  kitchen_qual  bedroom_abvgr      saleprice    qual_cond  \\\n",
       "count    2051.000000   2051.000000    2051.000000    2051.000000  2051.000000   \n",
       "mean       47.556802      3.517309       2.843491  181469.701609    33.866407   \n",
       "std        66.747241      0.665577       0.826618   79258.659352     9.255859   \n",
       "min         0.000000      2.000000       0.000000   12789.000000     1.000000   \n",
       "25%         0.000000      3.000000       2.000000  129825.000000    30.000000   \n",
       "50%        27.000000      3.000000       3.000000  162500.000000    35.000000   \n",
       "75%        70.000000      4.000000       3.000000  214000.000000    40.000000   \n",
       "max       547.000000      5.000000       8.000000  611657.000000    90.000000   \n",
       "\n",
       "       exter_qual_cond  bsmt_qual_cond  fireplaces_weighted        sq_ft  \\\n",
       "count      2051.000000     2051.000000          2051.000000  2051.000000   \n",
       "mean         10.518284       10.549000             2.033642  1493.817162   \n",
       "std           2.195124        3.061151             2.283203   497.618666   \n",
       "min           2.000000        0.000000             0.000000   334.000000   \n",
       "25%           9.000000        9.000000             0.000000  1124.500000   \n",
       "50%           9.000000       12.000000             1.000000  1440.000000   \n",
       "75%          12.000000       12.000000             4.000000  1728.000000   \n",
       "max          25.000000       20.000000            12.000000  5642.000000   \n",
       "\n",
       "       bsmt_weighted_sf         bath  \n",
       "count       2051.000000  2051.000000  \n",
       "mean         725.810580     1.762799  \n",
       "std          406.466601     0.637775  \n",
       "min            0.000000     0.000000  \n",
       "25%          440.250000     1.000000  \n",
       "50%          674.500000     2.000000  \n",
       "75%          916.750000     2.500000  \n",
       "max         5877.000000     5.000000  "
      ]
     },
     "execution_count": 26,
     "metadata": {},
     "output_type": "execute_result"
    }
   ],
   "source": [
    "house.describe()"
   ]
  },
  {
   "cell_type": "markdown",
   "id": "8b8d6983-4ba5-4e8a-9df4-9426c0a7733c",
   "metadata": {},
   "source": [
    "The first thing that stands out in our summary statistics is the massive gap between the maximum `lot_area` and the 75th percentile. A full list of columns with questionable max values are:\n",
    "\n",
    "- `lot_area`\n",
    "- `wood_deck_sf`\n",
    "- `open_porch_sf`\n",
    "- `sale_price`\n",
    "- `sq_ft`\n",
    "- and `bsmt_weighted_sf`\n",
    "\n",
    "Another interesting statistic is the minimum `year_built` is so much lower than the 25th percentile.\n",
    "\n",
    "Let us investigate the distributions of these columns and remove any outliers that are very distant from the rest of the data.\n",
    "\n",
    "#### Lot Area"
   ]
  },
  {
   "cell_type": "code",
   "execution_count": 27,
   "id": "18077f94-2071-4d17-946d-49088a42a5a1",
   "metadata": {},
   "outputs": [
    {
     "data": {
      "image/png": "[encoded data removed]",
      "text/plain": [
       "<Figure size 432x288 with 1 Axes>"
      ]
     },
     "metadata": {
      "needs_background": "light"
     },
     "output_type": "display_data"
    }
   ],
   "source": [
    "sns.boxplot(x = house['lot_area']);"
   ]
  },
  {
   "cell_type": "code",
   "execution_count": 28,
   "id": "c560ca77-5acc-447f-a3ca-b36032160ac4",
   "metadata": {},
   "outputs": [],
   "source": [
    "perc_25 = house['lot_area'].quantile(0.25)\n",
    "perc_75 = house['lot_area'].quantile(0.75)\n",
    "large_lot = house[house['lot_area'] > perc_75]"
   ]
  },
  {
   "cell_type": "code",
   "execution_count": 29,
   "id": "0167ea13-b4a2-4509-9ec9-ab21abee37c2",
   "metadata": {},
   "outputs": [
    {
     "data": {
      "text/plain": [
       "(11367.514, 17414.4]    424\n",
       "(17414.4, 23313.8]       55\n",
       "(23313.8, 29213.2]        9\n",
       "(29213.2, 35112.6]        6\n",
       "(35112.6, 41012.0]        3\n",
       "(41012.0, 46911.4]        3\n",
       "(46911.4, 52810.8]        5\n",
       "(52810.8, 58710.2]        4\n",
       "(58710.2, 64609.6]        1\n",
       "(64609.6, 70509.0]        0\n",
       "(70509.0, 76408.4]        1\n",
       "(76408.4, 82307.8]        0\n",
       "(82307.8, 88207.2]        0\n",
       "(88207.2, 94106.6]        0\n",
       "(94106.6, 100006.0]       0\n",
       "(100006.0, 105905.4]      0\n",
       "(105905.4, 111804.8]      0\n",
       "(111804.8, 117704.2]      1\n",
       "(117704.2, 123603.6]      0\n",
       "(123603.6, 129503.0]      0\n",
       "(129503.0, 135402.4]      0\n",
       "(135402.4, 141301.8]      0\n",
       "(141301.8, 147201.2]      0\n",
       "(147201.2, 153100.6]      0\n",
       "(153100.6, 159000.0]      1\n",
       "Name: lot_area, dtype: int64"
      ]
     },
     "execution_count": 29,
     "metadata": {},
     "output_type": "execute_result"
    }
   ],
   "source": [
    "large_lot['lot_area'].value_counts(bins = 25).sort_index()"
   ]
  },
  {
   "cell_type": "markdown",
   "id": "dae14774-74b3-4363-a377-93e887503f45",
   "metadata": {},
   "source": [
    "We see a significant drop off in number of homes containing more than 77,000 square feet of lot area. Let us trim off these outliers."
   ]
  },
  {
   "cell_type": "code",
   "execution_count": 30,
   "id": "15dd2eb4-ce31-4682-861e-d744eb2e203e",
   "metadata": {},
   "outputs": [],
   "source": [
    "# consider homes with less than 77,000 lot_area\n",
    "house = house[house['lot_area'] <= 77_000]"
   ]
  },
  {
   "cell_type": "markdown",
   "id": "d1a0b589-4aaa-4d1f-869e-ae5580d54f8b",
   "metadata": {},
   "source": [
    "#### Wood Deck"
   ]
  },
  {
   "cell_type": "code",
   "execution_count": 31,
   "id": "de2bedc2-815e-462a-891f-ffa0c4d14733",
   "metadata": {},
   "outputs": [
    {
     "data": {
      "image/png": "[encoded data removed]",
      "text/plain": [
       "<Figure size 432x288 with 1 Axes>"
      ]
     },
     "metadata": {
      "needs_background": "light"
     },
     "output_type": "display_data"
    }
   ],
   "source": [
    "house['wood_deck_sf'].plot.hist(bins = 15);"
   ]
  },
  {
   "cell_type": "code",
   "execution_count": 32,
   "id": "65e3e2e4-83b2-44db-92b4-92f335cb300b",
   "metadata": {},
   "outputs": [
    {
     "data": {
      "text/plain": [
       "(-1.4249999999999998, 94.933]    1176\n",
       "(94.933, 189.867]                 441\n",
       "(189.867, 284.8]                  274\n",
       "(284.8, 379.733]                   89\n",
       "(379.733, 474.667]                 39\n",
       "(474.667, 569.6]                   16\n",
       "(569.6, 664.533]                    7\n",
       "(664.533, 759.467]                  4\n",
       "(759.467, 854.4]                    0\n",
       "(854.4, 949.333]                    2\n",
       "(949.333, 1044.267]                 0\n",
       "(1044.267, 1139.2]                  0\n",
       "(1139.2, 1234.133]                  0\n",
       "(1234.133, 1329.067]                0\n",
       "(1329.067, 1424.0]                  1\n",
       "Name: wood_deck_sf, dtype: int64"
      ]
     },
     "execution_count": 32,
     "metadata": {},
     "output_type": "execute_result"
    }
   ],
   "source": [
    "house['wood_deck_sf'].value_counts(bins = 15).sort_index()"
   ]
  },
  {
   "cell_type": "markdown",
   "id": "24103f2a-138e-42c5-a15d-274a6a58f29c",
   "metadata": {},
   "source": [
    "There is three homes with wood decks significantly larger than the rest. Let us drop them."
   ]
  },
  {
   "cell_type": "code",
   "execution_count": 33,
   "id": "e6f06ec0-588d-4709-bd5e-65cc38e5d462",
   "metadata": {},
   "outputs": [],
   "source": [
    "house = house[house['wood_deck_sf'] < 760]"
   ]
  },
  {
   "cell_type": "markdown",
   "id": "ca2d62e2-786f-4ca2-8f8a-edf1cad6fc52",
   "metadata": {},
   "source": [
    "#### Open Porch"
   ]
  },
  {
   "cell_type": "code",
   "execution_count": 34,
   "id": "148d2e1b-6541-4a3a-878c-cd4ca2c2d90e",
   "metadata": {},
   "outputs": [
    {
     "data": {
      "text/plain": [
       "(-0.548, 36.467]      1178\n",
       "(36.467, 72.933]       378\n",
       "(72.933, 109.4]        197\n",
       "(109.4, 145.867]       122\n",
       "(145.867, 182.333]      69\n",
       "(182.333, 218.8]        42\n",
       "(218.8, 255.267]        27\n",
       "(255.267, 291.733]      13\n",
       "(291.733, 328.2]         9\n",
       "(328.2, 364.667]         2\n",
       "(364.667, 401.133]       3\n",
       "(401.133, 437.6]         1\n",
       "(437.6, 474.067]         1\n",
       "(474.067, 510.533]       2\n",
       "(510.533, 547.0]         2\n",
       "Name: open_porch_sf, dtype: int64"
      ]
     },
     "execution_count": 34,
     "metadata": {},
     "output_type": "execute_result"
    }
   ],
   "source": [
    "house['open_porch_sf'].value_counts(bins = 15).sort_index()"
   ]
  },
  {
   "cell_type": "markdown",
   "id": "5b513611-3110-445f-98cd-361994ae0bbd",
   "metadata": {},
   "source": [
    "Although there are a few homes with very large open porches, they do not appear to stand out too far from the rest of the data."
   ]
  },
  {
   "cell_type": "markdown",
   "id": "4b07a960-ec54-4f06-b346-70c3c3613263",
   "metadata": {},
   "source": [
    "#### Square Feet"
   ]
  },
  {
   "cell_type": "code",
   "execution_count": 35,
   "id": "25ffa78e-e9d8-411c-889c-b992a6755600",
   "metadata": {},
   "outputs": [
    {
     "data": {
      "image/png": "[encoded data removed]",
      "text/plain": [
       "<Figure size 432x288 with 1 Axes>"
      ]
     },
     "metadata": {
      "needs_background": "light"
     },
     "output_type": "display_data"
    }
   ],
   "source": [
    "house['sq_ft'].plot.hist();"
   ]
  },
  {
   "cell_type": "code",
   "execution_count": 36,
   "id": "8645cede-bd36-49a2-b266-a505ce1f310e",
   "metadata": {},
   "outputs": [
    {
     "data": {
      "image/png": "[encoded data removed]",
      "text/plain": [
       "<Figure size 432x288 with 1 Axes>"
      ]
     },
     "metadata": {
      "needs_background": "light"
     },
     "output_type": "display_data"
    }
   ],
   "source": [
    "sns.boxplot(x = house['sq_ft']);"
   ]
  },
  {
   "cell_type": "code",
   "execution_count": 37,
   "id": "54c92e60-e3e7-46a1-81bb-77db9872a77e",
   "metadata": {},
   "outputs": [
    {
     "data": {
      "text/plain": [
       "(328.69100000000003, 599.4]      9\n",
       "(599.4, 864.8]                 113\n",
       "(864.8, 1130.2]                401\n",
       "(1130.2, 1395.6]               428\n",
       "(1395.6, 1661.0]               475\n",
       "(1661.0, 1926.4]               288\n",
       "(1926.4, 2191.8]               146\n",
       "(2191.8, 2457.2]                81\n",
       "(2457.2, 2722.6]                66\n",
       "(2722.6, 2988.0]                26\n",
       "(2988.0, 3253.4]                 6\n",
       "(3253.4, 3518.8]                 3\n",
       "(3518.8, 3784.2]                 1\n",
       "(3784.2, 4049.6]                 1\n",
       "(4049.6, 4315.0]                 0\n",
       "(4315.0, 4580.4]                 0\n",
       "(4580.4, 4845.8]                 0\n",
       "(4845.8, 5111.2]                 1\n",
       "(5111.2, 5376.6]                 0\n",
       "(5376.6, 5642.0]                 1\n",
       "Name: sq_ft, dtype: int64"
      ]
     },
     "execution_count": 37,
     "metadata": {},
     "output_type": "execute_result"
    }
   ],
   "source": [
    "house['sq_ft'].value_counts(bins = 20).sort_index()"
   ]
  },
  {
   "cell_type": "markdown",
   "id": "d71290ce-efdb-4bfd-9667-546141dc20be",
   "metadata": {},
   "source": [
    "We see two homes with substantially more living space than others. Let us drop these observations."
   ]
  },
  {
   "cell_type": "code",
   "execution_count": 38,
   "id": "9b3f1d16-a18f-465d-b2b1-07e3a1b601d8",
   "metadata": {},
   "outputs": [],
   "source": [
    "house = house[house['sq_ft'] < 4050]"
   ]
  },
  {
   "cell_type": "markdown",
   "id": "7232b914-2557-441a-9dbe-90a27df92375",
   "metadata": {},
   "source": [
    "#### Sale Price"
   ]
  },
  {
   "cell_type": "code",
   "execution_count": 39,
   "id": "25eb1e53-6b62-4eac-8ce3-c6390fb48b2c",
   "metadata": {},
   "outputs": [
    {
     "data": {
      "image/png": "[encoded data removed]",
      "text/plain": [
       "<Figure size 432x288 with 1 Axes>"
      ]
     },
     "metadata": {
      "needs_background": "light"
     },
     "output_type": "display_data"
    }
   ],
   "source": [
    "house['saleprice'].plot.hist();"
   ]
  },
  {
   "cell_type": "code",
   "execution_count": 40,
   "id": "649156b7-24fb-4a21-8ae5-0474dc3f1eed",
   "metadata": {},
   "outputs": [
    {
     "data": {
      "image/png": "[encoded data removed]",
      "text/plain": [
       "<Figure size 432x288 with 1 Axes>"
      ]
     },
     "metadata": {
      "needs_background": "light"
     },
     "output_type": "display_data"
    }
   ],
   "source": [
    "sns.boxplot(x = house['saleprice']);"
   ]
  },
  {
   "cell_type": "code",
   "execution_count": 41,
   "id": "3aaed2a9-969d-49ba-bf6c-c52b2b5f5a98",
   "metadata": {},
   "outputs": [
    {
     "data": {
      "text/plain": [
       "(12190.131, 52713.533]       15\n",
       "(52713.533, 92638.067]      109\n",
       "(92638.067, 132562.6]       443\n",
       "(132562.6, 172487.133]      567\n",
       "(172487.133, 212411.667]    383\n",
       "(212411.667, 252336.2]      215\n",
       "(252336.2, 292260.733]      130\n",
       "(292260.733, 332185.267]     75\n",
       "(332185.267, 372109.8]       40\n",
       "(372109.8, 412034.333]       28\n",
       "(412034.333, 451958.867]     18\n",
       "(451958.867, 491883.4]        9\n",
       "(491883.4, 531807.933]        3\n",
       "(531807.933, 571732.467]      6\n",
       "(571732.467, 611657.0]        3\n",
       "Name: saleprice, dtype: int64"
      ]
     },
     "execution_count": 41,
     "metadata": {},
     "output_type": "execute_result"
    }
   ],
   "source": [
    "house['saleprice'].value_counts(bins = 15).sort_index()"
   ]
  },
  {
   "cell_type": "markdown",
   "id": "fa8a8519-8419-4055-8c49-9ab3d0f2e6f4",
   "metadata": {},
   "source": [
    "Nothing in the above boxplot really suggests we need to remove any data due to their sale price. Let us move on."
   ]
  },
  {
   "cell_type": "markdown",
   "id": "19f3d2ac-75fe-4826-ab1c-4f2a37687750",
   "metadata": {},
   "source": [
    "#### Weighted Basement Square Feet"
   ]
  },
  {
   "cell_type": "code",
   "execution_count": 42,
   "id": "7c2c9387-65cd-4136-bbb4-d07372653391",
   "metadata": {},
   "outputs": [
    {
     "data": {
      "image/png": "[encoded data removed]",
      "text/plain": [
       "<Figure size 432x288 with 1 Axes>"
      ]
     },
     "metadata": {
      "needs_background": "light"
     },
     "output_type": "display_data"
    }
   ],
   "source": [
    "house['bsmt_weighted_sf'].plot.hist();"
   ]
  },
  {
   "cell_type": "code",
   "execution_count": 43,
   "id": "fd695f04-a402-46e4-97c3-56717aac1c5e",
   "metadata": {},
   "outputs": [
    {
     "data": {
      "text/plain": [
       "(347.85, 463.8]      292\n",
       "(579.75, 695.7]      261\n",
       "(695.7, 811.65]      260\n",
       "(463.8, 579.75]      244\n",
       "(811.65, 927.6]      231\n",
       "(231.9, 347.85]      154\n",
       "(927.6, 1043.55]     125\n",
       "(1043.55, 1159.5]    104\n",
       "(1159.5, 1275.45]     72\n",
       "(-2.32, 115.95]       68\n",
       "(1275.45, 1391.4]     54\n",
       "(115.95, 231.9]       49\n",
       "(1391.4, 1507.35]     48\n",
       "(1507.35, 1623.3]     35\n",
       "(1623.3, 1739.25]     21\n",
       "(1739.25, 1855.2]      7\n",
       "(1855.2, 1971.15]      7\n",
       "(2203.05, 2319.0]      5\n",
       "(1971.15, 2087.1]      4\n",
       "(2087.1, 2203.05]      3\n",
       "Name: bsmt_weighted_sf, dtype: int64"
      ]
     },
     "execution_count": 43,
     "metadata": {},
     "output_type": "execute_result"
    }
   ],
   "source": [
    "house['bsmt_weighted_sf'].value_counts(bins = 20)"
   ]
  },
  {
   "cell_type": "markdown",
   "id": "c8384742-795c-4c8e-8500-0bbe33f5bb1f",
   "metadata": {},
   "source": [
    "The weighted basement size column also appears fine as is."
   ]
  },
  {
   "cell_type": "markdown",
   "id": "8cfd4524-e68f-408e-a6ea-6b677b1107fa",
   "metadata": {},
   "source": [
    "#### Year Built"
   ]
  },
  {
   "cell_type": "code",
   "execution_count": 44,
   "id": "ad4b19f7-3b28-4562-bc1a-b1d317f7968c",
   "metadata": {},
   "outputs": [
    {
     "data": {
      "image/png": "[encoded data removed]",
      "text/plain": [
       "<Figure size 432x288 with 1 Axes>"
      ]
     },
     "metadata": {
      "needs_background": "light"
     },
     "output_type": "display_data"
    }
   ],
   "source": [
    "house['year_built'].plot.hist(bins = 10);"
   ]
  },
  {
   "cell_type": "code",
   "execution_count": 45,
   "id": "00d7c594-bfca-4e1a-a74e-ab2bd2a0c86f",
   "metadata": {},
   "outputs": [
    {
     "data": {
      "text/plain": [
       "(1871.861, 1885.8]      7\n",
       "(1885.8, 1899.6]       12\n",
       "(1899.6, 1913.4]       56\n",
       "(1913.4, 1927.2]      162\n",
       "(1927.2, 1941.0]      139\n",
       "(1941.0, 1954.8]      165\n",
       "(1954.8, 1968.6]      369\n",
       "(1968.6, 1982.4]      285\n",
       "(1982.4, 1996.2]      197\n",
       "(1996.2, 2010.0]      652\n",
       "Name: year_built, dtype: int64"
      ]
     },
     "execution_count": 45,
     "metadata": {},
     "output_type": "execute_result"
    }
   ],
   "source": [
    "house['year_built'].value_counts(bins = 10).sort_index()"
   ]
  },
  {
   "cell_type": "markdown",
   "id": "53f8a8c0-8868-4122-8395-de08c93749f9",
   "metadata": {},
   "source": [
    "It does not seem necessary to drop homes built especially long ago. These homes to not appear to have extraordinary sale prices."
   ]
  },
  {
   "cell_type": "code",
   "execution_count": 46,
   "id": "aaaf1b21-b2d9-4602-8ea2-192f8e9b44a9",
   "metadata": {},
   "outputs": [
    {
     "data": {
      "text/html": [
       "<div>\n",
       "<style scoped>\n",
       "    .dataframe tbody tr th:only-of-type {\n",
       "        vertical-align: middle;\n",
       "    }\n",
       "\n",
       "    .dataframe tbody tr th {\n",
       "        vertical-align: top;\n",
       "    }\n",
       "\n",
       "    .dataframe thead th {\n",
       "        text-align: right;\n",
       "    }\n",
       "</style>\n",
       "<table border=\"1\" class=\"dataframe\">\n",
       "  <thead>\n",
       "    <tr style=\"text-align: right;\">\n",
       "      <th></th>\n",
       "      <th>year_built</th>\n",
       "      <th>saleprice</th>\n",
       "    </tr>\n",
       "  </thead>\n",
       "  <tbody>\n",
       "    <tr>\n",
       "      <th>951</th>\n",
       "      <td>1872</td>\n",
       "      <td>122000</td>\n",
       "    </tr>\n",
       "    <tr>\n",
       "      <th>136</th>\n",
       "      <td>1875</td>\n",
       "      <td>94000</td>\n",
       "    </tr>\n",
       "    <tr>\n",
       "      <th>1134</th>\n",
       "      <td>1879</td>\n",
       "      <td>185000</td>\n",
       "    </tr>\n",
       "    <tr>\n",
       "      <th>12</th>\n",
       "      <td>1880</td>\n",
       "      <td>131000</td>\n",
       "    </tr>\n",
       "    <tr>\n",
       "      <th>784</th>\n",
       "      <td>1880</td>\n",
       "      <td>117500</td>\n",
       "    </tr>\n",
       "    <tr>\n",
       "      <th>1939</th>\n",
       "      <td>1880</td>\n",
       "      <td>295000</td>\n",
       "    </tr>\n",
       "    <tr>\n",
       "      <th>394</th>\n",
       "      <td>1885</td>\n",
       "      <td>122500</td>\n",
       "    </tr>\n",
       "    <tr>\n",
       "      <th>501</th>\n",
       "      <td>1890</td>\n",
       "      <td>78500</td>\n",
       "    </tr>\n",
       "    <tr>\n",
       "      <th>175</th>\n",
       "      <td>1890</td>\n",
       "      <td>184000</td>\n",
       "    </tr>\n",
       "    <tr>\n",
       "      <th>1204</th>\n",
       "      <td>1890</td>\n",
       "      <td>95000</td>\n",
       "    </tr>\n",
       "    <tr>\n",
       "      <th>1318</th>\n",
       "      <td>1890</td>\n",
       "      <td>159500</td>\n",
       "    </tr>\n",
       "    <tr>\n",
       "      <th>918</th>\n",
       "      <td>1890</td>\n",
       "      <td>124900</td>\n",
       "    </tr>\n",
       "    <tr>\n",
       "      <th>1035</th>\n",
       "      <td>1892</td>\n",
       "      <td>475000</td>\n",
       "    </tr>\n",
       "    <tr>\n",
       "      <th>1141</th>\n",
       "      <td>1893</td>\n",
       "      <td>325000</td>\n",
       "    </tr>\n",
       "    <tr>\n",
       "      <th>457</th>\n",
       "      <td>1895</td>\n",
       "      <td>148000</td>\n",
       "    </tr>\n",
       "    <tr>\n",
       "      <th>1793</th>\n",
       "      <td>1895</td>\n",
       "      <td>89000</td>\n",
       "    </tr>\n",
       "    <tr>\n",
       "      <th>28</th>\n",
       "      <td>1895</td>\n",
       "      <td>119600</td>\n",
       "    </tr>\n",
       "    <tr>\n",
       "      <th>410</th>\n",
       "      <td>1896</td>\n",
       "      <td>50138</td>\n",
       "    </tr>\n",
       "    <tr>\n",
       "      <th>1359</th>\n",
       "      <td>1898</td>\n",
       "      <td>106000</td>\n",
       "    </tr>\n",
       "  </tbody>\n",
       "</table>\n",
       "</div>"
      ],
      "text/plain": [
       "      year_built  saleprice\n",
       "951         1872     122000\n",
       "136         1875      94000\n",
       "1134        1879     185000\n",
       "12          1880     131000\n",
       "784         1880     117500\n",
       "1939        1880     295000\n",
       "394         1885     122500\n",
       "501         1890      78500\n",
       "175         1890     184000\n",
       "1204        1890      95000\n",
       "1318        1890     159500\n",
       "918         1890     124900\n",
       "1035        1892     475000\n",
       "1141        1893     325000\n",
       "457         1895     148000\n",
       "1793        1895      89000\n",
       "28          1895     119600\n",
       "410         1896      50138\n",
       "1359        1898     106000"
      ]
     },
     "execution_count": 46,
     "metadata": {},
     "output_type": "execute_result"
    }
   ],
   "source": [
    "house.loc[house['year_built'] < 1900, ['year_built', 'saleprice']].sort_values(by = 'year_built')"
   ]
  },
  {
   "cell_type": "markdown",
   "id": "94459e30-8c64-412b-b5a1-bdbff8ed7a64",
   "metadata": {},
   "source": [
    "The sale price does not seem to have any outlandish values based on the year built. Below we see that these older homes typically have less value, though not by much, but this seems appropriate."
   ]
  },
  {
   "cell_type": "code",
   "execution_count": 47,
   "id": "b1d67657-c441-40ad-8715-407cc1762f4d",
   "metadata": {},
   "outputs": [
    {
     "data": {
      "text/plain": [
       "159033.57894736843"
      ]
     },
     "execution_count": 47,
     "metadata": {},
     "output_type": "execute_result"
    }
   ],
   "source": [
    "house.loc[house['year_built'] < 1900, 'saleprice'].mean()"
   ]
  },
  {
   "cell_type": "code",
   "execution_count": 48,
   "id": "c99ec7b9-642c-4ef8-aa11-a3a4b51e8342",
   "metadata": {},
   "outputs": [
    {
     "data": {
      "text/plain": [
       "181073.38943248533"
      ]
     },
     "execution_count": 48,
     "metadata": {},
     "output_type": "execute_result"
    }
   ],
   "source": [
    "house['saleprice'].mean()"
   ]
  },
  {
   "cell_type": "markdown",
   "id": "171344e8-45ec-49bb-b1e8-b8cb36a60f0d",
   "metadata": {},
   "source": [
    "#### Bedroom Count"
   ]
  },
  {
   "cell_type": "code",
   "execution_count": 49,
   "id": "0623a19e-7780-4907-984c-b80d2ce4dcb2",
   "metadata": {},
   "outputs": [
    {
     "data": {
      "text/plain": [
       "0       4\n",
       "1      75\n",
       "2     542\n",
       "3    1106\n",
       "4     263\n",
       "5      41\n",
       "6      12\n",
       "8       1\n",
       "Name: bedroom_abvgr, dtype: int64"
      ]
     },
     "execution_count": 49,
     "metadata": {},
     "output_type": "execute_result"
    }
   ],
   "source": [
    "house['bedroom_abvgr'].value_counts().sort_index()"
   ]
  },
  {
   "cell_type": "markdown",
   "id": "e60f5934-9403-4f4e-8714-538b7a06ebdc",
   "metadata": {},
   "source": [
    "---\n",
    "\n",
    "## Light Analysis"
   ]
  },
  {
   "cell_type": "code",
   "execution_count": null,
   "id": "65f47f78-d722-471c-bb51-d6c50b5876b6",
   "metadata": {},
   "outputs": [],
   "source": [
    "\n",
    "# can answer question problem statement?"
   ]
  },
  {
   "cell_type": "code",
   "execution_count": null,
   "id": "f84955e7-26bd-44ef-bf07-a7539e18d780",
   "metadata": {},
   "outputs": [],
   "source": []
  },
  {
   "cell_type": "code",
   "execution_count": null,
   "id": "91f90d6b-875a-467e-b90f-1b954b8db85c",
   "metadata": {},
   "outputs": [],
   "source": []
  },
  {
   "cell_type": "code",
   "execution_count": null,
   "id": "27548080-1c32-4fbb-bdc7-678f1f637edb",
   "metadata": {},
   "outputs": [],
   "source": []
  },
  {
   "cell_type": "markdown",
   "id": "84a4cf3e-ce86-45d3-881f-2c2f922939ca",
   "metadata": {},
   "source": [
    "---\n",
    "\n",
    "## Saving The Cleaned Dataset as '*cleaned_train.csv*'"
   ]
  },
  {
   "cell_type": "code",
   "execution_count": 50,
   "id": "9fa72ba5-4961-444b-a480-5e277ad7f127",
   "metadata": {},
   "outputs": [],
   "source": [
    "house.to_csv('../datasets/cleaned_train.csv', index = False)"
   ]
  }
 ],
 "metadata": {
  "kernelspec": {
   "display_name": "Python 3 (ipykernel)",
   "language": "python",
   "name": "python3"
  },
  "language_info": {
   "codemirror_mode": {
    "name": "ipython",
    "version": 3
   },
   "file_extension": ".py",
   "mimetype": "text/x-python",
   "name": "python",
   "nbconvert_exporter": "python",
   "pygments_lexer": "ipython3",
   "version": "3.9.12"
  }
 },
 "nbformat": 4,
 "nbformat_minor": 5
}
