{
 "cells": [
  {
   "cell_type": "markdown",
   "id": "f56e564b-6dba-4708-b699-4ace58f55774",
   "metadata": {},
   "source": [
    "# Production Model and Conclusion\n",
    "\n",
    "---\n",
    "\n",
    "## Imports and Functions"
   ]
  },
  {
   "cell_type": "code",
   "execution_count": 1,
   "id": "eedc6033-c743-4708-99de-195d30e27230",
   "metadata": {},
   "outputs": [],
   "source": [
    "import numpy as np\n",
    "import pandas as pd\n",
    "import matplotlib.pyplot as plt\n",
    "import seaborn as sns\n",
    "\n",
    "# to remove\n",
    "from statsmodels.stats.outliers_influence import variance_inflation_factor\n",
    "from sklearn.model_selection import train_test_split, cross_val_score\n",
    "from sklearn.preprocessing import StandardScaler\n",
    "from sklearn.linear_model import LinearRegression, Ridge, RidgeCV, Lasso, LassoCV\n",
    "from sklearn import metrics\n",
    "from sklearn.model_selection import GridSearchCV"
   ]
  },
  {
   "cell_type": "code",
   "execution_count": 2,
   "id": "4f181daa-e699-464e-91b8-3238e1e550f1",
   "metadata": {},
   "outputs": [],
   "source": [
    "def qual_to_num(data, feature):\n",
    "    '''\n",
    "    Takes in DataFrame and column name containing string ratings\n",
    "    replaces the ratings with numerical values\n",
    "    \n",
    "    Returns the updated DataFrame\n",
    "    '''\n",
    "    \n",
    "    # ratings that appear in the dataset\n",
    "    # and corresponding numerical value\n",
    "    qual_conversion = {'Ex': 5, 'Gd': 4, 'TA': 3, 'Fa': 2, 'Po': 1, 'NA': 0, np.nan: 0}\n",
    "    \n",
    "    # convert to ratings using dictionary\n",
    "    data[feature] = data[feature].apply(lambda x: qual_conversion[x])\n",
    "    \n",
    "    return data\n",
    "\n",
    "\n",
    "\n",
    "def vif_df(df):\n",
    "    '''\n",
    "    Takes in a dataframe of numeric columns and computes\n",
    "    the Variance Inflation Factor (VIF) for each variable.\n",
    "    \n",
    "    Returns a nx1 DataFrame of VIF scores.\n",
    "    '''\n",
    "    \n",
    "    corr_features = df.columns\n",
    "    \n",
    "    # creats a list of VIF values, cycling through variables\n",
    "    # to select as a target for scoring\n",
    "    vif_values = [variance_inflation_factor(df.values, i) for i in range(len(corr_features))]\n",
    "    \n",
    "    # index scores with column names and sort from greatest to least\n",
    "    vif = pd.DataFrame(vif_values,\n",
    "                   index = corr_features,\n",
    "                   columns = ['vif']).sort_values(by = 'vif', ascending = False)\n",
    "    \n",
    "    return vif\n",
    "\n",
    "\n",
    "\n",
    "def setup_test():\n",
    "    '''\n",
    "    Generates a cleaned and feature engineered test dataset\n",
    "    that matches the general structure of the cleaned train data.\n",
    "    \n",
    "    Returns the cleaned, feature engineered test data set.\n",
    "    '''\n",
    "    \n",
    "    test_data = pd.read_csv('../datasets/test.csv')\n",
    "    \n",
    "    # initial features that were selected for the train dataset \n",
    "    test_features = ['MS Zoning', 'Lot Area', 'Land Contour', 'Land Slope', 'Neighborhood', 'Condition 1',\n",
    "            'Bldg Type', 'House Style', 'Overall Qual', 'Overall Cond', 'Year Built', 'Year Remod/Add',\n",
    "           'Mas Vnr Type', 'Exter Qual', 'Exter Cond', 'Bsmt Qual', 'Bsmt Cond',\n",
    "           'Garage Area', 'Wood Deck SF', 'Open Porch SF', 'Kitchen Qual', 'Bedroom AbvGr',\n",
    "           'Full Bath', 'Half Bath', 'Fireplaces', 'Fireplace Qu', 'BsmtFin SF 1', 'Bsmt Unf SF', '1st Flr SF', '2nd Flr SF', 'Sale Type',]\n",
    "    \n",
    "    \n",
    "    test_data = test_data[test_features]\n",
    "    \n",
    "    # clean column names\n",
    "    test_data.columns = [col.lower().replace(' ','_').replace('/','_') for col in test_data.columns]\n",
    "    \n",
    "    \n",
    "    # converts descriptive rating to numerical\n",
    "    test_data = qual_to_num(test_data, 'bsmt_qual')\n",
    "    test_data = qual_to_num(test_data, 'bsmt_cond')\n",
    "    test_data = qual_to_num(test_data, 'kitchen_qual')\n",
    "    test_data = qual_to_num(test_data, 'exter_qual')\n",
    "    test_data = qual_to_num(test_data, 'exter_cond')\n",
    "    test_data = qual_to_num(test_data, 'fireplace_qu')\n",
    "    \n",
    "    # combines basment quality and condition ratings via multiplication\n",
    "    test_data['bsmt_qual_cond'] = test_data['bsmt_qual'] * test_data['bsmt_cond']\n",
    "    test_data.drop(columns = ['bsmt_qual', 'bsmt_cond'], inplace = True)\n",
    "    \n",
    "    test_data['qual_cond'] = test_data['overall_qual'] * test_data['overall_cond']\n",
    "    test_data.drop(columns = ['overall_qual', 'overall_cond'], inplace = True)\n",
    "\n",
    "    test_data['exter_qual_cond'] = test_data['exter_qual'] * test_data['exter_cond']\n",
    "    test_data.drop(columns = ['exter_qual', 'exter_cond'], inplace = True)\n",
    "\n",
    "    \n",
    "    # combines fireplace count and quality rating via multiplication\n",
    "    test_data['fireplaces_weighted'] = test_data['fireplaces'] * test_data['fireplace_qu']\n",
    "    test_data.drop(columns = ['fireplaces', 'fireplace_qu'], inplace = True)\n",
    "    \n",
    "    # adds square feet (SF) measurements with weights:\n",
    "    # 1*(Finished SF) + 0.5(Unfinished SF)\n",
    "    test_data['bsmt_weighted_sf'] = test_data['bsmtfin_sf_1'] + 0.5*test_data['bsmt_unf_sf']\n",
    "    test_data.drop(columns = ['bsmtfin_sf_1', 'bsmt_unf_sf'], inplace = True)\n",
    "    \n",
    "    # combines full bath and half bath into one column\n",
    "    test_data['bath'] = test_data['full_bath'] + 0.5*test_data['half_bath']\n",
    "    test_data.drop(columns = ['full_bath', 'half_bath'], inplace = True)\n",
    "    \n",
    "    #combines 1st floor and 2nd floor square feet areas\n",
    "    test_data['sq_ft'] = test_data['1st_flr_sf'] + test_data['2nd_flr_sf']\n",
    "    test_data.drop(columns = ['1st_flr_sf', '2nd_flr_sf'], inplace = True)\n",
    "    \n",
    "    # replace np.nan with most frequent value in the column 'None'\n",
    "    test_data.loc[test_data['mas_vnr_type'].isna(), 'mas_vnr_type'] = 'None'\n",
    "    \n",
    "    return test_data\n",
    "\n",
    "\n",
    "def dummify_train_test(train, numeric_cols, categ_cols):\n",
    "    '''\n",
    "    Takes a DataFrame with the desired features to model with,\n",
    "    sets up a DataFrame of the test dataset with the same features,\n",
    "    get_dummies is performed on both DataFrames, and then makes sure\n",
    "    columns agree. If not, columns of zeros are added.\n",
    "    \n",
    "    Returns train and test DataFrames with desired features and\n",
    "    categorical columns dummified and in identical order.\n",
    "    '''\n",
    "    \n",
    "    # generate cleaned and feature engineered test dataframe\n",
    "    test = setup_test()\n",
    "    features = numeric_cols + categ_cols\n",
    "    \n",
    "    train_with_dummies = pd.get_dummies(train[features], columns = categ_cols, drop_first = True)\n",
    "    test_with_dummies = pd.get_dummies(test[features], columns = categ_cols, drop_first = True)\n",
    "    \n",
    "    # save dummy column names from both train and test\n",
    "    # to make sure both sets have identical column names/counts later\n",
    "    both_columns_set = set(train_with_dummies.columns).union(set(test_with_dummies.columns))\n",
    "\n",
    "    # for any column names not in set, add column with 0s\n",
    "    for col in both_columns_set:\n",
    "        if col not in train_with_dummies.columns:\n",
    "            train_with_dummies[col] = 0\n",
    "        if col not in test_with_dummies.columns:\n",
    "            test_with_dummies[col] = 0\n",
    "            \n",
    "    # make sure column order agrees for train and test sets\n",
    "    column_order = train_with_dummies.columns\n",
    "    test_with_dummies = test_with_dummies[column_order]\n",
    "    \n",
    "    return train_with_dummies, test_with_dummies"
   ]
  },
  {
   "cell_type": "markdown",
   "id": "973634e3-abe2-4a49-b1b5-07e15434b8cb",
   "metadata": {},
   "source": [
    "## Production Model Choice\n",
    "\n",
    "#### Building the Model\n",
    "\n",
    "For our production build, we create a mix of models 3 and 4. For this model we use all of the same features as model 4 except we drop the `year_built` feature. This makes our numeric features identical to model 3.\n",
    "\n",
    "This adjustment is because the VIF scores from the numeric features in model 4 are too high which indicates there is multicollinearity between the variables used. This takes away from the interpretability of our model a bit. Although interpretability of our model is not one of our original goals, it is a worthwhile gain if it only costs a small amount of prediction cabilitiy."
   ]
  },
  {
   "cell_type": "code",
   "execution_count": 3,
   "id": "7f2eb80b-e371-4025-9e91-fa7db760b81b",
   "metadata": {},
   "outputs": [],
   "source": [
    "house = pd.read_csv('../datasets/cleaned_train.csv')"
   ]
  },
  {
   "cell_type": "code",
   "execution_count": 4,
   "id": "d3bf17e7-dd1c-4ef7-8b4a-da9520c547f1",
   "metadata": {},
   "outputs": [
    {
     "data": {
      "text/html": [
       "<div>\n",
       "<style scoped>\n",
       "    .dataframe tbody tr th:only-of-type {\n",
       "        vertical-align: middle;\n",
       "    }\n",
       "\n",
       "    .dataframe tbody tr th {\n",
       "        vertical-align: top;\n",
       "    }\n",
       "\n",
       "    .dataframe thead th {\n",
       "        text-align: right;\n",
       "    }\n",
       "</style>\n",
       "<table border=\"1\" class=\"dataframe\">\n",
       "  <thead>\n",
       "    <tr style=\"text-align: right;\">\n",
       "      <th></th>\n",
       "      <th>vif</th>\n",
       "    </tr>\n",
       "  </thead>\n",
       "  <tbody>\n",
       "    <tr>\n",
       "      <th>sq_ft</th>\n",
       "      <td>14.167112</td>\n",
       "    </tr>\n",
       "    <tr>\n",
       "      <th>year_built</th>\n",
       "      <td>12.161775</td>\n",
       "    </tr>\n",
       "    <tr>\n",
       "      <th>garage_area</th>\n",
       "      <td>8.755858</td>\n",
       "    </tr>\n",
       "    <tr>\n",
       "      <th>bsmt_weighted_sf</th>\n",
       "      <td>5.874826</td>\n",
       "    </tr>\n",
       "  </tbody>\n",
       "</table>\n",
       "</div>"
      ],
      "text/plain": [
       "                        vif\n",
       "sq_ft             14.167112\n",
       "year_built        12.161775\n",
       "garage_area        8.755858\n",
       "bsmt_weighted_sf   5.874826"
      ]
     },
     "execution_count": 4,
     "metadata": {},
     "output_type": "execute_result"
    }
   ],
   "source": [
    "# VIFs for model 4\n",
    "vif_df(house[['sq_ft', 'garage_area', 'bsmt_weighted_sf', 'year_built']])"
   ]
  },
  {
   "cell_type": "code",
   "execution_count": 5,
   "id": "7d4cec41-823b-4eb5-a3c8-118d5bd19ac7",
   "metadata": {},
   "outputs": [
    {
     "data": {
      "text/html": [
       "<div>\n",
       "<style scoped>\n",
       "    .dataframe tbody tr th:only-of-type {\n",
       "        vertical-align: middle;\n",
       "    }\n",
       "\n",
       "    .dataframe tbody tr th {\n",
       "        vertical-align: top;\n",
       "    }\n",
       "\n",
       "    .dataframe thead th {\n",
       "        text-align: right;\n",
       "    }\n",
       "</style>\n",
       "<table border=\"1\" class=\"dataframe\">\n",
       "  <thead>\n",
       "    <tr style=\"text-align: right;\">\n",
       "      <th></th>\n",
       "      <th>vif</th>\n",
       "    </tr>\n",
       "  </thead>\n",
       "  <tbody>\n",
       "    <tr>\n",
       "      <th>garage_area</th>\n",
       "      <td>8.520796</td>\n",
       "    </tr>\n",
       "    <tr>\n",
       "      <th>sq_ft</th>\n",
       "      <td>8.348290</td>\n",
       "    </tr>\n",
       "    <tr>\n",
       "      <th>bsmt_weighted_sf</th>\n",
       "      <td>5.606644</td>\n",
       "    </tr>\n",
       "  </tbody>\n",
       "</table>\n",
       "</div>"
      ],
      "text/plain": [
       "                       vif\n",
       "garage_area       8.520796\n",
       "sq_ft             8.348290\n",
       "bsmt_weighted_sf  5.606644"
      ]
     },
     "execution_count": 5,
     "metadata": {},
     "output_type": "execute_result"
    }
   ],
   "source": [
    "# VIFs for model 3\n",
    "vif_df(house[['sq_ft', 'garage_area', 'bsmt_weighted_sf']])"
   ]
  },
  {
   "cell_type": "code",
   "execution_count": 6,
   "id": "3af60701-4e25-4534-983c-ffc36825223d",
   "metadata": {},
   "outputs": [],
   "source": [
    "y = house['saleprice']"
   ]
  },
  {
   "cell_type": "code",
   "execution_count": 7,
   "id": "ac162237-c3fb-4a43-b06a-0427f6653694",
   "metadata": {},
   "outputs": [],
   "source": [
    "# select features\n",
    "numeric_features = ['sq_ft', 'garage_area', 'bsmt_weighted_sf']\n",
    "categ_features = ['neighborhood', 'house_style', 'kitchen_qual', 'qual_cond', 'exter_qual_cond']\n",
    "features = numeric_features + categ_features"
   ]
  },
  {
   "cell_type": "code",
   "execution_count": 8,
   "id": "08291cfc-4c2d-49e2-8177-01bdbdec14ac",
   "metadata": {},
   "outputs": [],
   "source": [
    "# get dummies on train and test datasets\n",
    "# and make columns agree for modeling\n",
    "train_dummy, test_dummy = dummify_train_test(house[features], numeric_features, categ_features)"
   ]
  },
  {
   "cell_type": "code",
   "execution_count": 9,
   "id": "08a51cfd-317b-4215-b1e0-798eacabaf9e",
   "metadata": {},
   "outputs": [],
   "source": [
    "# split training data into train and validation set\n",
    "X_train, X_val, y_train, y_val = train_test_split(train_dummy, y, test_size = 0.3, random_state = 6)"
   ]
  },
  {
   "cell_type": "code",
   "execution_count": 10,
   "id": "acce0697-bd55-4880-9546-992ebad0c454",
   "metadata": {},
   "outputs": [],
   "source": [
    "# fit a linear regression model\n",
    "lr = LinearRegression()\n",
    "lr.fit(X_train, y_train)\n",
    "\n",
    "# generate prediction sale prices on our train (yt_pred) and validation (yv_pred)\n",
    "yt_pred = lr.predict(X_train)\n",
    "yv_pred = lr.predict(X_val)"
   ]
  },
  {
   "cell_type": "code",
   "execution_count": 11,
   "id": "62a77c57-d5b1-4514-a666-3cd1fa818c02",
   "metadata": {},
   "outputs": [
    {
     "name": "stdout",
     "output_type": "stream",
     "text": [
      "Train Cross Validation: 0.884804311034452\n",
      "\n",
      "Train R squared: 0.9097520235829805\n",
      "Train RMSE: 23989.89319405014\n",
      "\n",
      "Validation R squared: 0.8798798237233209\n",
      "Validation RMSE: 26280.68667675776\n"
     ]
    }
   ],
   "source": [
    "# print scores for our train split\n",
    "print(f'Train Cross Validation: {cross_val_score(lr, X_train, y_train, cv = 5).mean()}\\n')\n",
    "print(f'Train R squared: {lr.score(X_train, y_train)}')\n",
    "print(f'Train RMSE: {metrics.mean_squared_error(y_train, yt_pred, squared = False)}\\n')\n",
    "\n",
    "# print scores for our validation split\n",
    "print(f'Validation R squared: {lr.score(X_val, y_val)}')\n",
    "print(f'Validation RMSE: {metrics.mean_squared_error(y_val, yv_pred, squared = False)}')"
   ]
  },
  {
   "cell_type": "markdown",
   "id": "b5151d6a-46f3-4f8c-ab59-0de1e2f83f89",
   "metadata": {},
   "source": [
    "#### Justifying This Choice"
   ]
  },
  {
   "cell_type": "markdown",
   "id": "c4e52f91-db2d-4de7-af3d-b2a958e16557",
   "metadata": {},
   "source": [
    "We see a decent improvement in our R squared scores and our RMSE scores are lower compared to our first three linear models. Unlike our model 4, this model is not nearly as overfit.\n",
    "\n",
    "When we applied Ridge and Lasso models to the nearly the same features as the ones used here, our performance was slightly better. But because we did not have to scale our data to fit this model, we kept the interpretability of our coefficients. This is not the case for Ridge and Lasso. With the scores between the three models being so close, it makes the most sense to stick with our best non regularized linear regression model."
   ]
  },
  {
   "cell_type": "code",
   "execution_count": 12,
   "id": "5605d917-9870-4ece-9114-16a85ea446fe",
   "metadata": {},
   "outputs": [
    {
     "data": {
      "image/png": "[encoded data removed]",
      "text/plain": [
       "<Figure size 720x432 with 1 Axes>"
      ]
     },
     "metadata": {
      "needs_background": "light"
     },
     "output_type": "display_data"
    }
   ],
   "source": [
    "plt.figure(figsize = (10,6))\n",
    "\n",
    "plt.title('Model Iteration vs. R Squared Score', size = 25)\n",
    "\n",
    "plt.bar([1,2,3,4,5,6], [81.2, 80, 85.6, 88.7, 88.9, 88.9], color = 'tab:grey')\n",
    "plt.bar([7], [88], color = 'tab:blue')\n",
    "\n",
    "xticks = list(range(1,8))\n",
    "plt.xticks(ticks = xticks, labels = ['LR 1', 'LR 2', 'LR 3', 'LR 4', 'Ridge', 'Lasso', 'LR 7'])\n",
    "\n",
    "plt.xlabel('Model Iteration', size = 20)\n",
    "plt.ylabel('R Squared Score (%)', size = 20)\n",
    "plt.ylim([75,92])\n",
    "\n",
    "plt.tight_layout()\n",
    "plt.savefig('../images/iteration_scores.png');"
   ]
  },
  {
   "cell_type": "markdown",
   "id": "0eadc657-55c5-40a4-af40-6a2aa6a26577",
   "metadata": {},
   "source": [
    "#### Model Inference\n",
    "\n",
    "Since coefficient interpretability is a perk of this model, let us examine them.\n",
    "\n",
    "To interpret the coefficients, we again need to identify which columns were dropped when we performed `get_dummies`."
   ]
  },
  {
   "cell_type": "code",
   "execution_count": 13,
   "id": "0daf7220-b144-43bd-be85-7094c97dc34e",
   "metadata": {},
   "outputs": [
    {
     "data": {
      "text/plain": [
       "{'exter_qual_cond_2',\n",
       " 'house_style_1.5Fin',\n",
       " 'neighborhood_Blmngtn',\n",
       " 'qual_cond_1'}"
      ]
     },
     "execution_count": 13,
     "metadata": {},
     "output_type": "execute_result"
    }
   ],
   "source": [
    "# identifying columns get_dummies dropped\n",
    "no_drop_dummies = pd.get_dummies(house[features], columns = categ_features)\n",
    "set(no_drop_dummies.columns) - set(train_dummy)"
   ]
  },
  {
   "cell_type": "markdown",
   "id": "78fd9dc5-3103-430f-aec2-e9da01d290a1",
   "metadata": {},
   "source": [
    "Our above results tell use that all of the coefficients are relative to a 1.5-story home in Bloomington Heights, with a overall quality/condition rating of 1 and exterior quality/condition rating of 2. These represent the baseline for all of our coefficients.\n",
    "\n",
    "Below, we see the coefficients which describe how much the price of a home with the baseline conditions changes if we increase `sq_ft`, `bsmt_weighted_sf`, or the `garage_area` by one unit. We can see that a square foot of property is worth most in the main living space, least in the garage, and in between in the basement. We can also see the specific values."
   ]
  },
  {
   "cell_type": "code",
   "execution_count": 14,
   "id": "91201e1f-1e52-4e09-9fbd-9391553cfaf5",
   "metadata": {},
   "outputs": [],
   "source": [
    "# creating a list of model coefficients with labels\n",
    "coef = pd.Series(lr.coef_, index = train_dummy.columns)"
   ]
  },
  {
   "cell_type": "code",
   "execution_count": 15,
   "id": "41a59f18-aac1-4952-91b9-5c4c3164bc9d",
   "metadata": {},
   "outputs": [
    {
     "data": {
      "text/plain": [
       "sq_ft               61.333557\n",
       "bsmt_weighted_sf    40.736942\n",
       "garage_area         35.161845\n",
       "dtype: float64"
      ]
     },
     "execution_count": 15,
     "metadata": {},
     "output_type": "execute_result"
    }
   ],
   "source": [
    "# sorted neighborhood coefficients\n",
    "coef[:3].sort_values(ascending = False)"
   ]
  },
  {
   "cell_type": "markdown",
   "id": "8ed25f95-0dba-4cc8-b850-50151f0a7ae5",
   "metadata": {},
   "source": [
    "Below is a list of that allows us to compare home values relative to Bloomington Heights. We can clearly see the most expensive neighborhood according to our model is Green Hills, while the least expensive is Old Town."
   ]
  },
  {
   "cell_type": "code",
   "execution_count": 16,
   "id": "6f54a677-da4b-4bf6-8d9e-f9172e4d8bc1",
   "metadata": {},
   "outputs": [
    {
     "data": {
      "text/plain": [
       "neighborhood_GrnHill    82623.685013\n",
       "neighborhood_StoneBr    41322.635877\n",
       "neighborhood_Veenker    27030.921794\n",
       "neighborhood_NoRidge    21249.939670\n",
       "neighborhood_NridgHt    18848.161283\n",
       "neighborhood_Somerst    10805.486752\n",
       "neighborhood_Crawfor     8042.970961\n",
       "neighborhood_Timber      7886.609169\n",
       "neighborhood_Gilbert     5868.001220\n",
       "neighborhood_ClearCr     3886.622152\n",
       "neighborhood_CollgCr     2751.021488\n",
       "neighborhood_SawyerW    -3711.631832\n",
       "neighborhood_Mitchel    -9249.537279\n",
       "neighborhood_Landmrk   -11170.305783\n",
       "neighborhood_Blueste   -12267.769854\n",
       "neighborhood_NWAmes    -13529.218648\n",
       "neighborhood_Sawyer    -14872.170088\n",
       "neighborhood_NPkVill   -14928.605528\n",
       "neighborhood_NAmes     -16464.138018\n",
       "neighborhood_BrDale    -16796.029411\n",
       "neighborhood_Greens    -19130.412225\n",
       "neighborhood_SWISU     -19836.412560\n",
       "neighborhood_Edwards   -20379.915196\n",
       "neighborhood_BrkSide   -20652.107929\n",
       "neighborhood_MeadowV   -26773.320350\n",
       "neighborhood_IDOTRR    -28981.896618\n",
       "neighborhood_OldTown   -34586.642735\n",
       "dtype: float64"
      ]
     },
     "execution_count": 16,
     "metadata": {},
     "output_type": "execute_result"
    }
   ],
   "source": [
    "# sorted neighborhood coefficients\n",
    "coef[coef.index.str.contains('neighborhood')].sort_values(ascending = False)"
   ]
  },
  {
   "cell_type": "markdown",
   "id": "f005e032-024d-46c2-8b0d-38edb2e60d26",
   "metadata": {},
   "source": [
    "It is a little unclear what themes can be drawn from the `house_style` coefficients."
   ]
  },
  {
   "cell_type": "code",
   "execution_count": 17,
   "id": "369ee4eb-d53c-40b1-8212-ff947bc65dd6",
   "metadata": {},
   "outputs": [
    {
     "data": {
      "text/plain": [
       "house_style_SLvl      15503.817307\n",
       "house_style_1.5Unf    13802.431999\n",
       "house_style_SFoyer    13751.244977\n",
       "house_style_2.5Unf    12402.276086\n",
       "house_style_1Story     9404.068720\n",
       "house_style_2Story     2747.900531\n",
       "house_style_2.5Fin    -7823.370949\n",
       "dtype: float64"
      ]
     },
     "execution_count": 17,
     "metadata": {},
     "output_type": "execute_result"
    }
   ],
   "source": [
    "# sorted house style coefficients\n",
    "coef[coef.index.str.contains('house_style')].sort_values(ascending = False)"
   ]
  },
  {
   "cell_type": "markdown",
   "id": "9e9ddc3a-9bca-4d30-86d8-f833bd3f3d73",
   "metadata": {},
   "source": [
    "As for quality and condition, generally the higher the quality and condition score, the more expensive the home was (with some exceptions). Based on the coefficients, these quality and condition values produced some of the largest differences in home prices."
   ]
  },
  {
   "cell_type": "code",
   "execution_count": 18,
   "id": "4e936e6a-dfe0-4918-a81f-5124666977de",
   "metadata": {},
   "outputs": [
    {
     "data": {
      "text/plain": [
       "qual_cond_90    229980.023833\n",
       "qual_cond_50    110128.760689\n",
       "qual_cond_45     80722.239036\n",
       "qual_cond_72     45657.963118\n",
       "qual_cond_40     41604.786450\n",
       "qual_cond_63     41018.640230\n",
       "qual_cond_49     39394.020813\n",
       "qual_cond_32     37401.801009\n",
       "qual_cond_56     36947.319812\n",
       "qual_cond_64     33121.189933\n",
       "qual_cond_48     31723.736448\n",
       "qual_cond_42     24867.383548\n",
       "qual_cond_35     23075.612708\n",
       "qual_cond_28     18681.235435\n",
       "qual_cond_36     18280.334545\n",
       "qual_cond_54     18233.099201\n",
       "qual_cond_30     13774.861572\n",
       "qual_cond_24      9263.138616\n",
       "qual_cond_10      8581.076721\n",
       "qual_cond_25      7019.843509\n",
       "qual_cond_20      6505.575904\n",
       "qual_cond_12      3578.022671\n",
       "qual_cond_8        328.303425\n",
       "qual_cond_60         0.000000\n",
       "qual_cond_9      -2696.044604\n",
       "qual_cond_21     -5038.142563\n",
       "qual_cond_18     -9580.895913\n",
       "qual_cond_16    -10117.024339\n",
       "qual_cond_6     -13193.805397\n",
       "qual_cond_5     -18425.268210\n",
       "qual_cond_15    -19664.745774\n",
       "qual_cond_4     -24132.218659\n",
       "qual_cond_3     -32045.568542\n",
       "qual_cond_27   -147000.289829\n",
       "dtype: float64"
      ]
     },
     "execution_count": 18,
     "metadata": {},
     "output_type": "execute_result"
    }
   ],
   "source": [
    "# sorted \n",
    "coef[(coef.index.str.contains('qual_cond')) &\n",
    "     (~coef.index.str.contains('exter'))].sort_values(ascending = False)"
   ]
  },
  {
   "cell_type": "code",
   "execution_count": 19,
   "id": "ad016587-766b-45fe-9c25-10af101453d5",
   "metadata": {},
   "outputs": [
    {
     "data": {
      "text/plain": [
       "exter_qual_cond_15    4.357626e+04\n",
       "exter_qual_cond_16    2.386258e+04\n",
       "exter_qual_cond_20    2.328454e+04\n",
       "exter_qual_cond_12    2.068345e+04\n",
       "exter_qual_cond_9     1.780507e+04\n",
       "exter_qual_cond_6     1.136963e+04\n",
       "exter_qual_cond_4     6.467900e+03\n",
       "exter_qual_cond_3     8.640200e-12\n",
       "exter_qual_cond_8    -1.567392e+04\n",
       "exter_qual_cond_25   -1.129502e+05\n",
       "dtype: float64"
      ]
     },
     "execution_count": 19,
     "metadata": {},
     "output_type": "execute_result"
    }
   ],
   "source": [
    "# sorted exterior quality/condition coefficients\n",
    "coef[coef.index.str.contains('exter')].sort_values(ascending = False)"
   ]
  },
  {
   "cell_type": "markdown",
   "id": "2e4bf942-eb37-4964-80f5-e98fd84cb567",
   "metadata": {
    "tags": []
   },
   "source": [
    "#### Line Assumptions\n",
    "\n",
    "Our inferences only hold if the model and variables satisfy several conditions. We have already examined the linearity and the multicollinearity (linearity was checked when we checked correlation to `saleprice` for our first model in file `02_feature_selection_and_dummifying`). Let us check examine the residuals."
   ]
  },
  {
   "cell_type": "code",
   "execution_count": 20,
   "id": "5cb2c681-5dd5-4a02-812e-3c8de1ececa4",
   "metadata": {},
   "outputs": [],
   "source": [
    "resids = y_train - yt_pred"
   ]
  },
  {
   "cell_type": "code",
   "execution_count": 21,
   "id": "56886a92-1768-4fbf-89aa-8a2510a76fb9",
   "metadata": {},
   "outputs": [
    {
     "data": {
      "image/png": "[encoded data removed]",
      "text/plain": [
       "<Figure size 432x288 with 1 Axes>"
      ]
     },
     "metadata": {
      "needs_background": "light"
     },
     "output_type": "display_data"
    }
   ],
   "source": [
    "plt.hist(resids, bins = 40);"
   ]
  },
  {
   "cell_type": "markdown",
   "id": "1d796fcc-dc59-4be2-95d8-53f4742bfe7a",
   "metadata": {},
   "source": [
    "The distribution of the residuals looks normal, as desired."
   ]
  },
  {
   "cell_type": "code",
   "execution_count": 22,
   "id": "f2dfe060-c82c-476b-97ac-20ee46bcb0f1",
   "metadata": {},
   "outputs": [
    {
     "data": {
      "image/png": "[encoded data removed]",
      "text/plain": [
       "<Figure size 432x288 with 1 Axes>"
      ]
     },
     "metadata": {
      "needs_background": "light"
     },
     "output_type": "display_data"
    }
   ],
   "source": [
    "plt.scatter(y_train, resids);"
   ]
  },
  {
   "cell_type": "markdown",
   "id": "507ce923-fee5-479d-ab12-fb10c04bda09",
   "metadata": {},
   "source": [
    "Most of predictions are centered around `y = 0`. Our y-values vs residuals plot does show some slight dispersion towards the top right of the plot. This is not ideal, but it is relatively minor and just shows us that there is likely more data we can incorporate to get more accurate inferences. Still, many of the conditions for inference are met."
   ]
  },
  {
   "cell_type": "markdown",
   "id": "b554b780-260c-405f-bac4-4d4846eea300",
   "metadata": {},
   "source": [
    "---\n",
    "\n",
    "## Conclusion"
   ]
  },
  {
   "cell_type": "markdown",
   "id": "7d9a0350-f59a-4ad6-9a93-65fd4633ea54",
   "metadata": {},
   "source": [
    "#### Prediction\n",
    "\n",
    "Our goal was to build a linear regression model that accurately can predict the sale prices of homes in Ames, Iowa. Our metric for success was if our model exceeded an R squared score of 75%. Such a model would account for 75% of the variability in the sale price values.\n",
    "\n",
    "Our production model above achieved an R squared value of 87.9% on unseen data. This demonstrates that it produces fairly reliable price predictions and can be pushed to the public.\n",
    "\n",
    "Since this is one of the primary features Zillow offers, having stronger performing predictions is extremely relevant to our brand and credibility. Since our revenue stems from advertisement purchases, better public perception is directly related to the company's profitability."
   ]
  },
  {
   "cell_type": "markdown",
   "id": "93610d27-06f4-4681-b73c-660da358745c",
   "metadata": {
    "tags": []
   },
   "source": [
    "#### Inference \n",
    "\n",
    "Beyond predicting home prices, our model also provides insight to how these different features influence the price of the home.\n",
    "\n",
    "Before we say more her is the list of the features used in our model:\n",
    "- square feet in the first and second floor\n",
    "- basement square feet (unfinished basement are counted at half size)\n",
    "- year the home was built\n",
    "- neighborhood of the home\n",
    "- number of finished stories in the home\n",
    "- the quality of the kitchen (rated 1 through 5)\n",
    "- the quality and condition of the home (rated 1 through 100)\n",
    "- the exterior quality and condition of the home (rated 1 through 25)\n",
    "\n",
    "One major take-away from our model is illustrated below. The list below shows how the price of a 1.5-story home (with a finished second floor) in different neighborhoods compare to Bloomington Heights. Of course this also allows you compare prices between the different neighborhoods outside of Bloomington Heights, too."
   ]
  },
  {
   "cell_type": "code",
   "execution_count": 23,
   "id": "6a30307a-25f7-4dba-8688-ca8dde8ed893",
   "metadata": {},
   "outputs": [
    {
     "data": {
      "text/plain": [
       "neighborhood_GrnHill    82623.685013\n",
       "neighborhood_StoneBr    41322.635877\n",
       "neighborhood_Veenker    27030.921794\n",
       "neighborhood_NoRidge    21249.939670\n",
       "neighborhood_NridgHt    18848.161283\n",
       "neighborhood_Somerst    10805.486752\n",
       "neighborhood_Crawfor     8042.970961\n",
       "neighborhood_Timber      7886.609169\n",
       "neighborhood_Gilbert     5868.001220\n",
       "neighborhood_ClearCr     3886.622152\n",
       "neighborhood_CollgCr     2751.021488\n",
       "neighborhood_SawyerW    -3711.631832\n",
       "neighborhood_Mitchel    -9249.537279\n",
       "neighborhood_Landmrk   -11170.305783\n",
       "neighborhood_Blueste   -12267.769854\n",
       "neighborhood_NWAmes    -13529.218648\n",
       "neighborhood_Sawyer    -14872.170088\n",
       "neighborhood_NPkVill   -14928.605528\n",
       "neighborhood_NAmes     -16464.138018\n",
       "neighborhood_BrDale    -16796.029411\n",
       "neighborhood_Greens    -19130.412225\n",
       "neighborhood_SWISU     -19836.412560\n",
       "neighborhood_Edwards   -20379.915196\n",
       "neighborhood_BrkSide   -20652.107929\n",
       "neighborhood_MeadowV   -26773.320350\n",
       "neighborhood_IDOTRR    -28981.896618\n",
       "neighborhood_OldTown   -34586.642735\n",
       "dtype: float64"
      ]
     },
     "execution_count": 23,
     "metadata": {},
     "output_type": "execute_result"
    }
   ],
   "source": [
    "# sorted neighborhood coefficients\n",
    "coef[coef.index.str.contains('neighborhood')].sort_values(ascending = False)"
   ]
  },
  {
   "cell_type": "code",
   "execution_count": 24,
   "id": "d260d763-d9ab-43bd-bc9a-c92b9f37ca73",
   "metadata": {
    "jupyter": {
     "source_hidden": true
    },
    "tags": []
   },
   "outputs": [
    {
     "name": "stdout",
     "output_type": "stream",
     "text": [
      "- GrnHill: 82623.69\n",
      "- StoneBr: 41322.64\n",
      "- Veenker: 27030.92\n",
      "- NoRidge: 21249.94\n",
      "- NridgHt: 18848.16\n",
      "- Somerst: 10805.49\n",
      "- Crawfor: 8042.97\n",
      "- Timber: 7886.61\n",
      "- Gilbert: 5868.0\n",
      "- ClearCr: 3886.62\n",
      "- CollgCr: 2751.02\n",
      "- SawyerW: -3711.63\n",
      "- Mitchel: -9249.54\n",
      "- Landmrk: -11170.31\n",
      "- Blueste: -12267.77\n",
      "- NWAmes: -13529.22\n",
      "- Sawyer: -14872.17\n",
      "- NPkVill: -14928.61\n",
      "- NAmes: -16464.14\n",
      "- BrDale: -16796.03\n",
      "- Greens: -19130.41\n",
      "- SWISU: -19836.41\n",
      "- Edwards: -20379.92\n",
      "- BrkSide: -20652.11\n",
      "- MeadowV: -26773.32\n",
      "- IDOTRR: -28981.9\n",
      "- OldTown: -34586.64\n"
     ]
    }
   ],
   "source": [
    "# for readme\n",
    "nb_series = coef[coef.index.str.contains('neighborhood')].sort_values(ascending = False)\n",
    "for nb in nb_series.index:\n",
    "    print(f'- {nb[13:]}: {round(nb_series[nb],2)}')"
   ]
  },
  {
   "cell_type": "markdown",
   "id": "b9f7f592-e653-4dc4-b4fa-7c9a3d000ea9",
   "metadata": {},
   "source": [
    "For example, from this list we can see that the least expensive neighborhoods Edwards, Brookside, Meadow Villag, Old Town (Excluding Iowa Department of Transportation and Railroad (IDOTRR)). This kind of information may be of interest to the public and it may be worthwhile to share on our website. This way people will have even more reasons to visit our site, increasing the value in creating ads on our site."
   ]
  },
  {
   "cell_type": "markdown",
   "id": "01b45f46-d514-435e-93c0-8059bfe7d864",
   "metadata": {},
   "source": [
    "#### Next Steps\n",
    "\n",
    "Our model is definitely has potential to generate stronger predictions. Also our y-value vs residuals plot show that there may be some minor sale price patterns in our data that we have not entirely captured into our model. These improvements would likely be fairly small and require a lot of time to gain with the current dataset.\n",
    "\n",
    "If there is interest pursuing stronger predictions still, the main recommendations I would make would be to consider incorporating categorical features that I ruled out because they were quite homogenous (more than 75% of the values were identical). Some of these features may do a good job at predicting the highest value homes which is where the model seems to perform the weakest according to the residuals scatterplot.\n",
    "\n",
    "Another option would be to look back through data I ruled out before beginning the project. The original dataset includes 80 features, and after some light exploratory data analysis performed outside of these notebooks, I settled on starting with 32 variables."
   ]
  }
 ],
 "metadata": {
  "kernelspec": {
   "display_name": "Python 3 (ipykernel)",
   "language": "python",
   "name": "python3"
  },
  "language_info": {
   "codemirror_mode": {
    "name": "ipython",
    "version": 3
   },
   "file_extension": ".py",
   "mimetype": "text/x-python",
   "name": "python",
   "nbconvert_exporter": "python",
   "pygments_lexer": "ipython3",
   "version": "3.9.12"
  }
 },
 "nbformat": 4,
 "nbformat_minor": 5
}
