{
 "cells": [
  {
   "cell_type": "code",
   "execution_count": 1,
   "id": "bd176c23-9bd0-4b41-a06b-d33866bec8e3",
   "metadata": {},
   "outputs": [],
   "source": [
    "# conclusion\n",
    "# did we answer the problem statement/purpose\n",
    "# what can be improved in this process\n",
    "# what are the flaws of my model"
   ]
  },
  {
   "cell_type": "markdown",
   "id": "f56e564b-6dba-4708-b699-4ace58f55774",
   "metadata": {},
   "source": [
    "# Production Model and Conclusion\n",
    "\n",
    "---\n",
    "\n",
    "- bar chart of scores of different models\n",
    "- select last non ridge/lasso model\n",
    "- explain why this model over others\n",
    "- higher r squared score by a bit\n",
    "- maintains interpretability of coeficients\n",
    "    - interpret coef"
   ]
  },
  {
   "cell_type": "code",
   "execution_count": null,
   "id": "4f181daa-e699-464e-91b8-3238e1e550f1",
   "metadata": {},
   "outputs": [],
   "source": []
  }
 ],
 "metadata": {
  "kernelspec": {
   "display_name": "Python 3 (ipykernel)",
   "language": "python",
   "name": "python3"
  },
  "language_info": {
   "codemirror_mode": {
    "name": "ipython",
    "version": 3
   },
   "file_extension": ".py",
   "mimetype": "text/x-python",
   "name": "python",
   "nbconvert_exporter": "python",
   "pygments_lexer": "ipython3",
   "version": "3.9.12"
  }
 },
 "nbformat": 4,
 "nbformat_minor": 5
}
