{
 "cells": [
  {
   "cell_type": "code",
   "execution_count": 1,
   "id": "5ed768aa-a03e-4e56-8b85-d568b82f2ce1",
   "metadata": {},
   "outputs": [],
   "source": [
    "# interpret model scores"
   ]
  },
  {
   "cell_type": "markdown",
   "id": "1d286789-a0cb-480a-8c33-45383c4d8bf8",
   "metadata": {
    "tags": []
   },
   "source": [
    "# Modeling Our Data\n",
    "\n",
    "---\n",
    "\n",
    "## Imports and Functions\n",
    "\n",
    "---"
   ]
  },
  {
   "cell_type": "code",
   "execution_count": 2,
   "id": "7366df9a-0b5f-4b94-a6f7-2f9901e626f0",
   "metadata": {},
   "outputs": [],
   "source": [
    "import numpy as np\n",
    "import pandas as pd\n",
    "import matplotlib.pyplot as plt\n",
    "import seaborn as sns\n",
    "\n",
    "# to remove\n",
    "from statsmodels.stats.outliers_influence import variance_inflation_factor\n",
    "from sklearn.model_selection import train_test_split, cross_val_score\n",
    "from sklearn.preprocessing import StandardScaler\n",
    "from sklearn.linear_model import LinearRegression, Ridge, RidgeCV, Lasso, LassoCV\n",
    "from sklearn import metrics\n",
    "from sklearn.model_selection import GridSearchCV"
   ]
  },
  {
   "cell_type": "code",
   "execution_count": 3,
   "id": "1f35e882-c421-43de-a6b0-e5ce824f538f",
   "metadata": {},
   "outputs": [],
   "source": [
    "def qual_to_num(data, feature):\n",
    "    '''\n",
    "    Takes in DataFrame and column name containing string ratings\n",
    "    replaces the ratings with numerical values\n",
    "    \n",
    "    Returns the updated DataFrame\n",
    "    '''\n",
    "    \n",
    "    # ratings that appear in the dataset\n",
    "    # and corresponding numerical value\n",
    "    qual_conversion = {'Ex': 5, 'Gd': 4, 'TA': 3, 'Fa': 2, 'Po': 1, 'NA': 0, np.nan: 0}\n",
    "    \n",
    "    # convert to ratings using dictionary\n",
    "    data[feature] = data[feature].apply(lambda x: qual_conversion[x])\n",
    "    \n",
    "    return data\n",
    "\n",
    "\n",
    "\n",
    "def vif_df(df):\n",
    "    '''\n",
    "    Takes in a dataframe of numeric columns and computes\n",
    "    the Variance Inflation Factor (VIF) for each variable.\n",
    "    \n",
    "    Returns a nx1 DataFrame of VIF scores.\n",
    "    '''\n",
    "    \n",
    "    corr_features = df.columns\n",
    "    \n",
    "    # creats a list of VIF values, cycling through variables\n",
    "    # to select as a target for scoring\n",
    "    vif_values = [variance_inflation_factor(df.values, i) for i in range(len(corr_features))]\n",
    "    \n",
    "    # index scores with column names and sort from greatest to least\n",
    "    vif = pd.DataFrame(vif_values,\n",
    "                   index = corr_features,\n",
    "                   columns = ['vif']).sort_values(by = 'vif', ascending = False)\n",
    "    \n",
    "    return vif\n",
    "\n",
    "\n",
    "\n",
    "def setup_test():\n",
    "    '''\n",
    "    Generates a cleaned and feature engineered test dataset\n",
    "    that matches the general structure of the cleaned train data.\n",
    "    \n",
    "    Returns the cleaned, feature engineered test data set.\n",
    "    '''\n",
    "    \n",
    "    test_data = pd.read_csv('../datasets/test.csv')\n",
    "    \n",
    "    # initial features that were selected for the train dataset \n",
    "    test_features = ['MS Zoning', 'Lot Area', 'Land Contour', 'Land Slope', 'Neighborhood', 'Condition 1',\n",
    "            'Bldg Type', 'House Style', 'Overall Qual', 'Overall Cond', 'Year Built', 'Year Remod/Add',\n",
    "           'Mas Vnr Type', 'Exter Qual', 'Exter Cond', 'Bsmt Qual', 'Bsmt Cond',\n",
    "           'Garage Area', 'Wood Deck SF', 'Open Porch SF', 'Kitchen Qual', 'Bedroom AbvGr',\n",
    "           'Full Bath', 'Half Bath', 'Fireplaces', 'Fireplace Qu', 'BsmtFin SF 1', 'Bsmt Unf SF', '1st Flr SF', '2nd Flr SF', 'Sale Type',]\n",
    "    \n",
    "    \n",
    "    test_data = test_data[test_features]\n",
    "    \n",
    "    # clean column names\n",
    "    test_data.columns = [col.lower().replace(' ','_').replace('/','_') for col in test_data.columns]\n",
    "    \n",
    "    \n",
    "    # converts descriptive rating to numerical\n",
    "    test_data = qual_to_num(test_data, 'bsmt_qual')\n",
    "    test_data = qual_to_num(test_data, 'bsmt_cond')\n",
    "    test_data = qual_to_num(test_data, 'kitchen_qual')\n",
    "    test_data = qual_to_num(test_data, 'exter_qual')\n",
    "    test_data = qual_to_num(test_data, 'exter_cond')\n",
    "    test_data = qual_to_num(test_data, 'fireplace_qu')\n",
    "    \n",
    "    # combines basment quality and condition ratings via multiplication\n",
    "    test_data['bsmt_qual_cond'] = test_data['bsmt_qual'] * test_data['bsmt_cond']\n",
    "    test_data.drop(columns = ['bsmt_qual', 'bsmt_cond'], inplace = True)\n",
    "    \n",
    "    test_data['qual_cond'] = test_data['overall_qual'] * test_data['overall_cond']\n",
    "    test_data.drop(columns = ['overall_qual', 'overall_cond'], inplace = True)\n",
    "\n",
    "    test_data['exter_qual_cond'] = test_data['exter_qual'] * test_data['exter_cond']\n",
    "    test_data.drop(columns = ['exter_qual', 'exter_cond'], inplace = True)\n",
    "\n",
    "    \n",
    "    # combines fireplace count and quality rating via multiplication\n",
    "    test_data['fireplaces_weighted'] = test_data['fireplaces'] * test_data['fireplace_qu']\n",
    "    test_data.drop(columns = ['fireplaces', 'fireplace_qu'], inplace = True)\n",
    "    \n",
    "    # adds square feet (SF) measurements with weights:\n",
    "    # 1*(Finished SF) + 0.5(Unfinished SF)\n",
    "    test_data['bsmt_weighted_sf'] = test_data['bsmtfin_sf_1'] + 0.5*test_data['bsmt_unf_sf']\n",
    "    test_data.drop(columns = ['bsmtfin_sf_1', 'bsmt_unf_sf'], inplace = True)\n",
    "    \n",
    "    # combines full bath and half bath into one column\n",
    "    test_data['bath'] = test_data['full_bath'] + 0.5*test_data['half_bath']\n",
    "    test_data.drop(columns = ['full_bath', 'half_bath'], inplace = True)\n",
    "    \n",
    "    #combines 1st floor and 2nd floor square feet areas\n",
    "    test_data['sq_ft'] = test_data['1st_flr_sf'] + test_data['2nd_flr_sf']\n",
    "    test_data.drop(columns = ['1st_flr_sf', '2nd_flr_sf'], inplace = True)\n",
    "    \n",
    "    # replace np.nan with most frequent value in the column 'None'\n",
    "    test_data.loc[test_data['mas_vnr_type'].isna(), 'mas_vnr_type'] = 'None'\n",
    "    \n",
    "    return test_data\n",
    "\n",
    "\n",
    "def dummify_train_test(train, numeric_cols, categ_cols):\n",
    "    '''\n",
    "    Takes a DataFrame with the desired features to model with,\n",
    "    sets up a DataFrame of the test dataset with the same features,\n",
    "    get_dummies is performed on both DataFrames, and then makes sure\n",
    "    columns agree. If not, columns of zeros are added.\n",
    "    \n",
    "    Returns train and test DataFrames with desired features and\n",
    "    categorical columns dummified and in identical order.\n",
    "    '''\n",
    "    \n",
    "    # generate cleaned and feature engineered test dataframe\n",
    "    test = setup_test()\n",
    "    features = numeric_cols + categ_cols\n",
    "    \n",
    "    train_with_dummies = pd.get_dummies(train[features], columns = categ_cols, drop_first = True)\n",
    "    test_with_dummies = pd.get_dummies(test[features], columns = categ_cols, drop_first = True)\n",
    "    \n",
    "    # save dummy column names from both train and test\n",
    "    # to make sure both sets have identical column names/counts later\n",
    "    both_columns_set = set(train_with_dummies.columns).union(set(test_with_dummies.columns))\n",
    "\n",
    "    # for any column names not in set, add column with 0s\n",
    "    for col in both_columns_set:\n",
    "        if col not in train_with_dummies.columns:\n",
    "            train_with_dummies[col] = 0\n",
    "        if col not in test_with_dummies.columns:\n",
    "            test_with_dummies[col] = 0\n",
    "            \n",
    "    # make sure column order agrees for train and test sets\n",
    "    column_order = train_with_dummies.columns\n",
    "    test_with_dummies = test_with_dummies[column_order]\n",
    "    \n",
    "    return train_with_dummies, test_with_dummies\n",
    "\n",
    "\n",
    "\n",
    "def submit(kag_preds, attempt_num):\n",
    "    '''\n",
    "    Takes a set of Kaggle sale price predictions and an attempt number\n",
    "    and creates a file in the datasets folder that is in the correct\n",
    "    Kaggle submission format.\n",
    "    '''\n",
    "    \n",
    "    # read test file for id column\n",
    "    raw_house_test = pd.read_csv('../datasets/test.csv')\n",
    "    kag_sub = {'Id': raw_house_test['Id'], 'SalePrice': kag_preds}\n",
    "    \n",
    "    # create a house id, sale price DataFrame\n",
    "    kag_sub = pd.DataFrame(kag_sub)\n",
    "    \n",
    "    # file name format\n",
    "    file_path = '../datasets/submission' + str(attempt_num) + '_john.csv'\n",
    "    kag_sub.to_csv(file_path, index = False)"
   ]
  },
  {
   "cell_type": "markdown",
   "id": "8e8bf3e1-62d8-429e-bce2-24fd7fd5ff67",
   "metadata": {},
   "source": [
    "---"
   ]
  },
  {
   "cell_type": "markdown",
   "id": "a2c38b8d-bf70-420b-b7c8-9d5ea8b47453",
   "metadata": {
    "tags": []
   },
   "source": [
    "## Baseline Model\n",
    "\n",
    "Before we try to create models to predict the saleprice we should have some idea of a baseline score. For linear regressions, the baseline score is the mean."
   ]
  },
  {
   "cell_type": "code",
   "execution_count": 4,
   "id": "720de7b6-55c5-4adb-a779-a26dbd4f060b",
   "metadata": {},
   "outputs": [],
   "source": [
    "house = pd.read_csv('../datasets/cleaned_train.csv')"
   ]
  },
  {
   "cell_type": "code",
   "execution_count": 5,
   "id": "23b77e49-57f3-4985-bae2-b184e7f34ece",
   "metadata": {},
   "outputs": [],
   "source": [
    "y = house['saleprice']"
   ]
  },
  {
   "cell_type": "code",
   "execution_count": 6,
   "id": "8524db7e-bd46-4476-a557-e7ddfbc9bfb5",
   "metadata": {},
   "outputs": [],
   "source": [
    "# creates an array with shape of y and filled with the mean\n",
    "baseline_model = np.full_like(y, y.mean())"
   ]
  },
  {
   "cell_type": "code",
   "execution_count": 7,
   "id": "56f40504-b008-4c79-a40b-678b2b324e26",
   "metadata": {},
   "outputs": [
    {
     "name": "stdout",
     "output_type": "stream",
     "text": [
      "R squared: 0.0\n",
      "RMSE: 78668.04911315686\n"
     ]
    }
   ],
   "source": [
    "print(f'R squared: {metrics.r2_score(baseline_model, y)}')\n",
    "print(f'RMSE: {metrics.mean_squared_error(baseline_model, y, squared = False)}')"
   ]
  },
  {
   "cell_type": "markdown",
   "id": "048e30a0-80c8-442c-9db8-8369241c1d18",
   "metadata": {},
   "source": [
    "An R squared score of 0 is to be expected because by definition, R squared scores compare a model's performance against the mean. Our main metric for this project is Root Mean Squared Error (RMSE), which for the baseline model is 74,725. This means that if create a model whose RMSE score is lower, it would have been better to just guess the saleprice using the mean of the sale prices we already know."
   ]
  },
  {
   "cell_type": "markdown",
   "id": "e405ba06-cb0f-4b2d-8a50-30f2e7d4a889",
   "metadata": {},
   "source": [
    "---\n",
    "## Take One"
   ]
  },
  {
   "cell_type": "code",
   "execution_count": 8,
   "id": "c9139121-54ac-4e1d-9c35-4b3312d14ac0",
   "metadata": {},
   "outputs": [],
   "source": [
    "# select features\n",
    "numeric_features = ['sq_ft', 'bsmt_weighted_sf']\n",
    "categ_features = ['neighborhood', 'house_style']\n",
    "features = numeric_features + categ_features"
   ]
  },
  {
   "cell_type": "code",
   "execution_count": 9,
   "id": "5ba1681b-fad0-4be0-aa1e-5d6d2999874a",
   "metadata": {},
   "outputs": [],
   "source": [
    "# get dummies on train and test datasets\n",
    "# and make columns agree for modeling\n",
    "train_dummy, test_dummy = dummify_train_test(house[features], numeric_features, categ_features)"
   ]
  },
  {
   "cell_type": "code",
   "execution_count": 10,
   "id": "268b65b5-7eb9-401b-936b-e1e1da642cdf",
   "metadata": {},
   "outputs": [],
   "source": [
    "# split training data into train and validation set\n",
    "X_train, X_val, y_train, y_val = train_test_split(train_dummy, y, test_size = 0.3, random_state = 6)"
   ]
  },
  {
   "cell_type": "code",
   "execution_count": 11,
   "id": "2e3958a0-c5b8-45ee-9edc-b5f960483130",
   "metadata": {},
   "outputs": [],
   "source": [
    "# fit a linear regression model\n",
    "lr = LinearRegression()\n",
    "lr.fit(X_train, y_train)\n",
    "\n",
    "# generate prediction sale prices on our train (yt_pred) and validation (yv_pred)\n",
    "yt_pred =lr.predict(X_train)\n",
    "yv_pred = lr.predict(X_val)"
   ]
  },
  {
   "cell_type": "markdown",
   "id": "3c1444fa-750a-4f86-9c8a-021a9b0d06b2",
   "metadata": {},
   "source": [
    "#### Model Scores"
   ]
  },
  {
   "cell_type": "code",
   "execution_count": 12,
   "id": "486c7c63-b98b-4739-8b75-4fadfafa112f",
   "metadata": {},
   "outputs": [
    {
     "name": "stdout",
     "output_type": "stream",
     "text": [
      "Train Cross Validation: 0.8067105019900911\n",
      "\n",
      "Train R squared: 0.8251691128036235\n",
      "Train RMSE: 33390.172199297194\n",
      "\n",
      "Validation R squared: 0.812873677471225\n",
      "Validation RMSE: 32801.686192826564\n"
     ]
    }
   ],
   "source": [
    "# print scores for our train split\n",
    "print(f'Train Cross Validation: {cross_val_score(lr, X_train, y_train, cv = 5).mean()}\\n')\n",
    "print(f'Train R squared: {lr.score(X_train, y_train)}')\n",
    "print(f'Train RMSE: {metrics.mean_squared_error(y_train, yt_pred, squared = False)}\\n')\n",
    "\n",
    "# print scores for our validation split\n",
    "print(f'Validation R squared: {lr.score(X_val, y_val)}')\n",
    "print(f'Validation RMSE: {metrics.mean_squared_error(y_val, yv_pred, squared = False)}')\n"
   ]
  },
  {
   "cell_type": "markdown",
   "id": "220a4016-c321-4d89-8bb7-7323fe95bc96",
   "metadata": {},
   "source": [
    "R squared measures the percent of variability in the `saleprice` values that can be predicted by our choice of features. This first model's score of 82.5% suggests that `sq_ft`, `bsmt_weighted_sf`, `neighborhood`, and `house_style` collectively are strong indicators of a home's sale price in Ames, Iowa.\n",
    "\n",
    "The fact that the model performed very closely on the validation data (in terms of both R squared and cross validation scores) informs us that our model does roughly as well on unseen data as with our training data. This is a great sign!\n",
    "\n",
    "As for the RMSE score, it is an error score, so the lower the score value, the better. The RMSE scores of 33,390 and 32,801 both seem respectably low. This is further illustrated by how much smaller the error value is than the baseline model's RMSE score of 78,668."
   ]
  },
  {
   "cell_type": "markdown",
   "id": "88c0816b-4f8e-421d-9c28-6f73c3064efb",
   "metadata": {},
   "source": [
    "#### Model Inference"
   ]
  },
  {
   "cell_type": "code",
   "execution_count": 13,
   "id": "f8cbb79e-bbb6-420f-99b7-e29e1e46eb69",
   "metadata": {},
   "outputs": [
    {
     "data": {
      "text/plain": [
       "{'house_style_1.5Fin', 'neighborhood_Blmngtn'}"
      ]
     },
     "execution_count": 13,
     "metadata": {},
     "output_type": "execute_result"
    }
   ],
   "source": [
    "# identifying columns get_dummies dropped\n",
    "no_drop_dummies = pd.get_dummies(house[features], columns = categ_features)\n",
    "set(no_drop_dummies.columns) - set(train_dummy)"
   ]
  },
  {
   "cell_type": "markdown",
   "id": "ff6d9630-1c46-4aa8-b510-d584deb526bd",
   "metadata": {},
   "source": [
    "We see that `1.5Fin` and `Blmngtn` were the baseline categories. This means that all of the coeficients express how much the home sale price changes compared to a one and a half story home in the Bloomington Heights neighborhood.\n",
    "\n",
    "For example, the largest neighborhood coefficient of 87,412 means that the sale price of a 1.5-story home in Green Hills is typically 87,412 dollars more expensive relative to a 1.5-story home in Bloomington Heights, if we hold all other variables constant. On the otherhard, the coefficient of -3,454 suggests that under the same assumptions, a home in Gilbert is 3,454 dollars less expensive than one in Bloomington Heights.\n",
    "\n",
    "The square feet coefficient of 83.32 means that for every additional square foot inside a home (not in the basement), the price of the home will increase by 83.32 dollars if we hold all else constant (again relative to a 1.5-story home in Bloomington Heights)."
   ]
  },
  {
   "cell_type": "code",
   "execution_count": 14,
   "id": "c579c395-3e03-4a31-b708-c8c7e46196f2",
   "metadata": {},
   "outputs": [],
   "source": [
    "# creating a list of model coefficients with labels\n",
    "coef = pd.Series(lr.coef_, index = train_dummy.columns)"
   ]
  },
  {
   "cell_type": "code",
   "execution_count": 15,
   "id": "ae6f44d2-3018-4f9c-a0c1-a51ef08e4841",
   "metadata": {},
   "outputs": [
    {
     "data": {
      "text/plain": [
       "neighborhood_GrnHill    87412.185188\n",
       "neighborhood_StoneBr    79242.193035\n",
       "neighborhood_NridgHt    64348.629130\n",
       "neighborhood_Somerst    25142.463073\n",
       "neighborhood_NoRidge    23729.045224\n",
       "neighborhood_Timber     16359.014516\n",
       "neighborhood_Veenker     5584.746526\n",
       "neighborhood_CollgCr     2086.327620\n",
       "neighborhood_Crawfor    -2712.311257\n",
       "neighborhood_Gilbert    -3454.945615\n",
       "neighborhood_Greens     -4529.804022\n",
       "neighborhood_Blueste    -5995.783809\n",
       "neighborhood_SawyerW   -16067.078698\n",
       "neighborhood_ClearCr   -17797.661605\n",
       "neighborhood_NPkVill   -23258.328839\n",
       "neighborhood_Landmrk   -23554.343234\n",
       "neighborhood_Mitchel   -26367.436433\n",
       "neighborhood_BrDale    -28415.665993\n",
       "neighborhood_NWAmes    -28508.775348\n",
       "neighborhood_Sawyer    -30787.336349\n",
       "neighborhood_BrkSide   -31577.838654\n",
       "neighborhood_NAmes     -35992.636841\n",
       "neighborhood_Edwards   -40130.195096\n",
       "neighborhood_SWISU     -41207.488393\n",
       "neighborhood_OldTown   -43430.219441\n",
       "neighborhood_MeadowV   -51350.140388\n",
       "neighborhood_IDOTRR    -51547.661201\n",
       "dtype: float64"
      ]
     },
     "execution_count": 15,
     "metadata": {},
     "output_type": "execute_result"
    }
   ],
   "source": [
    "# sorted neighborhood coefficients\n",
    "coef[coef.index.str.contains('neighborhood')].sort_values(ascending = False)"
   ]
  },
  {
   "cell_type": "code",
   "execution_count": 16,
   "id": "1f6d8e1f-5477-4c22-a909-aaa194794569",
   "metadata": {},
   "outputs": [
    {
     "data": {
      "text/plain": [
       "house_style_2.5Fin    54866.198343\n",
       "house_style_SFoyer    28023.867095\n",
       "house_style_SLvl      25641.654565\n",
       "house_style_1.5Unf    24184.750001\n",
       "house_style_1Story    17568.489380\n",
       "house_style_2.5Unf    16879.759678\n",
       "house_style_2Story     5982.290005\n",
       "dtype: float64"
      ]
     },
     "execution_count": 16,
     "metadata": {},
     "output_type": "execute_result"
    }
   ],
   "source": [
    "# sorted house style coefficients\n",
    "coef[coef.index.str.contains('house_style')].sort_values(ascending = False)"
   ]
  },
  {
   "cell_type": "code",
   "execution_count": 17,
   "id": "38bd7f00-2e09-44ae-a8e8-24ffc9075284",
   "metadata": {},
   "outputs": [
    {
     "data": {
      "text/plain": [
       "sq_ft               83.328516\n",
       "bsmt_weighted_sf    56.755196\n",
       "dtype: float64"
      ]
     },
     "execution_count": 17,
     "metadata": {},
     "output_type": "execute_result"
    }
   ],
   "source": [
    "coef[:2].sort_values(ascending = False)"
   ]
  },
  {
   "cell_type": "markdown",
   "id": "3b9df7c9-ea19-4dd4-a57f-035a1d67c66f",
   "metadata": {},
   "source": [
    "Of course these inferences only hold if our model meets necessary criterion."
   ]
  },
  {
   "cell_type": "markdown",
   "id": "7e37cc2a-7c45-4adb-8fc6-2327999482b8",
   "metadata": {},
   "source": [
    "#### Line Assumptions"
   ]
  },
  {
   "cell_type": "markdown",
   "id": "49e91a23-5d21-46c5-917f-c75b357595d4",
   "metadata": {},
   "source": [
    "We have already demonstrated linearity and multicollinearity of this model by inspecting correlation and VIF scores. It is fair to assume that the variables selected are independent.\n",
    "\n",
    "What is left to check is the distribution of the residuals. That is, are the residuals normally distributed and do they form any patterns when compared against the true prices."
   ]
  },
  {
   "cell_type": "code",
   "execution_count": 18,
   "id": "b50a9d7a-96e4-4013-9e0a-a041998d0bba",
   "metadata": {},
   "outputs": [],
   "source": [
    "resids = y_train - yt_pred"
   ]
  },
  {
   "cell_type": "code",
   "execution_count": 19,
   "id": "769800ee-fc79-43e1-b5a4-3c73da9ab6c1",
   "metadata": {},
   "outputs": [
    {
     "data": {
      "image/png": "[encoded data removed]",
      "text/plain": [
       "<Figure size 432x288 with 1 Axes>"
      ]
     },
     "metadata": {
      "needs_background": "light"
     },
     "output_type": "display_data"
    }
   ],
   "source": [
    "plt.hist(resids);"
   ]
  },
  {
   "cell_type": "code",
   "execution_count": 20,
   "id": "37ed2c79-29fe-4d8b-a366-fe4c5bd8f82b",
   "metadata": {},
   "outputs": [
    {
     "data": {
      "image/png": "[encoded data removed]",
      "text/plain": [
       "<Figure size 432x288 with 1 Axes>"
      ]
     },
     "metadata": {
      "needs_background": "light"
     },
     "output_type": "display_data"
    }
   ],
   "source": [
    "plt.scatter(y_train, resids);"
   ]
  },
  {
   "cell_type": "markdown",
   "id": "7693ca5c-79e9-4a05-85ae-78b045e0f194",
   "metadata": {},
   "source": [
    "Although not perfectly normal, the distribution of residual values do resemble a normal distribution. The scatterplot of y-values vs residuals does show a little bit of clustering, but it has a generally good shape for residual values. Together this means that the inferences above are fairly trustworthy."
   ]
  },
  {
   "cell_type": "markdown",
   "id": "71ec8d4d-86ac-4207-b385-963783d4adb8",
   "metadata": {},
   "source": [
    "---\n",
    "## Take Two"
   ]
  },
  {
   "cell_type": "markdown",
   "id": "29f133bc-d115-4c2b-85ff-dde853ffd7ad",
   "metadata": {},
   "source": [
    "When we selected the features for our first linear model, one of our primary goals was to keep the VIF score low. During that process, we ruled out several features that seemed somewhat helpful for predicting the `saleprice` because they pushed the VIF scores a little too high. Let us take a look at some of these features that did not dramatically increase VIF scores, namely:\n",
    "\n",
    "- `garage_area`\n",
    "- `wood_deck_sf`\n",
    "- `open_porch_sf`\n",
    "- `fireplace_weighted_sf`\n",
    "\n",
    "The last three features do not seem the most helpful, so we may be modeling a bit more moise with their inclusion. Let us continue and see the results anyways."
   ]
  },
  {
   "cell_type": "code",
   "execution_count": 21,
   "id": "8aa7ac50-20d0-4d90-8f33-540a6f2a611b",
   "metadata": {},
   "outputs": [
    {
     "data": {
      "text/html": [
       "<div>\n",
       "<style scoped>\n",
       "    .dataframe tbody tr th:only-of-type {\n",
       "        vertical-align: middle;\n",
       "    }\n",
       "\n",
       "    .dataframe tbody tr th {\n",
       "        vertical-align: top;\n",
       "    }\n",
       "\n",
       "    .dataframe thead th {\n",
       "        text-align: right;\n",
       "    }\n",
       "</style>\n",
       "<table border=\"1\" class=\"dataframe\">\n",
       "  <thead>\n",
       "    <tr style=\"text-align: right;\">\n",
       "      <th></th>\n",
       "      <th>vif</th>\n",
       "    </tr>\n",
       "  </thead>\n",
       "  <tbody>\n",
       "    <tr>\n",
       "      <th>sq_ft</th>\n",
       "      <td>8.865599</td>\n",
       "    </tr>\n",
       "    <tr>\n",
       "      <th>garage_area</th>\n",
       "      <td>7.384474</td>\n",
       "    </tr>\n",
       "    <tr>\n",
       "      <th>fireplaces_weighted</th>\n",
       "      <td>2.273468</td>\n",
       "    </tr>\n",
       "    <tr>\n",
       "      <th>wood_deck_sf</th>\n",
       "      <td>1.737158</td>\n",
       "    </tr>\n",
       "    <tr>\n",
       "      <th>open_porch_sf</th>\n",
       "      <td>1.691571</td>\n",
       "    </tr>\n",
       "  </tbody>\n",
       "</table>\n",
       "</div>"
      ],
      "text/plain": [
       "                          vif\n",
       "sq_ft                8.865599\n",
       "garage_area          7.384474\n",
       "fireplaces_weighted  2.273468\n",
       "wood_deck_sf         1.737158\n",
       "open_porch_sf        1.691571"
      ]
     },
     "execution_count": 21,
     "metadata": {},
     "output_type": "execute_result"
    }
   ],
   "source": [
    "# the VIF scores are higher, but not extraordinarily high\n",
    "vif_df(house[['sq_ft', 'garage_area', 'wood_deck_sf', 'open_porch_sf', 'fireplaces_weighted']])"
   ]
  },
  {
   "cell_type": "markdown",
   "id": "64e8dec7-f975-4e85-9a10-d7ce95bfd4ab",
   "metadata": {},
   "source": [
    "Now we just repeat our model building steps, nearly verbatum."
   ]
  },
  {
   "cell_type": "code",
   "execution_count": 22,
   "id": "f6c1330b-bbd9-48b0-b260-f5ffb164081b",
   "metadata": {},
   "outputs": [],
   "source": [
    "# select features\n",
    "numeric_features = ['sq_ft', 'garage_area', 'wood_deck_sf', 'open_porch_sf', 'fireplaces_weighted']\n",
    "categoric_features = ['neighborhood', 'house_style']\n",
    "features = numeric_features + categoric_features"
   ]
  },
  {
   "cell_type": "code",
   "execution_count": 23,
   "id": "b3a014d7-e4a7-4c90-b628-c0f6b7ce8bfe",
   "metadata": {},
   "outputs": [],
   "source": [
    "# get dummies on train and test datasets\n",
    "# and make columns agree for modeling\n",
    "train_dummy, test_dummy = dummify_train_test(house[features], numeric_features, categ_features)"
   ]
  },
  {
   "cell_type": "code",
   "execution_count": 24,
   "id": "1f962738-be91-488d-a1bc-85b0f38f3b12",
   "metadata": {},
   "outputs": [],
   "source": [
    "# split training data into train and validation set\n",
    "X_train, X_val, y_train, y_val = train_test_split(train_dummy, y, test_size = 0.3, random_state = 6)"
   ]
  },
  {
   "cell_type": "code",
   "execution_count": 25,
   "id": "91c249e2-31fb-42d4-9400-13fc9071d26b",
   "metadata": {},
   "outputs": [],
   "source": [
    "# fit a linear regression model\n",
    "lr = LinearRegression()\n",
    "lr.fit(X_train, y_train)\n",
    "\n",
    "# generate prediction sale prices on our train (yt_pred) and validation (yv_pred)\n",
    "yt_pred = lr.predict(X_train)\n",
    "yv_pred = lr.predict(X_val)"
   ]
  },
  {
   "cell_type": "code",
   "execution_count": 26,
   "id": "b0ea630f-dd45-4008-bc37-43a0014c99e0",
   "metadata": {},
   "outputs": [
    {
     "name": "stdout",
     "output_type": "stream",
     "text": [
      "Train Cross Validation: 0.7995849695216942\n",
      "\n",
      "Train R squared: 0.8182537391891903\n",
      "Train RMSE: 34044.136281894214\n",
      "\n",
      "Validation R squared: 0.8000526626067064\n",
      "Validation RMSE: 33906.77939815086\n"
     ]
    }
   ],
   "source": [
    "# print scores for our train split\n",
    "print(f'Train Cross Validation: {cross_val_score(lr, X_train, y_train, cv = 5).mean()}\\n')\n",
    "print(f'Train R squared: {lr.score(X_train, y_train)}')\n",
    "print(f'Train RMSE: {metrics.mean_squared_error(y_train, yt_pred, squared = False)}\\n')\n",
    "\n",
    "# print scores for our validation split\n",
    "print(f'Validation R squared: {lr.score(X_val, y_val)}')\n",
    "print(f'Validation RMSE: {metrics.mean_squared_error(y_val, yv_pred, squared = False)}')"
   ]
  },
  {
   "cell_type": "markdown",
   "id": "08fb1a2d-2ecc-4b9a-8a91-70a04e5c88df",
   "metadata": {},
   "source": [
    "We can see that the model score slightly decreases here, even with the additional features. This suggests the new features likely did not contribute much to the models ability to predict `saleprice`. This is unsurprising as it is hard to imagine paying much more money based on wood deck area, open porch area, or number of fireplaces. Let us remove these features in our next iteration and consider other choices.\n",
    "\n",
    "---\n",
    "\n",
    "## Take Three\n",
    "\n",
    "Above we saw very little influence from including several features (wood deck area, open porch area, or number of fireplaces) with low VIF scores. Unfortunately, these features also had low correlation to `saleprice`"
   ]
  },
  {
   "cell_type": "code",
   "execution_count": 27,
   "id": "890c470d-7993-42f7-b2eb-9c3ca41ff17c",
   "metadata": {},
   "outputs": [
    {
     "data": {
      "image/png": "[encoded data removed]",
      "text/plain": [
       "<Figure size 216x720 with 2 Axes>"
      ]
     },
     "metadata": {
      "needs_background": "light"
     },
     "output_type": "display_data"
    }
   ],
   "source": [
    "plt.figure(figsize = (3, 10))\n",
    "corr = house.corr()[['saleprice']].sort_values(by = 'saleprice', ascending = False)\n",
    "sns.heatmap(corr, cmap = 'RdYlGn', annot = True);"
   ]
  },
  {
   "cell_type": "markdown",
   "id": "1db1c27a-3736-4692-8af5-a6b2626e4c08",
   "metadata": {},
   "source": [
    "On the other hand, `garage_area` does have higher correlation to `saleprice`. Although we included it in our previous model that performed slightly worse, it may be worth keeping in our next attempt.\n",
    "\n",
    "This time, let us also include `bsmt_weighted_sf` as it also has a higher correlation to `saleprice`. We will also include `kitchen_qual`, but as a categorical variable to dummify. This is probably more fitting than treating it numerically since a kitchen quality rating of 4 is not necessarily twice as good as a rating of 2, for example.\n"
   ]
  },
  {
   "cell_type": "code",
   "execution_count": 28,
   "id": "226bf53f-11ac-485c-8c7a-2a0714181490",
   "metadata": {},
   "outputs": [
    {
     "data": {
      "text/html": [
       "<div>\n",
       "<style scoped>\n",
       "    .dataframe tbody tr th:only-of-type {\n",
       "        vertical-align: middle;\n",
       "    }\n",
       "\n",
       "    .dataframe tbody tr th {\n",
       "        vertical-align: top;\n",
       "    }\n",
       "\n",
       "    .dataframe thead th {\n",
       "        text-align: right;\n",
       "    }\n",
       "</style>\n",
       "<table border=\"1\" class=\"dataframe\">\n",
       "  <thead>\n",
       "    <tr style=\"text-align: right;\">\n",
       "      <th></th>\n",
       "      <th>vif</th>\n",
       "    </tr>\n",
       "  </thead>\n",
       "  <tbody>\n",
       "    <tr>\n",
       "      <th>garage_area</th>\n",
       "      <td>8.520796</td>\n",
       "    </tr>\n",
       "    <tr>\n",
       "      <th>sq_ft</th>\n",
       "      <td>8.348290</td>\n",
       "    </tr>\n",
       "    <tr>\n",
       "      <th>bsmt_weighted_sf</th>\n",
       "      <td>5.606644</td>\n",
       "    </tr>\n",
       "  </tbody>\n",
       "</table>\n",
       "</div>"
      ],
      "text/plain": [
       "                       vif\n",
       "garage_area       8.520796\n",
       "sq_ft             8.348290\n",
       "bsmt_weighted_sf  5.606644"
      ]
     },
     "execution_count": 28,
     "metadata": {},
     "output_type": "execute_result"
    }
   ],
   "source": [
    "vif_df(house[['sq_ft', 'garage_area', 'bsmt_weighted_sf']])"
   ]
  },
  {
   "cell_type": "markdown",
   "id": "983ab9ec-e2b4-44a9-8451-03e7d2d0a38b",
   "metadata": {},
   "source": [
    "One thing to note is that the VIF scores are a little high with these numeric features. We do not have many choices left for improving our model, so let us try these for now as see if we can obtain better predictions despite these VIF scores.\n",
    "\n",
    "Now we build and score our model."
   ]
  },
  {
   "cell_type": "code",
   "execution_count": 29,
   "id": "f62f6f4c-19a3-45c9-a774-43b1d41d8328",
   "metadata": {},
   "outputs": [],
   "source": [
    "# select features\n",
    "numeric_features = ['sq_ft', 'garage_area', 'bsmt_weighted_sf']\n",
    "categ_features = ['neighborhood', 'house_style', 'kitchen_qual']\n",
    "features = numeric_features + categ_features"
   ]
  },
  {
   "cell_type": "code",
   "execution_count": 30,
   "id": "b27d72ef-c29a-48d3-9e5d-c9cd25b7d34f",
   "metadata": {},
   "outputs": [],
   "source": [
    "# get dummies on train and test datasets\n",
    "# and make columns agree for modeling\n",
    "train_dummy, test_dummy = dummify_train_test(house[features], numeric_features, categ_features)"
   ]
  },
  {
   "cell_type": "code",
   "execution_count": 31,
   "id": "3f71f90e-95ad-4d3d-842f-9c066987f82d",
   "metadata": {},
   "outputs": [],
   "source": [
    "# split training data into train and validation set\n",
    "X_train, X_val, y_train, y_val = train_test_split(train_dummy, y, test_size = 0.3, random_state = 6)"
   ]
  },
  {
   "cell_type": "code",
   "execution_count": 32,
   "id": "8f24625e-b4c1-4e78-abb6-fd1127d1857a",
   "metadata": {},
   "outputs": [],
   "source": [
    "# fit a linear regression model\n",
    "lr = LinearRegression()\n",
    "lr.fit(X_train, y_train)\n",
    "\n",
    "# generate prediction sale prices on our train (yt_pred) and validation (yv_pred)\n",
    "yt_pred = lr.predict(X_train)\n",
    "yv_pred = lr.predict(X_val)"
   ]
  },
  {
   "cell_type": "code",
   "execution_count": 33,
   "id": "5368273b-0d31-4d6b-a7e9-8a30e357f6a6",
   "metadata": {},
   "outputs": [
    {
     "name": "stdout",
     "output_type": "stream",
     "text": [
      "Train Cross Validation: 0.8534570872514353\n",
      "\n",
      "Train R squared: 0.8676098959792825\n",
      "Train RMSE: 29056.10122131043\n",
      "\n",
      "Validation R squared: 0.8564313103254987\n",
      "Validation RMSE: 28731.519610336578\n"
     ]
    }
   ],
   "source": [
    "# print scores for our train split\n",
    "print(f'Train Cross Validation: {cross_val_score(lr, X_train, y_train, cv = 5).mean()}\\n')\n",
    "print(f'Train R squared: {lr.score(X_train, y_train)}')\n",
    "print(f'Train RMSE: {metrics.mean_squared_error(y_train, yt_pred, squared = False)}\\n')\n",
    "\n",
    "# print scores for our validation split\n",
    "print(f'Validation R squared: {lr.score(X_val, y_val)}')\n",
    "print(f'Validation RMSE: {metrics.mean_squared_error(y_val, yv_pred, squared = False)}')"
   ]
  },
  {
   "cell_type": "markdown",
   "id": "959377ef-4741-4a21-a4ab-70635211f2ff",
   "metadata": {},
   "source": [
    "With the inclusion of `garage_area`, `bsmt_weighted_sf` and `kitchen_qual`, the R squared scores are notably higher. Since we included `garage_area` in the previous model and did not see much of an increase in performance, it feels safe to say the higher scores are likely attributed to `bsmt_weighted_sf` and `kitchen_qual`.\n",
    "\n",
    "Another thing to note is that our R squared scores are still very close to one another. This suggests that the model is performed comparably on unseen data. As is, this model would be fit for production.\n",
    "\n",
    "Let us continue exploring models on additional features."
   ]
  },
  {
   "cell_type": "markdown",
   "id": "b7194474-cf52-47c6-9504-aa757d1416ba",
   "metadata": {},
   "source": [
    "---\n",
    "\n",
    "## Take Four\n",
    "\n",
    "So far we have tried to keep the number of features low to avoid overfitting our models to the training data. This is especially important because we want our model to do well on predicting with unseen data, and overfitting can make our predictions worse.\n",
    "\n",
    "Two models that are used to combat overfitting are Ridge and Lasso, which we plan to implement later. Let us add some more features we were on the cusp of including earlier. If this model is overfit, we can reduce this overfitting with Ridge and Lasso aftewards."
   ]
  },
  {
   "cell_type": "code",
   "execution_count": 53,
   "id": "ac162237-c3fb-4a43-b06a-0427f6653694",
   "metadata": {},
   "outputs": [],
   "source": [
    "# select features\n",
    "numeric_features = ['sq_ft', 'garage_area', 'bsmt_weighted_sf', 'year_built']\n",
    "categ_features = ['neighborhood', 'house_style', 'kitchen_qual', 'qual_cond', 'exter_qual_cond']\n",
    "features = numeric_features + categ_features"
   ]
  },
  {
   "cell_type": "code",
   "execution_count": 54,
   "id": "08291cfc-4c2d-49e2-8177-01bdbdec14ac",
   "metadata": {},
   "outputs": [],
   "source": [
    "# get dummies on train and test datasets\n",
    "# and make columns agree for modeling\n",
    "train_dummy, test_dummy = dummify_train_test(house[features], numeric_features, categ_features)"
   ]
  },
  {
   "cell_type": "code",
   "execution_count": 55,
   "id": "08a51cfd-317b-4215-b1e0-798eacabaf9e",
   "metadata": {},
   "outputs": [],
   "source": [
    "# split training data into train and validation set\n",
    "X_train, X_val, y_train, y_val = train_test_split(train_dummy, y, test_size = 0.3, random_state = 6)"
   ]
  },
  {
   "cell_type": "code",
   "execution_count": 56,
   "id": "acce0697-bd55-4880-9546-992ebad0c454",
   "metadata": {},
   "outputs": [],
   "source": [
    "# fit a linear regression model\n",
    "lr = LinearRegression()\n",
    "lr.fit(X_train, y_train)\n",
    "\n",
    "# generate prediction sale prices on our train (yt_pred) and validation (yv_pred)\n",
    "yt_pred = lr.predict(X_train)\n",
    "yv_pred = lr.predict(X_val)"
   ]
  },
  {
   "cell_type": "code",
   "execution_count": 57,
   "id": "62a77c57-d5b1-4514-a666-3cd1fa818c02",
   "metadata": {},
   "outputs": [
    {
     "name": "stdout",
     "output_type": "stream",
     "text": [
      "Train Cross Validation: 0.8904960587650373\n",
      "\n",
      "Train R squared: 0.914574607035238\n",
      "Train RMSE: 23340.119254589645\n",
      "\n",
      "Validation R squared: 0.887738294880876\n",
      "Validation RMSE: 25406.482714142392\n"
     ]
    }
   ],
   "source": [
    "# print scores for our train split\n",
    "print(f'Train Cross Validation: {cross_val_score(lr, X_train, y_train, cv = 5).mean()}\\n')\n",
    "print(f'Train R squared: {lr.score(X_train, y_train)}')\n",
    "print(f'Train RMSE: {metrics.mean_squared_error(y_train, yt_pred, squared = False)}\\n')\n",
    "\n",
    "# print scores for our validation split\n",
    "print(f'Validation R squared: {lr.score(X_val, y_val)}')\n",
    "print(f'Validation RMSE: {metrics.mean_squared_error(y_val, yv_pred, squared = False)}')"
   ]
  },
  {
   "cell_type": "markdown",
   "id": "6c42c955-c116-49be-a3c3-c44b3c855abc",
   "metadata": {},
   "source": [
    "We see a decent improvement in our R squared scores and our RMSE scores are lower. As expected our model performed a little worse on our validation set, suggesting it is a little overfit. This gives us a chance to test Ridge and Lasso on the same set of features and see if we get any improvement."
   ]
  },
  {
   "cell_type": "markdown",
   "id": "05fc7bc3-2ecd-4d60-890c-136378f9e091",
   "metadata": {},
   "source": [
    "---\n",
    "\n",
    "## Take Five Ridge\n"
   ]
  },
  {
   "cell_type": "markdown",
   "id": "4519eca2-d1fb-41de-88f3-992d21ea9bb0",
   "metadata": {},
   "source": [
    "We saw above that our model is slightly overfit. Let us see how Ridge performs on the same set of features. Because we are reusing the same features, we can reuse the same train-test-splits that were generated from those features."
   ]
  },
  {
   "cell_type": "code",
   "execution_count": 58,
   "id": "81e18083-bcf9-4f53-b9e9-30c25a21d24d",
   "metadata": {},
   "outputs": [],
   "source": [
    "# features already selected\n",
    "# do not need to recreate X_train, X_val, y_train, y_val\n",
    "\n",
    "# determining which choice of alpha is ideal\n",
    "# for our Ridge model's penalty term\n",
    "alphas = np.logspace(-5, 5, 200)\n",
    "ridge_cv = RidgeCV(alphas = alphas, cv = 5)"
   ]
  },
  {
   "cell_type": "markdown",
   "id": "49eb1e82-4ceb-4ccf-8369-930d3b5750a7",
   "metadata": {},
   "source": [
    "One thing we must do differently, though, Ridge must be fit to normalized data. Let us scale the train and validation datasets."
   ]
  },
  {
   "cell_type": "code",
   "execution_count": 59,
   "id": "fda05727-fc79-4119-9cad-5bc1ad8584f5",
   "metadata": {},
   "outputs": [],
   "source": [
    "ss = StandardScaler()\n",
    "\n",
    "# scaling our train and val sets for Ridge\n",
    "X_train_sc = ss.fit_transform(X_train)\n",
    "X_val_sc = ss.transform(X_val)"
   ]
  },
  {
   "cell_type": "markdown",
   "id": "216675f3-3a0d-4e47-a81a-911f97d10bf9",
   "metadata": {},
   "source": [
    "Below we fit our Ridge model and look at the alpha hyperparameter it selected for the best fit."
   ]
  },
  {
   "cell_type": "code",
   "execution_count": 60,
   "id": "a9442375-15b0-404d-8626-b1d82d65461e",
   "metadata": {},
   "outputs": [],
   "source": [
    "ridge_cv.fit(X_train_sc, y_train);"
   ]
  },
  {
   "cell_type": "code",
   "execution_count": 61,
   "id": "5f5a7c36-20b6-4319-91ac-0a04c61f8972",
   "metadata": {},
   "outputs": [
    {
     "data": {
      "text/plain": [
       "42.97004704320844"
      ]
     },
     "execution_count": 61,
     "metadata": {},
     "output_type": "execute_result"
    }
   ],
   "source": [
    "ridge_cv.alpha_"
   ]
  },
  {
   "cell_type": "markdown",
   "id": "73784ce1-f93d-42d4-a6ef-9c4753a840d4",
   "metadata": {},
   "source": [
    "Next we can save the `saleprice` predictions Ridge will make from each dataset."
   ]
  },
  {
   "cell_type": "code",
   "execution_count": 62,
   "id": "5c39741a-ab29-438e-8fb4-2bef73a206f2",
   "metadata": {},
   "outputs": [],
   "source": [
    "yt_pred = ridge_cv.predict(X_train_sc)\n",
    "yv_pred = ridge_cv.predict(X_val_sc)"
   ]
  },
  {
   "cell_type": "code",
   "execution_count": 63,
   "id": "2f754848-f6e3-4c94-b1db-45b46e05e7c0",
   "metadata": {},
   "outputs": [
    {
     "name": "stdout",
     "output_type": "stream",
     "text": [
      "Train Cross Validation: 0.8920015793096547\n",
      "\n",
      "Train R squared: 0.9140774915495748\n",
      "Train RMSE: 23407.932250947517\n",
      "\n",
      "Validation R squared: 0.8893470167997781\n",
      "Validation RMSE: 25223.787069644084\n"
     ]
    }
   ],
   "source": [
    "# to keep runtime short, we cross validate with a Ridge model with the ideal choice of alpha - instead of running ridge_cv over again\n",
    "\n",
    "# print train scores\n",
    "print(f'Train Cross Validation: {cross_val_score(Ridge(alpha = ridge_cv.alpha_), X_train_sc, y_train, cv = 5).mean()}\\n')\n",
    "print(f'Train R squared: {ridge_cv.score(X_train_sc, y_train)}')\n",
    "print(f'Train RMSE: {metrics.mean_squared_error(y_train, yt_pred, squared = False)}\\n')\n",
    "\n",
    "# print validation set scores\n",
    "print(f'Validation R squared: {ridge_cv.score(X_val_sc, y_val)}')\n",
    "print(f'Validation RMSE: {metrics.mean_squared_error(y_val, yv_pred, squared = False)}')"
   ]
  },
  {
   "cell_type": "markdown",
   "id": "1380c0f2-dbd8-4861-9f17-f93690237505",
   "metadata": {},
   "source": [
    "Unforunately, our Ridge model does not seem to boost performance relative to the previous linear regression."
   ]
  },
  {
   "cell_type": "markdown",
   "id": "ac44a9de-5139-42c0-a197-99b95a70cc2c",
   "metadata": {},
   "source": [
    "---\n",
    "\n",
    "## Lasso\n",
    "\n",
    "Let us now fit a Lasso model on the same set of features to see if this performs any better."
   ]
  },
  {
   "cell_type": "code",
   "execution_count": 64,
   "id": "4677fb96-4394-442b-af24-a6a642b6e776",
   "metadata": {},
   "outputs": [],
   "source": [
    "# features already selected\n",
    "# do not need to recreate X_train, X_val, y_train, y_val\n",
    "\n",
    "# determining which choice of alpha is ideal\n",
    "# for our Lasso model's penalty term\n",
    "alphas = np.logspace(-3, 5, 200)\n",
    "lasso_cv = LassoCV(alphas = alphas, cv = 5)"
   ]
  },
  {
   "cell_type": "markdown",
   "id": "1e57b6f1-f4e1-4424-8b95-cf90c82cb685",
   "metadata": {},
   "source": [
    "Below we fit our Lasso model to our training dataset and check the alpha hyperparameter it selected as ideal."
   ]
  },
  {
   "cell_type": "code",
   "execution_count": 65,
   "id": "747faa9d-8490-4e20-aaef-4f32e189f89f",
   "metadata": {},
   "outputs": [],
   "source": [
    "#X_train_sc is already scaled correctly for our Ridge model\n",
    "lasso_cv.fit(X_train_sc, y_train);"
   ]
  },
  {
   "cell_type": "code",
   "execution_count": 66,
   "id": "e5bb6faf-235f-4643-8d9e-92a87524705d",
   "metadata": {},
   "outputs": [
    {
     "data": {
      "text/plain": [
       "184.64249428955426"
      ]
     },
     "execution_count": 66,
     "metadata": {},
     "output_type": "execute_result"
    }
   ],
   "source": [
    "lasso_cv.alpha_"
   ]
  },
  {
   "cell_type": "markdown",
   "id": "5a8694b6-8917-4c2c-b604-106eeb0b91d8",
   "metadata": {},
   "source": [
    "This value is a little higher than it was for Ridge, which seems expected since the alpha coefficient in Ridge is on squared terms and for Lasso it is on absolute valued terms (more compensation required).\n",
    "\n",
    "Next we can save the `saleprice` predictions Lasso will make from each dataset."
   ]
  },
  {
   "cell_type": "code",
   "execution_count": 67,
   "id": "b3d6593e-7243-4980-812f-8f9ce9f035f9",
   "metadata": {},
   "outputs": [],
   "source": [
    "yt_pred = lasso_cv.predict(X_train_sc)\n",
    "yv_pred = lasso_cv.predict(X_val_sc)"
   ]
  },
  {
   "cell_type": "code",
   "execution_count": 68,
   "id": "8ef1801f-7b68-494d-a2bf-a968023f901c",
   "metadata": {},
   "outputs": [
    {
     "name": "stdout",
     "output_type": "stream",
     "text": [
      "Train Cross Validation: 0.89249108036683\n",
      "\n",
      "Train R squared: 0.9140774915495748\n",
      "Train RMSE: 23410.923805793936\n",
      "\n",
      "Validation R squared: 0.8893470167997781\n",
      "Validation RMSE: 25173.995930789133\n"
     ]
    }
   ],
   "source": [
    "# to keep runtime short, we cross validate with a Lasso model with the ideal choice of alpha - instead of running lasso_cv over again\n",
    "\n",
    "# print train scores\n",
    "print(f'Train Cross Validation: {cross_val_score(Lasso(alpha = lasso_cv.alpha_), X_train_sc, y_train, cv = 5).mean()}\\n')\n",
    "print(f'Train R squared: {ridge_cv.score(X_train_sc, y_train)}')\n",
    "print(f'Train RMSE: {metrics.mean_squared_error(y_train, yt_pred, squared = False)}\\n')\n",
    "\n",
    "# print validation scores\n",
    "print(f'Validation R squared: {ridge_cv.score(X_val_sc, y_val)}')\n",
    "print(f'Validation RMSE: {metrics.mean_squared_error(y_val, yv_pred, squared = False)}')"
   ]
  },
  {
   "cell_type": "markdown",
   "id": "42ffaacd-890a-470a-93af-e3d7f4c8d9dd",
   "metadata": {},
   "source": [
    "Like Ridge, our Lasso model does not perform noticeably better than the linear model on the same features. We may be able to feel a little more confident that our model is not as overfit with either of our Ridge or Lasso results, but that is about the only benefit we get in this case.\n",
    "\n",
    "One drawback is that we lose interpretability of our model. Since Ridge and Lasso only make sense to apply to scaled data, the coefficients derived from these models are in terms of unit changes to the normalized features. This is simply not clear.\n",
    "\n",
    "---\n",
    "\n",
    "## Kaggle Submission\n",
    "\n",
    "Lastly, this project includes one submission to Kaggle. Let us do this below."
   ]
  },
  {
   "cell_type": "code",
   "execution_count": 69,
   "id": "efc4f780-49f4-450b-bf1c-563dce4aad83",
   "metadata": {},
   "outputs": [],
   "source": [
    "#best model from this batch of code, this will be our kaggle submission\n",
    "#test_dummy was made in model 4's dummify function\n",
    "\n",
    "# lasso on performs on scaled data, must scale test data\n",
    "X_test_sc = ss.transform(test_dummy)\n",
    "kag_pred = lasso_cv.predict(X_test_sc)\n",
    "\n",
    "# function to generate submission file\n",
    "submit(kag_pred, 1) # kaggle submission scored 29,051"
   ]
  }
 ],
 "metadata": {
  "kernelspec": {
   "display_name": "Python 3 (ipykernel)",
   "language": "python",
   "name": "python3"
  },
  "language_info": {
   "codemirror_mode": {
    "name": "ipython",
    "version": 3
   },
   "file_extension": ".py",
   "mimetype": "text/x-python",
   "name": "python",
   "nbconvert_exporter": "python",
   "pygments_lexer": "ipython3",
   "version": "3.9.12"
  }
 },
 "nbformat": 4,
 "nbformat_minor": 5
}
