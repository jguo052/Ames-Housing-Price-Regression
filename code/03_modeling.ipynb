{
 "cells": [
  {
   "cell_type": "code",
   "execution_count": 76,
   "id": "5ed768aa-a03e-4e56-8b85-d568b82f2ce1",
   "metadata": {},
   "outputs": [],
   "source": [
    "# interpret model scores"
   ]
  },
  {
   "cell_type": "markdown",
   "id": "1d286789-a0cb-480a-8c33-45383c4d8bf8",
   "metadata": {
    "tags": []
   },
   "source": [
    "# Modeling Our Data\n",
    "\n",
    "---\n",
    "\n",
    "## Imports and Functions\n",
    "\n",
    "---"
   ]
  },
  {
   "cell_type": "code",
   "execution_count": 4,
   "id": "7366df9a-0b5f-4b94-a6f7-2f9901e626f0",
   "metadata": {},
   "outputs": [],
   "source": [
    "import numpy as np\n",
    "import pandas as pd\n",
    "import matplotlib.pyplot as plt\n",
    "import seaborn as sns\n",
    "\n",
    "# to remove\n",
    "from statsmodels.stats.outliers_influence import variance_inflation_factor\n",
    "from sklearn.model_selection import train_test_split, cross_val_score\n",
    "from sklearn.preprocessing import StandardScaler\n",
    "from sklearn.linear_model import LinearRegression, Ridge, RidgeCV, Lasso, LassoCV\n",
    "from sklearn import metrics\n",
    "from sklearn.model_selection import GridSearchCV"
   ]
  },
  {
   "cell_type": "code",
   "execution_count": 14,
   "id": "1f35e882-c421-43de-a6b0-e5ce824f538f",
   "metadata": {},
   "outputs": [],
   "source": [
    "def qual_to_num(data, feature):\n",
    "    qual_conversion = {'Ex': 5, 'Gd': 4, 'TA': 3, 'Fa': 2, 'Po': 1, 'NA': 0, np.nan: 0}\n",
    "    \n",
    "    data[feature] = data[feature].apply(lambda x: qual_conversion[x])\n",
    "    \n",
    "    return data\n",
    "\n",
    "\n",
    "def vif_df(df):\n",
    "    corr_features = df.columns\n",
    "    vif_values = [variance_inflation_factor(df.values, i) for i in range(len(corr_features))]\n",
    "    \n",
    "    vif = pd.DataFrame(vif_values,\n",
    "                   index = corr_features,\n",
    "                   columns = ['vif']).sort_values(by = 'vif', ascending = False)\n",
    "    \n",
    "    return vif\n",
    "\n",
    "\n",
    "def setup_test():\n",
    "    test_data = pd.read_csv('../datasets/test.csv')\n",
    "    test_features = ['MS Zoning', 'Lot Area', 'Land Contour', 'Land Slope', 'Neighborhood', 'Condition 1',\n",
    "            'Bldg Type', 'House Style', 'Overall Qual', 'Overall Cond', 'Year Built', 'Year Remod/Add',\n",
    "           'Mas Vnr Type', 'Exter Qual', 'Exter Cond', 'Bsmt Qual', 'Bsmt Cond',\n",
    "           'Garage Area', 'Wood Deck SF', 'Open Porch SF', 'Kitchen Qual', 'Bedroom AbvGr',\n",
    "           'Full Bath', 'Half Bath', 'Fireplaces', 'Fireplace Qu', 'BsmtFin SF 1', 'Bsmt Unf SF', '1st Flr SF', '2nd Flr SF', 'Sale Type',]\n",
    "    \n",
    "    \n",
    "    test_data = test_data[test_features]\n",
    "    test_data.columns = [col.lower().replace(' ','_').replace('/','_') for col in test_data.columns]\n",
    "    \n",
    "    \n",
    "    # converts descriptive rating to numerical\n",
    "    test_data = qual_to_num(test_data, 'bsmt_qual')\n",
    "    test_data = qual_to_num(test_data, 'bsmt_cond')\n",
    "    test_data = qual_to_num(test_data, 'kitchen_qual')\n",
    "    test_data = qual_to_num(test_data, 'exter_qual')\n",
    "    test_data = qual_to_num(test_data, 'exter_cond')\n",
    "    test_data = qual_to_num(test_data, 'fireplace_qu')\n",
    "    \n",
    "    # combines basment quality and condition ratings via multiplication\n",
    "    test_data['bsmt_qual_cond'] = test_data['bsmt_qual'] * test_data['bsmt_cond']\n",
    "    test_data.drop(columns = ['bsmt_qual', 'bsmt_cond'], inplace = True)\n",
    "    \n",
    "    # combines overall quality and condition into one column via multiplication\n",
    "    test_data['qual_cond'] = test_data['overall_qual'] * test_data['overall_cond']\n",
    "    test_data.drop(columns = ['overall_qual', 'overall_cond'], inplace = True)\n",
    "\n",
    "    # combines exterior quality and condition into one column via multiplication\n",
    "    test_data['exter_qual_cond'] = test_data['exter_qual'] * test_data['exter_cond']\n",
    "    test_data.drop(columns = ['exter_qual', 'exter_cond'], inplace = True)\n",
    "\n",
    "    # combines fireplace count and quality rating via multiplication\n",
    "    test_data['fireplaces_weighted'] = test_data['fireplaces'] * test_data['fireplace_qu']\n",
    "    test_data.drop(columns = ['fireplaces', 'fireplace_qu'], inplace = True)\n",
    "    \n",
    "    # adds square feet (SF) measurements with weights:\n",
    "    # 1*(Finished SF) + 0.5(Unfinished SF)\n",
    "    test_data['bsmt_weighted_sf'] = test_data['bsmtfin_sf_1'] + 0.5*test_data['bsmt_unf_sf']\n",
    "    test_data.drop(columns = ['bsmtfin_sf_1', 'bsmt_unf_sf'], inplace = True)\n",
    "    \n",
    "    # combines full bath and half bath into one column\n",
    "    test_data['bath'] = test_data['full_bath'] + 0.5*test_data['half_bath']\n",
    "    test_data.drop(columns = ['full_bath', 'half_bath'], inplace = True)\n",
    "    \n",
    "    #combines 1st floor and 2nd floor square feet areas\n",
    "    test_data['sq_ft'] = test_data['1st_flr_sf'] + test_data['2nd_flr_sf']\n",
    "    test_data.drop(columns = ['1st_flr_sf', '2nd_flr_sf'], inplace = True)\n",
    "    \n",
    "    test_data.loc[test_data['mas_vnr_type'].isna(), 'mas_vnr_type'] = 'None'\n",
    "    \n",
    "    return test_data\n",
    "\n",
    "\n",
    "def dummify_train_test(train, numeric_cols, categ_cols):\n",
    "    \n",
    "    test = setup_test()\n",
    "    features = numeric_cols + categ_cols\n",
    "    \n",
    "    train_with_dummies = pd.get_dummies(train[features], columns = categ_cols, drop_first = True)\n",
    "    test_with_dummies = pd.get_dummies(test[features], columns = categ_cols, drop_first = True)\n",
    "    \n",
    "    # save dummy column names from both train and test to a set\n",
    "    both_columns_set = set(train_with_dummies.columns).union(set(test_with_dummies.columns))\n",
    "\n",
    "    # for any column names not in set add column with 0s\n",
    "    for col in both_columns_set:\n",
    "        if col not in train_with_dummies.columns:\n",
    "            train_with_dummies[col] = 0\n",
    "        if col not in test_with_dummies.columns:\n",
    "            test_with_dummies[col] = 0\n",
    "            \n",
    "    column_order = train_with_dummies.columns\n",
    "    test_with_dummies = test_with_dummies[column_order]\n",
    "    \n",
    "    return train_with_dummies, test_with_dummies\n",
    "\n",
    "\n",
    "def submit(kag_preds, attempt_num):\n",
    "    raw_house_test = pd.read_csv('../datasets/test.csv')\n",
    "    kag_sub = {'Id': raw_house_test['Id'], 'SalePrice': kag_preds}\n",
    "    kag_sub = pd.DataFrame(kag_sub)\n",
    "    \n",
    "    file_path = '../datasets/submission' + str(attempt_num) + '_john.csv'\n",
    "    kag_sub.to_csv(file_path, index = False)"
   ]
  },
  {
   "cell_type": "markdown",
   "id": "8e8bf3e1-62d8-429e-bce2-24fd7fd5ff67",
   "metadata": {},
   "source": [
    "---"
   ]
  },
  {
   "cell_type": "markdown",
   "id": "a2c38b8d-bf70-420b-b7c8-9d5ea8b47453",
   "metadata": {
    "tags": []
   },
   "source": [
    "## Baseline Model\n",
    "\n",
    "Before we try to create models to predict the saleprice we should have some idea of a baseline score. For linear regressions, the baseline score is the mean."
   ]
  },
  {
   "cell_type": "code",
   "execution_count": 15,
   "id": "720de7b6-55c5-4adb-a779-a26dbd4f060b",
   "metadata": {},
   "outputs": [],
   "source": [
    "house = pd.read_csv('../datasets/cleaned_train.csv')"
   ]
  },
  {
   "cell_type": "code",
   "execution_count": 16,
   "id": "23b77e49-57f3-4985-bae2-b184e7f34ece",
   "metadata": {},
   "outputs": [],
   "source": [
    "y = house['saleprice']"
   ]
  },
  {
   "cell_type": "code",
   "execution_count": 17,
   "id": "8524db7e-bd46-4476-a557-e7ddfbc9bfb5",
   "metadata": {},
   "outputs": [],
   "source": [
    "# creates an array with shape of y and filled with the mean\n",
    "baseline_model = np.full_like(y, y.mean())"
   ]
  },
  {
   "cell_type": "code",
   "execution_count": 34,
   "id": "56f40504-b008-4c79-a40b-678b2b324e26",
   "metadata": {},
   "outputs": [
    {
     "name": "stdout",
     "output_type": "stream",
     "text": [
      "R squared: 0.0\n",
      "RMSE: 78668.04911315686\n"
     ]
    }
   ],
   "source": [
    "print(f'R squared: {metrics.r2_score(baseline_model, y)}')\n",
    "print(f'RMSE: {metrics.mean_squared_error(baseline_model, y, squared = False)}')"
   ]
  },
  {
   "cell_type": "markdown",
   "id": "048e30a0-80c8-442c-9db8-8369241c1d18",
   "metadata": {},
   "source": [
    "An R squared score of 0 is to be expected because by definition, R squared scores compare a model's performance against the mean. Our main metric for this project is Root Mean Squared Error (RMSE), which for the baseline model is 74,725. This means that if create a model whose RMSE score is lower, it would have been better to just guess the saleprice using the mean of the sale prices we already know."
   ]
  },
  {
   "cell_type": "markdown",
   "id": "e405ba06-cb0f-4b2d-8a50-30f2e7d4a889",
   "metadata": {},
   "source": [
    "---\n",
    "## Take One"
   ]
  },
  {
   "cell_type": "code",
   "execution_count": 19,
   "id": "c9139121-54ac-4e1d-9c35-4b3312d14ac0",
   "metadata": {},
   "outputs": [],
   "source": [
    "numeric_features = ['sq_ft', 'bsmt_weighted_sf']\n",
    "categ_features = ['neighborhood', 'house_style']\n",
    "features = numeric_features + categ_features"
   ]
  },
  {
   "cell_type": "code",
   "execution_count": 20,
   "id": "5ba1681b-fad0-4be0-aa1e-5d6d2999874a",
   "metadata": {},
   "outputs": [],
   "source": [
    "train_dummy, test_dummy = dummify_train_test(house[features], numeric_features, categ_features)"
   ]
  },
  {
   "cell_type": "code",
   "execution_count": 21,
   "id": "268b65b5-7eb9-401b-936b-e1e1da642cdf",
   "metadata": {},
   "outputs": [],
   "source": [
    "X_train, X_val, y_train, y_val = train_test_split(train_dummy, y, test_size = 0.3, random_state = 6)"
   ]
  },
  {
   "cell_type": "code",
   "execution_count": 22,
   "id": "2e3958a0-c5b8-45ee-9edc-b5f960483130",
   "metadata": {},
   "outputs": [],
   "source": [
    "lr = LinearRegression()\n",
    "\n",
    "lr.fit(X_train, y_train)\n",
    "yt_pred = lr.predict(X_train)\n",
    "yv_pred = lr.predict(X_val)"
   ]
  },
  {
   "cell_type": "markdown",
   "id": "3c1444fa-750a-4f86-9c8a-021a9b0d06b2",
   "metadata": {},
   "source": [
    "#### Model Scores"
   ]
  },
  {
   "cell_type": "code",
   "execution_count": 40,
   "id": "486c7c63-b98b-4739-8b75-4fadfafa112f",
   "metadata": {},
   "outputs": [
    {
     "name": "stdout",
     "output_type": "stream",
     "text": [
      "Train Cross Validation: 0.8067105019900911\n",
      "\n",
      "Train R squared: 0.8251691128036235\n",
      "Train RMSE: 33390.172199297194\n",
      "\n",
      "Validation R squared: 0.812873677471225\n",
      "Validation RMSE: 32801.686192826564\n"
     ]
    }
   ],
   "source": [
    "print(f'Train Cross Validation: {cross_val_score(lr, X_train, y_train, cv = 5).mean()}\\n')\n",
    "print(f'Train R squared: {lr.score(X_train, y_train)}')\n",
    "print(f'Train RMSE: {metrics.mean_squared_error(y_train, yt_pred, squared = False)}\\n')\n",
    "\n",
    "print(f'Validation R squared: {lr.score(X_val, y_val)}')\n",
    "print(f'Validation RMSE: {metrics.mean_squared_error(y_val, yv_pred, squared = False)}')\n"
   ]
  },
  {
   "cell_type": "code",
   "execution_count": 24,
   "id": "c6dcb05b-7521-479d-84a8-b44c364f7bd8",
   "metadata": {},
   "outputs": [],
   "source": [
    "#interpret scores - compare to baseline model"
   ]
  },
  {
   "cell_type": "markdown",
   "id": "220a4016-c321-4d89-8bb7-7323fe95bc96",
   "metadata": {},
   "source": [
    "R squared measures the percent of variability in the `saleprice` values that can be predicted by our choice of features. This first model's score of 82.5% suggests that `sq_ft`, `bsmt_weighted_sf`, `neighborhood`, and `house_style` collectively are strong indicators of a home's sale price in Ames, Iowa.\n",
    "\n",
    "The fact that the model performed very closely on the validation data (in terms of both R squared and cross validation scores) informs us that our model does roughly as well on unseen data as with our training data. This is a great sign!\n",
    "\n",
    "As for the RMSE score, it is an error score, so the lower the score value, the better. The RMSE scores of 33,390 and 32,801 both seem respectably low."
   ]
  },
  {
   "cell_type": "markdown",
   "id": "88c0816b-4f8e-421d-9c28-6f73c3064efb",
   "metadata": {},
   "source": [
    "#### Model Inference"
   ]
  },
  {
   "cell_type": "code",
   "execution_count": 25,
   "id": "f8cbb79e-bbb6-420f-99b7-e29e1e46eb69",
   "metadata": {},
   "outputs": [
    {
     "data": {
      "text/plain": [
       "{'house_style_1.5Fin', 'neighborhood_Blmngtn'}"
      ]
     },
     "execution_count": 25,
     "metadata": {},
     "output_type": "execute_result"
    }
   ],
   "source": [
    "# identifying columns get_dummies dropped\n",
    "no_drop_dummies = pd.get_dummies(house[features], columns = categ_features)\n",
    "set(no_drop_dummies.columns) - set(train_dummy)"
   ]
  },
  {
   "cell_type": "markdown",
   "id": "ff6d9630-1c46-4aa8-b510-d584deb526bd",
   "metadata": {},
   "source": [
    "We see that `1.5Fin` and `Blmngtn` were the baseline categories. This means that all of the coeficients express how much the home sale price changes compared to a one and a half story home in the Bloomington Heights neighborhood.\n",
    "\n",
    "For example, the largest neighborhood coefficient of 87,412 means that the sale price of a 1.5-story home in Green Hills is typically 87,412 dollars more expensive relative to a 1.5-story home in Bloomington Heights, if we hold all other variables constant. On the otherhard, the coefficient of -3,454 suggests that under the same assumptions, a home in Gilbert is 3,454 dollars less expensive than one in Bloomington Heights.\n",
    "\n",
    "The square feet coefficient of 83.32 means that for every additional square foot inside a home (not in the basement), the price of the home will increase by 83.32 dollars if we hold all else constant (again relative to a 1.5-story home in Bloomington Heights)."
   ]
  },
  {
   "cell_type": "code",
   "execution_count": 26,
   "id": "c579c395-3e03-4a31-b708-c8c7e46196f2",
   "metadata": {},
   "outputs": [],
   "source": [
    "# creating a list of model coefficients with labels\n",
    "coef = pd.Series(lr.coef_, index = train_dummy.columns)"
   ]
  },
  {
   "cell_type": "code",
   "execution_count": 27,
   "id": "ae6f44d2-3018-4f9c-a0c1-a51ef08e4841",
   "metadata": {},
   "outputs": [
    {
     "data": {
      "text/plain": [
       "neighborhood_GrnHill    87412.185188\n",
       "neighborhood_StoneBr    79242.193035\n",
       "neighborhood_NridgHt    64348.629130\n",
       "neighborhood_Somerst    25142.463073\n",
       "neighborhood_NoRidge    23729.045224\n",
       "neighborhood_Timber     16359.014516\n",
       "neighborhood_Veenker     5584.746526\n",
       "neighborhood_CollgCr     2086.327620\n",
       "neighborhood_Crawfor    -2712.311257\n",
       "neighborhood_Gilbert    -3454.945615\n",
       "neighborhood_Greens     -4529.804022\n",
       "neighborhood_Blueste    -5995.783809\n",
       "neighborhood_SawyerW   -16067.078698\n",
       "neighborhood_ClearCr   -17797.661605\n",
       "neighborhood_NPkVill   -23258.328839\n",
       "neighborhood_Landmrk   -23554.343234\n",
       "neighborhood_Mitchel   -26367.436433\n",
       "neighborhood_BrDale    -28415.665993\n",
       "neighborhood_NWAmes    -28508.775348\n",
       "neighborhood_Sawyer    -30787.336349\n",
       "neighborhood_BrkSide   -31577.838654\n",
       "neighborhood_NAmes     -35992.636841\n",
       "neighborhood_Edwards   -40130.195096\n",
       "neighborhood_SWISU     -41207.488393\n",
       "neighborhood_OldTown   -43430.219441\n",
       "neighborhood_MeadowV   -51350.140388\n",
       "neighborhood_IDOTRR    -51547.661201\n",
       "dtype: float64"
      ]
     },
     "execution_count": 27,
     "metadata": {},
     "output_type": "execute_result"
    }
   ],
   "source": [
    "# sorted neighborhood coefficients\n",
    "coef[coef.index.str.contains('neighborhood')].sort_values(ascending = False)"
   ]
  },
  {
   "cell_type": "code",
   "execution_count": 28,
   "id": "1f6d8e1f-5477-4c22-a909-aaa194794569",
   "metadata": {},
   "outputs": [
    {
     "data": {
      "text/plain": [
       "house_style_2.5Fin    54866.198343\n",
       "house_style_SFoyer    28023.867095\n",
       "house_style_SLvl      25641.654565\n",
       "house_style_1.5Unf    24184.750001\n",
       "house_style_1Story    17568.489380\n",
       "house_style_2.5Unf    16879.759678\n",
       "house_style_2Story     5982.290005\n",
       "dtype: float64"
      ]
     },
     "execution_count": 28,
     "metadata": {},
     "output_type": "execute_result"
    }
   ],
   "source": [
    "# sorted house style coefficients\n",
    "coef[coef.index.str.contains('house_style')].sort_values(ascending = False)"
   ]
  },
  {
   "cell_type": "code",
   "execution_count": 29,
   "id": "38bd7f00-2e09-44ae-a8e8-24ffc9075284",
   "metadata": {},
   "outputs": [
    {
     "data": {
      "text/plain": [
       "sq_ft               83.328516\n",
       "bsmt_weighted_sf    56.755196\n",
       "dtype: float64"
      ]
     },
     "execution_count": 29,
     "metadata": {},
     "output_type": "execute_result"
    }
   ],
   "source": [
    "coef[:2].sort_values(ascending = False)"
   ]
  },
  {
   "cell_type": "markdown",
   "id": "3b9df7c9-ea19-4dd4-a57f-035a1d67c66f",
   "metadata": {},
   "source": [
    "Of course these inferences only hold if our model meets necessary criterion."
   ]
  },
  {
   "cell_type": "markdown",
   "id": "7e37cc2a-7c45-4adb-8fc6-2327999482b8",
   "metadata": {},
   "source": [
    "#### Line Assumptions"
   ]
  },
  {
   "cell_type": "markdown",
   "id": "49e91a23-5d21-46c5-917f-c75b357595d4",
   "metadata": {},
   "source": [
    "We have already demonstrated linearity and multicollinearity of this model by inspecting correlation and VIF scores. It is fair to assume that the variables selected are independent.\n",
    "\n",
    "What is left to check is the distribution of the residuals. That is, are the residuals normally distributed and do they form any patterns when compared against the true prices."
   ]
  },
  {
   "cell_type": "code",
   "execution_count": 72,
   "id": "b50a9d7a-96e4-4013-9e0a-a041998d0bba",
   "metadata": {},
   "outputs": [],
   "source": [
    "resids = y_train - yt_pred"
   ]
  },
  {
   "cell_type": "code",
   "execution_count": 74,
   "id": "769800ee-fc79-43e1-b5a4-3c73da9ab6c1",
   "metadata": {},
   "outputs": [
    {
     "data": {
      "image/png": "[encoded data removed]",
      "text/plain": [
       "<Figure size 432x288 with 1 Axes>"
      ]
     },
     "metadata": {
      "needs_background": "light"
     },
     "output_type": "display_data"
    }
   ],
   "source": [
    "plt.hist(resids);"
   ]
  },
  {
   "cell_type": "code",
   "execution_count": 75,
   "id": "37ed2c79-29fe-4d8b-a366-fe4c5bd8f82b",
   "metadata": {},
   "outputs": [
    {
     "data": {
      "image/png": "[encoded data removed]",
      "text/plain": [
       "<Figure size 432x288 with 1 Axes>"
      ]
     },
     "metadata": {
      "needs_background": "light"
     },
     "output_type": "display_data"
    }
   ],
   "source": [
    "plt.scatter(y_train, resids);"
   ]
  },
  {
   "cell_type": "markdown",
   "id": "7693ca5c-79e9-4a05-85ae-78b045e0f194",
   "metadata": {},
   "source": [
    "Although not perfectly normal, the distribution of residual values do resemble a normal distribution. The scatterplot of y-values vs residuals does show a little bit of clustering, but it has a generally good shape for residual values. Together this means that the inferences above are fairly trustworthy."
   ]
  },
  {
   "cell_type": "markdown",
   "id": "71ec8d4d-86ac-4207-b385-963783d4adb8",
   "metadata": {},
   "source": [
    "---\n",
    "## Take Two"
   ]
  },
  {
   "cell_type": "markdown",
   "id": "29f133bc-d115-4c2b-85ff-dde853ffd7ad",
   "metadata": {},
   "source": [
    "When we selected the features for our first linear model, one of our primary goals was to keep the VIF score low. During that process, we ruled out several features that seemed somewhat helpful for predicting the `saleprice` because they pushed the VIF scores a little too high. Let us take a look at some of these features that did not dramatically increase VIF scores, namely:\n",
    "\n",
    "- `garage_area`\n",
    "- `wood_deck_sf`\n",
    "- `open_porch_sf`\n",
    "- `fireplace_weighted_sf`\n",
    "\n",
    "The last three features do not seem the most helpful, so we may be modeling a bit more moise with their inclusion. Let us continue and see the results anyways."
   ]
  },
  {
   "cell_type": "code",
   "execution_count": 42,
   "id": "8aa7ac50-20d0-4d90-8f33-540a6f2a611b",
   "metadata": {},
   "outputs": [
    {
     "data": {
      "text/html": [
       "<div>\n",
       "<style scoped>\n",
       "    .dataframe tbody tr th:only-of-type {\n",
       "        vertical-align: middle;\n",
       "    }\n",
       "\n",
       "    .dataframe tbody tr th {\n",
       "        vertical-align: top;\n",
       "    }\n",
       "\n",
       "    .dataframe thead th {\n",
       "        text-align: right;\n",
       "    }\n",
       "</style>\n",
       "<table border=\"1\" class=\"dataframe\">\n",
       "  <thead>\n",
       "    <tr style=\"text-align: right;\">\n",
       "      <th></th>\n",
       "      <th>vif</th>\n",
       "    </tr>\n",
       "  </thead>\n",
       "  <tbody>\n",
       "    <tr>\n",
       "      <th>sq_ft</th>\n",
       "      <td>8.865599</td>\n",
       "    </tr>\n",
       "    <tr>\n",
       "      <th>garage_area</th>\n",
       "      <td>7.384474</td>\n",
       "    </tr>\n",
       "    <tr>\n",
       "      <th>fireplaces_weighted</th>\n",
       "      <td>2.273468</td>\n",
       "    </tr>\n",
       "    <tr>\n",
       "      <th>wood_deck_sf</th>\n",
       "      <td>1.737158</td>\n",
       "    </tr>\n",
       "    <tr>\n",
       "      <th>open_porch_sf</th>\n",
       "      <td>1.691571</td>\n",
       "    </tr>\n",
       "  </tbody>\n",
       "</table>\n",
       "</div>"
      ],
      "text/plain": [
       "                          vif\n",
       "sq_ft                8.865599\n",
       "garage_area          7.384474\n",
       "fireplaces_weighted  2.273468\n",
       "wood_deck_sf         1.737158\n",
       "open_porch_sf        1.691571"
      ]
     },
     "execution_count": 42,
     "metadata": {},
     "output_type": "execute_result"
    }
   ],
   "source": [
    "# the VIF scores are not extraordinarily high\n",
    "vif_df(house[['sq_ft', 'garage_area', 'wood_deck_sf', 'open_porch_sf', 'fireplaces_weighted']])"
   ]
  },
  {
   "cell_type": "code",
   "execution_count": 43,
   "id": "f6c1330b-bbd9-48b0-b260-f5ffb164081b",
   "metadata": {},
   "outputs": [],
   "source": [
    "numeric_features = ['sq_ft', 'garage_area', 'wood_deck_sf', 'open_porch_sf', 'fireplaces_weighted']\n",
    "categoric_features = ['neighborhood', 'house_style']\n",
    "features = numeric_features + categoric_features"
   ]
  },
  {
   "cell_type": "code",
   "execution_count": 44,
   "id": "b3a014d7-e4a7-4c90-b628-c0f6b7ce8bfe",
   "metadata": {},
   "outputs": [],
   "source": [
    "train_dummy, test_dummy = dummify_train_test(house[features], numeric_features, categ_features)"
   ]
  },
  {
   "cell_type": "code",
   "execution_count": 45,
   "id": "1f962738-be91-488d-a1bc-85b0f38f3b12",
   "metadata": {},
   "outputs": [],
   "source": [
    "X_train, X_val, y_train, y_val = train_test_split(train_dummy, y, test_size = 0.3, random_state = 6)"
   ]
  },
  {
   "cell_type": "code",
   "execution_count": 46,
   "id": "91c249e2-31fb-42d4-9400-13fc9071d26b",
   "metadata": {},
   "outputs": [],
   "source": [
    "lr = LinearRegression()\n",
    "\n",
    "lr.fit(X_train, y_train)\n",
    "yt_pred = lr.predict(X_train)\n",
    "yv_pred = lr.predict(X_val)"
   ]
  },
  {
   "cell_type": "code",
   "execution_count": 47,
   "id": "b0ea630f-dd45-4008-bc37-43a0014c99e0",
   "metadata": {},
   "outputs": [
    {
     "name": "stdout",
     "output_type": "stream",
     "text": [
      "Train Cross Validation: 0.7995849695216942\n",
      "\n",
      "Train R squared: 0.8182537391891903\n",
      "Train RMSE: 34044.136281894214\n",
      "\n",
      "Validation R squared: 0.8000526626067064\n",
      "Validation RMSE: 33906.77939815086\n"
     ]
    }
   ],
   "source": [
    "print(f'Train Cross Validation: {cross_val_score(lr, X_train, y_train, cv = 5).mean()}\\n')\n",
    "print(f'Train R squared: {lr.score(X_train, y_train)}')\n",
    "print(f'Train RMSE: {metrics.mean_squared_error(y_train, yt_pred, squared = False)}\\n')\n",
    "\n",
    "print(f'Validation R squared: {lr.score(X_val, y_val)}')\n",
    "print(f'Validation RMSE: {metrics.mean_squared_error(y_val, yv_pred, squared = False)}')"
   ]
  },
  {
   "cell_type": "markdown",
   "id": "08fb1a2d-2ecc-4b9a-8a91-70a04e5c88df",
   "metadata": {},
   "source": [
    "We can see that the model score slightly decreases here, even with the additional features. This suggests the new features likely did not contribute much to the models ability to predict `saleprice`. This is unsurprising as it is hard to imagine paying much more money based on wood deck area, open porch area, or number of fireplaces. Let us remove these features in our next iteration and consider other choices.\n",
    "\n",
    "---\n",
    "\n",
    "## Take Three\n",
    "\n",
    "Above we saw very little influence from including several features (wood deck area, open porch area, or number of fireplaces) with low VIF scores. Unfortunately, these features also had low correlation to `saleprice`"
   ]
  },
  {
   "cell_type": "code",
   "execution_count": 84,
   "id": "890c470d-7993-42f7-b2eb-9c3ca41ff17c",
   "metadata": {},
   "outputs": [
    {
     "data": {
      "image/png": "[encoded data removed]",
      "text/plain": [
       "<Figure size 216x720 with 2 Axes>"
      ]
     },
     "metadata": {
      "needs_background": "light"
     },
     "output_type": "display_data"
    }
   ],
   "source": [
    "plt.figure(figsize = (3, 10))\n",
    "corr = house.corr()[['saleprice']].sort_values(by = 'saleprice', ascending = False)\n",
    "sns.heatmap(corr, cmap = 'RdYlGn', annot = True);"
   ]
  },
  {
   "cell_type": "markdown",
   "id": "1db1c27a-3736-4692-8af5-a6b2626e4c08",
   "metadata": {},
   "source": [
    "Let us "
   ]
  },
  {
   "cell_type": "markdown",
   "id": "786ed20a-826b-4e65-a3c2-270a438d0f77",
   "metadata": {},
   "source": [
    "- garage area seems like it may have value\n",
    "- correlations heatmap with saleprice\n",
    "- VIF scores - not sure what would be best, but consider\n",
    "- include kitchen quality (as categoric)\n",
    "- mention in last paragraph the low correlation between 3 features and saleprice (wood, open, fireplaces)"
   ]
  },
  {
   "cell_type": "code",
   "execution_count": 48,
   "id": "f62f6f4c-19a3-45c9-a774-43b1d41d8328",
   "metadata": {},
   "outputs": [],
   "source": [
    "numeric_features = ['sq_ft', 'garage_area', 'bsmt_weighted_sf']\n",
    "categ_features = ['neighborhood', 'house_style', 'kitchen_qual']\n",
    "features = numeric_features + categ_features"
   ]
  },
  {
   "cell_type": "code",
   "execution_count": 49,
   "id": "b27d72ef-c29a-48d3-9e5d-c9cd25b7d34f",
   "metadata": {},
   "outputs": [],
   "source": [
    "train_dummy, test_dummy = dummify_train_test(house[features], numeric_features, categ_features)"
   ]
  },
  {
   "cell_type": "code",
   "execution_count": 50,
   "id": "3f71f90e-95ad-4d3d-842f-9c066987f82d",
   "metadata": {},
   "outputs": [],
   "source": [
    "X_train, X_val, y_train, y_val = train_test_split(train_dummy, y, test_size = 0.3, random_state = 6)"
   ]
  },
  {
   "cell_type": "code",
   "execution_count": 51,
   "id": "8f24625e-b4c1-4e78-abb6-fd1127d1857a",
   "metadata": {},
   "outputs": [],
   "source": [
    "lr = LinearRegression()\n",
    "\n",
    "lr.fit(X_train, y_train)\n",
    "yt_pred = lr.predict(X_train)\n",
    "yv_pred = lr.predict(X_val)"
   ]
  },
  {
   "cell_type": "code",
   "execution_count": 52,
   "id": "5368273b-0d31-4d6b-a7e9-8a30e357f6a6",
   "metadata": {},
   "outputs": [
    {
     "name": "stdout",
     "output_type": "stream",
     "text": [
      "Train Cross Validation: 0.8534570872514353\n",
      "\n",
      "Train R squared: 0.8676098959792825\n",
      "Train RMSE: 29056.10122131043\n",
      "\n",
      "Validation R squared: 0.8564313103254987\n",
      "Validation RMSE: 28731.519610336578\n"
     ]
    }
   ],
   "source": [
    "print(f'Train Cross Validation: {cross_val_score(lr, X_train, y_train, cv = 5).mean()}\\n')\n",
    "print(f'Train R squared: {lr.score(X_train, y_train)}')\n",
    "print(f'Train RMSE: {metrics.mean_squared_error(y_train, yt_pred, squared = False)}\\n')\n",
    "\n",
    "print(f'Validation R squared: {lr.score(X_val, y_val)}')\n",
    "print(f'Validation RMSE: {metrics.mean_squared_error(y_val, yv_pred, squared = False)}')"
   ]
  },
  {
   "cell_type": "markdown",
   "id": "b7194474-cf52-47c6-9504-aa757d1416ba",
   "metadata": {},
   "source": [
    "---\n",
    "\n",
    "## Take Four\n",
    "\n",
    "- We see a significant improvement with the inclusion of bsmt sf and kitchen qual\n",
    "- we intend to generate a ridge and lasso fit \n",
    "- knowing we will fit ridge and lasso, let us include a few more features that seem like they have the most potential for prediction"
   ]
  },
  {
   "cell_type": "code",
   "execution_count": 53,
   "id": "ac162237-c3fb-4a43-b06a-0427f6653694",
   "metadata": {},
   "outputs": [],
   "source": [
    "numeric_features = ['sq_ft', 'garage_area', 'bsmt_weighted_sf', 'year_built']\n",
    "categ_features = ['neighborhood', 'house_style', 'kitchen_qual', 'qual_cond', 'exter_qual_cond']\n",
    "features = numeric_features + categ_features"
   ]
  },
  {
   "cell_type": "code",
   "execution_count": 54,
   "id": "08291cfc-4c2d-49e2-8177-01bdbdec14ac",
   "metadata": {},
   "outputs": [],
   "source": [
    "train_dummy, test_dummy = dummify_train_test(house[features], numeric_features, categ_features)"
   ]
  },
  {
   "cell_type": "code",
   "execution_count": 55,
   "id": "08a51cfd-317b-4215-b1e0-798eacabaf9e",
   "metadata": {},
   "outputs": [],
   "source": [
    "X_train, X_val, y_train, y_val = train_test_split(train_dummy, y, test_size = 0.3, random_state = 6)"
   ]
  },
  {
   "cell_type": "code",
   "execution_count": 56,
   "id": "acce0697-bd55-4880-9546-992ebad0c454",
   "metadata": {},
   "outputs": [],
   "source": [
    "lr = LinearRegression()\n",
    "\n",
    "lr.fit(X_train, y_train)\n",
    "yt_pred = lr.predict(X_train)\n",
    "yv_pred = lr.predict(X_val)"
   ]
  },
  {
   "cell_type": "code",
   "execution_count": 57,
   "id": "62a77c57-d5b1-4514-a666-3cd1fa818c02",
   "metadata": {},
   "outputs": [
    {
     "name": "stdout",
     "output_type": "stream",
     "text": [
      "Train Cross Validation: 0.8904960587650373\n",
      "\n",
      "Train R squared: 0.914574607035238\n",
      "Train RMSE: 23340.119254589645\n",
      "\n",
      "Validation R squared: 0.887738294880876\n",
      "Validation RMSE: 25406.482714142392\n"
     ]
    }
   ],
   "source": [
    "print(f'Train Cross Validation: {cross_val_score(lr, X_train, y_train, cv = 5).mean()}\\n')\n",
    "print(f'Train R squared: {lr.score(X_train, y_train)}')\n",
    "print(f'Train RMSE: {metrics.mean_squared_error(y_train, yt_pred, squared = False)}\\n')\n",
    "\n",
    "print(f'Validation R squared: {lr.score(X_val, y_val)}')\n",
    "print(f'Validation RMSE: {metrics.mean_squared_error(y_val, yv_pred, squared = False)}')"
   ]
  },
  {
   "cell_type": "code",
   "execution_count": null,
   "id": "5088bb14-04ba-4d0d-b3fe-493348bb6a87",
   "metadata": {},
   "outputs": [],
   "source": []
  },
  {
   "cell_type": "markdown",
   "id": "05fc7bc3-2ecd-4d60-890c-136378f9e091",
   "metadata": {},
   "source": [
    "---\n",
    "\n",
    "## Ridge"
   ]
  },
  {
   "cell_type": "code",
   "execution_count": 58,
   "id": "81e18083-bcf9-4f53-b9e9-30c25a21d24d",
   "metadata": {},
   "outputs": [],
   "source": [
    "alphas = np.logspace(-5, 5, 200)\n",
    "\n",
    "ridge_cv = RidgeCV(alphas = alphas, cv = 5)"
   ]
  },
  {
   "cell_type": "code",
   "execution_count": 59,
   "id": "fda05727-fc79-4119-9cad-5bc1ad8584f5",
   "metadata": {},
   "outputs": [],
   "source": [
    "ss = StandardScaler()\n",
    "\n",
    "X_train_sc = ss.fit_transform(X_train)\n",
    "X_val_sc = ss.transform(X_val)"
   ]
  },
  {
   "cell_type": "code",
   "execution_count": 60,
   "id": "a9442375-15b0-404d-8626-b1d82d65461e",
   "metadata": {},
   "outputs": [],
   "source": [
    "ridge_cv.fit(X_train_sc, y_train);"
   ]
  },
  {
   "cell_type": "code",
   "execution_count": 61,
   "id": "5f5a7c36-20b6-4319-91ac-0a04c61f8972",
   "metadata": {},
   "outputs": [
    {
     "data": {
      "text/plain": [
       "42.97004704320844"
      ]
     },
     "execution_count": 61,
     "metadata": {},
     "output_type": "execute_result"
    }
   ],
   "source": [
    "ridge_cv.alpha_"
   ]
  },
  {
   "cell_type": "code",
   "execution_count": 62,
   "id": "5c39741a-ab29-438e-8fb4-2bef73a206f2",
   "metadata": {},
   "outputs": [],
   "source": [
    "yt_pred = ridge_cv.predict(X_train_sc)\n",
    "yv_pred = ridge_cv.predict(X_val_sc)"
   ]
  },
  {
   "cell_type": "code",
   "execution_count": 66,
   "id": "2f754848-f6e3-4c94-b1db-45b46e05e7c0",
   "metadata": {},
   "outputs": [
    {
     "name": "stdout",
     "output_type": "stream",
     "text": [
      "Train Cross Validation: 0.8920015793096547\n",
      "\n",
      "Train R squared: 0.9140774915495748\n",
      "Train RMSE: 23407.932250947517\n",
      "\n",
      "Validation R squared: 0.8893470167997781\n",
      "Validation RMSE: 25223.787069644084\n"
     ]
    }
   ],
   "source": [
    "print(f'Train Cross Validation: {cross_val_score(Ridge(alpha = ridge_cv.alpha_), X_train_sc, y_train, cv = 5).mean()}\\n')\n",
    "print(f'Train R squared: {ridge_cv.score(X_train_sc, y_train)}')\n",
    "print(f'Train RMSE: {metrics.mean_squared_error(y_train, yt_pred, squared = False)}\\n')\n",
    "\n",
    "print(f'Validation R squared: {ridge_cv.score(X_val_sc, y_val)}')\n",
    "print(f'Validation RMSE: {metrics.mean_squared_error(y_val, yv_pred, squared = False)}')"
   ]
  },
  {
   "cell_type": "markdown",
   "id": "ac44a9de-5139-42c0-a197-99b95a70cc2c",
   "metadata": {},
   "source": [
    "---\n",
    "\n",
    "## Lasso"
   ]
  },
  {
   "cell_type": "code",
   "execution_count": 67,
   "id": "4677fb96-4394-442b-af24-a6a642b6e776",
   "metadata": {},
   "outputs": [],
   "source": [
    "alphas = np.logspace(-3, 5, 200)\n",
    "\n",
    "lasso_cv = LassoCV(alphas = alphas, cv = 5)"
   ]
  },
  {
   "cell_type": "code",
   "execution_count": 68,
   "id": "747faa9d-8490-4e20-aaef-4f32e189f89f",
   "metadata": {},
   "outputs": [],
   "source": [
    "#X_train_sc is already scaled correctly\n",
    "lasso_cv.fit(X_train_sc, y_train);"
   ]
  },
  {
   "cell_type": "code",
   "execution_count": 69,
   "id": "e5bb6faf-235f-4643-8d9e-92a87524705d",
   "metadata": {},
   "outputs": [
    {
     "data": {
      "text/plain": [
       "184.64249428955426"
      ]
     },
     "execution_count": 69,
     "metadata": {},
     "output_type": "execute_result"
    }
   ],
   "source": [
    "lasso_cv.alpha_"
   ]
  },
  {
   "cell_type": "code",
   "execution_count": 70,
   "id": "b3d6593e-7243-4980-812f-8f9ce9f035f9",
   "metadata": {},
   "outputs": [],
   "source": [
    "yt_pred = lasso_cv.predict(X_train_sc)\n",
    "yv_pred = lasso_cv.predict(X_val_sc)"
   ]
  },
  {
   "cell_type": "code",
   "execution_count": 71,
   "id": "8ef1801f-7b68-494d-a2bf-a968023f901c",
   "metadata": {},
   "outputs": [
    {
     "name": "stdout",
     "output_type": "stream",
     "text": [
      "Train Cross Validation: 0.89249108036683\n",
      "\n",
      "Train R squared: 0.9140774915495748\n",
      "Train RMSE: 23410.923805793936\n",
      "\n",
      "Validation R squared: 0.8893470167997781\n",
      "Validation RMSE: 25173.995930789133\n"
     ]
    }
   ],
   "source": [
    "print(f'Train Cross Validation: {cross_val_score(Lasso(alpha = lasso_cv.alpha_), X_train_sc, y_train, cv = 5).mean()}\\n')\n",
    "print(f'Train R squared: {ridge_cv.score(X_train_sc, y_train)}')\n",
    "print(f'Train RMSE: {metrics.mean_squared_error(y_train, yt_pred, squared = False)}\\n')\n",
    "\n",
    "print(f'Validation R squared: {ridge_cv.score(X_val_sc, y_val)}')\n",
    "print(f'Validation RMSE: {metrics.mean_squared_error(y_val, yv_pred, squared = False)}')"
   ]
  },
  {
   "cell_type": "code",
   "execution_count": 249,
   "id": "efc4f780-49f4-450b-bf1c-563dce4aad83",
   "metadata": {},
   "outputs": [],
   "source": [
    "#best model so far, let's try another kaggle submission\n",
    "#test_dummy was made in model 4's dummify function\n",
    "X_test_sc = ss.transform(test_dummy)\n",
    "kag_pred = lasso_cv.predict(X_test_sc)"
   ]
  },
  {
   "cell_type": "code",
   "execution_count": 253,
   "id": "918fa999-f784-4ee9-814b-27464b94af10",
   "metadata": {},
   "outputs": [],
   "source": [
    "submit(kag_pred, 8)"
   ]
  },
  {
   "cell_type": "code",
   "execution_count": null,
   "id": "5043058c-9cf5-4325-a09c-b445d96d1a01",
   "metadata": {},
   "outputs": [],
   "source": []
  },
  {
   "cell_type": "code",
   "execution_count": 254,
   "id": "6f3f5820-aece-4c60-ad1c-af5ce290d40a",
   "metadata": {},
   "outputs": [],
   "source": [
    "# kaggle submission scored 29,051"
   ]
  },
  {
   "cell_type": "code",
   "execution_count": null,
   "id": "805c1dca-0d1d-4c49-bb85-04f5bd9e615a",
   "metadata": {},
   "outputs": [],
   "source": []
  },
  {
   "cell_type": "code",
   "execution_count": null,
   "id": "e7fbc8ee-17f3-4d33-8de4-9b6b66a04cec",
   "metadata": {},
   "outputs": [],
   "source": []
  },
  {
   "cell_type": "code",
   "execution_count": null,
   "id": "d69bc1b8-2991-47e2-8b30-62624a199bb1",
   "metadata": {},
   "outputs": [],
   "source": []
  },
  {
   "cell_type": "code",
   "execution_count": null,
   "id": "b793eaca-7fa8-490f-9dc1-78243967ba32",
   "metadata": {},
   "outputs": [],
   "source": []
  },
  {
   "cell_type": "code",
   "execution_count": null,
   "id": "fa633593-ee52-4cd4-98e9-775eae4581ce",
   "metadata": {},
   "outputs": [],
   "source": []
  },
  {
   "cell_type": "code",
   "execution_count": null,
   "id": "165af8b7-741e-4d7b-a08b-6aa626ec5195",
   "metadata": {},
   "outputs": [],
   "source": []
  },
  {
   "cell_type": "code",
   "execution_count": null,
   "id": "003fc61d-ce16-473c-9203-41350e8c3945",
   "metadata": {},
   "outputs": [],
   "source": []
  },
  {
   "cell_type": "code",
   "execution_count": null,
   "id": "4ae2b7b9-bafd-4f77-851d-a955533d923b",
   "metadata": {},
   "outputs": [],
   "source": []
  },
  {
   "cell_type": "code",
   "execution_count": null,
   "id": "2e93c28d-d089-4bec-9092-15a284dd9258",
   "metadata": {},
   "outputs": [],
   "source": []
  },
  {
   "cell_type": "markdown",
   "id": "0f31c462-b42b-4b16-adbf-f91e2b6d6b33",
   "metadata": {
    "tags": []
   },
   "source": [
    "---\n",
    "\n",
    "## Train-Test-Split and Building the Linear Regression"
   ]
  },
  {
   "cell_type": "code",
   "execution_count": 154,
   "id": "78a2ae0a-4e92-48bf-bbf2-22bfca13e3c8",
   "metadata": {},
   "outputs": [],
   "source": [
    "X = train_with_dummies\n",
    "y = house['saleprice']"
   ]
  },
  {
   "cell_type": "code",
   "execution_count": 155,
   "id": "7d917ea4-fb26-4d1f-ba57-703a5391f80a",
   "metadata": {},
   "outputs": [],
   "source": [
    "X_train, X_val, y_train, y_val = train_test_split(X, y, test_size = 0.3, random_state = 6)"
   ]
  },
  {
   "cell_type": "code",
   "execution_count": 156,
   "id": "e98dfcb6-d39b-46fa-8351-1594a30fd551",
   "metadata": {},
   "outputs": [],
   "source": [
    "ss = StandardScaler()\n",
    "\n",
    "X_train_sc = ss.fit_transform(X_train)\n",
    "X_val_sc = ss.transform(X_val)"
   ]
  },
  {
   "cell_type": "code",
   "execution_count": 157,
   "id": "33e48510-f2f9-40cb-bd37-be8e1decf5f3",
   "metadata": {},
   "outputs": [],
   "source": [
    "lr = LinearRegression()"
   ]
  },
  {
   "cell_type": "code",
   "execution_count": 158,
   "id": "d5db03e8-b75d-49cc-8a48-0518ba722341",
   "metadata": {},
   "outputs": [
    {
     "data": {
      "text/plain": [
       "LinearRegression()"
      ]
     },
     "execution_count": 158,
     "metadata": {},
     "output_type": "execute_result"
    }
   ],
   "source": [
    "lr.fit(X_train_sc, y_train)"
   ]
  },
  {
   "cell_type": "code",
   "execution_count": 159,
   "id": "923a2e28-6db4-49f7-a153-4639920f5dda",
   "metadata": {},
   "outputs": [
    {
     "data": {
      "text/plain": [
       "0.8251691128036235"
      ]
     },
     "execution_count": 159,
     "metadata": {},
     "output_type": "execute_result"
    }
   ],
   "source": [
    "lr.score(X_train_sc, y_train)"
   ]
  },
  {
   "cell_type": "code",
   "execution_count": 160,
   "id": "ce227c68-4f41-48ed-a673-1ea97909348a",
   "metadata": {},
   "outputs": [
    {
     "data": {
      "text/plain": [
       "0.8128736774712252"
      ]
     },
     "execution_count": 160,
     "metadata": {},
     "output_type": "execute_result"
    }
   ],
   "source": [
    "lr.score(X_val_sc, y_val)"
   ]
  },
  {
   "cell_type": "code",
   "execution_count": 161,
   "id": "f7469132-fc63-40c1-ad33-bb024c78be55",
   "metadata": {},
   "outputs": [
    {
     "data": {
      "text/plain": [
       "1075950617.0926676"
      ]
     },
     "execution_count": 161,
     "metadata": {},
     "output_type": "execute_result"
    }
   ],
   "source": [
    "y_pred = lr.predict(X_val_sc)\n",
    "metrics.mean_squared_error(y_val, y_pred)"
   ]
  },
  {
   "cell_type": "code",
   "execution_count": 162,
   "id": "6fff1455-e5df-4dcd-96ca-49f29f77a89c",
   "metadata": {},
   "outputs": [
    {
     "data": {
      "text/plain": [
       "32801.68619282654"
      ]
     },
     "execution_count": 162,
     "metadata": {},
     "output_type": "execute_result"
    }
   ],
   "source": [
    "metrics.mean_squared_error(y_val, y_pred, squared = False)"
   ]
  },
  {
   "cell_type": "code",
   "execution_count": 163,
   "id": "38bac664-a800-4f24-830c-f3b735b6a121",
   "metadata": {},
   "outputs": [
    {
     "data": {
      "text/plain": [
       "-2.171159208376724e+23"
      ]
     },
     "execution_count": 163,
     "metadata": {},
     "output_type": "execute_result"
    }
   ],
   "source": [
    "#cross val score\n",
    "cross_val_score(lr, X_train_sc, y_train).mean()"
   ]
  },
  {
   "cell_type": "code",
   "execution_count": 164,
   "id": "aec1a312-9d49-4705-bfaa-44bf03d90d64",
   "metadata": {},
   "outputs": [],
   "source": [
    "# test_with_dummies was test data modified so model could be applied\n",
    "# renaming for readability\n",
    "X_test = test_with_dummies\n",
    "X_test_sc = ss.transform(X_test)"
   ]
  },
  {
   "cell_type": "code",
   "execution_count": 165,
   "id": "0805bf35-9cfa-45fc-bf04-f6166ef6472f",
   "metadata": {},
   "outputs": [],
   "source": [
    "kag_preds = lr.predict(X_test_sc)"
   ]
  },
  {
   "cell_type": "markdown",
   "id": "f311e9e3-670d-4bda-8b8e-65550229a0c1",
   "metadata": {},
   "source": [
    "After running the model on the test data and submitting it to Kaggle, the RMSE came out to be 35,257.3 which is significantly higher than RMSE we obtained from our validation set. This suggests that the model is overfit/has high variance."
   ]
  },
  {
   "cell_type": "markdown",
   "id": "4d0c9025-24f9-40b2-9ad3-a5d1931c5652",
   "metadata": {
    "jp-MarkdownHeadingCollapsed": true,
    "tags": []
   },
   "source": [
    "---\n",
    "\n",
    "## Take Two (Really Three...) - More Features\n",
    "\n",
    "Although it is not illustrated above, the linear model I created was my second attempt. In my first attempt, I used the features `sq_ft`, `lot_area`, `neighborhood`, and `house_style` because `lot_area` had a low VIF score when paired with `sq_ft`. I ran into an issue where roughly 1/3 of the time my R squared scores were abyssmal, leading me to believe I had some outliers in the dataset still. I went back and removed some outliers which led to `lot_area` having larger VIF score this time and in the iteration above I included `bsmt_weighted_sf` instead of `lot_area`. This gave me an improvement from an initial RMSE score of 38,000.\n",
    "\n",
    "Earlier we made a few decisions with a goal of keeping VIF scores low. Let us build another model where we are a bit more lax with this constraint."
   ]
  },
  {
   "cell_type": "code",
   "execution_count": 166,
   "id": "b7d835c8-5a77-4472-b72f-97d5207ad835",
   "metadata": {},
   "outputs": [
    {
     "data": {
      "text/html": [
       "<div>\n",
       "<style scoped>\n",
       "    .dataframe tbody tr th:only-of-type {\n",
       "        vertical-align: middle;\n",
       "    }\n",
       "\n",
       "    .dataframe tbody tr th {\n",
       "        vertical-align: top;\n",
       "    }\n",
       "\n",
       "    .dataframe thead th {\n",
       "        text-align: right;\n",
       "    }\n",
       "</style>\n",
       "<table border=\"1\" class=\"dataframe\">\n",
       "  <thead>\n",
       "    <tr style=\"text-align: right;\">\n",
       "      <th></th>\n",
       "      <th>vif</th>\n",
       "    </tr>\n",
       "  </thead>\n",
       "  <tbody>\n",
       "    <tr>\n",
       "      <th>sq_ft</th>\n",
       "      <td>8.865599</td>\n",
       "    </tr>\n",
       "    <tr>\n",
       "      <th>garage_area</th>\n",
       "      <td>7.384474</td>\n",
       "    </tr>\n",
       "    <tr>\n",
       "      <th>fireplaces_weighted</th>\n",
       "      <td>2.273468</td>\n",
       "    </tr>\n",
       "    <tr>\n",
       "      <th>wood_deck_sf</th>\n",
       "      <td>1.737158</td>\n",
       "    </tr>\n",
       "    <tr>\n",
       "      <th>open_porch_sf</th>\n",
       "      <td>1.691571</td>\n",
       "    </tr>\n",
       "  </tbody>\n",
       "</table>\n",
       "</div>"
      ],
      "text/plain": [
       "                          vif\n",
       "sq_ft                8.865599\n",
       "garage_area          7.384474\n",
       "fireplaces_weighted  2.273468\n",
       "wood_deck_sf         1.737158\n",
       "open_porch_sf        1.691571"
      ]
     },
     "execution_count": 166,
     "metadata": {},
     "output_type": "execute_result"
    }
   ],
   "source": [
    "vif_df(house[['sq_ft', 'garage_area', 'wood_deck_sf', 'open_porch_sf', 'fireplaces_weighted']])"
   ]
  },
  {
   "cell_type": "markdown",
   "id": "ee66a2a3-8331-476e-acbb-cbe703b1c279",
   "metadata": {},
   "source": [
    "The VIFs are not great and I do not feel strongly that fireplaces, open porches, and wood decks significantly influence the sales price. I expect the model I build with these variables to be overfit. This will just serve as an experiment to learn from."
   ]
  },
  {
   "cell_type": "code",
   "execution_count": 167,
   "id": "33667e63-8d01-4065-9248-6ee58fe8761b",
   "metadata": {},
   "outputs": [],
   "source": [
    "numeric_features = ['sq_ft', 'garage_area', 'wood_deck_sf', 'open_porch_sf', 'fireplaces_weighted']"
   ]
  },
  {
   "cell_type": "markdown",
   "id": "7fe0efec-1140-4824-9382-30ebbeca8170",
   "metadata": {},
   "source": [
    "I will use the same categoric features as before."
   ]
  },
  {
   "cell_type": "code",
   "execution_count": 168,
   "id": "1a9ed2aa-4095-4a79-a6c2-c01c5a463513",
   "metadata": {},
   "outputs": [],
   "source": [
    "categoric_features = ['neighborhood', 'house_style']"
   ]
  },
  {
   "cell_type": "code",
   "execution_count": 169,
   "id": "2e227c11-6e51-4164-b199-a3795a4c10ac",
   "metadata": {},
   "outputs": [],
   "source": [
    "house_test = setup_test()"
   ]
  },
  {
   "cell_type": "code",
   "execution_count": 170,
   "id": "1edb6c38-14b4-4104-a93e-8d435b45707a",
   "metadata": {},
   "outputs": [
    {
     "data": {
      "text/html": [
       "<div>\n",
       "<style scoped>\n",
       "    .dataframe tbody tr th:only-of-type {\n",
       "        vertical-align: middle;\n",
       "    }\n",
       "\n",
       "    .dataframe tbody tr th {\n",
       "        vertical-align: top;\n",
       "    }\n",
       "\n",
       "    .dataframe thead th {\n",
       "        text-align: right;\n",
       "    }\n",
       "</style>\n",
       "<table border=\"1\" class=\"dataframe\">\n",
       "  <thead>\n",
       "    <tr style=\"text-align: right;\">\n",
       "      <th></th>\n",
       "      <th>ms_zoning</th>\n",
       "      <th>lot_area</th>\n",
       "      <th>land_contour</th>\n",
       "      <th>land_slope</th>\n",
       "      <th>neighborhood</th>\n",
       "      <th>condition_1</th>\n",
       "      <th>bldg_type</th>\n",
       "      <th>house_style</th>\n",
       "      <th>year_built</th>\n",
       "      <th>year_remod_add</th>\n",
       "      <th>...</th>\n",
       "      <th>bedroom_abvgr</th>\n",
       "      <th>sale_type</th>\n",
       "      <th>saleprice</th>\n",
       "      <th>qual_cond</th>\n",
       "      <th>exter_qual_cond</th>\n",
       "      <th>bsmt_qual_cond</th>\n",
       "      <th>fireplaces_weighted</th>\n",
       "      <th>sq_ft</th>\n",
       "      <th>bsmt_weighted_sf</th>\n",
       "      <th>bath</th>\n",
       "    </tr>\n",
       "  </thead>\n",
       "  <tbody>\n",
       "    <tr>\n",
       "      <th>0</th>\n",
       "      <td>RL</td>\n",
       "      <td>13517</td>\n",
       "      <td>Lvl</td>\n",
       "      <td>Gtl</td>\n",
       "      <td>Sawyer</td>\n",
       "      <td>RRAe</td>\n",
       "      <td>1Fam</td>\n",
       "      <td>2Story</td>\n",
       "      <td>1976</td>\n",
       "      <td>2005</td>\n",
       "      <td>...</td>\n",
       "      <td>3</td>\n",
       "      <td>WD</td>\n",
       "      <td>130500</td>\n",
       "      <td>48</td>\n",
       "      <td>12</td>\n",
       "      <td>9</td>\n",
       "      <td>0</td>\n",
       "      <td>1479</td>\n",
       "      <td>629.0</td>\n",
       "      <td>2.5</td>\n",
       "    </tr>\n",
       "    <tr>\n",
       "      <th>1</th>\n",
       "      <td>RL</td>\n",
       "      <td>11492</td>\n",
       "      <td>Lvl</td>\n",
       "      <td>Gtl</td>\n",
       "      <td>SawyerW</td>\n",
       "      <td>Norm</td>\n",
       "      <td>1Fam</td>\n",
       "      <td>2Story</td>\n",
       "      <td>1996</td>\n",
       "      <td>1997</td>\n",
       "      <td>...</td>\n",
       "      <td>4</td>\n",
       "      <td>WD</td>\n",
       "      <td>220000</td>\n",
       "      <td>35</td>\n",
       "      <td>12</td>\n",
       "      <td>12</td>\n",
       "      <td>3</td>\n",
       "      <td>2122</td>\n",
       "      <td>775.0</td>\n",
       "      <td>2.5</td>\n",
       "    </tr>\n",
       "    <tr>\n",
       "      <th>2</th>\n",
       "      <td>RL</td>\n",
       "      <td>7922</td>\n",
       "      <td>Lvl</td>\n",
       "      <td>Gtl</td>\n",
       "      <td>NAmes</td>\n",
       "      <td>Norm</td>\n",
       "      <td>1Fam</td>\n",
       "      <td>1Story</td>\n",
       "      <td>1953</td>\n",
       "      <td>2007</td>\n",
       "      <td>...</td>\n",
       "      <td>3</td>\n",
       "      <td>WD</td>\n",
       "      <td>109000</td>\n",
       "      <td>35</td>\n",
       "      <td>12</td>\n",
       "      <td>9</td>\n",
       "      <td>0</td>\n",
       "      <td>1057</td>\n",
       "      <td>894.0</td>\n",
       "      <td>1.0</td>\n",
       "    </tr>\n",
       "    <tr>\n",
       "      <th>3</th>\n",
       "      <td>RL</td>\n",
       "      <td>9802</td>\n",
       "      <td>Lvl</td>\n",
       "      <td>Gtl</td>\n",
       "      <td>Timber</td>\n",
       "      <td>Norm</td>\n",
       "      <td>1Fam</td>\n",
       "      <td>2Story</td>\n",
       "      <td>2006</td>\n",
       "      <td>2007</td>\n",
       "      <td>...</td>\n",
       "      <td>3</td>\n",
       "      <td>WD</td>\n",
       "      <td>174000</td>\n",
       "      <td>25</td>\n",
       "      <td>9</td>\n",
       "      <td>12</td>\n",
       "      <td>0</td>\n",
       "      <td>1444</td>\n",
       "      <td>192.0</td>\n",
       "      <td>2.5</td>\n",
       "    </tr>\n",
       "    <tr>\n",
       "      <th>4</th>\n",
       "      <td>RL</td>\n",
       "      <td>14235</td>\n",
       "      <td>Lvl</td>\n",
       "      <td>Gtl</td>\n",
       "      <td>SawyerW</td>\n",
       "      <td>Norm</td>\n",
       "      <td>1Fam</td>\n",
       "      <td>1.5Fin</td>\n",
       "      <td>1900</td>\n",
       "      <td>1993</td>\n",
       "      <td>...</td>\n",
       "      <td>3</td>\n",
       "      <td>WD</td>\n",
       "      <td>138500</td>\n",
       "      <td>48</td>\n",
       "      <td>9</td>\n",
       "      <td>8</td>\n",
       "      <td>0</td>\n",
       "      <td>1445</td>\n",
       "      <td>338.0</td>\n",
       "      <td>2.0</td>\n",
       "    </tr>\n",
       "    <tr>\n",
       "      <th>...</th>\n",
       "      <td>...</td>\n",
       "      <td>...</td>\n",
       "      <td>...</td>\n",
       "      <td>...</td>\n",
       "      <td>...</td>\n",
       "      <td>...</td>\n",
       "      <td>...</td>\n",
       "      <td>...</td>\n",
       "      <td>...</td>\n",
       "      <td>...</td>\n",
       "      <td>...</td>\n",
       "      <td>...</td>\n",
       "      <td>...</td>\n",
       "      <td>...</td>\n",
       "      <td>...</td>\n",
       "      <td>...</td>\n",
       "      <td>...</td>\n",
       "      <td>...</td>\n",
       "      <td>...</td>\n",
       "      <td>...</td>\n",
       "      <td>...</td>\n",
       "    </tr>\n",
       "    <tr>\n",
       "      <th>2046</th>\n",
       "      <td>RL</td>\n",
       "      <td>11449</td>\n",
       "      <td>HLS</td>\n",
       "      <td>Gtl</td>\n",
       "      <td>Timber</td>\n",
       "      <td>Norm</td>\n",
       "      <td>1Fam</td>\n",
       "      <td>1Story</td>\n",
       "      <td>2007</td>\n",
       "      <td>2007</td>\n",
       "      <td>...</td>\n",
       "      <td>3</td>\n",
       "      <td>WD</td>\n",
       "      <td>298751</td>\n",
       "      <td>40</td>\n",
       "      <td>12</td>\n",
       "      <td>12</td>\n",
       "      <td>4</td>\n",
       "      <td>1728</td>\n",
       "      <td>1447.5</td>\n",
       "      <td>2.0</td>\n",
       "    </tr>\n",
       "    <tr>\n",
       "      <th>2047</th>\n",
       "      <td>RL</td>\n",
       "      <td>12342</td>\n",
       "      <td>Lvl</td>\n",
       "      <td>Gtl</td>\n",
       "      <td>Edwards</td>\n",
       "      <td>Norm</td>\n",
       "      <td>1Fam</td>\n",
       "      <td>1Story</td>\n",
       "      <td>1940</td>\n",
       "      <td>1950</td>\n",
       "      <td>...</td>\n",
       "      <td>1</td>\n",
       "      <td>WD</td>\n",
       "      <td>82500</td>\n",
       "      <td>20</td>\n",
       "      <td>9</td>\n",
       "      <td>9</td>\n",
       "      <td>0</td>\n",
       "      <td>861</td>\n",
       "      <td>561.5</td>\n",
       "      <td>1.0</td>\n",
       "    </tr>\n",
       "    <tr>\n",
       "      <th>2048</th>\n",
       "      <td>RL</td>\n",
       "      <td>7558</td>\n",
       "      <td>Bnk</td>\n",
       "      <td>Gtl</td>\n",
       "      <td>Crawfor</td>\n",
       "      <td>Norm</td>\n",
       "      <td>1Fam</td>\n",
       "      <td>1.5Fin</td>\n",
       "      <td>1928</td>\n",
       "      <td>1950</td>\n",
       "      <td>...</td>\n",
       "      <td>3</td>\n",
       "      <td>WD</td>\n",
       "      <td>177000</td>\n",
       "      <td>36</td>\n",
       "      <td>9</td>\n",
       "      <td>9</td>\n",
       "      <td>3</td>\n",
       "      <td>1913</td>\n",
       "      <td>448.0</td>\n",
       "      <td>1.5</td>\n",
       "    </tr>\n",
       "    <tr>\n",
       "      <th>2049</th>\n",
       "      <td>RL</td>\n",
       "      <td>10400</td>\n",
       "      <td>Lvl</td>\n",
       "      <td>Gtl</td>\n",
       "      <td>NAmes</td>\n",
       "      <td>Norm</td>\n",
       "      <td>1Fam</td>\n",
       "      <td>1Story</td>\n",
       "      <td>1956</td>\n",
       "      <td>1956</td>\n",
       "      <td>...</td>\n",
       "      <td>3</td>\n",
       "      <td>WD</td>\n",
       "      <td>144000</td>\n",
       "      <td>20</td>\n",
       "      <td>9</td>\n",
       "      <td>9</td>\n",
       "      <td>8</td>\n",
       "      <td>1200</td>\n",
       "      <td>302.5</td>\n",
       "      <td>1.0</td>\n",
       "    </tr>\n",
       "    <tr>\n",
       "      <th>2050</th>\n",
       "      <td>RL</td>\n",
       "      <td>7500</td>\n",
       "      <td>Lvl</td>\n",
       "      <td>Gtl</td>\n",
       "      <td>Gilbert</td>\n",
       "      <td>Norm</td>\n",
       "      <td>1Fam</td>\n",
       "      <td>2Story</td>\n",
       "      <td>1999</td>\n",
       "      <td>1999</td>\n",
       "      <td>...</td>\n",
       "      <td>3</td>\n",
       "      <td>WD</td>\n",
       "      <td>189000</td>\n",
       "      <td>35</td>\n",
       "      <td>9</td>\n",
       "      <td>9</td>\n",
       "      <td>3</td>\n",
       "      <td>1804</td>\n",
       "      <td>497.0</td>\n",
       "      <td>2.5</td>\n",
       "    </tr>\n",
       "  </tbody>\n",
       "</table>\n",
       "<p>2044 rows × 25 columns</p>\n",
       "</div>"
      ],
      "text/plain": [
       "     ms_zoning  lot_area land_contour land_slope neighborhood condition_1  \\\n",
       "0           RL     13517          Lvl        Gtl       Sawyer        RRAe   \n",
       "1           RL     11492          Lvl        Gtl      SawyerW        Norm   \n",
       "2           RL      7922          Lvl        Gtl        NAmes        Norm   \n",
       "3           RL      9802          Lvl        Gtl       Timber        Norm   \n",
       "4           RL     14235          Lvl        Gtl      SawyerW        Norm   \n",
       "...        ...       ...          ...        ...          ...         ...   \n",
       "2046        RL     11449          HLS        Gtl       Timber        Norm   \n",
       "2047        RL     12342          Lvl        Gtl      Edwards        Norm   \n",
       "2048        RL      7558          Bnk        Gtl      Crawfor        Norm   \n",
       "2049        RL     10400          Lvl        Gtl        NAmes        Norm   \n",
       "2050        RL      7500          Lvl        Gtl      Gilbert        Norm   \n",
       "\n",
       "     bldg_type house_style  year_built  year_remod_add  ... bedroom_abvgr  \\\n",
       "0         1Fam      2Story        1976            2005  ...             3   \n",
       "1         1Fam      2Story        1996            1997  ...             4   \n",
       "2         1Fam      1Story        1953            2007  ...             3   \n",
       "3         1Fam      2Story        2006            2007  ...             3   \n",
       "4         1Fam      1.5Fin        1900            1993  ...             3   \n",
       "...        ...         ...         ...             ...  ...           ...   \n",
       "2046      1Fam      1Story        2007            2007  ...             3   \n",
       "2047      1Fam      1Story        1940            1950  ...             1   \n",
       "2048      1Fam      1.5Fin        1928            1950  ...             3   \n",
       "2049      1Fam      1Story        1956            1956  ...             3   \n",
       "2050      1Fam      2Story        1999            1999  ...             3   \n",
       "\n",
       "      sale_type  saleprice  qual_cond  exter_qual_cond  bsmt_qual_cond  \\\n",
       "0           WD      130500         48               12               9   \n",
       "1           WD      220000         35               12              12   \n",
       "2           WD      109000         35               12               9   \n",
       "3           WD      174000         25                9              12   \n",
       "4           WD      138500         48                9               8   \n",
       "...         ...        ...        ...              ...             ...   \n",
       "2046        WD      298751         40               12              12   \n",
       "2047        WD       82500         20                9               9   \n",
       "2048        WD      177000         36                9               9   \n",
       "2049        WD      144000         20                9               9   \n",
       "2050        WD      189000         35                9               9   \n",
       "\n",
       "     fireplaces_weighted  sq_ft  bsmt_weighted_sf  bath  \n",
       "0                      0   1479             629.0   2.5  \n",
       "1                      3   2122             775.0   2.5  \n",
       "2                      0   1057             894.0   1.0  \n",
       "3                      0   1444             192.0   2.5  \n",
       "4                      0   1445             338.0   2.0  \n",
       "...                  ...    ...               ...   ...  \n",
       "2046                   4   1728            1447.5   2.0  \n",
       "2047                   0    861             561.5   1.0  \n",
       "2048                   3   1913             448.0   1.5  \n",
       "2049                   8   1200             302.5   1.0  \n",
       "2050                   3   1804             497.0   2.5  \n",
       "\n",
       "[2044 rows x 25 columns]"
      ]
     },
     "execution_count": 170,
     "metadata": {},
     "output_type": "execute_result"
    }
   ],
   "source": [
    "house"
   ]
  },
  {
   "cell_type": "code",
   "execution_count": 171,
   "id": "4cd92eee-ec74-42a7-adbf-a284e11a8bea",
   "metadata": {},
   "outputs": [],
   "source": [
    "dummy_train, dummy_test = dummify_train_test(house, numeric_features, categoric_features)"
   ]
  },
  {
   "cell_type": "code",
   "execution_count": 188,
   "id": "d9afc1c1-5fe7-4dee-a318-79fb00909085",
   "metadata": {},
   "outputs": [],
   "source": [
    "X_train, X_val, y_train, y_val = train_test_split(dummy_train, house['saleprice'], test_size = 0.3, random_state = 3)"
   ]
  },
  {
   "cell_type": "code",
   "execution_count": 189,
   "id": "e8261046-e277-4464-8258-b0a8ab3008d4",
   "metadata": {},
   "outputs": [],
   "source": [
    "ss = StandardScaler()\n",
    "\n",
    "X_train_sc = ss.fit_transform(X_train)\n",
    "X_val_sc = ss.transform(X_val)"
   ]
  },
  {
   "cell_type": "code",
   "execution_count": 190,
   "id": "23a14191-9f07-424a-86af-ba36de9a1614",
   "metadata": {},
   "outputs": [],
   "source": [
    "lr = LinearRegression()\n",
    "\n",
    "lr.fit(X_train_sc, y_train)\n",
    "y_pred = lr.predict(X_train_sc)\n",
    "y_val_pred = lr.predict(X_val_sc)"
   ]
  },
  {
   "cell_type": "code",
   "execution_count": 191,
   "id": "245b04d7-9219-4848-b2fd-048821601464",
   "metadata": {},
   "outputs": [
    {
     "name": "stdout",
     "output_type": "stream",
     "text": [
      "0.8226814012023593\n",
      "-1.9145771122778445e+21\n",
      "1134915862.8814733\n",
      "33688.51232811377\n",
      "1.0899471245546081e+31\n",
      "3301434725319596.5\n"
     ]
    }
   ],
   "source": [
    "print(lr.score(X_train_sc, y_train))\n",
    "print(lr.score(X_val_sc, y_val))\n",
    "print(metrics.mean_squared_error(y_train, y_pred))\n",
    "print(metrics.mean_squared_error(y_train, y_pred, squared = False))\n",
    "print(metrics.mean_squared_error(y_val, y_val_pred))\n",
    "print(metrics.mean_squared_error(y_val, y_val_pred, squared = False))"
   ]
  },
  {
   "cell_type": "code",
   "execution_count": 192,
   "id": "a2160ec2-8eba-4c51-bd7c-052e732c710f",
   "metadata": {},
   "outputs": [
    {
     "data": {
      "text/plain": [
       "0.8051412777713736"
      ]
     },
     "execution_count": 192,
     "metadata": {},
     "output_type": "execute_result"
    }
   ],
   "source": [
    "cross_val_score(lr, X_train_sc, y_train).mean()"
   ]
  },
  {
   "cell_type": "markdown",
   "id": "2ae1c16a-573d-4ff1-b741-3052b07fa489",
   "metadata": {},
   "source": [
    "We see above that the Root Mean Squared Errors do not appear to be better than our previous model despite including more features. Unfortunately, our validation score did not make clear that our previous model was overfit. This model could very well be overfit, too. Or this model could be better and the agreement between the train and validation scores could be more authentic now that we have included more features.\n",
    "\n",
    "One thing to note is that we would expect our R squared scores to improve from adding features. Since our R squared score did not increase, it could mean two things:\n",
    "1. The previous R squared score was inflated and the new features are producing a more authentically higher R squared score,\n",
    "2. or the new features contribute negligible guidance for predicting the sale price of homes. This is probably more likely.\n",
    "\n",
    "Regardless, we should still search for a more convincingly successful model."
   ]
  },
  {
   "cell_type": "markdown",
   "id": "b63d0138-d04d-494c-a881-7d05a035387e",
   "metadata": {
    "jp-MarkdownHeadingCollapsed": true,
    "tags": []
   },
   "source": [
    "---\n",
    "\n",
    "## Take Three - Kitchen Quality\n",
    "\n",
    "In our first approach, we converted the kitchen quality ratings from descriptive ratings to numeric ratings. This could be problematic because a numbered rating system introduces an implicit relationships between the ratings that did not exist before. For example, a house may have a kitchen quality of 4 while another has a kitchen quality of 2. This does not necessarily mean the first home's kitchen is twice as nice as the second.\n",
    "\n",
    "Let us plan to one-hot-encode `kitchen_qual`. As for numeric columns, we will use `sq_ft` again with `bsmt_weighted_sf` as these seem to be the most relevant columns that still produce low VIFs."
   ]
  },
  {
   "cell_type": "code",
   "execution_count": 173,
   "id": "13dfa6d7-bc0a-4832-9f38-14750858d6a8",
   "metadata": {},
   "outputs": [],
   "source": [
    "#\n",
    "# Edit above: include plan to overfit a bit\n",
    "# test the model\n",
    "#\n",
    "# include ridge\n",
    "#"
   ]
  },
  {
   "cell_type": "code",
   "execution_count": 124,
   "id": "61874ef4-0913-40a0-84e7-cf8d639e472f",
   "metadata": {},
   "outputs": [],
   "source": [
    "numeric_features = ['sq_ft', 'garage_area', 'bsmt_weighted_sf']\n",
    "categ_features = ['neighborhood', 'house_style', 'kitchen_qual']"
   ]
  },
  {
   "cell_type": "code",
   "execution_count": 125,
   "id": "feb85513-96bc-418b-b136-066c7feb563e",
   "metadata": {},
   "outputs": [],
   "source": [
    "dummy_train, dummy_test = dummify_train_test(house, numeric_features, categ_features)"
   ]
  },
  {
   "cell_type": "code",
   "execution_count": 126,
   "id": "c0c11c8b-55c1-43d7-9072-d70725157a7a",
   "metadata": {},
   "outputs": [],
   "source": [
    "y = house['saleprice']"
   ]
  },
  {
   "cell_type": "code",
   "execution_count": 127,
   "id": "f8181bbf-0cdf-48da-9fb5-118370c58664",
   "metadata": {},
   "outputs": [],
   "source": [
    "X_train, X_val, y_train, y_val = train_test_split(dummy_train, y, test_size = 0.3, random_state = 6)"
   ]
  },
  {
   "cell_type": "code",
   "execution_count": 128,
   "id": "cfe8193a-4235-4331-82b6-a63ee82f3b70",
   "metadata": {},
   "outputs": [],
   "source": [
    "ss = StandardScaler()\n",
    "\n",
    "X_train_sc = ss.fit_transform(X_train)\n",
    "X_val_sc = ss.transform(X_val)"
   ]
  },
  {
   "cell_type": "code",
   "execution_count": 129,
   "id": "a4904425-9afe-4dde-b8a3-654b3ddb6dd4",
   "metadata": {},
   "outputs": [],
   "source": [
    "lr = LinearRegression()\n",
    "\n",
    "lr.fit(X_train_sc, y_train)\n",
    "yt_pred = lr.predict(X_train_sc)\n",
    "yv_pred = lr.predict(X_val_sc)"
   ]
  },
  {
   "cell_type": "code",
   "execution_count": 130,
   "id": "4377d9c2-028e-4366-9ad0-f54b5a45ccdb",
   "metadata": {},
   "outputs": [
    {
     "name": "stdout",
     "output_type": "stream",
     "text": [
      "0.8759465544939518\n",
      "0.8666992405886502\n",
      "703035284.6262172\n",
      "26514.812551217805\n",
      "718335624.0543063\n",
      "26801.783971487912\n"
     ]
    }
   ],
   "source": [
    "print(lr.score(X_train_sc, y_train))\n",
    "print(lr.score(X_val_sc, y_val))\n",
    "print(metrics.mean_squared_error(y_train, yt_pred))\n",
    "print(metrics.mean_squared_error(y_train, yt_pred, squared = False))\n",
    "print(metrics.mean_squared_error(y_val, yv_pred))\n",
    "print(metrics.mean_squared_error(y_val, yv_pred, squared = False))"
   ]
  },
  {
   "cell_type": "code",
   "execution_count": 131,
   "id": "2b432dd5-4f4b-424e-80d4-8d8cd3376cc7",
   "metadata": {},
   "outputs": [
    {
     "data": {
      "text/plain": [
       "0.8626531975648142"
      ]
     },
     "execution_count": 131,
     "metadata": {},
     "output_type": "execute_result"
    }
   ],
   "source": [
    "cross_val_score(lr, X_train_sc, y_train).mean()"
   ]
  },
  {
   "cell_type": "markdown",
   "id": "00689826-67c1-4c60-add8-233604422648",
   "metadata": {},
   "source": [
    "It is not clear to me why these warnings appear, but they do not seem to harm the code's ability to produce metrics on our regression. The R squared scores of our model are extremely poor but the RMSE scores are a bit better. "
   ]
  },
  {
   "cell_type": "code",
   "execution_count": 234,
   "id": "51c264d3-942f-4f4e-a4fc-f15e390d1115",
   "metadata": {},
   "outputs": [],
   "source": [
    "#\n",
    "# Edit above line, fixed:\n",
    "# issue was running scores on unscaled datasets when fit was scaled\n",
    "#\n",
    "# "
   ]
  },
  {
   "cell_type": "code",
   "execution_count": 235,
   "id": "d5a1296c-c525-4553-a285-b792da03c639",
   "metadata": {},
   "outputs": [],
   "source": [
    "# Now I am curious what will happen to my model's performance if I am a little more lax on my choice of features. Earlier we made decisions to leave out some features because they contributed to large VIFs (`garage_area`) or they seemed like they only applied to a significantly smaller subset of the data (``)"
   ]
  },
  {
   "cell_type": "code",
   "execution_count": null,
   "id": "464392e5-f959-4116-97f6-aa8a45afc64a",
   "metadata": {},
   "outputs": [],
   "source": []
  },
  {
   "cell_type": "markdown",
   "id": "77aece28-24f2-4f5a-9cce-b39b37713015",
   "metadata": {
    "tags": []
   },
   "source": [
    "---\n",
    "\n",
    "## Ridge"
   ]
  },
  {
   "cell_type": "code",
   "execution_count": 132,
   "id": "77d209a2-0cdb-45c9-b41f-444da3e237d9",
   "metadata": {},
   "outputs": [],
   "source": [
    "alphas = np.logspace(0, 5, 100)\n",
    "\n",
    "ridge_cv = RidgeCV(alphas = alphas, cv = 5)"
   ]
  },
  {
   "cell_type": "code",
   "execution_count": 133,
   "id": "742a417f-6b27-445b-9449-6647a0594536",
   "metadata": {},
   "outputs": [],
   "source": [
    "# using the same train test split as above\n",
    "# X_train and X_val have already been 'standard scaled'\n",
    "# expressed as X_train_sc and X_val_sc\n",
    "\n",
    "ridge_cv.fit(X_train_sc, y_train);"
   ]
  },
  {
   "cell_type": "code",
   "execution_count": 134,
   "id": "d101a5b4-4a3d-4dee-98b6-fb16ce5b7bbe",
   "metadata": {},
   "outputs": [
    {
     "data": {
      "text/plain": [
       "1.0"
      ]
     },
     "execution_count": 134,
     "metadata": {},
     "output_type": "execute_result"
    }
   ],
   "source": [
    "ridge_cv.alpha_"
   ]
  },
  {
   "cell_type": "code",
   "execution_count": 135,
   "id": "a9ec2ca0-dde4-4876-adde-37438eb03da7",
   "metadata": {},
   "outputs": [],
   "source": [
    "alphas = np.logspace(-10, 1, 100)\n",
    "\n",
    "ridge_cv = RidgeCV(alphas = alphas, cv = 5)"
   ]
  },
  {
   "cell_type": "code",
   "execution_count": 136,
   "id": "7e39ba11-e03d-4206-b915-145c9cf5416a",
   "metadata": {},
   "outputs": [],
   "source": [
    "# using the same train test split as above\n",
    "# X_train and X_val have already been 'standard scaled'\n",
    "# expressed as X_train_sc and X_val_sc\n",
    "\n",
    "ridge_cv.fit(X_train_sc, y_train);"
   ]
  },
  {
   "cell_type": "code",
   "execution_count": 137,
   "id": "310259a6-0ac9-40d2-af3d-607f4655f714",
   "metadata": {},
   "outputs": [
    {
     "data": {
      "text/plain": [
       "1e-10"
      ]
     },
     "execution_count": 137,
     "metadata": {},
     "output_type": "execute_result"
    }
   ],
   "source": [
    "ridge_cv.alpha_"
   ]
  },
  {
   "cell_type": "markdown",
   "id": "eca3f586-3f6e-49c8-ad9b-3817629144d0",
   "metadata": {},
   "source": [
    "In both instances of running `RidgeCV`, the optimal alpha value is the lowest. This means that Ridge views our model as a good fit already and believes the penalty term is not very necessary. For the sake of example, let us fit a Ridge regression with the default alpha = 1 that our first RidgeCV suggested."
   ]
  },
  {
   "cell_type": "code",
   "execution_count": 138,
   "id": "e50bc9ed-a78e-4376-b0d8-867ea1c06344",
   "metadata": {},
   "outputs": [],
   "source": [
    "ridge = Ridge()"
   ]
  },
  {
   "cell_type": "code",
   "execution_count": 140,
   "id": "9680be4c-1b38-45d4-a61b-5c26a44ecdec",
   "metadata": {},
   "outputs": [],
   "source": [
    "ridge.fit(X_train_sc, y_train);"
   ]
  },
  {
   "cell_type": "code",
   "execution_count": 142,
   "id": "29677d90-ee15-430c-b88e-fe46dd8c28c8",
   "metadata": {},
   "outputs": [],
   "source": [
    "yt_pred = ridge.predict(X_train_sc)\n",
    "yv_pred = ridge.predict(X_val_sc)"
   ]
  },
  {
   "cell_type": "code",
   "execution_count": 143,
   "id": "4428d016-9e16-4a42-b043-cef4224d0ac7",
   "metadata": {},
   "outputs": [
    {
     "name": "stdout",
     "output_type": "stream",
     "text": [
      "0.8759446677927176\n",
      "0.8667628148927261\n",
      "703045976.9333413\n",
      "26515.01417939167\n",
      "717993032.7022852\n",
      "26795.39200501245\n"
     ]
    }
   ],
   "source": [
    "print(ridge.score(X_train_sc, y_train))\n",
    "print(ridge.score(X_val_sc, y_val))\n",
    "print(metrics.mean_squared_error(y_train, yt_pred))\n",
    "print(metrics.mean_squared_error(y_train, yt_pred, squared = False))\n",
    "print(metrics.mean_squared_error(y_val, yv_pred))\n",
    "print(metrics.mean_squared_error(y_val, yv_pred, squared = False))"
   ]
  },
  {
   "cell_type": "code",
   "execution_count": 141,
   "id": "81ebc5de-abb5-437d-8e00-d2eddedb0c7d",
   "metadata": {},
   "outputs": [
    {
     "data": {
      "text/plain": [
       "0.8631841956284261"
      ]
     },
     "execution_count": 141,
     "metadata": {},
     "output_type": "execute_result"
    }
   ],
   "source": [
    "cross_val_score(ridge, X_train_sc, y_train).mean()"
   ]
  },
  {
   "cell_type": "code",
   "execution_count": null,
   "id": "64b812ac-af3f-49e5-9a08-d55bfe0e833b",
   "metadata": {},
   "outputs": [],
   "source": []
  },
  {
   "cell_type": "code",
   "execution_count": null,
   "id": "306788cf-6d63-472d-9eea-4d7f8410fe48",
   "metadata": {},
   "outputs": [],
   "source": []
  },
  {
   "cell_type": "markdown",
   "id": "de4a918f-25b7-4969-83e2-0e682a47a433",
   "metadata": {
    "tags": []
   },
   "source": [
    "---\n",
    "\n",
    "## Take Four - Lot Area and Quality/Condition\n",
    "\n",
    "We will eventually use Ridge and Lasso to deal with overfit models. First, let us include a few more variables that may make our model overfit. Namely, let us include `lot_area` and `qual_cond`."
   ]
  },
  {
   "cell_type": "code",
   "execution_count": 285,
   "id": "d399ae0f-d2e1-4ad9-8bda-b9201668affd",
   "metadata": {},
   "outputs": [],
   "source": [
    "numeric_features = ['sq_ft', 'garage_area', 'bsmt_weighted_sf', 'lot_area', 'qual_cond']\n",
    "categ_features = ['neighborhood', 'house_style', 'kitchen_qual']"
   ]
  },
  {
   "cell_type": "code",
   "execution_count": 286,
   "id": "50e15033-1319-493d-bff7-d2fa9b686582",
   "metadata": {},
   "outputs": [],
   "source": [
    "dummy_train, dummy_test = dummify_train_test(house, numeric_features, categ_features)"
   ]
  },
  {
   "cell_type": "code",
   "execution_count": 287,
   "id": "4156e514-1286-430e-adbe-be17d68d5950",
   "metadata": {},
   "outputs": [],
   "source": [
    "X_train, X_val, y_train, y_val = train_test_split(dummy_train, y, test_size = 0.3, random_state = 8)"
   ]
  },
  {
   "cell_type": "code",
   "execution_count": 288,
   "id": "345bdf8e-facf-41c4-9b7a-4473ca2abf82",
   "metadata": {},
   "outputs": [],
   "source": [
    "ss = StandardScaler()\n",
    "\n",
    "X_train_sc = ss.fit_transform(X_train)\n",
    "X_val_sc = ss.transform(X_val)"
   ]
  },
  {
   "cell_type": "code",
   "execution_count": 289,
   "id": "001c73a2-5595-4bff-9b3c-c3c0e2af9797",
   "metadata": {},
   "outputs": [],
   "source": [
    "lr = LinearRegression()\n",
    "\n",
    "lr.fit(X_train_sc, y_train)\n",
    "yt_pred = lr.predict(X_train_sc)\n",
    "yv_pred = lr.predict(X_val_sc)"
   ]
  },
  {
   "cell_type": "code",
   "execution_count": 290,
   "id": "daf54aa8-2d23-44c8-91a5-eab4d5d2db71",
   "metadata": {},
   "outputs": [
    {
     "name": "stdout",
     "output_type": "stream",
     "text": [
      "0.8947403220017641\n",
      "0.9018904981266351\n",
      "585153630.4006903\n",
      "24189.94895407368\n",
      "553068947.5777028\n",
      "23517.417961538693\n"
     ]
    }
   ],
   "source": [
    "print(lr.score(X_train_sc, y_train))\n",
    "print(lr.score(X_val_sc, y_val))\n",
    "print(metrics.mean_squared_error(y_train, yt_pred))\n",
    "print(metrics.mean_squared_error(y_train, yt_pred, squared = False))\n",
    "print(metrics.mean_squared_error(y_val, yv_pred))\n",
    "print(metrics.mean_squared_error(y_val, yv_pred, squared = False))"
   ]
  },
  {
   "cell_type": "code",
   "execution_count": 291,
   "id": "1153d0d1-ef52-4020-8444-c62b5df8e211",
   "metadata": {},
   "outputs": [],
   "source": [
    "X_test_sc = ss.transform(dummy_test)"
   ]
  },
  {
   "cell_type": "code",
   "execution_count": 292,
   "id": "37625227-23f2-4683-8644-38ba1ffd3925",
   "metadata": {},
   "outputs": [],
   "source": [
    "kag_preds = lr.predict(X_test_sc)"
   ]
  },
  {
   "cell_type": "markdown",
   "id": "b8b4e61f-91f1-4c13-956a-f0d44826ace4",
   "metadata": {},
   "source": [
    "Our scores once again improve, though not very significantly. Feeling more confident that our model is overfit, let us now use Ridge and Lasso."
   ]
  },
  {
   "cell_type": "code",
   "execution_count": 293,
   "id": "f73062c6-f30f-41fc-9449-51a3525ae4f5",
   "metadata": {},
   "outputs": [],
   "source": [
    "submit(raw_house_test, kag_preds, 5)"
   ]
  },
  {
   "cell_type": "markdown",
   "id": "476af939-b2ec-426b-9636-963195a57e09",
   "metadata": {},
   "source": [
    "The Kaggle submission score was 30,007, which again is significantly lower than the scores anticipate."
   ]
  },
  {
   "cell_type": "markdown",
   "id": "acc5e33f-ec59-4e57-94c1-c648bb720daa",
   "metadata": {},
   "source": [
    "--- \n",
    "\n",
    "## Take Five - Even More Features"
   ]
  },
  {
   "cell_type": "code",
   "execution_count": 294,
   "id": "892b8c9a-4b60-45ab-bd99-31acdd4a53b1",
   "metadata": {},
   "outputs": [
    {
     "data": {
      "text/plain": [
       "Index(['lot_area', 'year_built', 'year_remod_add', 'garage_area',\n",
       "       'wood_deck_sf', 'open_porch_sf', 'kitchen_qual', 'bedroom_abvgr',\n",
       "       'saleprice', 'bsmt_qual_cond', 'fireplaces_weighted',\n",
       "       'bsmt_weighted_sf', 'qual_cond', 'exter_qual_cond', 'bath', 'sq_ft'],\n",
       "      dtype='object')"
      ]
     },
     "execution_count": 294,
     "metadata": {},
     "output_type": "execute_result"
    }
   ],
   "source": [
    "house.select_dtypes('number').columns"
   ]
  },
  {
   "cell_type": "code",
   "execution_count": 295,
   "id": "7e4ab614-a3ec-4ad6-80de-88ff45741100",
   "metadata": {},
   "outputs": [
    {
     "data": {
      "text/plain": [
       "Index(['ms_zoning', 'land_contour', 'land_slope', 'neighborhood',\n",
       "       'condition_1', 'bldg_type', 'house_style', 'mas_vnr_type', 'sale_type'],\n",
       "      dtype='object')"
      ]
     },
     "execution_count": 295,
     "metadata": {},
     "output_type": "execute_result"
    }
   ],
   "source": [
    "house.select_dtypes('object').columns"
   ]
  },
  {
   "cell_type": "code",
   "execution_count": 296,
   "id": "7e2394ba-ffb4-4ce2-b784-778dcefb2fc8",
   "metadata": {},
   "outputs": [],
   "source": [
    "numeric_features = ['sq_ft', 'bedroom_abvgr', 'garage_area', 'bsmt_weighted_sf', 'lot_area', 'year_built', 'bath', 'qual_cond', 'fireplaces_weighted']\n",
    "categ_features = ['neighborhood', 'house_style', 'kitchen_qual']"
   ]
  },
  {
   "cell_type": "code",
   "execution_count": 297,
   "id": "7a766fd0-22d9-483b-9c35-316f502cb5f0",
   "metadata": {},
   "outputs": [],
   "source": [
    "dummy_train, dummy_test = dummify_train_test(house, numeric_features, categ_features)"
   ]
  },
  {
   "cell_type": "code",
   "execution_count": 298,
   "id": "f784b0ab-22bb-4f9f-9973-04927b440176",
   "metadata": {},
   "outputs": [],
   "source": [
    "X_train, X_val, y_train, y_val = train_test_split(dummy_train, y, test_size = 0.2, random_state = 8)"
   ]
  },
  {
   "cell_type": "code",
   "execution_count": 299,
   "id": "3433ff09-7b12-44ac-8f48-215354e06082",
   "metadata": {},
   "outputs": [],
   "source": [
    "ss = StandardScaler()\n",
    "\n",
    "X_train_sc = ss.fit_transform(X_train)\n",
    "X_val_sc = ss.transform(X_val)"
   ]
  },
  {
   "cell_type": "code",
   "execution_count": 300,
   "id": "a1a4bb7b-b1ea-4ae3-a058-5376e835d6ff",
   "metadata": {},
   "outputs": [],
   "source": [
    "lr = LinearRegression()\n",
    "\n",
    "lr.fit(X_train_sc, y_train)\n",
    "yt_pred = lr.predict(X_train_sc)\n",
    "yv_pred = lr.predict(X_val_sc)"
   ]
  },
  {
   "cell_type": "code",
   "execution_count": 301,
   "id": "6e46eb14-0e17-4854-8c4c-d5dbb9820a2d",
   "metadata": {},
   "outputs": [
    {
     "name": "stdout",
     "output_type": "stream",
     "text": [
      "0.9075228715252514\n",
      "0.9100119238912097\n",
      "509583060.948662\n",
      "22573.946508057958\n",
      "528836763.0327791\n",
      "22996.451096479628\n"
     ]
    }
   ],
   "source": [
    "print(lr.score(X_train_sc, y_train))\n",
    "print(lr.score(X_val_sc, y_val))\n",
    "print(metrics.mean_squared_error(y_train, yt_pred))\n",
    "print(metrics.mean_squared_error(y_train, yt_pred, squared = False))\n",
    "print(metrics.mean_squared_error(y_val, yv_pred))\n",
    "print(metrics.mean_squared_error(y_val, yv_pred, squared = False))"
   ]
  },
  {
   "cell_type": "code",
   "execution_count": 302,
   "id": "f3b49940-1162-476a-87cc-94ac01ea34c1",
   "metadata": {},
   "outputs": [],
   "source": [
    "X_test_sc = ss.transform(dummy_test)"
   ]
  },
  {
   "cell_type": "code",
   "execution_count": 303,
   "id": "351c8a19-5433-4c92-a34f-e9d10b69fcaf",
   "metadata": {},
   "outputs": [],
   "source": [
    "kag_preds = lr.predict(X_test_sc)"
   ]
  },
  {
   "cell_type": "code",
   "execution_count": 304,
   "id": "efd44d72-3b35-4278-85d2-5c42ed467121",
   "metadata": {},
   "outputs": [],
   "source": [
    "submit(raw_house_test, kag_preds, 6)"
   ]
  },
  {
   "cell_type": "markdown",
   "id": "ad8bf7ae-ec67-4334-9fee-78f78704ab45",
   "metadata": {},
   "source": [
    "---\n",
    "\n",
    "## Lasso"
   ]
  },
  {
   "cell_type": "code",
   "execution_count": 305,
   "id": "249b332a-bce6-4507-aa74-84456f36f481",
   "metadata": {},
   "outputs": [],
   "source": [
    "alphas = np.logspace(0, 5, 100)\n",
    "\n",
    "lasso_cv = LassoCV(alphas = alphas, cv = 5)"
   ]
  },
  {
   "cell_type": "code",
   "execution_count": 306,
   "id": "6609490a-7948-492e-ac0d-da5d9ab1c0f8",
   "metadata": {},
   "outputs": [],
   "source": [
    "lasso_cv.fit(X_train_sc, y_train);"
   ]
  },
  {
   "cell_type": "code",
   "execution_count": 307,
   "id": "d1cb6c88-9e42-4a51-aee1-a87501a3cc7e",
   "metadata": {},
   "outputs": [
    {
     "data": {
      "text/plain": [
       "298.364724028334"
      ]
     },
     "execution_count": 307,
     "metadata": {},
     "output_type": "execute_result"
    }
   ],
   "source": [
    "lasso_cv.alpha_"
   ]
  },
  {
   "cell_type": "code",
   "execution_count": 314,
   "id": "f1b5226f-6317-4e92-826f-9e45b22c7c3a",
   "metadata": {},
   "outputs": [],
   "source": [
    "alphas = np.logspace(-10, 1, 100)\n",
    "\n",
    "lasso_cv =LassoCV(alphas = alphas, cv = 5)"
   ]
  },
  {
   "cell_type": "code",
   "execution_count": 315,
   "id": "22186e36-25db-4be4-9c99-4c7f4fecf784",
   "metadata": {},
   "outputs": [],
   "source": [
    "lasso_cv.fit(X_train_sc, y_train);"
   ]
  },
  {
   "cell_type": "code",
   "execution_count": 316,
   "id": "8e75bc0d-3cb4-4d4d-9574-a182dfdb4905",
   "metadata": {},
   "outputs": [
    {
     "data": {
      "text/plain": [
       "10.0"
      ]
     },
     "execution_count": 316,
     "metadata": {},
     "output_type": "execute_result"
    }
   ],
   "source": [
    "lasso_cv.alpha_"
   ]
  },
  {
   "cell_type": "markdown",
   "id": "ec05caab-c8b7-427d-a595-ac775f504b67",
   "metadata": {},
   "source": [
    "We see above that our Lasso model was best fit with alpha = 298."
   ]
  },
  {
   "cell_type": "code",
   "execution_count": 317,
   "id": "3dcba359-3bb2-4712-8bd6-62fc12616cad",
   "metadata": {},
   "outputs": [],
   "source": [
    "lasso = Lasso(alpha = 298.36)"
   ]
  },
  {
   "cell_type": "code",
   "execution_count": 318,
   "id": "1ea57b55-a1a1-4ada-b31f-3a5aa3db7e9f",
   "metadata": {},
   "outputs": [],
   "source": [
    "lasso.fit(X_train_sc, y_train);"
   ]
  },
  {
   "cell_type": "code",
   "execution_count": 322,
   "id": "d4fefde6-17b9-4397-b155-a34e50e024ee",
   "metadata": {},
   "outputs": [],
   "source": [
    "yt_pred = lasso.predict(X_train_sc)\n",
    "yv_pred = lasso.predict(X_val_sc)"
   ]
  },
  {
   "cell_type": "code",
   "execution_count": 323,
   "id": "cf56a8e0-45cb-4b5c-9a77-fa4c75761085",
   "metadata": {},
   "outputs": [
    {
     "name": "stdout",
     "output_type": "stream",
     "text": [
      "0.9067927186731571\n",
      "0.9105503346489553\n",
      "513606472.2663283\n",
      "22662.887553582583\n",
      "525672661.5804485\n",
      "22927.552455080076\n"
     ]
    }
   ],
   "source": [
    "print(lasso.score(X_train_sc, y_train))\n",
    "print(lasso.score(X_val_sc, y_val))\n",
    "print(metrics.mean_squared_error(y_train, yt_pred))\n",
    "print(metrics.mean_squared_error(y_train, yt_pred, squared = False))\n",
    "print(metrics.mean_squared_error(y_val, yv_pred))\n",
    "print(metrics.mean_squared_error(y_val, yv_pred, squared = False))"
   ]
  },
  {
   "cell_type": "code",
   "execution_count": 324,
   "id": "4944be34-72f2-4e6f-b60d-346ed9bd1dee",
   "metadata": {},
   "outputs": [],
   "source": [
    "lasso_kag_preds = lasso.predict(X_test_sc)"
   ]
  },
  {
   "cell_type": "code",
   "execution_count": 325,
   "id": "de66b8ed-047e-4463-ba4a-1c829aec41d1",
   "metadata": {},
   "outputs": [],
   "source": [
    "submit(raw_house_test, lasso_kag_preds, 7)"
   ]
  },
  {
   "cell_type": "markdown",
   "id": "39036807-47eb-42ee-aad9-62d9b75d0c48",
   "metadata": {},
   "source": [
    "Kaggle score: 27,992."
   ]
  }
 ],
 "metadata": {
  "kernelspec": {
   "display_name": "Python 3 (ipykernel)",
   "language": "python",
   "name": "python3"
  },
  "language_info": {
   "codemirror_mode": {
    "name": "ipython",
    "version": 3
   },
   "file_extension": ".py",
   "mimetype": "text/x-python",
   "name": "python",
   "nbconvert_exporter": "python",
   "pygments_lexer": "ipython3",
   "version": "3.9.12"
  }
 },
 "nbformat": 4,
 "nbformat_minor": 5
}
