{
 "cells": [
  {
   "cell_type": "code",
   "execution_count": 2,
   "id": "c5ce5334-5547-4056-8ac5-ff21b030b823",
   "metadata": {},
   "outputs": [],
   "source": [
    "# adjust print statements to look cleaner\n",
    "# mention of numeric features that could be considered as categorical\n",
    "# include code comments\n",
    "# bold important markdown text"
   ]
  },
  {
   "cell_type": "markdown",
   "id": "418b3f6b-a52a-48e9-bd0e-e69c39d309ba",
   "metadata": {
    "tags": []
   },
   "source": [
    "# Feature Selection and Dummifying\n",
    "---"
   ]
  },
  {
   "cell_type": "markdown",
   "id": "b165b906-b8d1-4a5a-8004-ed9b9a711da5",
   "metadata": {},
   "source": [
    "## Imports and Functions\n",
    "---"
   ]
  },
  {
   "cell_type": "code",
   "execution_count": 3,
   "id": "673c8dba-9c39-4436-b419-91e6e62848ba",
   "metadata": {},
   "outputs": [],
   "source": [
    "import numpy as np\n",
    "import pandas as pd\n",
    "import matplotlib.pyplot as plt\n",
    "import seaborn as sns\n",
    "\n",
    "from statsmodels.stats.outliers_influence import variance_inflation_factor"
   ]
  },
  {
   "cell_type": "code",
   "execution_count": 4,
   "id": "2c6a5391-9fea-44e2-b7a3-989d84002c55",
   "metadata": {},
   "outputs": [],
   "source": [
    "def qual_to_num(data, feature):\n",
    "    '''\n",
    "    Takes in DataFrame and column name containing string ratings\n",
    "    replaces the ratings with numerical values\n",
    "    \n",
    "    Returns the updated DataFrame\n",
    "    '''\n",
    "    \n",
    "    # ratings that appear in the dataset\n",
    "    # and corresponding numerical value\n",
    "    qual_conversion = {'Ex': 5, 'Gd': 4, 'TA': 3, 'Fa': 2, 'Po': 1, 'NA': 0, np.nan: 0}\n",
    "    \n",
    "    # convert to ratings using dictionary\n",
    "    data[feature] = data[feature].apply(lambda x: qual_conversion[x])\n",
    "    \n",
    "    return data\n",
    "\n",
    "\n",
    "\n",
    "def vif_df(df):\n",
    "    '''\n",
    "    Takes in a dataframe of numeric columns and computes\n",
    "    the Variance Inflation Factor (VIF) for each variable.\n",
    "    \n",
    "    Returns a nx1 DataFrame of VIF scores.\n",
    "    '''\n",
    "    \n",
    "    corr_features = df.columns\n",
    "    \n",
    "    # creats a list of VIF values, cycling through variables\n",
    "    # to select as a target for scoring\n",
    "    vif_values = [variance_inflation_factor(df.values, i) for i in range(len(corr_features))]\n",
    "    \n",
    "    # index scores with column names and sort from greatest to least\n",
    "    vif = pd.DataFrame(vif_values,\n",
    "                   index = corr_features,\n",
    "                   columns = ['vif']).sort_values(by = 'vif', ascending = False)\n",
    "    \n",
    "    return vif\n",
    "\n",
    "\n",
    "\n",
    "def setup_test():\n",
    "    '''\n",
    "    Generates a cleaned and feature engineered test dataset\n",
    "    that matches the general structure of the cleaned train data.\n",
    "    \n",
    "    Returns the cleaned, feature engineered test data set.\n",
    "    '''\n",
    "    \n",
    "    test_data = pd.read_csv('../datasets/test.csv')\n",
    "    \n",
    "    # initial features that were selected for the train dataset \n",
    "    test_features = ['MS Zoning', 'Lot Area', 'Land Contour', 'Land Slope', 'Neighborhood', 'Condition 1',\n",
    "            'Bldg Type', 'House Style', 'Overall Qual', 'Overall Cond', 'Year Built', 'Year Remod/Add',\n",
    "           'Mas Vnr Type', 'Exter Qual', 'Exter Cond', 'Bsmt Qual', 'Bsmt Cond',\n",
    "           'Garage Area', 'Wood Deck SF', 'Open Porch SF', 'Kitchen Qual', 'Bedroom AbvGr',\n",
    "           'Full Bath', 'Half Bath', 'Fireplaces', 'Fireplace Qu', 'BsmtFin SF 1', 'Bsmt Unf SF', '1st Flr SF', '2nd Flr SF', 'Sale Type',]\n",
    "    \n",
    "    \n",
    "    test_data = test_data[test_features]\n",
    "    \n",
    "    # clean column names\n",
    "    test_data.columns = [col.lower().replace(' ','_').replace('/','_') for col in test_data.columns]\n",
    "    \n",
    "    \n",
    "    # converts descriptive rating to numerical\n",
    "    test_data = qual_to_num(test_data, 'bsmt_qual')\n",
    "    test_data = qual_to_num(test_data, 'bsmt_cond')\n",
    "    test_data = qual_to_num(test_data, 'kitchen_qual')\n",
    "    test_data = qual_to_num(test_data, 'exter_qual')\n",
    "    test_data = qual_to_num(test_data, 'exter_cond')\n",
    "    test_data = qual_to_num(test_data, 'fireplace_qu')\n",
    "    \n",
    "    # combines basment quality and condition ratings via multiplication\n",
    "    test_data['bsmt_qual_cond'] = test_data['bsmt_qual'] * test_data['bsmt_cond']\n",
    "    test_data.drop(columns = ['bsmt_qual', 'bsmt_cond'], inplace = True)\n",
    "    \n",
    "    test_data['qual_cond'] = test_data['overall_qual'] * test_data['overall_cond']\n",
    "    test_data.drop(columns = ['overall_qual', 'overall_cond'], inplace = True)\n",
    "\n",
    "    test_data['exter_qual_cond'] = test_data['exter_qual'] * test_data['exter_cond']\n",
    "    test_data.drop(columns = ['exter_qual', 'exter_cond'], inplace = True)\n",
    "\n",
    "    \n",
    "    # combines fireplace count and quality rating via multiplication\n",
    "    test_data['fireplaces_weighted'] = test_data['fireplaces'] * test_data['fireplace_qu']\n",
    "    test_data.drop(columns = ['fireplaces', 'fireplace_qu'], inplace = True)\n",
    "    \n",
    "    # adds square feet (SF) measurements with weights:\n",
    "    # 1*(Finished SF) + 0.5(Unfinished SF)\n",
    "    test_data['bsmt_weighted_sf'] = test_data['bsmtfin_sf_1'] + 0.5*test_data['bsmt_unf_sf']\n",
    "    test_data.drop(columns = ['bsmtfin_sf_1', 'bsmt_unf_sf'], inplace = True)\n",
    "    \n",
    "    # combines full bath and half bath into one column\n",
    "    test_data['bath'] = test_data['full_bath'] + 0.5*test_data['half_bath']\n",
    "    test_data.drop(columns = ['full_bath', 'half_bath'], inplace = True)\n",
    "    \n",
    "    #combines 1st floor and 2nd floor square feet areas\n",
    "    test_data['sq_ft'] = test_data['1st_flr_sf'] + test_data['2nd_flr_sf']\n",
    "    test_data.drop(columns = ['1st_flr_sf', '2nd_flr_sf'], inplace = True)\n",
    "    \n",
    "    # replace np.nan with most frequent value in the column 'None'\n",
    "    test_data.loc[test_data['mas_vnr_type'].isna(), 'mas_vnr_type'] = 'None'\n",
    "    \n",
    "    return test_data"
   ]
  },
  {
   "cell_type": "markdown",
   "id": "f6aebd87-2ded-48b6-b34d-a11006b6e68d",
   "metadata": {},
   "source": [
    "## Determining Numeric Features\n",
    "---\n",
    "\n",
    "Let us begin by determining which numeric values are most relevant to `saleprice` and are not very correlated to one another."
   ]
  },
  {
   "cell_type": "code",
   "execution_count": 5,
   "id": "b4ba0dd7-033d-4fc4-8c8f-ee01c80374dd",
   "metadata": {},
   "outputs": [],
   "source": [
    "house = pd.read_csv('../datasets/cleaned_train.csv')"
   ]
  },
  {
   "cell_type": "code",
   "execution_count": 49,
   "id": "ae5cfc3a-0447-4fb1-8cf6-49cd87845a3c",
   "metadata": {},
   "outputs": [
    {
     "data": {
      "text/plain": [
       "<AxesSubplot:>"
      ]
     },
     "execution_count": 49,
     "metadata": {},
     "output_type": "execute_result"
    },
    {
     "data": {
      "image/png": "[encoded data removed]",
      "text/plain": [
       "<Figure size 216x720 with 2 Axes>"
      ]
     },
     "metadata": {
      "needs_background": "light"
     },
     "output_type": "display_data"
    }
   ],
   "source": [
    "plt.figure(figsize = (3, 10))\n",
    "corr = house.corr()[['saleprice']].sort_values(by = 'saleprice', ascending = False)\n",
    "sns.heatmap(corr, cmap = 'RdYlGn', annot = True)\n",
    "#plt.tight_layout()\n",
    "#plt.savefig('../images/saleprice_heatmap10.png');"
   ]
  },
  {
   "cell_type": "markdown",
   "id": "e9f8abc6-0178-40a9-8c3b-9766da708c96",
   "metadata": {},
   "source": [
    "Out of the numeric features we have selected/created, three stand out as correlated to `saleprice`: `sq_ft`, `kitchen_qual`, and `garage_area`. To see these more explicitly, let us check their scatterplots."
   ]
  },
  {
   "cell_type": "code",
   "execution_count": 39,
   "id": "ade82195-feb3-415a-bdf3-aa21c4b94ef9",
   "metadata": {},
   "outputs": [
    {
     "data": {
      "image/png": "[encoded data removed]",
      "text/plain": [
       "<Figure size 864x360 with 2 Axes>"
      ]
     },
     "metadata": {
      "needs_background": "light"
     },
     "output_type": "display_data"
    },
    {
     "data": {
      "image/png": "[encoded data removed]",
      "text/plain": [
       "<Figure size 864x360 with 2 Axes>"
      ]
     },
     "metadata": {
      "needs_background": "light"
     },
     "output_type": "display_data"
    }
   ],
   "source": [
    "pair1 = sns.pairplot(house, x_vars = ['sq_ft', 'kitchen_qual'], y_vars = ['saleprice'])\n",
    "pair1.fig.set_size_inches(12,5)\n",
    "pair1.set(title = 'Highest Correlations to Sale Price')\n",
    "pair2 = sns.pairplot(house, x_vars = ['garage_area', 'bsmt_weighted_sf'], y_vars = ['saleprice'])\n",
    "pair2.fig.set_size_inches(12,5)"
   ]
  },
  {
   "cell_type": "markdown",
   "id": "3b698aee-f737-444f-84e8-23d9354ad68c",
   "metadata": {},
   "source": [
    "It would be nice if we could use all of these features in our model, unfortunately, together their variance inflation factors are quite large."
   ]
  },
  {
   "cell_type": "code",
   "execution_count": 7,
   "id": "19009971-ef86-48a3-be88-356a178a5cef",
   "metadata": {},
   "outputs": [
    {
     "data": {
      "text/html": [
       "<div>\n",
       "<style scoped>\n",
       "    .dataframe tbody tr th:only-of-type {\n",
       "        vertical-align: middle;\n",
       "    }\n",
       "\n",
       "    .dataframe tbody tr th {\n",
       "        vertical-align: top;\n",
       "    }\n",
       "\n",
       "    .dataframe thead th {\n",
       "        text-align: right;\n",
       "    }\n",
       "</style>\n",
       "<table border=\"1\" class=\"dataframe\">\n",
       "  <thead>\n",
       "    <tr style=\"text-align: right;\">\n",
       "      <th></th>\n",
       "      <th>vif</th>\n",
       "    </tr>\n",
       "  </thead>\n",
       "  <tbody>\n",
       "    <tr>\n",
       "      <th>kitchen_qual</th>\n",
       "      <td>15.163938</td>\n",
       "    </tr>\n",
       "    <tr>\n",
       "      <th>sq_ft</th>\n",
       "      <td>14.516739</td>\n",
       "    </tr>\n",
       "    <tr>\n",
       "      <th>garage_area</th>\n",
       "      <td>8.499569</td>\n",
       "    </tr>\n",
       "  </tbody>\n",
       "</table>\n",
       "</div>"
      ],
      "text/plain": [
       "                    vif\n",
       "kitchen_qual  15.163938\n",
       "sq_ft         14.516739\n",
       "garage_area    8.499569"
      ]
     },
     "execution_count": 7,
     "metadata": {},
     "output_type": "execute_result"
    }
   ],
   "source": [
    "vif_df(house[['sq_ft', 'kitchen_qual', 'garage_area']])"
   ]
  },
  {
   "cell_type": "code",
   "execution_count": 8,
   "id": "0d4bb158-f8b9-48e5-94e1-9244a4ad04fc",
   "metadata": {},
   "outputs": [
    {
     "data": {
      "text/html": [
       "<div>\n",
       "<style scoped>\n",
       "    .dataframe tbody tr th:only-of-type {\n",
       "        vertical-align: middle;\n",
       "    }\n",
       "\n",
       "    .dataframe tbody tr th {\n",
       "        vertical-align: top;\n",
       "    }\n",
       "\n",
       "    .dataframe thead th {\n",
       "        text-align: right;\n",
       "    }\n",
       "</style>\n",
       "<table border=\"1\" class=\"dataframe\">\n",
       "  <thead>\n",
       "    <tr style=\"text-align: right;\">\n",
       "      <th></th>\n",
       "      <th>vif</th>\n",
       "    </tr>\n",
       "  </thead>\n",
       "  <tbody>\n",
       "    <tr>\n",
       "      <th>sq_ft</th>\n",
       "      <td>12.91426</td>\n",
       "    </tr>\n",
       "    <tr>\n",
       "      <th>kitchen_qual</th>\n",
       "      <td>12.91426</td>\n",
       "    </tr>\n",
       "  </tbody>\n",
       "</table>\n",
       "</div>"
      ],
      "text/plain": [
       "                   vif\n",
       "sq_ft         12.91426\n",
       "kitchen_qual  12.91426"
      ]
     },
     "execution_count": 8,
     "metadata": {},
     "output_type": "execute_result"
    }
   ],
   "source": [
    "vif_df(house[['sq_ft', 'kitchen_qual']])"
   ]
  },
  {
   "cell_type": "code",
   "execution_count": 9,
   "id": "16864adb-f2cd-4dae-a3f9-0fa2f042c2dc",
   "metadata": {},
   "outputs": [
    {
     "data": {
      "text/html": [
       "<div>\n",
       "<style scoped>\n",
       "    .dataframe tbody tr th:only-of-type {\n",
       "        vertical-align: middle;\n",
       "    }\n",
       "\n",
       "    .dataframe tbody tr th {\n",
       "        vertical-align: top;\n",
       "    }\n",
       "\n",
       "    .dataframe thead th {\n",
       "        text-align: right;\n",
       "    }\n",
       "</style>\n",
       "<table border=\"1\" class=\"dataframe\">\n",
       "  <thead>\n",
       "    <tr style=\"text-align: right;\">\n",
       "      <th></th>\n",
       "      <th>vif</th>\n",
       "    </tr>\n",
       "  </thead>\n",
       "  <tbody>\n",
       "    <tr>\n",
       "      <th>sq_ft</th>\n",
       "      <td>7.238598</td>\n",
       "    </tr>\n",
       "    <tr>\n",
       "      <th>garage_area</th>\n",
       "      <td>7.238598</td>\n",
       "    </tr>\n",
       "  </tbody>\n",
       "</table>\n",
       "</div>"
      ],
      "text/plain": [
       "                  vif\n",
       "sq_ft        7.238598\n",
       "garage_area  7.238598"
      ]
     },
     "execution_count": 9,
     "metadata": {},
     "output_type": "execute_result"
    }
   ],
   "source": [
    "vif_df(house[['sq_ft', 'garage_area']])"
   ]
  },
  {
   "cell_type": "code",
   "execution_count": 10,
   "id": "31bed0e5-8666-497f-8ec9-f1a79bc3aeb5",
   "metadata": {},
   "outputs": [
    {
     "data": {
      "text/html": [
       "<div>\n",
       "<style scoped>\n",
       "    .dataframe tbody tr th:only-of-type {\n",
       "        vertical-align: middle;\n",
       "    }\n",
       "\n",
       "    .dataframe tbody tr th {\n",
       "        vertical-align: top;\n",
       "    }\n",
       "\n",
       "    .dataframe thead th {\n",
       "        text-align: right;\n",
       "    }\n",
       "</style>\n",
       "<table border=\"1\" class=\"dataframe\">\n",
       "  <thead>\n",
       "    <tr style=\"text-align: right;\">\n",
       "      <th></th>\n",
       "      <th>vif</th>\n",
       "    </tr>\n",
       "  </thead>\n",
       "  <tbody>\n",
       "    <tr>\n",
       "      <th>garage_area</th>\n",
       "      <td>7.561316</td>\n",
       "    </tr>\n",
       "    <tr>\n",
       "      <th>kitchen_qual</th>\n",
       "      <td>7.561316</td>\n",
       "    </tr>\n",
       "  </tbody>\n",
       "</table>\n",
       "</div>"
      ],
      "text/plain": [
       "                   vif\n",
       "garage_area   7.561316\n",
       "kitchen_qual  7.561316"
      ]
     },
     "execution_count": 10,
     "metadata": {},
     "output_type": "execute_result"
    }
   ],
   "source": [
    "vif_df(house[['kitchen_qual', 'garage_area']])"
   ]
  },
  {
   "cell_type": "markdown",
   "id": "54fd3adc-3d41-4aa2-8635-27d09ebdab3c",
   "metadata": {},
   "source": [
    "Because each possible pair of the three features produce large VIF scores, we can only use one of these features. Let us use `sq_ft` since it has the highest correlation with `saleprice`.\n",
    "\n",
    "To determine other features to use, let us again compute pairwise VIF scores with the `sq_ft` column we already plan on incorporating into our model."
   ]
  },
  {
   "cell_type": "code",
   "execution_count": 11,
   "id": "01b87979-8eaa-4e1e-aeb6-b8e2e315cd9f",
   "metadata": {},
   "outputs": [],
   "source": [
    "numeric_cols = house.select_dtypes(include = 'number').columns"
   ]
  },
  {
   "cell_type": "code",
   "execution_count": 12,
   "id": "bc260a11-dfab-4a8c-814d-d5fe71a5a615",
   "metadata": {},
   "outputs": [
    {
     "name": "stdout",
     "output_type": "stream",
     "text": [
      "               vif\n",
      "sq_ft     4.942785\n",
      "lot_area  4.942785\n",
      "                  vif\n",
      "sq_ft       10.839815\n",
      "year_built  10.839815\n",
      "                      vif\n",
      "sq_ft           10.804353\n",
      "year_remod_add  10.804353\n",
      "                   vif\n",
      "sq_ft         1.684749\n",
      "wood_deck_sf  1.684749\n",
      "                   vif\n",
      "sq_ft          1.67531\n",
      "open_porch_sf  1.67531\n",
      "                   vif\n",
      "sq_ft         12.91426\n",
      "kitchen_qual  12.91426\n",
      "                     vif\n",
      "sq_ft          12.399268\n",
      "bedroom_abvgr  12.399268\n",
      "                 vif\n",
      "sq_ft      13.298271\n",
      "saleprice  13.298271\n",
      "                 vif\n",
      "sq_ft      10.190095\n",
      "qual_cond  10.190095\n",
      "                     vif\n",
      "sq_ft            11.3611\n",
      "exter_qual_cond  11.3611\n",
      "                    vif\n",
      "sq_ft           8.87909\n",
      "bsmt_qual_cond  8.87909\n",
      "                          vif\n",
      "sq_ft                2.237173\n",
      "fireplaces_weighted  2.237173\n",
      "                       vif\n",
      "sq_ft             4.762963\n",
      "bsmt_weighted_sf  4.762963\n",
      "             vif\n",
      "sq_ft  16.996283\n",
      "bath   16.996283\n"
     ]
    }
   ],
   "source": [
    "for col in numeric_cols:\n",
    "    #we have already checked the VIF scores of sq_ft and these three columns\n",
    "    if col not in ['sq_ft', 'kitche_qual', 'garage_area']:\n",
    "        print(vif_df(house[['sq_ft', col]]))"
   ]
  },
  {
   "cell_type": "markdown",
   "id": "5fca6d34-3a2c-4596-9497-4edeb1736995",
   "metadata": {},
   "source": [
    "A heuristic for selecting features based on VIF scores is to pick ones with scores below 5. The only features satisfying this condition with the `sq_ft` column are:\n",
    "\n",
    "- `wood_deck_sf`\n",
    "- `open_porch_sf`\n",
    "- `fireplaces_weighted`\n",
    "- `bsmt_weighted_sf`\n",
    "\n",
    "Although wood decks and open porches surely add value to properties, I highly doubt they are the strongest indicators for home price. Moreover, many homes simply do not have these (47.5% own a wood deck and 55.3% own an open porch). **These may be worth including in a Ridge or Lasso regression** since they may add as much noise as predicting value, something Ridge and Lasso are meant to deal with."
   ]
  },
  {
   "cell_type": "code",
   "execution_count": 13,
   "id": "90196721-67b1-4898-b5e1-4b646c2d8dc5",
   "metadata": {},
   "outputs": [
    {
     "name": "stdout",
     "output_type": "stream",
     "text": [
      "0.474559686888454\n",
      "0.5543052837573386\n"
     ]
    }
   ],
   "source": [
    "print( (house['wood_deck_sf'] != 0).sum()/len(house) )\n",
    "print( (house['open_porch_sf'] != 0).sum()/len(house) )"
   ]
  },
  {
   "cell_type": "markdown",
   "id": "5db7b386-efb7-471a-8698-965ac7f262ab",
   "metadata": {},
   "source": [
    "Of the two left, `bsmt_weighted_sf` has a stronger correlation to `saleprice`. It produces a little higher VIF than I would like to have since I am still looking to add more columns, but our primary goal is prediction instead of inference, so slightly high VIF is not too problematic. If we consider all three columns `sq_ft`, `bsmt_weighted_sf`, and `fireplaces_weighted`, the VIF scores are a little higher than I would like. Again, this may be worth considering in a later modeling attempt and/or when using Ridge or Lasso."
   ]
  },
  {
   "cell_type": "code",
   "execution_count": 14,
   "id": "6b6fab91-451e-4f8b-9460-12db95c55fcc",
   "metadata": {},
   "outputs": [
    {
     "data": {
      "text/html": [
       "<div>\n",
       "<style scoped>\n",
       "    .dataframe tbody tr th:only-of-type {\n",
       "        vertical-align: middle;\n",
       "    }\n",
       "\n",
       "    .dataframe tbody tr th {\n",
       "        vertical-align: top;\n",
       "    }\n",
       "\n",
       "    .dataframe thead th {\n",
       "        text-align: right;\n",
       "    }\n",
       "</style>\n",
       "<table border=\"1\" class=\"dataframe\">\n",
       "  <thead>\n",
       "    <tr style=\"text-align: right;\">\n",
       "      <th></th>\n",
       "      <th>vif</th>\n",
       "    </tr>\n",
       "  </thead>\n",
       "  <tbody>\n",
       "    <tr>\n",
       "      <th>sq_ft</th>\n",
       "      <td>5.436471</td>\n",
       "    </tr>\n",
       "    <tr>\n",
       "      <th>bsmt_weighted_sf</th>\n",
       "      <td>4.880940</td>\n",
       "    </tr>\n",
       "    <tr>\n",
       "      <th>fireplaces_weighted</th>\n",
       "      <td>2.292587</td>\n",
       "    </tr>\n",
       "  </tbody>\n",
       "</table>\n",
       "</div>"
      ],
      "text/plain": [
       "                          vif\n",
       "sq_ft                5.436471\n",
       "bsmt_weighted_sf     4.880940\n",
       "fireplaces_weighted  2.292587"
      ]
     },
     "execution_count": 14,
     "metadata": {},
     "output_type": "execute_result"
    }
   ],
   "source": [
    "# may even be worth including all 3\n",
    "vif_df(house[['sq_ft', 'bsmt_weighted_sf', 'fireplaces_weighted']])"
   ]
  },
  {
   "cell_type": "markdown",
   "id": "fd4672a0-fdca-436d-8dd9-10e153dc652a",
   "metadata": {},
   "source": [
    "Let us store our chosen numeric features for our first model in a list labeled `numeric_features`."
   ]
  },
  {
   "cell_type": "code",
   "execution_count": 15,
   "id": "012e8adc-30d0-4455-b6d8-0d9ecc1b41ef",
   "metadata": {},
   "outputs": [],
   "source": [
    "# our choice of numeric features\n",
    "numeric_features = ['sq_ft', 'bsmt_weighted_sf']"
   ]
  },
  {
   "cell_type": "markdown",
   "id": "77ad36f8-8d8b-4661-abb6-73737f10acb0",
   "metadata": {},
   "source": [
    "---\n",
    "\n",
    "## Determining Which Categorical Features to Use"
   ]
  },
  {
   "cell_type": "markdown",
   "id": "e1e0e1df-78c2-49ad-9870-deb03e8f281f",
   "metadata": {},
   "source": [
    "To select which categorical columns we would like to use"
   ]
  },
  {
   "cell_type": "code",
   "execution_count": 16,
   "id": "74a56c6f-a617-4e11-980b-4cb3d16689ee",
   "metadata": {},
   "outputs": [],
   "source": [
    "categoric_cols = house.select_dtypes(include = ['object'])"
   ]
  },
  {
   "cell_type": "code",
   "execution_count": 17,
   "id": "9431e6a0-40ae-416b-bb6d-cc2812372d51",
   "metadata": {},
   "outputs": [
    {
     "data": {
      "text/html": [
       "<div>\n",
       "<style scoped>\n",
       "    .dataframe tbody tr th:only-of-type {\n",
       "        vertical-align: middle;\n",
       "    }\n",
       "\n",
       "    .dataframe tbody tr th {\n",
       "        vertical-align: top;\n",
       "    }\n",
       "\n",
       "    .dataframe thead th {\n",
       "        text-align: right;\n",
       "    }\n",
       "</style>\n",
       "<table border=\"1\" class=\"dataframe\">\n",
       "  <thead>\n",
       "    <tr style=\"text-align: right;\">\n",
       "      <th></th>\n",
       "      <th>ms_zoning</th>\n",
       "      <th>land_contour</th>\n",
       "      <th>land_slope</th>\n",
       "      <th>neighborhood</th>\n",
       "      <th>condition_1</th>\n",
       "      <th>bldg_type</th>\n",
       "      <th>house_style</th>\n",
       "      <th>mas_vnr_type</th>\n",
       "      <th>sale_type</th>\n",
       "    </tr>\n",
       "  </thead>\n",
       "  <tbody>\n",
       "    <tr>\n",
       "      <th>0</th>\n",
       "      <td>RL</td>\n",
       "      <td>Lvl</td>\n",
       "      <td>Gtl</td>\n",
       "      <td>Sawyer</td>\n",
       "      <td>RRAe</td>\n",
       "      <td>1Fam</td>\n",
       "      <td>2Story</td>\n",
       "      <td>BrkFace</td>\n",
       "      <td>WD</td>\n",
       "    </tr>\n",
       "    <tr>\n",
       "      <th>1</th>\n",
       "      <td>RL</td>\n",
       "      <td>Lvl</td>\n",
       "      <td>Gtl</td>\n",
       "      <td>SawyerW</td>\n",
       "      <td>Norm</td>\n",
       "      <td>1Fam</td>\n",
       "      <td>2Story</td>\n",
       "      <td>BrkFace</td>\n",
       "      <td>WD</td>\n",
       "    </tr>\n",
       "    <tr>\n",
       "      <th>2</th>\n",
       "      <td>RL</td>\n",
       "      <td>Lvl</td>\n",
       "      <td>Gtl</td>\n",
       "      <td>NAmes</td>\n",
       "      <td>Norm</td>\n",
       "      <td>1Fam</td>\n",
       "      <td>1Story</td>\n",
       "      <td>None</td>\n",
       "      <td>WD</td>\n",
       "    </tr>\n",
       "    <tr>\n",
       "      <th>3</th>\n",
       "      <td>RL</td>\n",
       "      <td>Lvl</td>\n",
       "      <td>Gtl</td>\n",
       "      <td>Timber</td>\n",
       "      <td>Norm</td>\n",
       "      <td>1Fam</td>\n",
       "      <td>2Story</td>\n",
       "      <td>None</td>\n",
       "      <td>WD</td>\n",
       "    </tr>\n",
       "    <tr>\n",
       "      <th>4</th>\n",
       "      <td>RL</td>\n",
       "      <td>Lvl</td>\n",
       "      <td>Gtl</td>\n",
       "      <td>SawyerW</td>\n",
       "      <td>Norm</td>\n",
       "      <td>1Fam</td>\n",
       "      <td>1.5Fin</td>\n",
       "      <td>None</td>\n",
       "      <td>WD</td>\n",
       "    </tr>\n",
       "  </tbody>\n",
       "</table>\n",
       "</div>"
      ],
      "text/plain": [
       "  ms_zoning land_contour land_slope neighborhood condition_1 bldg_type  \\\n",
       "0        RL          Lvl        Gtl       Sawyer        RRAe      1Fam   \n",
       "1        RL          Lvl        Gtl      SawyerW        Norm      1Fam   \n",
       "2        RL          Lvl        Gtl        NAmes        Norm      1Fam   \n",
       "3        RL          Lvl        Gtl       Timber        Norm      1Fam   \n",
       "4        RL          Lvl        Gtl      SawyerW        Norm      1Fam   \n",
       "\n",
       "  house_style mas_vnr_type sale_type  \n",
       "0      2Story      BrkFace       WD   \n",
       "1      2Story      BrkFace       WD   \n",
       "2      1Story         None       WD   \n",
       "3      2Story         None       WD   \n",
       "4      1.5Fin         None       WD   "
      ]
     },
     "execution_count": 17,
     "metadata": {},
     "output_type": "execute_result"
    }
   ],
   "source": [
    "categoric_cols.head()"
   ]
  },
  {
   "cell_type": "code",
   "execution_count": 18,
   "id": "85e7869b-237b-49a0-ae89-1122f801ecb7",
   "metadata": {},
   "outputs": [
    {
     "name": "stdout",
     "output_type": "stream",
     "text": [
      "RL         1591\n",
      "RM          316\n",
      "FV          101\n",
      "C (all)      19\n",
      "RH           14\n",
      "A (agr)       2\n",
      "I (all)       1\n",
      "Name: ms_zoning, dtype: int64\n",
      "Lvl    1842\n",
      "HLS      85\n",
      "Bnk      78\n",
      "Low      39\n",
      "Name: land_contour, dtype: int64\n",
      "Gtl    1949\n",
      "Mod      87\n",
      "Sev       8\n",
      "Name: land_slope, dtype: int64\n",
      "NAmes      310\n",
      "CollgCr    180\n",
      "OldTown    163\n",
      "Edwards    141\n",
      "Somerst    130\n",
      "NridgHt    122\n",
      "Gilbert    116\n",
      "Sawyer     111\n",
      "NWAmes      87\n",
      "SawyerW     87\n",
      "Mitchel     81\n",
      "BrkSide     76\n",
      "Crawfor     71\n",
      "IDOTRR      69\n",
      "Timber      48\n",
      "NoRidge     47\n",
      "StoneBr     38\n",
      "SWISU       32\n",
      "ClearCr     25\n",
      "MeadowV     24\n",
      "Blmngtn     22\n",
      "BrDale      19\n",
      "NPkVill     17\n",
      "Veenker     16\n",
      "Blueste      6\n",
      "Greens       3\n",
      "GrnHill      2\n",
      "Landmrk      1\n",
      "Name: neighborhood, dtype: int64\n",
      "Norm      1761\n",
      "Feedr      108\n",
      "Artery      70\n",
      "RRAn        36\n",
      "PosN        27\n",
      "RRAe        21\n",
      "PosA        12\n",
      "RRNn         6\n",
      "RRNe         3\n",
      "Name: condition_1, dtype: int64\n",
      "1Fam      1693\n",
      "TwnhsE     161\n",
      "Duplex      75\n",
      "Twnhs       69\n",
      "2fmCon      46\n",
      "Name: bldg_type, dtype: int64\n",
      "1Story    1056\n",
      "2Story     596\n",
      "1.5Fin     217\n",
      "SLvl        93\n",
      "SFoyer      50\n",
      "2.5Unf      14\n",
      "1.5Unf      12\n",
      "2.5Fin       6\n",
      "Name: house_style, dtype: int64\n",
      "None       1238\n",
      "BrkFace     629\n",
      "Stone       165\n",
      "BrkCmn       12\n",
      "Name: mas_vnr_type, dtype: int64\n",
      "WD       1776\n",
      "New       158\n",
      "COD        63\n",
      "ConLD      17\n",
      "CWD        10\n",
      "ConLI       7\n",
      "ConLw       5\n",
      "Con         4\n",
      "Oth         4\n",
      "Name: sale_type, dtype: int64\n"
     ]
    }
   ],
   "source": [
    "for col in categoric_cols.columns:\n",
    "    print(categoric_cols[col].value_counts(dropna = False))"
   ]
  },
  {
   "cell_type": "markdown",
   "id": "57d12c03-3694-4a27-9ff4-062ffeed0be2",
   "metadata": {},
   "source": [
    "We saw earlier that despite wanting to include many numeric columns, most of them were fairly correlated to `sq_ft`, our primary column of interest, and we could only clearly use two. In the same spirit of avoiding multicollinearity when we chose our numeric variables, let us be picky about which categorical features we decide to use in our model.\n",
    "\n",
    "Immediately, `neighborhood` stands out as an indicator of property value. It is a diverse column and is not surprising that it produces some separation in the `saleprice` values."
   ]
  },
  {
   "cell_type": "code",
   "execution_count": 19,
   "id": "295f14b4-f652-41a2-a597-23f63801d723",
   "metadata": {},
   "outputs": [
    {
     "data": {
      "text/html": [
       "<div>\n",
       "<style scoped>\n",
       "    .dataframe tbody tr th:only-of-type {\n",
       "        vertical-align: middle;\n",
       "    }\n",
       "\n",
       "    .dataframe tbody tr th {\n",
       "        vertical-align: top;\n",
       "    }\n",
       "\n",
       "    .dataframe thead th {\n",
       "        text-align: right;\n",
       "    }\n",
       "</style>\n",
       "<table border=\"1\" class=\"dataframe\">\n",
       "  <thead>\n",
       "    <tr style=\"text-align: right;\">\n",
       "      <th></th>\n",
       "      <th>saleprice</th>\n",
       "    </tr>\n",
       "    <tr>\n",
       "      <th>neighborhood</th>\n",
       "      <th></th>\n",
       "    </tr>\n",
       "  </thead>\n",
       "  <tbody>\n",
       "    <tr>\n",
       "      <th>Blmngtn</th>\n",
       "      <td>200417.681818</td>\n",
       "    </tr>\n",
       "    <tr>\n",
       "      <th>Blueste</th>\n",
       "      <td>144566.666667</td>\n",
       "    </tr>\n",
       "    <tr>\n",
       "      <th>BrDale</th>\n",
       "      <td>103371.052632</td>\n",
       "    </tr>\n",
       "    <tr>\n",
       "      <th>BrkSide</th>\n",
       "      <td>127022.697368</td>\n",
       "    </tr>\n",
       "    <tr>\n",
       "      <th>ClearCr</th>\n",
       "      <td>211729.280000</td>\n",
       "    </tr>\n",
       "    <tr>\n",
       "      <th>CollgCr</th>\n",
       "      <td>202497.216667</td>\n",
       "    </tr>\n",
       "    <tr>\n",
       "      <th>Crawfor</th>\n",
       "      <td>205901.211268</td>\n",
       "    </tr>\n",
       "    <tr>\n",
       "      <th>Edwards</th>\n",
       "      <td>129905.787234</td>\n",
       "    </tr>\n",
       "    <tr>\n",
       "      <th>Gilbert</th>\n",
       "      <td>189228.387931</td>\n",
       "    </tr>\n",
       "    <tr>\n",
       "      <th>Greens</th>\n",
       "      <td>188666.666667</td>\n",
       "    </tr>\n",
       "    <tr>\n",
       "      <th>GrnHill</th>\n",
       "      <td>280000.000000</td>\n",
       "    </tr>\n",
       "    <tr>\n",
       "      <th>IDOTRR</th>\n",
       "      <td>101103.188406</td>\n",
       "    </tr>\n",
       "    <tr>\n",
       "      <th>Landmrk</th>\n",
       "      <td>137000.000000</td>\n",
       "    </tr>\n",
       "    <tr>\n",
       "      <th>MeadowV</th>\n",
       "      <td>100231.250000</td>\n",
       "    </tr>\n",
       "    <tr>\n",
       "      <th>Mitchel</th>\n",
       "      <td>167405.555556</td>\n",
       "    </tr>\n",
       "    <tr>\n",
       "      <th>NAmes</th>\n",
       "      <td>145905.816129</td>\n",
       "    </tr>\n",
       "    <tr>\n",
       "      <th>NPkVill</th>\n",
       "      <td>140476.470588</td>\n",
       "    </tr>\n",
       "    <tr>\n",
       "      <th>NWAmes</th>\n",
       "      <td>194619.022989</td>\n",
       "    </tr>\n",
       "    <tr>\n",
       "      <th>NoRidge</th>\n",
       "      <td>310587.617021</td>\n",
       "    </tr>\n",
       "    <tr>\n",
       "      <th>NridgHt</th>\n",
       "      <td>322831.352459</td>\n",
       "    </tr>\n",
       "    <tr>\n",
       "      <th>OldTown</th>\n",
       "      <td>125276.300613</td>\n",
       "    </tr>\n",
       "    <tr>\n",
       "      <th>SWISU</th>\n",
       "      <td>134758.875000</td>\n",
       "    </tr>\n",
       "    <tr>\n",
       "      <th>Sawyer</th>\n",
       "      <td>137181.909910</td>\n",
       "    </tr>\n",
       "    <tr>\n",
       "      <th>SawyerW</th>\n",
       "      <td>187760.160920</td>\n",
       "    </tr>\n",
       "    <tr>\n",
       "      <th>Somerst</th>\n",
       "      <td>227183.900000</td>\n",
       "    </tr>\n",
       "    <tr>\n",
       "      <th>StoneBr</th>\n",
       "      <td>329675.736842</td>\n",
       "    </tr>\n",
       "    <tr>\n",
       "      <th>Timber</th>\n",
       "      <td>241051.354167</td>\n",
       "    </tr>\n",
       "    <tr>\n",
       "      <th>Veenker</th>\n",
       "      <td>245356.250000</td>\n",
       "    </tr>\n",
       "  </tbody>\n",
       "</table>\n",
       "</div>"
      ],
      "text/plain": [
       "                  saleprice\n",
       "neighborhood               \n",
       "Blmngtn       200417.681818\n",
       "Blueste       144566.666667\n",
       "BrDale        103371.052632\n",
       "BrkSide       127022.697368\n",
       "ClearCr       211729.280000\n",
       "CollgCr       202497.216667\n",
       "Crawfor       205901.211268\n",
       "Edwards       129905.787234\n",
       "Gilbert       189228.387931\n",
       "Greens        188666.666667\n",
       "GrnHill       280000.000000\n",
       "IDOTRR        101103.188406\n",
       "Landmrk       137000.000000\n",
       "MeadowV       100231.250000\n",
       "Mitchel       167405.555556\n",
       "NAmes         145905.816129\n",
       "NPkVill       140476.470588\n",
       "NWAmes        194619.022989\n",
       "NoRidge       310587.617021\n",
       "NridgHt       322831.352459\n",
       "OldTown       125276.300613\n",
       "SWISU         134758.875000\n",
       "Sawyer        137181.909910\n",
       "SawyerW       187760.160920\n",
       "Somerst       227183.900000\n",
       "StoneBr       329675.736842\n",
       "Timber        241051.354167\n",
       "Veenker       245356.250000"
      ]
     },
     "execution_count": 19,
     "metadata": {},
     "output_type": "execute_result"
    }
   ],
   "source": [
    "house.groupby('neighborhood')[['saleprice']].mean()"
   ]
  },
  {
   "cell_type": "code",
   "execution_count": 27,
   "id": "47ab97a7-818a-413a-93a6-f5e3e8b4c3fb",
   "metadata": {},
   "outputs": [
    {
     "data": {
      "image/png": "[encoded data removed]",
      "text/plain": [
       "<Figure size 576x576 with 1 Axes>"
      ]
     },
     "metadata": {
      "needs_background": "light"
     },
     "output_type": "display_data"
    }
   ],
   "source": [
    "plt.figure(figsize = (8,8))\n",
    "sns.stripplot(x = 'saleprice', y = 'neighborhood', data = house, jitter = True).set(title = 'Prices According to Neighborhood' ,);"
   ]
  },
  {
   "cell_type": "markdown",
   "id": "c6e214b6-ad97-4ff8-835c-d9a8de63be15",
   "metadata": {},
   "source": [
    "Almost all the other categorical variables have more than 1500 appearances of a single category (out of 2051). This leads me to believe these features will not do a great job at separating out the values of the different homes. Besides the `neighborhood` column, only `house_style` and `mas_vnr_type` have significant spread of values.\n",
    "\n",
    "Let us start with `neighborhood` and `house_style` as categorical features in our first model. We will include `mas_vnr_type` in a later model."
   ]
  },
  {
   "cell_type": "code",
   "execution_count": 19,
   "id": "b7fd5c3d-aed5-4085-bf61-c29be96f6e72",
   "metadata": {},
   "outputs": [
    {
     "data": {
      "text/html": [
       "<div>\n",
       "<style scoped>\n",
       "    .dataframe tbody tr th:only-of-type {\n",
       "        vertical-align: middle;\n",
       "    }\n",
       "\n",
       "    .dataframe tbody tr th {\n",
       "        vertical-align: top;\n",
       "    }\n",
       "\n",
       "    .dataframe thead th {\n",
       "        text-align: right;\n",
       "    }\n",
       "</style>\n",
       "<table border=\"1\" class=\"dataframe\">\n",
       "  <thead>\n",
       "    <tr style=\"text-align: right;\">\n",
       "      <th></th>\n",
       "      <th>saleprice</th>\n",
       "    </tr>\n",
       "    <tr>\n",
       "      <th>mas_vnr_type</th>\n",
       "      <th></th>\n",
       "    </tr>\n",
       "  </thead>\n",
       "  <tbody>\n",
       "    <tr>\n",
       "      <th>BrkCmn</th>\n",
       "      <td>133475.333333</td>\n",
       "    </tr>\n",
       "    <tr>\n",
       "      <th>BrkFace</th>\n",
       "      <td>211569.483307</td>\n",
       "    </tr>\n",
       "    <tr>\n",
       "      <th>None</th>\n",
       "      <td>154908.626010</td>\n",
       "    </tr>\n",
       "    <tr>\n",
       "      <th>Stone</th>\n",
       "      <td>264595.272727</td>\n",
       "    </tr>\n",
       "  </tbody>\n",
       "</table>\n",
       "</div>"
      ],
      "text/plain": [
       "                  saleprice\n",
       "mas_vnr_type               \n",
       "BrkCmn        133475.333333\n",
       "BrkFace       211569.483307\n",
       "None          154908.626010\n",
       "Stone         264595.272727"
      ]
     },
     "execution_count": 19,
     "metadata": {},
     "output_type": "execute_result"
    }
   ],
   "source": [
    "house.groupby('mas_vnr_type')[['saleprice']].mean()"
   ]
  },
  {
   "cell_type": "markdown",
   "id": "a43c8160-afc0-4564-b596-07b77f5ff211",
   "metadata": {},
   "source": [
    "Below, we store the categorical features we have selected for our first model as `categ_features`."
   ]
  },
  {
   "cell_type": "code",
   "execution_count": 20,
   "id": "b4618f91-01bb-4263-85ac-8ee2a63ff751",
   "metadata": {},
   "outputs": [],
   "source": [
    "categ_features = ['neighborhood', 'house_style']"
   ]
  },
  {
   "cell_type": "markdown",
   "id": "908a7aa0-4d3f-4414-b9e5-8e3260f04e08",
   "metadata": {
    "tags": []
   },
   "source": [
    "---\n",
    "\n",
    "## Making Sure Dummy Columns Agree Between Train and Test"
   ]
  },
  {
   "cell_type": "markdown",
   "id": "d67ed1a5-108f-4280-b3f0-4a46d8b106d6",
   "metadata": {},
   "source": [
    "To create a model involving categorical data we will need to dummify our columns. Unfortunately, it is not guarantee that the dummy columns made from our train data will be the same as the dummy columns that are created from our test data (some category may not appear and thus no column will be created). We will need to resolve this issue for our eventual models to function on the test data.\n",
    "\n",
    "The following code and markdown will be to guarantee that no matter the choice of categoric columns in our model, the train and test data will have identical dummy columns (in the correct order). This way the model we build from our training data can be applied to our testing data.\n",
    "\n",
    "First, we must select the same columns of interest in our test data set and perform the same feature engineering. I have wrapped the code that does this in the function `setup_test()`"
   ]
  },
  {
   "cell_type": "code",
   "execution_count": 21,
   "id": "914a38a6-8385-465e-b535-0ccaa4e88157",
   "metadata": {},
   "outputs": [],
   "source": [
    "house_test = setup_test()"
   ]
  },
  {
   "cell_type": "markdown",
   "id": "b30f0fc9-3ee0-416d-a2cd-5a8a3df8a899",
   "metadata": {},
   "source": [
    "We see that all missing values in our test data have been dealt and the column names the same as our training data (outside of the unseen `saletype` column in our test set)."
   ]
  },
  {
   "cell_type": "code",
   "execution_count": 22,
   "id": "30e9ced7-8b3e-40a5-8f15-bdaed98372ec",
   "metadata": {},
   "outputs": [
    {
     "data": {
      "text/plain": [
       "ms_zoning              0\n",
       "lot_area               0\n",
       "land_contour           0\n",
       "land_slope             0\n",
       "neighborhood           0\n",
       "condition_1            0\n",
       "bldg_type              0\n",
       "house_style            0\n",
       "year_built             0\n",
       "year_remod_add         0\n",
       "mas_vnr_type           0\n",
       "garage_area            0\n",
       "wood_deck_sf           0\n",
       "open_porch_sf          0\n",
       "kitchen_qual           0\n",
       "bedroom_abvgr          0\n",
       "sale_type              0\n",
       "bsmt_qual_cond         0\n",
       "qual_cond              0\n",
       "exter_qual_cond        0\n",
       "fireplaces_weighted    0\n",
       "bsmt_weighted_sf       0\n",
       "bath                   0\n",
       "sq_ft                  0\n",
       "dtype: int64"
      ]
     },
     "execution_count": 22,
     "metadata": {},
     "output_type": "execute_result"
    }
   ],
   "source": [
    "house_test.isnull().sum()"
   ]
  },
  {
   "cell_type": "code",
   "execution_count": 23,
   "id": "c90ae1e6-5989-445b-92e2-5f5149447015",
   "metadata": {},
   "outputs": [
    {
     "data": {
      "text/plain": [
       "Index(['ms_zoning', 'lot_area', 'land_contour', 'land_slope', 'neighborhood',\n",
       "       'condition_1', 'bldg_type', 'house_style', 'year_built',\n",
       "       'year_remod_add', 'mas_vnr_type', 'garage_area', 'wood_deck_sf',\n",
       "       'open_porch_sf', 'kitchen_qual', 'bedroom_abvgr', 'sale_type',\n",
       "       'saleprice', 'qual_cond', 'exter_qual_cond', 'bsmt_qual_cond',\n",
       "       'fireplaces_weighted', 'sq_ft', 'bsmt_weighted_sf', 'bath'],\n",
       "      dtype='object')"
      ]
     },
     "execution_count": 23,
     "metadata": {},
     "output_type": "execute_result"
    }
   ],
   "source": [
    "# training data column names\n",
    "house.columns"
   ]
  },
  {
   "cell_type": "code",
   "execution_count": 35,
   "id": "a593786e-bda8-4b63-b6b9-e58d9f090b48",
   "metadata": {},
   "outputs": [],
   "source": [
    "features = numeric_features + categ_features"
   ]
  },
  {
   "cell_type": "code",
   "execution_count": 25,
   "id": "5cfdb32a-2bff-4c1a-a2d9-a6e06e95bda0",
   "metadata": {},
   "outputs": [],
   "source": [
    "train_to_dummify = house[features]\n",
    "test_to_dummify = house_test[features]"
   ]
  },
  {
   "cell_type": "code",
   "execution_count": 26,
   "id": "31f7047f-2f2b-4546-a46b-e09f21900e7f",
   "metadata": {},
   "outputs": [],
   "source": [
    "# dummify categ_features\n",
    "train_dummified = pd.get_dummies(train_to_dummify, columns = categ_features, drop_first = True)\n",
    "test_dummified = pd.get_dummies(test_to_dummify, columns = categ_features, drop_first = True)"
   ]
  },
  {
   "cell_type": "markdown",
   "id": "f43362fb-2cce-4c6e-9d7a-629e2bea061f",
   "metadata": {},
   "source": [
    "Below we see that after making dummy columns leads to two extra columns in our test data compared to our train data. If we want to create multiple linear models, fixing this issue in a very repeatable way will be important. Let us find these columns and include as zeros in a generalizable way."
   ]
  },
  {
   "cell_type": "code",
   "execution_count": 27,
   "id": "ce2ea734-ba50-41a1-bcbb-eac809b09977",
   "metadata": {},
   "outputs": [
    {
     "name": "stdout",
     "output_type": "stream",
     "text": [
      "(2044, 36)\n",
      "(878, 34)\n"
     ]
    }
   ],
   "source": [
    "# check column counts pre changes\n",
    "print(train_dummified.shape)\n",
    "print(test_dummified.shape)"
   ]
  },
  {
   "cell_type": "code",
   "execution_count": 28,
   "id": "8a5be97a-f840-4a11-acf5-62af83ebe4ae",
   "metadata": {},
   "outputs": [],
   "source": [
    "# save dummy column names from both train and test to a set\n",
    "both_columns_set = set(train_dummified.columns).union(set(test_dummified.columns))\n",
    "\n",
    "# for any column names not in set add column with 0s\n",
    "for col in both_columns_set:\n",
    "    if col not in train_dummified.columns:\n",
    "        train_dummified[col] = 0\n",
    "    if col not in test_dummified.columns:\n",
    "        test_dummified[col] = 0"
   ]
  },
  {
   "cell_type": "code",
   "execution_count": 29,
   "id": "65e85997-61ed-43e2-8e08-3a9e380b27c2",
   "metadata": {},
   "outputs": [
    {
     "name": "stdout",
     "output_type": "stream",
     "text": [
      "(2044, 36)\n",
      "(878, 36)\n"
     ]
    }
   ],
   "source": [
    "# check column counts pre changes\n",
    "print(train_dummified.shape)\n",
    "print(test_dummified.shape)"
   ]
  },
  {
   "cell_type": "markdown",
   "id": "e3257387-51b5-4300-8a31-34381e49a231",
   "metadata": {},
   "source": [
    "As a sanity check, let us examine our columns via the sum command to make sure we did not blatantly modify the data."
   ]
  },
  {
   "cell_type": "code",
   "execution_count": 30,
   "id": "fc68e000-afe8-4f11-8baa-85bff13c5ffc",
   "metadata": {},
   "outputs": [
    {
     "data": {
      "text/plain": [
       "sq_ft                   3042416.0\n",
       "bsmt_weighted_sf        1472368.5\n",
       "neighborhood_Blueste          6.0\n",
       "neighborhood_BrDale          19.0\n",
       "neighborhood_BrkSide         76.0\n",
       "neighborhood_ClearCr         25.0\n",
       "neighborhood_CollgCr        180.0\n",
       "neighborhood_Crawfor         71.0\n",
       "neighborhood_Edwards        141.0\n",
       "neighborhood_Gilbert        116.0\n",
       "neighborhood_Greens           3.0\n",
       "neighborhood_GrnHill          2.0\n",
       "neighborhood_IDOTRR          69.0\n",
       "neighborhood_Landmrk          1.0\n",
       "neighborhood_MeadowV         24.0\n",
       "neighborhood_Mitchel         81.0\n",
       "neighborhood_NAmes          310.0\n",
       "neighborhood_NPkVill         17.0\n",
       "neighborhood_NWAmes          87.0\n",
       "neighborhood_NoRidge         47.0\n",
       "neighborhood_NridgHt        122.0\n",
       "neighborhood_OldTown        163.0\n",
       "neighborhood_SWISU           32.0\n",
       "neighborhood_Sawyer         111.0\n",
       "neighborhood_SawyerW         87.0\n",
       "neighborhood_Somerst        130.0\n",
       "neighborhood_StoneBr         38.0\n",
       "neighborhood_Timber          48.0\n",
       "neighborhood_Veenker         16.0\n",
       "house_style_1.5Unf           12.0\n",
       "house_style_1Story         1056.0\n",
       "house_style_2.5Fin            6.0\n",
       "house_style_2.5Unf           14.0\n",
       "house_style_2Story          596.0\n",
       "house_style_SFoyer           50.0\n",
       "house_style_SLvl             93.0\n",
       "dtype: float64"
      ]
     },
     "execution_count": 30,
     "metadata": {},
     "output_type": "execute_result"
    }
   ],
   "source": [
    "train_dummified.sum()"
   ]
  },
  {
   "cell_type": "code",
   "execution_count": 31,
   "id": "4cd8aad3-543e-40cc-806d-0e3040a17bc4",
   "metadata": {},
   "outputs": [
    {
     "data": {
      "text/plain": [
       "sq_ft                   1311895.0\n",
       "bsmt_weighted_sf         624165.5\n",
       "neighborhood_Blueste          4.0\n",
       "neighborhood_BrDale          11.0\n",
       "neighborhood_BrkSide         32.0\n",
       "neighborhood_ClearCr         17.0\n",
       "neighborhood_CollgCr         87.0\n",
       "neighborhood_Crawfor         32.0\n",
       "neighborhood_Edwards         50.0\n",
       "neighborhood_Gilbert         49.0\n",
       "neighborhood_Greens           5.0\n",
       "neighborhood_IDOTRR          24.0\n",
       "neighborhood_MeadowV         13.0\n",
       "neighborhood_Mitchel         32.0\n",
       "neighborhood_NAmes          133.0\n",
       "neighborhood_NPkVill          6.0\n",
       "neighborhood_NWAmes          44.0\n",
       "neighborhood_NoRidge         23.0\n",
       "neighborhood_NridgHt         44.0\n",
       "neighborhood_OldTown         76.0\n",
       "neighborhood_SWISU           16.0\n",
       "neighborhood_Sawyer          40.0\n",
       "neighborhood_SawyerW         38.0\n",
       "neighborhood_Somerst         52.0\n",
       "neighborhood_StoneBr         13.0\n",
       "neighborhood_Timber          24.0\n",
       "neighborhood_Veenker          7.0\n",
       "house_style_1.5Unf            7.0\n",
       "house_style_1Story          422.0\n",
       "house_style_2.5Fin            2.0\n",
       "house_style_2.5Unf           10.0\n",
       "house_style_2Story          274.0\n",
       "house_style_SFoyer           33.0\n",
       "house_style_SLvl             34.0\n",
       "neighborhood_GrnHill          0.0\n",
       "neighborhood_Landmrk          0.0\n",
       "dtype: float64"
      ]
     },
     "execution_count": 31,
     "metadata": {},
     "output_type": "execute_result"
    }
   ],
   "source": [
    "test_dummified.sum()"
   ]
  },
  {
   "cell_type": "markdown",
   "id": "c72d453b-8b07-45d1-9bca-1025d7ab3dc2",
   "metadata": {},
   "source": [
    "We succesfully added two columns full of zeros to the test data. Success! But we still need the columns to be in the same order so that any eventual models will take the same linear combination of the variables for the train and test data sets."
   ]
  },
  {
   "cell_type": "code",
   "execution_count": 32,
   "id": "080e9580-7a27-4ddc-921d-6f50a6703f02",
   "metadata": {},
   "outputs": [],
   "source": [
    "column_order = train_dummified.columns\n",
    "\n",
    "# makes the test columns match the train column\n",
    "test_dummified = test_dummified[column_order]"
   ]
  },
  {
   "cell_type": "markdown",
   "id": "d6cc0f23-90c5-4546-bb47-d89cf1d75d9f",
   "metadata": {},
   "source": [
    "As a sanity check, we see if the two columns are identical term-by-term."
   ]
  },
  {
   "cell_type": "code",
   "execution_count": 33,
   "id": "4f5874ec-ad90-415a-98aa-0adb31b75bae",
   "metadata": {},
   "outputs": [
    {
     "data": {
      "text/plain": [
       "array([ True,  True,  True,  True,  True,  True,  True,  True,  True,\n",
       "        True,  True,  True,  True,  True,  True,  True,  True,  True,\n",
       "        True,  True,  True,  True,  True,  True,  True,  True,  True,\n",
       "        True,  True,  True,  True,  True,  True,  True,  True,  True])"
      ]
     },
     "execution_count": 33,
     "metadata": {},
     "output_type": "execute_result"
    }
   ],
   "source": [
    "train_dummified.columns == test_dummified.columns"
   ]
  }
 ],
 "metadata": {
  "kernelspec": {
   "display_name": "Python 3 (ipykernel)",
   "language": "python",
   "name": "python3"
  },
  "language_info": {
   "codemirror_mode": {
    "name": "ipython",
    "version": 3
   },
   "file_extension": ".py",
   "mimetype": "text/x-python",
   "name": "python",
   "nbconvert_exporter": "python",
   "pygments_lexer": "ipython3",
   "version": "3.9.12"
  }
 },
 "nbformat": 4,
 "nbformat_minor": 5
}
