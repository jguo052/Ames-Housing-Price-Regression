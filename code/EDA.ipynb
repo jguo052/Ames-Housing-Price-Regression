{
 "cells": [
  {
   "cell_type": "markdown",
   "id": "8b43839b-b279-468d-9f7f-b9b328b62057",
   "metadata": {},
   "source": [
    "# Cleaning and EDA\n",
    "\n",
    "---"
   ]
  },
  {
   "cell_type": "markdown",
   "id": "c405b697-872c-4093-932a-fc43302bdb77",
   "metadata": {},
   "source": [
    "## Initial Steps - Imports, First Look, and Functions"
   ]
  },
  {
   "cell_type": "code",
   "execution_count": 505,
   "id": "4dcf0420-3aaf-4aa8-8bbb-fbe0a7b40d7f",
   "metadata": {},
   "outputs": [],
   "source": [
    "import numpy as np\n",
    "import pandas as pd\n",
    "import matplotlib.pyplot as plt\n",
    "import seaborn as sns\n",
    "\n",
    "from statsmodels.stats.outliers_influence import variance_inflation_factor\n",
    "\n",
    "from sklearn.model_selection import train_test_split, cross_val_score\n",
    "from sklearn.preprocessing import StandardScaler\n",
    "from sklearn.linear_model import LinearRegression\n",
    "from sklearn import metrics\n"
   ]
  },
  {
   "cell_type": "code",
   "execution_count": 506,
   "id": "2a78d6f6-0970-43d7-9346-962a0fc46a28",
   "metadata": {},
   "outputs": [],
   "source": [
    "raw_housing = pd.read_csv('../datasets/train.csv')"
   ]
  },
  {
   "cell_type": "code",
   "execution_count": 507,
   "id": "8fd53adc-7367-48b0-b91a-f8b39965631a",
   "metadata": {},
   "outputs": [
    {
     "data": {
      "text/html": [
       "<div>\n",
       "<style scoped>\n",
       "    .dataframe tbody tr th:only-of-type {\n",
       "        vertical-align: middle;\n",
       "    }\n",
       "\n",
       "    .dataframe tbody tr th {\n",
       "        vertical-align: top;\n",
       "    }\n",
       "\n",
       "    .dataframe thead th {\n",
       "        text-align: right;\n",
       "    }\n",
       "</style>\n",
       "<table border=\"1\" class=\"dataframe\">\n",
       "  <thead>\n",
       "    <tr style=\"text-align: right;\">\n",
       "      <th></th>\n",
       "      <th>Id</th>\n",
       "      <th>PID</th>\n",
       "      <th>MS SubClass</th>\n",
       "      <th>MS Zoning</th>\n",
       "      <th>Lot Frontage</th>\n",
       "      <th>Lot Area</th>\n",
       "      <th>Street</th>\n",
       "      <th>Alley</th>\n",
       "      <th>Lot Shape</th>\n",
       "      <th>Land Contour</th>\n",
       "      <th>...</th>\n",
       "      <th>Screen Porch</th>\n",
       "      <th>Pool Area</th>\n",
       "      <th>Pool QC</th>\n",
       "      <th>Fence</th>\n",
       "      <th>Misc Feature</th>\n",
       "      <th>Misc Val</th>\n",
       "      <th>Mo Sold</th>\n",
       "      <th>Yr Sold</th>\n",
       "      <th>Sale Type</th>\n",
       "      <th>SalePrice</th>\n",
       "    </tr>\n",
       "  </thead>\n",
       "  <tbody>\n",
       "    <tr>\n",
       "      <th>0</th>\n",
       "      <td>109</td>\n",
       "      <td>533352170</td>\n",
       "      <td>60</td>\n",
       "      <td>RL</td>\n",
       "      <td>NaN</td>\n",
       "      <td>13517</td>\n",
       "      <td>Pave</td>\n",
       "      <td>NaN</td>\n",
       "      <td>IR1</td>\n",
       "      <td>Lvl</td>\n",
       "      <td>...</td>\n",
       "      <td>0</td>\n",
       "      <td>0</td>\n",
       "      <td>NaN</td>\n",
       "      <td>NaN</td>\n",
       "      <td>NaN</td>\n",
       "      <td>0</td>\n",
       "      <td>3</td>\n",
       "      <td>2010</td>\n",
       "      <td>WD</td>\n",
       "      <td>130500</td>\n",
       "    </tr>\n",
       "    <tr>\n",
       "      <th>1</th>\n",
       "      <td>544</td>\n",
       "      <td>531379050</td>\n",
       "      <td>60</td>\n",
       "      <td>RL</td>\n",
       "      <td>43.0</td>\n",
       "      <td>11492</td>\n",
       "      <td>Pave</td>\n",
       "      <td>NaN</td>\n",
       "      <td>IR1</td>\n",
       "      <td>Lvl</td>\n",
       "      <td>...</td>\n",
       "      <td>0</td>\n",
       "      <td>0</td>\n",
       "      <td>NaN</td>\n",
       "      <td>NaN</td>\n",
       "      <td>NaN</td>\n",
       "      <td>0</td>\n",
       "      <td>4</td>\n",
       "      <td>2009</td>\n",
       "      <td>WD</td>\n",
       "      <td>220000</td>\n",
       "    </tr>\n",
       "    <tr>\n",
       "      <th>2</th>\n",
       "      <td>153</td>\n",
       "      <td>535304180</td>\n",
       "      <td>20</td>\n",
       "      <td>RL</td>\n",
       "      <td>68.0</td>\n",
       "      <td>7922</td>\n",
       "      <td>Pave</td>\n",
       "      <td>NaN</td>\n",
       "      <td>Reg</td>\n",
       "      <td>Lvl</td>\n",
       "      <td>...</td>\n",
       "      <td>0</td>\n",
       "      <td>0</td>\n",
       "      <td>NaN</td>\n",
       "      <td>NaN</td>\n",
       "      <td>NaN</td>\n",
       "      <td>0</td>\n",
       "      <td>1</td>\n",
       "      <td>2010</td>\n",
       "      <td>WD</td>\n",
       "      <td>109000</td>\n",
       "    </tr>\n",
       "    <tr>\n",
       "      <th>3</th>\n",
       "      <td>318</td>\n",
       "      <td>916386060</td>\n",
       "      <td>60</td>\n",
       "      <td>RL</td>\n",
       "      <td>73.0</td>\n",
       "      <td>9802</td>\n",
       "      <td>Pave</td>\n",
       "      <td>NaN</td>\n",
       "      <td>Reg</td>\n",
       "      <td>Lvl</td>\n",
       "      <td>...</td>\n",
       "      <td>0</td>\n",
       "      <td>0</td>\n",
       "      <td>NaN</td>\n",
       "      <td>NaN</td>\n",
       "      <td>NaN</td>\n",
       "      <td>0</td>\n",
       "      <td>4</td>\n",
       "      <td>2010</td>\n",
       "      <td>WD</td>\n",
       "      <td>174000</td>\n",
       "    </tr>\n",
       "    <tr>\n",
       "      <th>4</th>\n",
       "      <td>255</td>\n",
       "      <td>906425045</td>\n",
       "      <td>50</td>\n",
       "      <td>RL</td>\n",
       "      <td>82.0</td>\n",
       "      <td>14235</td>\n",
       "      <td>Pave</td>\n",
       "      <td>NaN</td>\n",
       "      <td>IR1</td>\n",
       "      <td>Lvl</td>\n",
       "      <td>...</td>\n",
       "      <td>0</td>\n",
       "      <td>0</td>\n",
       "      <td>NaN</td>\n",
       "      <td>NaN</td>\n",
       "      <td>NaN</td>\n",
       "      <td>0</td>\n",
       "      <td>3</td>\n",
       "      <td>2010</td>\n",
       "      <td>WD</td>\n",
       "      <td>138500</td>\n",
       "    </tr>\n",
       "  </tbody>\n",
       "</table>\n",
       "<p>5 rows × 81 columns</p>\n",
       "</div>"
      ],
      "text/plain": [
       "    Id        PID  MS SubClass MS Zoning  Lot Frontage  Lot Area Street Alley  \\\n",
       "0  109  533352170           60        RL           NaN     13517   Pave   NaN   \n",
       "1  544  531379050           60        RL          43.0     11492   Pave   NaN   \n",
       "2  153  535304180           20        RL          68.0      7922   Pave   NaN   \n",
       "3  318  916386060           60        RL          73.0      9802   Pave   NaN   \n",
       "4  255  906425045           50        RL          82.0     14235   Pave   NaN   \n",
       "\n",
       "  Lot Shape Land Contour  ... Screen Porch Pool Area Pool QC Fence  \\\n",
       "0       IR1          Lvl  ...            0         0     NaN   NaN   \n",
       "1       IR1          Lvl  ...            0         0     NaN   NaN   \n",
       "2       Reg          Lvl  ...            0         0     NaN   NaN   \n",
       "3       Reg          Lvl  ...            0         0     NaN   NaN   \n",
       "4       IR1          Lvl  ...            0         0     NaN   NaN   \n",
       "\n",
       "  Misc Feature Misc Val Mo Sold Yr Sold  Sale Type  SalePrice  \n",
       "0          NaN        0       3    2010        WD      130500  \n",
       "1          NaN        0       4    2009        WD      220000  \n",
       "2          NaN        0       1    2010        WD      109000  \n",
       "3          NaN        0       4    2010        WD      174000  \n",
       "4          NaN        0       3    2010        WD      138500  \n",
       "\n",
       "[5 rows x 81 columns]"
      ]
     },
     "execution_count": 507,
     "metadata": {},
     "output_type": "execute_result"
    }
   ],
   "source": [
    "raw_housing.head()"
   ]
  },
  {
   "cell_type": "code",
   "execution_count": 508,
   "id": "737c8448-1543-49fa-9863-76bd4e2b4532",
   "metadata": {},
   "outputs": [],
   "source": [
    "def groupby_saleprice(feature):\n",
    "    '''\n",
    "    Quick check of the mean sale prices across the different categorical values in a given feature\n",
    "    '''\n",
    "    return raw_housing.groupby(feature).mean()[['SalePrice']]\n",
    "\n",
    "\n",
    "# maybe a function that converts overall quality and condition to numerical values and combines them (maybe multiplication)\n",
    "\n",
    "# quality/cond conversion dictionary\n",
    "def qual_to_num(feature):\n",
    "    qual_conversion = {'Ex': 5, 'Gd': 4, 'TA': 3, 'Fa': 2, 'Po': 1, 'NA': 0, np.nan: 0}\n",
    "    \n",
    "    house[feature] = house[feature].apply(lambda x: qual_conversion[x])\n",
    "    \n",
    "    \n",
    "def vif_df(df):\n",
    "    corr_features = df.columns\n",
    "    vif_values = [variance_inflation_factor(df.values, i) for i in range(len(corr_features))]\n",
    "    \n",
    "    vif = pd.DataFrame(vif_values,\n",
    "                   index = corr_features,\n",
    "                   columns = ['vif']).sort_values(by = 'vif', ascending = False)\n",
    "    \n",
    "    return vif\n",
    "\n"
   ]
  },
  {
   "cell_type": "code",
   "execution_count": 509,
   "id": "53b5ca37-0baa-439a-b6d7-d1b4d3228338",
   "metadata": {},
   "outputs": [],
   "source": [
    "# potential correlation\n",
    "# land contour and land slope\n",
    "# Year Built and Year Remod/Add\n",
    "\n",
    "# medium interest in including\n",
    "# land contour, Bldg Type, Mas Vnr Type\n",
    "\n",
    "# not crazy about including\n",
    "# land slope, Condition 1, Year Built, Bsmt Qual\n",
    "# Wood Deck SF, Open Porch SF, Kitchen Qual\n",
    "# Fireplaces, Fireplace Qu\n",
    "\n",
    "# to combine\n",
    "# Overall Qual and Overall Cond\n",
    "# Exter Qual and Exter Cond\n",
    "# Bsmt Qual and Bsmt Cond #\n",
    "# Full Bath and Half Bath\n",
    "# Fireplaces and Fireplace Qu\n",
    "# 1*BsmtFin SF 1 + 0.5*Bsmt Unf SF\n",
    "\n",
    "features = ['MS Zoning', 'Lot Area', 'Land Contour', 'Land Slope', 'Neighborhood', 'Condition 1',\n",
    "            'Bldg Type', 'House Style', 'Overall Qual', 'Overall Cond', 'Year Built', 'Year Remod/Add',\n",
    "           'Mas Vnr Type', 'Exter Qual', 'Exter Cond', 'Bsmt Qual', 'Bsmt Cond',\n",
    "           'Garage Area', 'Wood Deck SF', 'Open Porch SF', 'Kitchen Qual', 'Gr Liv Area', 'Bedroom AbvGr',\n",
    "           'Full Bath', 'Half Bath', 'Fireplaces', 'Fireplace Qu', 'BsmtFin SF 1', 'Bsmt Unf SF', 'SalePrice']"
   ]
  },
  {
   "cell_type": "code",
   "execution_count": 510,
   "id": "113861de-929c-4100-8563-5242865078ce",
   "metadata": {},
   "outputs": [
    {
     "data": {
      "text/html": [
       "<div>\n",
       "<style scoped>\n",
       "    .dataframe tbody tr th:only-of-type {\n",
       "        vertical-align: middle;\n",
       "    }\n",
       "\n",
       "    .dataframe tbody tr th {\n",
       "        vertical-align: top;\n",
       "    }\n",
       "\n",
       "    .dataframe thead th {\n",
       "        text-align: right;\n",
       "    }\n",
       "</style>\n",
       "<table border=\"1\" class=\"dataframe\">\n",
       "  <thead>\n",
       "    <tr style=\"text-align: right;\">\n",
       "      <th></th>\n",
       "      <th>MS Zoning</th>\n",
       "      <th>Lot Area</th>\n",
       "      <th>Land Contour</th>\n",
       "      <th>Land Slope</th>\n",
       "      <th>Neighborhood</th>\n",
       "      <th>Condition 1</th>\n",
       "      <th>Bldg Type</th>\n",
       "      <th>House Style</th>\n",
       "      <th>Overall Qual</th>\n",
       "      <th>Overall Cond</th>\n",
       "      <th>...</th>\n",
       "      <th>Kitchen Qual</th>\n",
       "      <th>Gr Liv Area</th>\n",
       "      <th>Bedroom AbvGr</th>\n",
       "      <th>Full Bath</th>\n",
       "      <th>Half Bath</th>\n",
       "      <th>Fireplaces</th>\n",
       "      <th>Fireplace Qu</th>\n",
       "      <th>BsmtFin SF 1</th>\n",
       "      <th>Bsmt Unf SF</th>\n",
       "      <th>SalePrice</th>\n",
       "    </tr>\n",
       "  </thead>\n",
       "  <tbody>\n",
       "    <tr>\n",
       "      <th>0</th>\n",
       "      <td>RL</td>\n",
       "      <td>13517</td>\n",
       "      <td>Lvl</td>\n",
       "      <td>Gtl</td>\n",
       "      <td>Sawyer</td>\n",
       "      <td>RRAe</td>\n",
       "      <td>1Fam</td>\n",
       "      <td>2Story</td>\n",
       "      <td>6</td>\n",
       "      <td>8</td>\n",
       "      <td>...</td>\n",
       "      <td>Gd</td>\n",
       "      <td>1479</td>\n",
       "      <td>3</td>\n",
       "      <td>2</td>\n",
       "      <td>1</td>\n",
       "      <td>0</td>\n",
       "      <td>NaN</td>\n",
       "      <td>533.0</td>\n",
       "      <td>192.0</td>\n",
       "      <td>130500</td>\n",
       "    </tr>\n",
       "    <tr>\n",
       "      <th>1</th>\n",
       "      <td>RL</td>\n",
       "      <td>11492</td>\n",
       "      <td>Lvl</td>\n",
       "      <td>Gtl</td>\n",
       "      <td>SawyerW</td>\n",
       "      <td>Norm</td>\n",
       "      <td>1Fam</td>\n",
       "      <td>2Story</td>\n",
       "      <td>7</td>\n",
       "      <td>5</td>\n",
       "      <td>...</td>\n",
       "      <td>Gd</td>\n",
       "      <td>2122</td>\n",
       "      <td>4</td>\n",
       "      <td>2</td>\n",
       "      <td>1</td>\n",
       "      <td>1</td>\n",
       "      <td>TA</td>\n",
       "      <td>637.0</td>\n",
       "      <td>276.0</td>\n",
       "      <td>220000</td>\n",
       "    </tr>\n",
       "    <tr>\n",
       "      <th>2</th>\n",
       "      <td>RL</td>\n",
       "      <td>7922</td>\n",
       "      <td>Lvl</td>\n",
       "      <td>Gtl</td>\n",
       "      <td>NAmes</td>\n",
       "      <td>Norm</td>\n",
       "      <td>1Fam</td>\n",
       "      <td>1Story</td>\n",
       "      <td>5</td>\n",
       "      <td>7</td>\n",
       "      <td>...</td>\n",
       "      <td>Gd</td>\n",
       "      <td>1057</td>\n",
       "      <td>3</td>\n",
       "      <td>1</td>\n",
       "      <td>0</td>\n",
       "      <td>0</td>\n",
       "      <td>NaN</td>\n",
       "      <td>731.0</td>\n",
       "      <td>326.0</td>\n",
       "      <td>109000</td>\n",
       "    </tr>\n",
       "    <tr>\n",
       "      <th>3</th>\n",
       "      <td>RL</td>\n",
       "      <td>9802</td>\n",
       "      <td>Lvl</td>\n",
       "      <td>Gtl</td>\n",
       "      <td>Timber</td>\n",
       "      <td>Norm</td>\n",
       "      <td>1Fam</td>\n",
       "      <td>2Story</td>\n",
       "      <td>5</td>\n",
       "      <td>5</td>\n",
       "      <td>...</td>\n",
       "      <td>TA</td>\n",
       "      <td>1444</td>\n",
       "      <td>3</td>\n",
       "      <td>2</td>\n",
       "      <td>1</td>\n",
       "      <td>0</td>\n",
       "      <td>NaN</td>\n",
       "      <td>0.0</td>\n",
       "      <td>384.0</td>\n",
       "      <td>174000</td>\n",
       "    </tr>\n",
       "    <tr>\n",
       "      <th>4</th>\n",
       "      <td>RL</td>\n",
       "      <td>14235</td>\n",
       "      <td>Lvl</td>\n",
       "      <td>Gtl</td>\n",
       "      <td>SawyerW</td>\n",
       "      <td>Norm</td>\n",
       "      <td>1Fam</td>\n",
       "      <td>1.5Fin</td>\n",
       "      <td>6</td>\n",
       "      <td>8</td>\n",
       "      <td>...</td>\n",
       "      <td>TA</td>\n",
       "      <td>1445</td>\n",
       "      <td>3</td>\n",
       "      <td>2</td>\n",
       "      <td>0</td>\n",
       "      <td>0</td>\n",
       "      <td>NaN</td>\n",
       "      <td>0.0</td>\n",
       "      <td>676.0</td>\n",
       "      <td>138500</td>\n",
       "    </tr>\n",
       "  </tbody>\n",
       "</table>\n",
       "<p>5 rows × 30 columns</p>\n",
       "</div>"
      ],
      "text/plain": [
       "  MS Zoning  Lot Area Land Contour Land Slope Neighborhood Condition 1  \\\n",
       "0        RL     13517          Lvl        Gtl       Sawyer        RRAe   \n",
       "1        RL     11492          Lvl        Gtl      SawyerW        Norm   \n",
       "2        RL      7922          Lvl        Gtl        NAmes        Norm   \n",
       "3        RL      9802          Lvl        Gtl       Timber        Norm   \n",
       "4        RL     14235          Lvl        Gtl      SawyerW        Norm   \n",
       "\n",
       "  Bldg Type House Style  Overall Qual  Overall Cond  ...  Kitchen Qual  \\\n",
       "0      1Fam      2Story             6             8  ...            Gd   \n",
       "1      1Fam      2Story             7             5  ...            Gd   \n",
       "2      1Fam      1Story             5             7  ...            Gd   \n",
       "3      1Fam      2Story             5             5  ...            TA   \n",
       "4      1Fam      1.5Fin             6             8  ...            TA   \n",
       "\n",
       "   Gr Liv Area Bedroom AbvGr Full Bath Half Bath Fireplaces Fireplace Qu  \\\n",
       "0         1479             3         2         1          0          NaN   \n",
       "1         2122             4         2         1          1           TA   \n",
       "2         1057             3         1         0          0          NaN   \n",
       "3         1444             3         2         1          0          NaN   \n",
       "4         1445             3         2         0          0          NaN   \n",
       "\n",
       "   BsmtFin SF 1  Bsmt Unf SF  SalePrice  \n",
       "0         533.0        192.0     130500  \n",
       "1         637.0        276.0     220000  \n",
       "2         731.0        326.0     109000  \n",
       "3           0.0        384.0     174000  \n",
       "4           0.0        676.0     138500  \n",
       "\n",
       "[5 rows x 30 columns]"
      ]
     },
     "execution_count": 510,
     "metadata": {},
     "output_type": "execute_result"
    }
   ],
   "source": [
    "house = raw_housing[features].copy()\n",
    "house.head()"
   ]
  },
  {
   "cell_type": "code",
   "execution_count": 511,
   "id": "9cb51782-fd69-4135-a19b-29ce72f047c8",
   "metadata": {},
   "outputs": [],
   "source": [
    "house.columns = [col.lower().replace(' ','_').replace('/','_') for col in house.columns]"
   ]
  },
  {
   "cell_type": "code",
   "execution_count": 512,
   "id": "d597c85b-f286-4117-beac-e6e56b59eb95",
   "metadata": {
    "tags": []
   },
   "outputs": [
    {
     "data": {
      "text/html": [
       "<div>\n",
       "<style scoped>\n",
       "    .dataframe tbody tr th:only-of-type {\n",
       "        vertical-align: middle;\n",
       "    }\n",
       "\n",
       "    .dataframe tbody tr th {\n",
       "        vertical-align: top;\n",
       "    }\n",
       "\n",
       "    .dataframe thead th {\n",
       "        text-align: right;\n",
       "    }\n",
       "</style>\n",
       "<table border=\"1\" class=\"dataframe\">\n",
       "  <thead>\n",
       "    <tr style=\"text-align: right;\">\n",
       "      <th></th>\n",
       "      <th>ms_zoning</th>\n",
       "      <th>lot_area</th>\n",
       "      <th>land_contour</th>\n",
       "      <th>land_slope</th>\n",
       "      <th>neighborhood</th>\n",
       "      <th>condition_1</th>\n",
       "      <th>bldg_type</th>\n",
       "      <th>house_style</th>\n",
       "      <th>overall_qual</th>\n",
       "      <th>overall_cond</th>\n",
       "      <th>...</th>\n",
       "      <th>kitchen_qual</th>\n",
       "      <th>gr_liv_area</th>\n",
       "      <th>bedroom_abvgr</th>\n",
       "      <th>full_bath</th>\n",
       "      <th>half_bath</th>\n",
       "      <th>fireplaces</th>\n",
       "      <th>fireplace_qu</th>\n",
       "      <th>bsmtfin_sf_1</th>\n",
       "      <th>bsmt_unf_sf</th>\n",
       "      <th>saleprice</th>\n",
       "    </tr>\n",
       "  </thead>\n",
       "  <tbody>\n",
       "    <tr>\n",
       "      <th>0</th>\n",
       "      <td>RL</td>\n",
       "      <td>13517</td>\n",
       "      <td>Lvl</td>\n",
       "      <td>Gtl</td>\n",
       "      <td>Sawyer</td>\n",
       "      <td>RRAe</td>\n",
       "      <td>1Fam</td>\n",
       "      <td>2Story</td>\n",
       "      <td>6</td>\n",
       "      <td>8</td>\n",
       "      <td>...</td>\n",
       "      <td>Gd</td>\n",
       "      <td>1479</td>\n",
       "      <td>3</td>\n",
       "      <td>2</td>\n",
       "      <td>1</td>\n",
       "      <td>0</td>\n",
       "      <td>NaN</td>\n",
       "      <td>533.0</td>\n",
       "      <td>192.0</td>\n",
       "      <td>130500</td>\n",
       "    </tr>\n",
       "    <tr>\n",
       "      <th>1</th>\n",
       "      <td>RL</td>\n",
       "      <td>11492</td>\n",
       "      <td>Lvl</td>\n",
       "      <td>Gtl</td>\n",
       "      <td>SawyerW</td>\n",
       "      <td>Norm</td>\n",
       "      <td>1Fam</td>\n",
       "      <td>2Story</td>\n",
       "      <td>7</td>\n",
       "      <td>5</td>\n",
       "      <td>...</td>\n",
       "      <td>Gd</td>\n",
       "      <td>2122</td>\n",
       "      <td>4</td>\n",
       "      <td>2</td>\n",
       "      <td>1</td>\n",
       "      <td>1</td>\n",
       "      <td>TA</td>\n",
       "      <td>637.0</td>\n",
       "      <td>276.0</td>\n",
       "      <td>220000</td>\n",
       "    </tr>\n",
       "    <tr>\n",
       "      <th>2</th>\n",
       "      <td>RL</td>\n",
       "      <td>7922</td>\n",
       "      <td>Lvl</td>\n",
       "      <td>Gtl</td>\n",
       "      <td>NAmes</td>\n",
       "      <td>Norm</td>\n",
       "      <td>1Fam</td>\n",
       "      <td>1Story</td>\n",
       "      <td>5</td>\n",
       "      <td>7</td>\n",
       "      <td>...</td>\n",
       "      <td>Gd</td>\n",
       "      <td>1057</td>\n",
       "      <td>3</td>\n",
       "      <td>1</td>\n",
       "      <td>0</td>\n",
       "      <td>0</td>\n",
       "      <td>NaN</td>\n",
       "      <td>731.0</td>\n",
       "      <td>326.0</td>\n",
       "      <td>109000</td>\n",
       "    </tr>\n",
       "    <tr>\n",
       "      <th>3</th>\n",
       "      <td>RL</td>\n",
       "      <td>9802</td>\n",
       "      <td>Lvl</td>\n",
       "      <td>Gtl</td>\n",
       "      <td>Timber</td>\n",
       "      <td>Norm</td>\n",
       "      <td>1Fam</td>\n",
       "      <td>2Story</td>\n",
       "      <td>5</td>\n",
       "      <td>5</td>\n",
       "      <td>...</td>\n",
       "      <td>TA</td>\n",
       "      <td>1444</td>\n",
       "      <td>3</td>\n",
       "      <td>2</td>\n",
       "      <td>1</td>\n",
       "      <td>0</td>\n",
       "      <td>NaN</td>\n",
       "      <td>0.0</td>\n",
       "      <td>384.0</td>\n",
       "      <td>174000</td>\n",
       "    </tr>\n",
       "    <tr>\n",
       "      <th>4</th>\n",
       "      <td>RL</td>\n",
       "      <td>14235</td>\n",
       "      <td>Lvl</td>\n",
       "      <td>Gtl</td>\n",
       "      <td>SawyerW</td>\n",
       "      <td>Norm</td>\n",
       "      <td>1Fam</td>\n",
       "      <td>1.5Fin</td>\n",
       "      <td>6</td>\n",
       "      <td>8</td>\n",
       "      <td>...</td>\n",
       "      <td>TA</td>\n",
       "      <td>1445</td>\n",
       "      <td>3</td>\n",
       "      <td>2</td>\n",
       "      <td>0</td>\n",
       "      <td>0</td>\n",
       "      <td>NaN</td>\n",
       "      <td>0.0</td>\n",
       "      <td>676.0</td>\n",
       "      <td>138500</td>\n",
       "    </tr>\n",
       "  </tbody>\n",
       "</table>\n",
       "<p>5 rows × 30 columns</p>\n",
       "</div>"
      ],
      "text/plain": [
       "  ms_zoning  lot_area land_contour land_slope neighborhood condition_1  \\\n",
       "0        RL     13517          Lvl        Gtl       Sawyer        RRAe   \n",
       "1        RL     11492          Lvl        Gtl      SawyerW        Norm   \n",
       "2        RL      7922          Lvl        Gtl        NAmes        Norm   \n",
       "3        RL      9802          Lvl        Gtl       Timber        Norm   \n",
       "4        RL     14235          Lvl        Gtl      SawyerW        Norm   \n",
       "\n",
       "  bldg_type house_style  overall_qual  overall_cond  ...  kitchen_qual  \\\n",
       "0      1Fam      2Story             6             8  ...            Gd   \n",
       "1      1Fam      2Story             7             5  ...            Gd   \n",
       "2      1Fam      1Story             5             7  ...            Gd   \n",
       "3      1Fam      2Story             5             5  ...            TA   \n",
       "4      1Fam      1.5Fin             6             8  ...            TA   \n",
       "\n",
       "   gr_liv_area bedroom_abvgr full_bath half_bath fireplaces fireplace_qu  \\\n",
       "0         1479             3         2         1          0          NaN   \n",
       "1         2122             4         2         1          1           TA   \n",
       "2         1057             3         1         0          0          NaN   \n",
       "3         1444             3         2         1          0          NaN   \n",
       "4         1445             3         2         0          0          NaN   \n",
       "\n",
       "   bsmtfin_sf_1  bsmt_unf_sf  saleprice  \n",
       "0         533.0        192.0     130500  \n",
       "1         637.0        276.0     220000  \n",
       "2         731.0        326.0     109000  \n",
       "3           0.0        384.0     174000  \n",
       "4           0.0        676.0     138500  \n",
       "\n",
       "[5 rows x 30 columns]"
      ]
     },
     "execution_count": 512,
     "metadata": {},
     "output_type": "execute_result"
    }
   ],
   "source": [
    "house.head()"
   ]
  },
  {
   "cell_type": "markdown",
   "id": "ef90fb7b-fab9-457f-bb1d-2fffd6305c91",
   "metadata": {},
   "source": [
    "---\n",
    "\n",
    "## Dealing with Missing Values and Combining Columns"
   ]
  },
  {
   "cell_type": "code",
   "execution_count": 513,
   "id": "44fce3a9-4869-4c59-b5e9-c6b37e0fe2bf",
   "metadata": {},
   "outputs": [
    {
     "data": {
      "text/plain": [
       "ms_zoning            0\n",
       "lot_area             0\n",
       "land_contour         0\n",
       "land_slope           0\n",
       "neighborhood         0\n",
       "condition_1          0\n",
       "bldg_type            0\n",
       "house_style          0\n",
       "overall_qual         0\n",
       "overall_cond         0\n",
       "year_built           0\n",
       "year_remod_add       0\n",
       "mas_vnr_type        22\n",
       "exter_qual           0\n",
       "exter_cond           0\n",
       "bsmt_qual           55\n",
       "bsmt_cond           55\n",
       "garage_area          1\n",
       "wood_deck_sf         0\n",
       "open_porch_sf        0\n",
       "kitchen_qual         0\n",
       "gr_liv_area          0\n",
       "bedroom_abvgr        0\n",
       "full_bath            0\n",
       "half_bath            0\n",
       "fireplaces           0\n",
       "fireplace_qu      1000\n",
       "bsmtfin_sf_1         1\n",
       "bsmt_unf_sf          1\n",
       "saleprice            0\n",
       "dtype: int64"
      ]
     },
     "execution_count": 513,
     "metadata": {},
     "output_type": "execute_result"
    }
   ],
   "source": [
    "house.isnull().sum()"
   ]
  },
  {
   "cell_type": "markdown",
   "id": "face7f8c-b2f4-44ef-8cbf-cb5b527ca083",
   "metadata": {},
   "source": [
    "There is one row missing all the basement data. It may be fair to assume that the home is missing a basement and these values would all be zero."
   ]
  },
  {
   "cell_type": "code",
   "execution_count": 514,
   "id": "8376669d-e119-4d4b-9989-9ad503c45edb",
   "metadata": {},
   "outputs": [
    {
     "data": {
      "text/html": [
       "<div>\n",
       "<style scoped>\n",
       "    .dataframe tbody tr th:only-of-type {\n",
       "        vertical-align: middle;\n",
       "    }\n",
       "\n",
       "    .dataframe tbody tr th {\n",
       "        vertical-align: top;\n",
       "    }\n",
       "\n",
       "    .dataframe thead th {\n",
       "        text-align: right;\n",
       "    }\n",
       "</style>\n",
       "<table border=\"1\" class=\"dataframe\">\n",
       "  <thead>\n",
       "    <tr style=\"text-align: right;\">\n",
       "      <th></th>\n",
       "      <th>bsmt_qual</th>\n",
       "      <th>bsmt_cond</th>\n",
       "      <th>garage_area</th>\n",
       "      <th>bsmtfin_sf_1</th>\n",
       "      <th>bsmt_unf_sf</th>\n",
       "    </tr>\n",
       "  </thead>\n",
       "  <tbody>\n",
       "    <tr>\n",
       "      <th>1327</th>\n",
       "      <td>NaN</td>\n",
       "      <td>NaN</td>\n",
       "      <td>280.0</td>\n",
       "      <td>NaN</td>\n",
       "      <td>NaN</td>\n",
       "    </tr>\n",
       "  </tbody>\n",
       "</table>\n",
       "</div>"
      ],
      "text/plain": [
       "     bsmt_qual bsmt_cond  garage_area  bsmtfin_sf_1  bsmt_unf_sf\n",
       "1327       NaN       NaN        280.0           NaN          NaN"
      ]
     },
     "execution_count": 514,
     "metadata": {},
     "output_type": "execute_result"
    }
   ],
   "source": [
    "null_basement_info = house[house['bsmtfin_sf_1'].isna()]\n",
    "null_basement_info[['bsmt_qual', 'bsmt_cond', 'garage_area', 'bsmtfin_sf_1', 'bsmt_unf_sf']]"
   ]
  },
  {
   "cell_type": "code",
   "execution_count": 515,
   "id": "75803380-5e48-44d2-a48f-c29392bf2b69",
   "metadata": {},
   "outputs": [],
   "source": [
    "# turn missing basement square feet info into zeros\n",
    "# basement quality and condition will be dealt with later\n",
    "house.loc[house['bsmtfin_sf_1'].isna(), ['bsmtfin_sf_1', 'bsmt_unf_sf']] = 0"
   ]
  },
  {
   "cell_type": "markdown",
   "id": "5b2bfbf1-d74a-4b84-88f0-5acf7b3aea55",
   "metadata": {},
   "source": [
    "We only have one garage related column so it is more challenging to infer about the row with a missing `garage_area` value. It is likely fine to convert this singe row's `garage_area` value to zero also."
   ]
  },
  {
   "cell_type": "code",
   "execution_count": 516,
   "id": "15a9b41d-0a1d-48a2-9f63-ece6ffc68c45",
   "metadata": {},
   "outputs": [],
   "source": [
    "house.loc[house['garage_area'].isna(), 'garage_area'] = 0"
   ]
  },
  {
   "cell_type": "markdown",
   "id": "a94ea6f8-4274-4e7d-bd2b-6cf107bfbb7b",
   "metadata": {},
   "source": [
    "Missing values in the basement columns appear to be homes without basements. We see the missing 55 entries in the same rows for `bsmt_qual` and `bsmt_cond`."
   ]
  },
  {
   "cell_type": "code",
   "execution_count": 517,
   "id": "d164a23e-340c-4439-9231-457053fe8b97",
   "metadata": {},
   "outputs": [
    {
     "data": {
      "text/plain": [
       "NaN    55\n",
       "Name: bsmt_cond, dtype: int64"
      ]
     },
     "execution_count": 517,
     "metadata": {},
     "output_type": "execute_result"
    }
   ],
   "source": [
    "house.loc[house['bsmt_qual'].isnull(), 'bsmt_cond'].value_counts(dropna = False)"
   ]
  },
  {
   "cell_type": "code",
   "execution_count": 518,
   "id": "0fa36caa-55f6-4410-bceb-037e9aa65ef2",
   "metadata": {},
   "outputs": [],
   "source": [
    "# converts descriptive rating to numerical\n",
    "qual_to_num('bsmt_qual')\n",
    "qual_to_num('bsmt_cond')\n",
    "\n",
    "# combines basment quality and condition ratings via multiplication\n",
    "house['bsmt_qual_cond'] = house['bsmt_qual'] * house['bsmt_cond']\n",
    "house.drop(columns = ['bsmt_qual', 'bsmt_cond'], inplace = True)"
   ]
  },
  {
   "cell_type": "markdown",
   "id": "6597ea8c-0f9d-4bd7-a6ef-ed4a965f202b",
   "metadata": {},
   "source": [
    "We see the same issue arise with `fireplaces` and `fireplace_qu`. The homes with zero fireplaces are fittingly missing descriptions for the quality of their fireplace."
   ]
  },
  {
   "cell_type": "code",
   "execution_count": 519,
   "id": "8e0dca17-b486-45f9-a21a-cb5559f34a24",
   "metadata": {},
   "outputs": [
    {
     "data": {
      "text/plain": [
       "NaN    1000\n",
       "Name: fireplace_qu, dtype: int64"
      ]
     },
     "execution_count": 519,
     "metadata": {},
     "output_type": "execute_result"
    }
   ],
   "source": [
    "house.loc[house['fireplaces'] == 0, 'fireplace_qu'].value_counts(dropna = False)"
   ]
  },
  {
   "cell_type": "code",
   "execution_count": 520,
   "id": "8dbb215a-9095-41d4-b51c-3293f82ab3a0",
   "metadata": {},
   "outputs": [],
   "source": [
    "# converts descriptive rating to numerical\n",
    "qual_to_num('fireplace_qu')\n",
    "\n",
    "# combines fireplace count and quality rating via multiplication\n",
    "house['fireplaces_weighted'] = house['fireplaces'] * house['fireplace_qu']\n",
    "house.drop(columns = ['fireplaces', 'fireplace_qu'], inplace = True)"
   ]
  },
  {
   "cell_type": "markdown",
   "id": "3cd2b301-706c-4485-8ed7-a0dd2bd95635",
   "metadata": {},
   "source": [
    "The only remaining column with missing entires is `mas_vnr_typ`. This is not something we can reasonably adjust, so we will leave these missing values in until they give us a reason to drop them or the column."
   ]
  },
  {
   "cell_type": "code",
   "execution_count": 521,
   "id": "f8dd6791-45bb-4c33-9bc2-322960061532",
   "metadata": {},
   "outputs": [
    {
     "data": {
      "text/plain": [
       "ms_zoning               0\n",
       "lot_area                0\n",
       "land_contour            0\n",
       "land_slope              0\n",
       "neighborhood            0\n",
       "condition_1             0\n",
       "bldg_type               0\n",
       "house_style             0\n",
       "overall_qual            0\n",
       "overall_cond            0\n",
       "year_built              0\n",
       "year_remod_add          0\n",
       "mas_vnr_type           22\n",
       "exter_qual              0\n",
       "exter_cond              0\n",
       "garage_area             0\n",
       "wood_deck_sf            0\n",
       "open_porch_sf           0\n",
       "kitchen_qual            0\n",
       "gr_liv_area             0\n",
       "bedroom_abvgr           0\n",
       "full_bath               0\n",
       "half_bath               0\n",
       "bsmtfin_sf_1            0\n",
       "bsmt_unf_sf             0\n",
       "saleprice               0\n",
       "bsmt_qual_cond          0\n",
       "fireplaces_weighted     0\n",
       "dtype: int64"
      ]
     },
     "execution_count": 521,
     "metadata": {},
     "output_type": "execute_result"
    }
   ],
   "source": [
    "house.isnull().sum()"
   ]
  },
  {
   "cell_type": "code",
   "execution_count": 522,
   "id": "b0eecd39-e610-4dbc-8719-7af65ae17a92",
   "metadata": {},
   "outputs": [
    {
     "data": {
      "text/plain": [
       "None       1218\n",
       "BrkFace     630\n",
       "Stone       168\n",
       "NaN          22\n",
       "BrkCmn       13\n",
       "Name: mas_vnr_type, dtype: int64"
      ]
     },
     "execution_count": 522,
     "metadata": {},
     "output_type": "execute_result"
    }
   ],
   "source": [
    "house['mas_vnr_type'].value_counts(dropna = False)"
   ]
  },
  {
   "cell_type": "code",
   "execution_count": 523,
   "id": "1861063f-692f-42f3-83ee-805e5ed35e0f",
   "metadata": {},
   "outputs": [],
   "source": [
    "# To edit\n",
    "# features = ['MS Zoning', 'Lot Area', 'Land Contour', 'Land Slope', 'Neighborhood', 'Condition 1',\n",
    "#            'Bldg Type', 'House Style', 'Year Built', 'Year Remod/Add',\n",
    "#           'Mas Vnr Type', 'Bsmt Qual', 'Bsmt Cond', 'Total Bsmt SF',\n",
    "#           'Garage Area', 'Wood Deck SF', 'Open Porch SF', 'Kitchen Qual', 'Gr Liv Area', 'Bedroom AbvGr']"
   ]
  },
  {
   "cell_type": "code",
   "execution_count": 524,
   "id": "559380ae-e65a-4ed2-b65d-f22694392d9f",
   "metadata": {},
   "outputs": [],
   "source": [
    "# adds square feet (SF) measurements with weights:\n",
    "# 1*(Finished SF) + 0.5(Unfinished SF)\n",
    "house['bsmt_weighted_sf'] = house['bsmtfin_sf_1'] + 0.5*house['bsmt_unf_sf']\n",
    "house.drop(columns = ['bsmtfin_sf_1', 'bsmt_unf_sf'], inplace = True)"
   ]
  },
  {
   "cell_type": "code",
   "execution_count": 525,
   "id": "346c573d-0074-466e-98ef-757937f125bd",
   "metadata": {},
   "outputs": [],
   "source": [
    "# combines overall quality and condition into one column via multiplication\n",
    "house['qual_cond'] = house['overall_qual'] * house['overall_cond']\n",
    "house.drop(columns = ['overall_qual', 'overall_cond'], inplace = True)"
   ]
  },
  {
   "cell_type": "code",
   "execution_count": 526,
   "id": "b27b4461-910a-46d6-a339-c97b9458deec",
   "metadata": {},
   "outputs": [],
   "source": [
    "# converts descriptive rating to numerical\n",
    "qual_to_num('exter_qual')\n",
    "qual_to_num('exter_cond')\n",
    "\n",
    "# combines exterior quality and condition into one column via multiplication\n",
    "house['exter_qual_cond'] = house['exter_qual'] * house['exter_cond']\n",
    "house.drop(columns = ['exter_qual', 'exter_cond'], inplace = True)"
   ]
  },
  {
   "cell_type": "code",
   "execution_count": 527,
   "id": "76f690be-f344-4d6a-a71d-8db8b2522e12",
   "metadata": {},
   "outputs": [],
   "source": [
    "# combines full bath and half bath into one column\n",
    "house['bath'] = house['full_bath'] + 0.5*house['half_bath']\n",
    "house.drop(columns = ['full_bath', 'half_bath'], inplace = True)"
   ]
  },
  {
   "cell_type": "code",
   "execution_count": 528,
   "id": "3319d9db-8c34-427d-9da8-065f5e70695f",
   "metadata": {},
   "outputs": [],
   "source": [
    "# convert descriptive rating to numerical\n",
    "qual_to_num('kitchen_qual')"
   ]
  },
  {
   "cell_type": "code",
   "execution_count": 244,
   "id": "24cafaef-19b3-4b64-bf21-fd619e45fe35",
   "metadata": {},
   "outputs": [],
   "source": [
    "# consider squaring kitchen qual to match how other ratings are qual * cond"
   ]
  },
  {
   "cell_type": "markdown",
   "id": "623ec94e-ec22-48fc-984f-6424df557379",
   "metadata": {},
   "source": [
    "---\n",
    "\n",
    "## Removing Outliers and Exploratory Data Analysis"
   ]
  },
  {
   "cell_type": "code",
   "execution_count": 530,
   "id": "611f8fc2-687e-4b3e-adea-c39c6aafc850",
   "metadata": {},
   "outputs": [
    {
     "data": {
      "text/html": [
       "<div>\n",
       "<style scoped>\n",
       "    .dataframe tbody tr th:only-of-type {\n",
       "        vertical-align: middle;\n",
       "    }\n",
       "\n",
       "    .dataframe tbody tr th {\n",
       "        vertical-align: top;\n",
       "    }\n",
       "\n",
       "    .dataframe thead th {\n",
       "        text-align: right;\n",
       "    }\n",
       "</style>\n",
       "<table border=\"1\" class=\"dataframe\">\n",
       "  <thead>\n",
       "    <tr style=\"text-align: right;\">\n",
       "      <th></th>\n",
       "      <th>lot_area</th>\n",
       "      <th>year_built</th>\n",
       "      <th>year_remod_add</th>\n",
       "      <th>garage_area</th>\n",
       "      <th>wood_deck_sf</th>\n",
       "      <th>open_porch_sf</th>\n",
       "      <th>kitchen_qual</th>\n",
       "      <th>gr_liv_area</th>\n",
       "      <th>bedroom_abvgr</th>\n",
       "      <th>saleprice</th>\n",
       "      <th>bsmt_qual_cond</th>\n",
       "      <th>fireplaces_weighted</th>\n",
       "      <th>bsmt_weighted_sf</th>\n",
       "      <th>qual_cond</th>\n",
       "      <th>exter_qual_cond</th>\n",
       "      <th>bath</th>\n",
       "    </tr>\n",
       "  </thead>\n",
       "  <tbody>\n",
       "    <tr>\n",
       "      <th>count</th>\n",
       "      <td>2051.000000</td>\n",
       "      <td>2051.000000</td>\n",
       "      <td>2051.000000</td>\n",
       "      <td>2051.000000</td>\n",
       "      <td>2051.000000</td>\n",
       "      <td>2051.000000</td>\n",
       "      <td>2051.000000</td>\n",
       "      <td>2051.000000</td>\n",
       "      <td>2051.000000</td>\n",
       "      <td>2051.000000</td>\n",
       "      <td>2051.000000</td>\n",
       "      <td>2051.000000</td>\n",
       "      <td>2051.000000</td>\n",
       "      <td>2051.000000</td>\n",
       "      <td>2051.000000</td>\n",
       "      <td>2051.000000</td>\n",
       "    </tr>\n",
       "    <tr>\n",
       "      <th>mean</th>\n",
       "      <td>10065.208191</td>\n",
       "      <td>1971.708922</td>\n",
       "      <td>1984.190151</td>\n",
       "      <td>473.440761</td>\n",
       "      <td>93.833740</td>\n",
       "      <td>47.556802</td>\n",
       "      <td>3.517309</td>\n",
       "      <td>1499.330083</td>\n",
       "      <td>2.843491</td>\n",
       "      <td>181469.701609</td>\n",
       "      <td>10.549000</td>\n",
       "      <td>2.033642</td>\n",
       "      <td>725.810580</td>\n",
       "      <td>33.866407</td>\n",
       "      <td>10.518284</td>\n",
       "      <td>1.762799</td>\n",
       "    </tr>\n",
       "    <tr>\n",
       "      <th>std</th>\n",
       "      <td>6742.488909</td>\n",
       "      <td>30.177889</td>\n",
       "      <td>21.036250</td>\n",
       "      <td>216.135102</td>\n",
       "      <td>128.549416</td>\n",
       "      <td>66.747241</td>\n",
       "      <td>0.665577</td>\n",
       "      <td>500.447829</td>\n",
       "      <td>0.826618</td>\n",
       "      <td>79258.659352</td>\n",
       "      <td>3.061151</td>\n",
       "      <td>2.283203</td>\n",
       "      <td>406.466601</td>\n",
       "      <td>9.255859</td>\n",
       "      <td>2.195124</td>\n",
       "      <td>0.637775</td>\n",
       "    </tr>\n",
       "    <tr>\n",
       "      <th>min</th>\n",
       "      <td>1300.000000</td>\n",
       "      <td>1872.000000</td>\n",
       "      <td>1950.000000</td>\n",
       "      <td>0.000000</td>\n",
       "      <td>0.000000</td>\n",
       "      <td>0.000000</td>\n",
       "      <td>2.000000</td>\n",
       "      <td>334.000000</td>\n",
       "      <td>0.000000</td>\n",
       "      <td>12789.000000</td>\n",
       "      <td>0.000000</td>\n",
       "      <td>0.000000</td>\n",
       "      <td>0.000000</td>\n",
       "      <td>1.000000</td>\n",
       "      <td>2.000000</td>\n",
       "      <td>0.000000</td>\n",
       "    </tr>\n",
       "    <tr>\n",
       "      <th>25%</th>\n",
       "      <td>7500.000000</td>\n",
       "      <td>1953.500000</td>\n",
       "      <td>1964.500000</td>\n",
       "      <td>319.000000</td>\n",
       "      <td>0.000000</td>\n",
       "      <td>0.000000</td>\n",
       "      <td>3.000000</td>\n",
       "      <td>1129.000000</td>\n",
       "      <td>2.000000</td>\n",
       "      <td>129825.000000</td>\n",
       "      <td>9.000000</td>\n",
       "      <td>0.000000</td>\n",
       "      <td>440.250000</td>\n",
       "      <td>30.000000</td>\n",
       "      <td>9.000000</td>\n",
       "      <td>1.000000</td>\n",
       "    </tr>\n",
       "    <tr>\n",
       "      <th>50%</th>\n",
       "      <td>9430.000000</td>\n",
       "      <td>1974.000000</td>\n",
       "      <td>1993.000000</td>\n",
       "      <td>480.000000</td>\n",
       "      <td>0.000000</td>\n",
       "      <td>27.000000</td>\n",
       "      <td>3.000000</td>\n",
       "      <td>1444.000000</td>\n",
       "      <td>3.000000</td>\n",
       "      <td>162500.000000</td>\n",
       "      <td>12.000000</td>\n",
       "      <td>1.000000</td>\n",
       "      <td>674.500000</td>\n",
       "      <td>35.000000</td>\n",
       "      <td>9.000000</td>\n",
       "      <td>2.000000</td>\n",
       "    </tr>\n",
       "    <tr>\n",
       "      <th>75%</th>\n",
       "      <td>11513.500000</td>\n",
       "      <td>2001.000000</td>\n",
       "      <td>2004.000000</td>\n",
       "      <td>576.000000</td>\n",
       "      <td>168.000000</td>\n",
       "      <td>70.000000</td>\n",
       "      <td>4.000000</td>\n",
       "      <td>1728.500000</td>\n",
       "      <td>3.000000</td>\n",
       "      <td>214000.000000</td>\n",
       "      <td>12.000000</td>\n",
       "      <td>4.000000</td>\n",
       "      <td>916.750000</td>\n",
       "      <td>40.000000</td>\n",
       "      <td>12.000000</td>\n",
       "      <td>2.500000</td>\n",
       "    </tr>\n",
       "    <tr>\n",
       "      <th>max</th>\n",
       "      <td>159000.000000</td>\n",
       "      <td>2010.000000</td>\n",
       "      <td>2010.000000</td>\n",
       "      <td>1418.000000</td>\n",
       "      <td>1424.000000</td>\n",
       "      <td>547.000000</td>\n",
       "      <td>5.000000</td>\n",
       "      <td>5642.000000</td>\n",
       "      <td>8.000000</td>\n",
       "      <td>611657.000000</td>\n",
       "      <td>20.000000</td>\n",
       "      <td>12.000000</td>\n",
       "      <td>5877.000000</td>\n",
       "      <td>90.000000</td>\n",
       "      <td>25.000000</td>\n",
       "      <td>5.000000</td>\n",
       "    </tr>\n",
       "  </tbody>\n",
       "</table>\n",
       "</div>"
      ],
      "text/plain": [
       "            lot_area   year_built  year_remod_add  garage_area  wood_deck_sf  \\\n",
       "count    2051.000000  2051.000000     2051.000000  2051.000000   2051.000000   \n",
       "mean    10065.208191  1971.708922     1984.190151   473.440761     93.833740   \n",
       "std      6742.488909    30.177889       21.036250   216.135102    128.549416   \n",
       "min      1300.000000  1872.000000     1950.000000     0.000000      0.000000   \n",
       "25%      7500.000000  1953.500000     1964.500000   319.000000      0.000000   \n",
       "50%      9430.000000  1974.000000     1993.000000   480.000000      0.000000   \n",
       "75%     11513.500000  2001.000000     2004.000000   576.000000    168.000000   \n",
       "max    159000.000000  2010.000000     2010.000000  1418.000000   1424.000000   \n",
       "\n",
       "       open_porch_sf  kitchen_qual  gr_liv_area  bedroom_abvgr      saleprice  \\\n",
       "count    2051.000000   2051.000000  2051.000000    2051.000000    2051.000000   \n",
       "mean       47.556802      3.517309  1499.330083       2.843491  181469.701609   \n",
       "std        66.747241      0.665577   500.447829       0.826618   79258.659352   \n",
       "min         0.000000      2.000000   334.000000       0.000000   12789.000000   \n",
       "25%         0.000000      3.000000  1129.000000       2.000000  129825.000000   \n",
       "50%        27.000000      3.000000  1444.000000       3.000000  162500.000000   \n",
       "75%        70.000000      4.000000  1728.500000       3.000000  214000.000000   \n",
       "max       547.000000      5.000000  5642.000000       8.000000  611657.000000   \n",
       "\n",
       "       bsmt_qual_cond  fireplaces_weighted  bsmt_weighted_sf    qual_cond  \\\n",
       "count     2051.000000          2051.000000       2051.000000  2051.000000   \n",
       "mean        10.549000             2.033642        725.810580    33.866407   \n",
       "std          3.061151             2.283203        406.466601     9.255859   \n",
       "min          0.000000             0.000000          0.000000     1.000000   \n",
       "25%          9.000000             0.000000        440.250000    30.000000   \n",
       "50%         12.000000             1.000000        674.500000    35.000000   \n",
       "75%         12.000000             4.000000        916.750000    40.000000   \n",
       "max         20.000000            12.000000       5877.000000    90.000000   \n",
       "\n",
       "       exter_qual_cond         bath  \n",
       "count      2051.000000  2051.000000  \n",
       "mean         10.518284     1.762799  \n",
       "std           2.195124     0.637775  \n",
       "min           2.000000     0.000000  \n",
       "25%           9.000000     1.000000  \n",
       "50%           9.000000     2.000000  \n",
       "75%          12.000000     2.500000  \n",
       "max          25.000000     5.000000  "
      ]
     },
     "execution_count": 530,
     "metadata": {},
     "output_type": "execute_result"
    }
   ],
   "source": [
    "house.describe()"
   ]
  },
  {
   "cell_type": "code",
   "execution_count": 534,
   "id": "fd362a13-55db-4466-8a67-0c56c689e666",
   "metadata": {},
   "outputs": [
    {
     "data": {
      "image/png": "[encoded data removed]",
      "text/plain": [
       "<Figure size 432x288 with 1 Axes>"
      ]
     },
     "metadata": {
      "needs_background": "light"
     },
     "output_type": "display_data"
    }
   ],
   "source": [
    "sns.boxplot(x = house['lot_area']);"
   ]
  },
  {
   "cell_type": "code",
   "execution_count": null,
   "id": "672518ac-eccb-449c-81ab-df54b1a5eee9",
   "metadata": {},
   "outputs": [],
   "source": [
    "house['lot_area'] "
   ]
  },
  {
   "cell_type": "code",
   "execution_count": null,
   "id": "62ffce9f-b148-433a-80e7-b290d61c57e5",
   "metadata": {},
   "outputs": [],
   "source": []
  },
  {
   "cell_type": "code",
   "execution_count": 535,
   "id": "c196926e-57d8-41c2-b7f4-c92465c42493",
   "metadata": {},
   "outputs": [],
   "source": [
    "log_lot_area = np.log(house['lot_area'])"
   ]
  },
  {
   "cell_type": "code",
   "execution_count": 537,
   "id": "8128e1ff-24ed-4964-8ec6-505708d5e651",
   "metadata": {},
   "outputs": [
    {
     "data": {
      "text/plain": [
       "<AxesSubplot:xlabel='lot_area'>"
      ]
     },
     "execution_count": 537,
     "metadata": {},
     "output_type": "execute_result"
    },
    {
     "data": {
      "image/png": "[encoded data removed]",
      "text/plain": [
       "<Figure size 432x288 with 1 Axes>"
      ]
     },
     "metadata": {
      "needs_background": "light"
     },
     "output_type": "display_data"
    }
   ],
   "source": [
    "sns.boxplot(x = log_lot_area)"
   ]
  },
  {
   "cell_type": "code",
   "execution_count": 540,
   "id": "2015c13c-dbb1-4112-9ae5-9ecac79dbb16",
   "metadata": {},
   "outputs": [],
   "source": [
    "perc_25 = house['lot_area'].quantile(0.25)"
   ]
  },
  {
   "cell_type": "code",
   "execution_count": 541,
   "id": "17cc1b3e-b832-4e8f-90f2-2c72da895eb4",
   "metadata": {},
   "outputs": [],
   "source": [
    "perc_75 = house['lot_area'].quantile(0.75)"
   ]
  },
  {
   "cell_type": "code",
   "execution_count": 542,
   "id": "809b9637-46c3-47e2-b660-f19ad07e5afa",
   "metadata": {},
   "outputs": [
    {
     "data": {
      "text/plain": [
       "11513.5"
      ]
     },
     "execution_count": 542,
     "metadata": {},
     "output_type": "execute_result"
    }
   ],
   "source": [
    "perc_75"
   ]
  },
  {
   "cell_type": "code",
   "execution_count": 543,
   "id": "4c54b3e6-d40c-49ce-92c5-425ecf9bbd27",
   "metadata": {},
   "outputs": [],
   "source": [
    "large_lot = house[house['lot_area'] > perc_75]"
   ]
  },
  {
   "cell_type": "code",
   "execution_count": 544,
   "id": "d82264c7-ed49-4aaf-917d-0e279095d98b",
   "metadata": {},
   "outputs": [
    {
     "data": {
      "text/html": [
       "<div>\n",
       "<style scoped>\n",
       "    .dataframe tbody tr th:only-of-type {\n",
       "        vertical-align: middle;\n",
       "    }\n",
       "\n",
       "    .dataframe tbody tr th {\n",
       "        vertical-align: top;\n",
       "    }\n",
       "\n",
       "    .dataframe thead th {\n",
       "        text-align: right;\n",
       "    }\n",
       "</style>\n",
       "<table border=\"1\" class=\"dataframe\">\n",
       "  <thead>\n",
       "    <tr style=\"text-align: right;\">\n",
       "      <th></th>\n",
       "      <th>ms_zoning</th>\n",
       "      <th>lot_area</th>\n",
       "      <th>land_contour</th>\n",
       "      <th>land_slope</th>\n",
       "      <th>neighborhood</th>\n",
       "      <th>condition_1</th>\n",
       "      <th>bldg_type</th>\n",
       "      <th>house_style</th>\n",
       "      <th>year_built</th>\n",
       "      <th>year_remod_add</th>\n",
       "      <th>...</th>\n",
       "      <th>kitchen_qual</th>\n",
       "      <th>gr_liv_area</th>\n",
       "      <th>bedroom_abvgr</th>\n",
       "      <th>saleprice</th>\n",
       "      <th>bsmt_qual_cond</th>\n",
       "      <th>fireplaces_weighted</th>\n",
       "      <th>bsmt_weighted_sf</th>\n",
       "      <th>qual_cond</th>\n",
       "      <th>exter_qual_cond</th>\n",
       "      <th>bath</th>\n",
       "    </tr>\n",
       "  </thead>\n",
       "  <tbody>\n",
       "    <tr>\n",
       "      <th>0</th>\n",
       "      <td>RL</td>\n",
       "      <td>13517</td>\n",
       "      <td>Lvl</td>\n",
       "      <td>Gtl</td>\n",
       "      <td>Sawyer</td>\n",
       "      <td>RRAe</td>\n",
       "      <td>1Fam</td>\n",
       "      <td>2Story</td>\n",
       "      <td>1976</td>\n",
       "      <td>2005</td>\n",
       "      <td>...</td>\n",
       "      <td>4</td>\n",
       "      <td>1479</td>\n",
       "      <td>3</td>\n",
       "      <td>130500</td>\n",
       "      <td>9</td>\n",
       "      <td>0</td>\n",
       "      <td>629.0</td>\n",
       "      <td>48</td>\n",
       "      <td>12</td>\n",
       "      <td>2.5</td>\n",
       "    </tr>\n",
       "    <tr>\n",
       "      <th>4</th>\n",
       "      <td>RL</td>\n",
       "      <td>14235</td>\n",
       "      <td>Lvl</td>\n",
       "      <td>Gtl</td>\n",
       "      <td>SawyerW</td>\n",
       "      <td>Norm</td>\n",
       "      <td>1Fam</td>\n",
       "      <td>1.5Fin</td>\n",
       "      <td>1900</td>\n",
       "      <td>1993</td>\n",
       "      <td>...</td>\n",
       "      <td>3</td>\n",
       "      <td>1445</td>\n",
       "      <td>3</td>\n",
       "      <td>138500</td>\n",
       "      <td>8</td>\n",
       "      <td>0</td>\n",
       "      <td>338.0</td>\n",
       "      <td>48</td>\n",
       "      <td>9</td>\n",
       "      <td>2.0</td>\n",
       "    </tr>\n",
       "    <tr>\n",
       "      <th>5</th>\n",
       "      <td>RL</td>\n",
       "      <td>16492</td>\n",
       "      <td>Lvl</td>\n",
       "      <td>Gtl</td>\n",
       "      <td>NAmes</td>\n",
       "      <td>PosA</td>\n",
       "      <td>1Fam</td>\n",
       "      <td>1Story</td>\n",
       "      <td>1966</td>\n",
       "      <td>2002</td>\n",
       "      <td>...</td>\n",
       "      <td>4</td>\n",
       "      <td>1888</td>\n",
       "      <td>2</td>\n",
       "      <td>190000</td>\n",
       "      <td>9</td>\n",
       "      <td>4</td>\n",
       "      <td>525.5</td>\n",
       "      <td>36</td>\n",
       "      <td>12</td>\n",
       "      <td>2.5</td>\n",
       "    </tr>\n",
       "    <tr>\n",
       "      <th>7</th>\n",
       "      <td>RL</td>\n",
       "      <td>12160</td>\n",
       "      <td>Lvl</td>\n",
       "      <td>Gtl</td>\n",
       "      <td>NAmes</td>\n",
       "      <td>Norm</td>\n",
       "      <td>1Fam</td>\n",
       "      <td>1Story</td>\n",
       "      <td>1959</td>\n",
       "      <td>1959</td>\n",
       "      <td>...</td>\n",
       "      <td>3</td>\n",
       "      <td>1188</td>\n",
       "      <td>3</td>\n",
       "      <td>142000</td>\n",
       "      <td>9</td>\n",
       "      <td>0</td>\n",
       "      <td>1094.0</td>\n",
       "      <td>25</td>\n",
       "      <td>9</td>\n",
       "      <td>1.0</td>\n",
       "    </tr>\n",
       "    <tr>\n",
       "      <th>8</th>\n",
       "      <td>RL</td>\n",
       "      <td>15783</td>\n",
       "      <td>Lvl</td>\n",
       "      <td>Gtl</td>\n",
       "      <td>OldTown</td>\n",
       "      <td>Artery</td>\n",
       "      <td>1Fam</td>\n",
       "      <td>1Story</td>\n",
       "      <td>1952</td>\n",
       "      <td>1952</td>\n",
       "      <td>...</td>\n",
       "      <td>3</td>\n",
       "      <td>924</td>\n",
       "      <td>2</td>\n",
       "      <td>112500</td>\n",
       "      <td>9</td>\n",
       "      <td>0</td>\n",
       "      <td>608.0</td>\n",
       "      <td>25</td>\n",
       "      <td>9</td>\n",
       "      <td>1.0</td>\n",
       "    </tr>\n",
       "    <tr>\n",
       "      <th>...</th>\n",
       "      <td>...</td>\n",
       "      <td>...</td>\n",
       "      <td>...</td>\n",
       "      <td>...</td>\n",
       "      <td>...</td>\n",
       "      <td>...</td>\n",
       "      <td>...</td>\n",
       "      <td>...</td>\n",
       "      <td>...</td>\n",
       "      <td>...</td>\n",
       "      <td>...</td>\n",
       "      <td>...</td>\n",
       "      <td>...</td>\n",
       "      <td>...</td>\n",
       "      <td>...</td>\n",
       "      <td>...</td>\n",
       "      <td>...</td>\n",
       "      <td>...</td>\n",
       "      <td>...</td>\n",
       "      <td>...</td>\n",
       "      <td>...</td>\n",
       "    </tr>\n",
       "    <tr>\n",
       "      <th>2037</th>\n",
       "      <td>RL</td>\n",
       "      <td>13350</td>\n",
       "      <td>Lvl</td>\n",
       "      <td>Gtl</td>\n",
       "      <td>Sawyer</td>\n",
       "      <td>Norm</td>\n",
       "      <td>1Fam</td>\n",
       "      <td>1Story</td>\n",
       "      <td>1974</td>\n",
       "      <td>1974</td>\n",
       "      <td>...</td>\n",
       "      <td>3</td>\n",
       "      <td>894</td>\n",
       "      <td>3</td>\n",
       "      <td>142500</td>\n",
       "      <td>9</td>\n",
       "      <td>2</td>\n",
       "      <td>813.0</td>\n",
       "      <td>25</td>\n",
       "      <td>9</td>\n",
       "      <td>1.0</td>\n",
       "    </tr>\n",
       "    <tr>\n",
       "      <th>2040</th>\n",
       "      <td>RL</td>\n",
       "      <td>15593</td>\n",
       "      <td>Lvl</td>\n",
       "      <td>Gtl</td>\n",
       "      <td>ClearCr</td>\n",
       "      <td>Norm</td>\n",
       "      <td>1Fam</td>\n",
       "      <td>1.5Fin</td>\n",
       "      <td>1953</td>\n",
       "      <td>1953</td>\n",
       "      <td>...</td>\n",
       "      <td>3</td>\n",
       "      <td>2287</td>\n",
       "      <td>3</td>\n",
       "      <td>225000</td>\n",
       "      <td>9</td>\n",
       "      <td>3</td>\n",
       "      <td>953.5</td>\n",
       "      <td>28</td>\n",
       "      <td>12</td>\n",
       "      <td>2.0</td>\n",
       "    </tr>\n",
       "    <tr>\n",
       "      <th>2041</th>\n",
       "      <td>RL</td>\n",
       "      <td>13688</td>\n",
       "      <td>Lvl</td>\n",
       "      <td>Gtl</td>\n",
       "      <td>NridgHt</td>\n",
       "      <td>Norm</td>\n",
       "      <td>1Fam</td>\n",
       "      <td>2Story</td>\n",
       "      <td>2003</td>\n",
       "      <td>2004</td>\n",
       "      <td>...</td>\n",
       "      <td>5</td>\n",
       "      <td>2668</td>\n",
       "      <td>3</td>\n",
       "      <td>412500</td>\n",
       "      <td>15</td>\n",
       "      <td>8</td>\n",
       "      <td>1294.0</td>\n",
       "      <td>45</td>\n",
       "      <td>12</td>\n",
       "      <td>2.5</td>\n",
       "    </tr>\n",
       "    <tr>\n",
       "      <th>2045</th>\n",
       "      <td>RL</td>\n",
       "      <td>12444</td>\n",
       "      <td>Lvl</td>\n",
       "      <td>Gtl</td>\n",
       "      <td>NridgHt</td>\n",
       "      <td>Norm</td>\n",
       "      <td>1Fam</td>\n",
       "      <td>1Story</td>\n",
       "      <td>2008</td>\n",
       "      <td>2008</td>\n",
       "      <td>...</td>\n",
       "      <td>5</td>\n",
       "      <td>1932</td>\n",
       "      <td>2</td>\n",
       "      <td>394617</td>\n",
       "      <td>15</td>\n",
       "      <td>4</td>\n",
       "      <td>1634.0</td>\n",
       "      <td>40</td>\n",
       "      <td>15</td>\n",
       "      <td>2.0</td>\n",
       "    </tr>\n",
       "    <tr>\n",
       "      <th>2047</th>\n",
       "      <td>RL</td>\n",
       "      <td>12342</td>\n",
       "      <td>Lvl</td>\n",
       "      <td>Gtl</td>\n",
       "      <td>Edwards</td>\n",
       "      <td>Norm</td>\n",
       "      <td>1Fam</td>\n",
       "      <td>1Story</td>\n",
       "      <td>1940</td>\n",
       "      <td>1950</td>\n",
       "      <td>...</td>\n",
       "      <td>3</td>\n",
       "      <td>861</td>\n",
       "      <td>1</td>\n",
       "      <td>82500</td>\n",
       "      <td>9</td>\n",
       "      <td>0</td>\n",
       "      <td>561.5</td>\n",
       "      <td>20</td>\n",
       "      <td>9</td>\n",
       "      <td>1.0</td>\n",
       "    </tr>\n",
       "  </tbody>\n",
       "</table>\n",
       "<p>513 rows × 24 columns</p>\n",
       "</div>"
      ],
      "text/plain": [
       "     ms_zoning  lot_area land_contour land_slope neighborhood condition_1  \\\n",
       "0           RL     13517          Lvl        Gtl       Sawyer        RRAe   \n",
       "4           RL     14235          Lvl        Gtl      SawyerW        Norm   \n",
       "5           RL     16492          Lvl        Gtl        NAmes        PosA   \n",
       "7           RL     12160          Lvl        Gtl        NAmes        Norm   \n",
       "8           RL     15783          Lvl        Gtl      OldTown      Artery   \n",
       "...        ...       ...          ...        ...          ...         ...   \n",
       "2037        RL     13350          Lvl        Gtl       Sawyer        Norm   \n",
       "2040        RL     15593          Lvl        Gtl      ClearCr        Norm   \n",
       "2041        RL     13688          Lvl        Gtl      NridgHt        Norm   \n",
       "2045        RL     12444          Lvl        Gtl      NridgHt        Norm   \n",
       "2047        RL     12342          Lvl        Gtl      Edwards        Norm   \n",
       "\n",
       "     bldg_type house_style  year_built  year_remod_add  ... kitchen_qual  \\\n",
       "0         1Fam      2Story        1976            2005  ...            4   \n",
       "4         1Fam      1.5Fin        1900            1993  ...            3   \n",
       "5         1Fam      1Story        1966            2002  ...            4   \n",
       "7         1Fam      1Story        1959            1959  ...            3   \n",
       "8         1Fam      1Story        1952            1952  ...            3   \n",
       "...        ...         ...         ...             ...  ...          ...   \n",
       "2037      1Fam      1Story        1974            1974  ...            3   \n",
       "2040      1Fam      1.5Fin        1953            1953  ...            3   \n",
       "2041      1Fam      2Story        2003            2004  ...            5   \n",
       "2045      1Fam      1Story        2008            2008  ...            5   \n",
       "2047      1Fam      1Story        1940            1950  ...            3   \n",
       "\n",
       "      gr_liv_area  bedroom_abvgr  saleprice  bsmt_qual_cond  \\\n",
       "0            1479              3     130500               9   \n",
       "4            1445              3     138500               8   \n",
       "5            1888              2     190000               9   \n",
       "7            1188              3     142000               9   \n",
       "8             924              2     112500               9   \n",
       "...           ...            ...        ...             ...   \n",
       "2037          894              3     142500               9   \n",
       "2040         2287              3     225000               9   \n",
       "2041         2668              3     412500              15   \n",
       "2045         1932              2     394617              15   \n",
       "2047          861              1      82500               9   \n",
       "\n",
       "      fireplaces_weighted  bsmt_weighted_sf  qual_cond  exter_qual_cond  bath  \n",
       "0                       0             629.0         48               12   2.5  \n",
       "4                       0             338.0         48                9   2.0  \n",
       "5                       4             525.5         36               12   2.5  \n",
       "7                       0            1094.0         25                9   1.0  \n",
       "8                       0             608.0         25                9   1.0  \n",
       "...                   ...               ...        ...              ...   ...  \n",
       "2037                    2             813.0         25                9   1.0  \n",
       "2040                    3             953.5         28               12   2.0  \n",
       "2041                    8            1294.0         45               12   2.5  \n",
       "2045                    4            1634.0         40               15   2.0  \n",
       "2047                    0             561.5         20                9   1.0  \n",
       "\n",
       "[513 rows x 24 columns]"
      ]
     },
     "execution_count": 544,
     "metadata": {},
     "output_type": "execute_result"
    }
   ],
   "source": [
    "large_lot"
   ]
  },
  {
   "cell_type": "code",
   "execution_count": 554,
   "id": "f86cbfa9-ef3a-43c2-bd36-a2f0e68a6a2f",
   "metadata": {},
   "outputs": [
    {
     "data": {
      "text/plain": [
       "(11367.514, 17414.4]    424\n",
       "(17414.4, 23313.8]       55\n",
       "(23313.8, 29213.2]        9\n",
       "(29213.2, 35112.6]        6\n",
       "(35112.6, 41012.0]        3\n",
       "(41012.0, 46911.4]        3\n",
       "(46911.4, 52810.8]        5\n",
       "(52810.8, 58710.2]        4\n",
       "(58710.2, 64609.6]        1\n",
       "(64609.6, 70509.0]        0\n",
       "(70509.0, 76408.4]        1\n",
       "(76408.4, 82307.8]        0\n",
       "(82307.8, 88207.2]        0\n",
       "(88207.2, 94106.6]        0\n",
       "(94106.6, 100006.0]       0\n",
       "(100006.0, 105905.4]      0\n",
       "(105905.4, 111804.8]      0\n",
       "(111804.8, 117704.2]      1\n",
       "(117704.2, 123603.6]      0\n",
       "(123603.6, 129503.0]      0\n",
       "(129503.0, 135402.4]      0\n",
       "(135402.4, 141301.8]      0\n",
       "(141301.8, 147201.2]      0\n",
       "(147201.2, 153100.6]      0\n",
       "(153100.6, 159000.0]      1\n",
       "Name: lot_area, dtype: int64"
      ]
     },
     "execution_count": 554,
     "metadata": {},
     "output_type": "execute_result"
    }
   ],
   "source": [
    "large_lot['lot_area'].value_counts(bins = 25).sort_index()"
   ]
  },
  {
   "cell_type": "code",
   "execution_count": 555,
   "id": "88714574-516c-487a-a4d6-dfad9d3777e5",
   "metadata": {},
   "outputs": [
    {
     "data": {
      "text/plain": [
       "(2051, 24)"
      ]
     },
     "execution_count": 555,
     "metadata": {},
     "output_type": "execute_result"
    }
   ],
   "source": [
    "house.shape"
   ]
  },
  {
   "cell_type": "code",
   "execution_count": 556,
   "id": "429bb28c-7c6c-49e9-a4ec-fa12bde75bde",
   "metadata": {},
   "outputs": [
    {
     "data": {
      "text/plain": [
       "34"
      ]
     },
     "execution_count": 556,
     "metadata": {},
     "output_type": "execute_result"
    }
   ],
   "source": [
    "513-479"
   ]
  },
  {
   "cell_type": "code",
   "execution_count": 559,
   "id": "05347e2c-bb93-4ebf-93d3-1b439ba027fa",
   "metadata": {},
   "outputs": [
    {
     "data": {
      "text/plain": [
       "0.01657727937591419"
      ]
     },
     "execution_count": 559,
     "metadata": {},
     "output_type": "execute_result"
    }
   ],
   "source": [
    "34/2051"
   ]
  },
  {
   "cell_type": "code",
   "execution_count": 560,
   "id": "c19a9467-d565-4ddc-80a4-d511ddb9c077",
   "metadata": {},
   "outputs": [
    {
     "data": {
      "text/plain": [
       "0.8265107212475633"
      ]
     },
     "execution_count": 560,
     "metadata": {},
     "output_type": "execute_result"
    }
   ],
   "source": [
    "424/513"
   ]
  },
  {
   "cell_type": "markdown",
   "id": "24eccd1b-28a0-4fc7-adb7-cc52c375963b",
   "metadata": {},
   "source": [
    "We see that 75% of the homes in Ames contain less than 11,513 square feet of lot area. Within the upper quartile, 82% of the remaining homes still have less 17,414 square feet of area. We then see a significant drop off in number of homes containing more than 23,313.8 square feet of lot area. Let us trim off these outliers that make up less than 2% of the data."
   ]
  },
  {
   "cell_type": "code",
   "execution_count": 561,
   "id": "d92e1322-fbea-4147-8521-291703ffa556",
   "metadata": {},
   "outputs": [],
   "source": [
    "house = house[house['lot_area'] <= 23313.8]"
   ]
  },
  {
   "cell_type": "code",
   "execution_count": 565,
   "id": "ca35ba08-c625-4506-83db-60e4bfcab404",
   "metadata": {},
   "outputs": [
    {
     "data": {
      "image/png": "[encoded data removed]",
      "text/plain": [
       "<Figure size 432x288 with 1 Axes>"
      ]
     },
     "metadata": {
      "needs_background": "light"
     },
     "output_type": "display_data"
    }
   ],
   "source": [
    "house['year_built'].plot.hist(bins = 10);"
   ]
  },
  {
   "cell_type": "code",
   "execution_count": 566,
   "id": "9350b0b6-82f8-4311-8cf4-b4a8a5c189c9",
   "metadata": {},
   "outputs": [
    {
     "data": {
      "text/plain": [
       "(1871.861, 1885.8]      6\n",
       "(1885.8, 1899.6]       12\n",
       "(1899.6, 1913.4]       56\n",
       "(1913.4, 1927.2]      161\n",
       "(1927.2, 1941.0]      138\n",
       "(1941.0, 1954.8]      159\n",
       "(1954.8, 1968.6]      358\n",
       "(1968.6, 1982.4]      282\n",
       "(1982.4, 1996.2]      195\n",
       "(1996.2, 2010.0]      650\n",
       "Name: year_built, dtype: int64"
      ]
     },
     "execution_count": 566,
     "metadata": {},
     "output_type": "execute_result"
    }
   ],
   "source": [
    "house['year_built'].value_counts(bins = 10).sort_index()"
   ]
  },
  {
   "cell_type": "code",
   "execution_count": 569,
   "id": "91b31bea-4dcc-443a-8485-cd4181921fbd",
   "metadata": {},
   "outputs": [
    {
     "data": {
      "text/html": [
       "<div>\n",
       "<style scoped>\n",
       "    .dataframe tbody tr th:only-of-type {\n",
       "        vertical-align: middle;\n",
       "    }\n",
       "\n",
       "    .dataframe tbody tr th {\n",
       "        vertical-align: top;\n",
       "    }\n",
       "\n",
       "    .dataframe thead th {\n",
       "        text-align: right;\n",
       "    }\n",
       "</style>\n",
       "<table border=\"1\" class=\"dataframe\">\n",
       "  <thead>\n",
       "    <tr style=\"text-align: right;\">\n",
       "      <th></th>\n",
       "      <th>year_built</th>\n",
       "      <th>saleprice</th>\n",
       "    </tr>\n",
       "  </thead>\n",
       "  <tbody>\n",
       "    <tr>\n",
       "      <th>951</th>\n",
       "      <td>1872</td>\n",
       "      <td>122000</td>\n",
       "    </tr>\n",
       "    <tr>\n",
       "      <th>136</th>\n",
       "      <td>1875</td>\n",
       "      <td>94000</td>\n",
       "    </tr>\n",
       "    <tr>\n",
       "      <th>1134</th>\n",
       "      <td>1879</td>\n",
       "      <td>185000</td>\n",
       "    </tr>\n",
       "    <tr>\n",
       "      <th>1939</th>\n",
       "      <td>1880</td>\n",
       "      <td>295000</td>\n",
       "    </tr>\n",
       "    <tr>\n",
       "      <th>784</th>\n",
       "      <td>1880</td>\n",
       "      <td>117500</td>\n",
       "    </tr>\n",
       "    <tr>\n",
       "      <th>394</th>\n",
       "      <td>1885</td>\n",
       "      <td>122500</td>\n",
       "    </tr>\n",
       "    <tr>\n",
       "      <th>1318</th>\n",
       "      <td>1890</td>\n",
       "      <td>159500</td>\n",
       "    </tr>\n",
       "    <tr>\n",
       "      <th>1204</th>\n",
       "      <td>1890</td>\n",
       "      <td>95000</td>\n",
       "    </tr>\n",
       "    <tr>\n",
       "      <th>918</th>\n",
       "      <td>1890</td>\n",
       "      <td>124900</td>\n",
       "    </tr>\n",
       "    <tr>\n",
       "      <th>501</th>\n",
       "      <td>1890</td>\n",
       "      <td>78500</td>\n",
       "    </tr>\n",
       "    <tr>\n",
       "      <th>175</th>\n",
       "      <td>1890</td>\n",
       "      <td>184000</td>\n",
       "    </tr>\n",
       "    <tr>\n",
       "      <th>1035</th>\n",
       "      <td>1892</td>\n",
       "      <td>475000</td>\n",
       "    </tr>\n",
       "    <tr>\n",
       "      <th>1141</th>\n",
       "      <td>1893</td>\n",
       "      <td>325000</td>\n",
       "    </tr>\n",
       "    <tr>\n",
       "      <th>457</th>\n",
       "      <td>1895</td>\n",
       "      <td>148000</td>\n",
       "    </tr>\n",
       "    <tr>\n",
       "      <th>1793</th>\n",
       "      <td>1895</td>\n",
       "      <td>89000</td>\n",
       "    </tr>\n",
       "    <tr>\n",
       "      <th>28</th>\n",
       "      <td>1895</td>\n",
       "      <td>119600</td>\n",
       "    </tr>\n",
       "    <tr>\n",
       "      <th>410</th>\n",
       "      <td>1896</td>\n",
       "      <td>50138</td>\n",
       "    </tr>\n",
       "    <tr>\n",
       "      <th>1359</th>\n",
       "      <td>1898</td>\n",
       "      <td>106000</td>\n",
       "    </tr>\n",
       "  </tbody>\n",
       "</table>\n",
       "</div>"
      ],
      "text/plain": [
       "      year_built  saleprice\n",
       "951         1872     122000\n",
       "136         1875      94000\n",
       "1134        1879     185000\n",
       "1939        1880     295000\n",
       "784         1880     117500\n",
       "394         1885     122500\n",
       "1318        1890     159500\n",
       "1204        1890      95000\n",
       "918         1890     124900\n",
       "501         1890      78500\n",
       "175         1890     184000\n",
       "1035        1892     475000\n",
       "1141        1893     325000\n",
       "457         1895     148000\n",
       "1793        1895      89000\n",
       "28          1895     119600\n",
       "410         1896      50138\n",
       "1359        1898     106000"
      ]
     },
     "execution_count": 569,
     "metadata": {},
     "output_type": "execute_result"
    }
   ],
   "source": [
    "house.loc[house['year_built'] < 1900, ['year_built', 'saleprice']].sort_values(by = 'year_built')"
   ]
  },
  {
   "cell_type": "code",
   "execution_count": 571,
   "id": "6a088fa4-8093-49f6-887d-3e13e138ce38",
   "metadata": {},
   "outputs": [
    {
     "data": {
      "text/plain": [
       "160591.0"
      ]
     },
     "execution_count": 571,
     "metadata": {},
     "output_type": "execute_result"
    }
   ],
   "source": [
    "house.loc[house['year_built'] < 1900, 'saleprice'].mean()"
   ]
  },
  {
   "cell_type": "code",
   "execution_count": 570,
   "id": "69908fad-6edb-452a-b81a-6144d7530eaa",
   "metadata": {},
   "outputs": [
    {
     "data": {
      "text/plain": [
       "180535.66336142787"
      ]
     },
     "execution_count": 570,
     "metadata": {},
     "output_type": "execute_result"
    }
   ],
   "source": [
    "house['saleprice'].mean()"
   ]
  },
  {
   "cell_type": "markdown",
   "id": "9029a8f5-6dfd-4590-8c39-994f62b296a9",
   "metadata": {},
   "source": [
    "It does not seem necessary to drop homes built especially long ago. These homes to not appear to have extraordinary sale prices."
   ]
  },
  {
   "cell_type": "code",
   "execution_count": 572,
   "id": "0ad4c000-157d-485b-b29f-f26edb6ea795",
   "metadata": {},
   "outputs": [
    {
     "data": {
      "text/html": [
       "<div>\n",
       "<style scoped>\n",
       "    .dataframe tbody tr th:only-of-type {\n",
       "        vertical-align: middle;\n",
       "    }\n",
       "\n",
       "    .dataframe tbody tr th {\n",
       "        vertical-align: top;\n",
       "    }\n",
       "\n",
       "    .dataframe thead th {\n",
       "        text-align: right;\n",
       "    }\n",
       "</style>\n",
       "<table border=\"1\" class=\"dataframe\">\n",
       "  <thead>\n",
       "    <tr style=\"text-align: right;\">\n",
       "      <th></th>\n",
       "      <th>lot_area</th>\n",
       "      <th>year_built</th>\n",
       "      <th>year_remod_add</th>\n",
       "      <th>garage_area</th>\n",
       "      <th>wood_deck_sf</th>\n",
       "      <th>open_porch_sf</th>\n",
       "      <th>kitchen_qual</th>\n",
       "      <th>gr_liv_area</th>\n",
       "      <th>bedroom_abvgr</th>\n",
       "      <th>saleprice</th>\n",
       "      <th>bsmt_qual_cond</th>\n",
       "      <th>fireplaces_weighted</th>\n",
       "      <th>bsmt_weighted_sf</th>\n",
       "      <th>qual_cond</th>\n",
       "      <th>exter_qual_cond</th>\n",
       "      <th>bath</th>\n",
       "    </tr>\n",
       "  </thead>\n",
       "  <tbody>\n",
       "    <tr>\n",
       "      <th>count</th>\n",
       "      <td>2017.000000</td>\n",
       "      <td>2017.000000</td>\n",
       "      <td>2017.000000</td>\n",
       "      <td>2017.000000</td>\n",
       "      <td>2017.000000</td>\n",
       "      <td>2017.000000</td>\n",
       "      <td>2017.000000</td>\n",
       "      <td>2017.000000</td>\n",
       "      <td>2017.000000</td>\n",
       "      <td>2017.000000</td>\n",
       "      <td>2017.000000</td>\n",
       "      <td>2017.000000</td>\n",
       "      <td>2017.000000</td>\n",
       "      <td>2017.000000</td>\n",
       "      <td>2017.000000</td>\n",
       "      <td>2017.000000</td>\n",
       "    </tr>\n",
       "    <tr>\n",
       "      <th>mean</th>\n",
       "      <td>9469.236986</td>\n",
       "      <td>1971.818542</td>\n",
       "      <td>1984.235002</td>\n",
       "      <td>469.894398</td>\n",
       "      <td>92.634110</td>\n",
       "      <td>46.996529</td>\n",
       "      <td>3.515617</td>\n",
       "      <td>1488.120476</td>\n",
       "      <td>2.840357</td>\n",
       "      <td>180535.663361</td>\n",
       "      <td>10.553793</td>\n",
       "      <td>1.991076</td>\n",
       "      <td>717.810858</td>\n",
       "      <td>33.877045</td>\n",
       "      <td>10.515121</td>\n",
       "      <td>1.760040</td>\n",
       "    </tr>\n",
       "    <tr>\n",
       "      <th>std</th>\n",
       "      <td>3590.363046</td>\n",
       "      <td>30.241305</td>\n",
       "      <td>21.023331</td>\n",
       "      <td>213.398400</td>\n",
       "      <td>126.260462</td>\n",
       "      <td>65.392720</td>\n",
       "      <td>0.663593</td>\n",
       "      <td>480.490681</td>\n",
       "      <td>0.822126</td>\n",
       "      <td>78316.495002</td>\n",
       "      <td>3.036028</td>\n",
       "      <td>2.244022</td>\n",
       "      <td>377.033187</td>\n",
       "      <td>9.208603</td>\n",
       "      <td>2.191681</td>\n",
       "      <td>0.634593</td>\n",
       "    </tr>\n",
       "    <tr>\n",
       "      <th>min</th>\n",
       "      <td>1300.000000</td>\n",
       "      <td>1872.000000</td>\n",
       "      <td>1950.000000</td>\n",
       "      <td>0.000000</td>\n",
       "      <td>0.000000</td>\n",
       "      <td>0.000000</td>\n",
       "      <td>2.000000</td>\n",
       "      <td>334.000000</td>\n",
       "      <td>0.000000</td>\n",
       "      <td>12789.000000</td>\n",
       "      <td>0.000000</td>\n",
       "      <td>0.000000</td>\n",
       "      <td>0.000000</td>\n",
       "      <td>1.000000</td>\n",
       "      <td>2.000000</td>\n",
       "      <td>0.000000</td>\n",
       "    </tr>\n",
       "    <tr>\n",
       "      <th>25%</th>\n",
       "      <td>7476.000000</td>\n",
       "      <td>1953.000000</td>\n",
       "      <td>1965.000000</td>\n",
       "      <td>313.000000</td>\n",
       "      <td>0.000000</td>\n",
       "      <td>0.000000</td>\n",
       "      <td>3.000000</td>\n",
       "      <td>1125.000000</td>\n",
       "      <td>2.000000</td>\n",
       "      <td>129500.000000</td>\n",
       "      <td>9.000000</td>\n",
       "      <td>0.000000</td>\n",
       "      <td>440.000000</td>\n",
       "      <td>30.000000</td>\n",
       "      <td>9.000000</td>\n",
       "      <td>1.000000</td>\n",
       "    </tr>\n",
       "    <tr>\n",
       "      <th>50%</th>\n",
       "      <td>9350.000000</td>\n",
       "      <td>1975.000000</td>\n",
       "      <td>1993.000000</td>\n",
       "      <td>478.000000</td>\n",
       "      <td>0.000000</td>\n",
       "      <td>26.000000</td>\n",
       "      <td>3.000000</td>\n",
       "      <td>1440.000000</td>\n",
       "      <td>3.000000</td>\n",
       "      <td>161500.000000</td>\n",
       "      <td>12.000000</td>\n",
       "      <td>1.000000</td>\n",
       "      <td>672.000000</td>\n",
       "      <td>35.000000</td>\n",
       "      <td>9.000000</td>\n",
       "      <td>2.000000</td>\n",
       "    </tr>\n",
       "    <tr>\n",
       "      <th>75%</th>\n",
       "      <td>11361.000000</td>\n",
       "      <td>2001.000000</td>\n",
       "      <td>2004.000000</td>\n",
       "      <td>576.000000</td>\n",
       "      <td>168.000000</td>\n",
       "      <td>70.000000</td>\n",
       "      <td>4.000000</td>\n",
       "      <td>1724.000000</td>\n",
       "      <td>3.000000</td>\n",
       "      <td>213000.000000</td>\n",
       "      <td>12.000000</td>\n",
       "      <td>4.000000</td>\n",
       "      <td>911.000000</td>\n",
       "      <td>40.000000</td>\n",
       "      <td>12.000000</td>\n",
       "      <td>2.000000</td>\n",
       "    </tr>\n",
       "    <tr>\n",
       "      <th>max</th>\n",
       "      <td>22950.000000</td>\n",
       "      <td>2010.000000</td>\n",
       "      <td>2010.000000</td>\n",
       "      <td>1348.000000</td>\n",
       "      <td>1424.000000</td>\n",
       "      <td>547.000000</td>\n",
       "      <td>5.000000</td>\n",
       "      <td>3672.000000</td>\n",
       "      <td>8.000000</td>\n",
       "      <td>611657.000000</td>\n",
       "      <td>20.000000</td>\n",
       "      <td>12.000000</td>\n",
       "      <td>2319.000000</td>\n",
       "      <td>90.000000</td>\n",
       "      <td>25.000000</td>\n",
       "      <td>5.000000</td>\n",
       "    </tr>\n",
       "  </tbody>\n",
       "</table>\n",
       "</div>"
      ],
      "text/plain": [
       "           lot_area   year_built  year_remod_add  garage_area  wood_deck_sf  \\\n",
       "count   2017.000000  2017.000000     2017.000000  2017.000000   2017.000000   \n",
       "mean    9469.236986  1971.818542     1984.235002   469.894398     92.634110   \n",
       "std     3590.363046    30.241305       21.023331   213.398400    126.260462   \n",
       "min     1300.000000  1872.000000     1950.000000     0.000000      0.000000   \n",
       "25%     7476.000000  1953.000000     1965.000000   313.000000      0.000000   \n",
       "50%     9350.000000  1975.000000     1993.000000   478.000000      0.000000   \n",
       "75%    11361.000000  2001.000000     2004.000000   576.000000    168.000000   \n",
       "max    22950.000000  2010.000000     2010.000000  1348.000000   1424.000000   \n",
       "\n",
       "       open_porch_sf  kitchen_qual  gr_liv_area  bedroom_abvgr      saleprice  \\\n",
       "count    2017.000000   2017.000000  2017.000000    2017.000000    2017.000000   \n",
       "mean       46.996529      3.515617  1488.120476       2.840357  180535.663361   \n",
       "std        65.392720      0.663593   480.490681       0.822126   78316.495002   \n",
       "min         0.000000      2.000000   334.000000       0.000000   12789.000000   \n",
       "25%         0.000000      3.000000  1125.000000       2.000000  129500.000000   \n",
       "50%        26.000000      3.000000  1440.000000       3.000000  161500.000000   \n",
       "75%        70.000000      4.000000  1724.000000       3.000000  213000.000000   \n",
       "max       547.000000      5.000000  3672.000000       8.000000  611657.000000   \n",
       "\n",
       "       bsmt_qual_cond  fireplaces_weighted  bsmt_weighted_sf    qual_cond  \\\n",
       "count     2017.000000          2017.000000       2017.000000  2017.000000   \n",
       "mean        10.553793             1.991076        717.810858    33.877045   \n",
       "std          3.036028             2.244022        377.033187     9.208603   \n",
       "min          0.000000             0.000000          0.000000     1.000000   \n",
       "25%          9.000000             0.000000        440.000000    30.000000   \n",
       "50%         12.000000             1.000000        672.000000    35.000000   \n",
       "75%         12.000000             4.000000        911.000000    40.000000   \n",
       "max         20.000000            12.000000       2319.000000    90.000000   \n",
       "\n",
       "       exter_qual_cond         bath  \n",
       "count      2017.000000  2017.000000  \n",
       "mean         10.515121     1.760040  \n",
       "std           2.191681     0.634593  \n",
       "min           2.000000     0.000000  \n",
       "25%           9.000000     1.000000  \n",
       "50%           9.000000     2.000000  \n",
       "75%          12.000000     2.000000  \n",
       "max          25.000000     5.000000  "
      ]
     },
     "execution_count": 572,
     "metadata": {},
     "output_type": "execute_result"
    }
   ],
   "source": [
    "house.describe()"
   ]
  },
  {
   "cell_type": "code",
   "execution_count": 574,
   "id": "04b88a2b-86a4-4cfb-9de8-32a4ec5f221f",
   "metadata": {},
   "outputs": [
    {
     "data": {
      "image/png": "[encoded data removed]",
      "text/plain": [
       "<Figure size 432x288 with 1 Axes>"
      ]
     },
     "metadata": {
      "needs_background": "light"
     },
     "output_type": "display_data"
    }
   ],
   "source": [
    "house['gr_liv_area'].plot.hist();"
   ]
  },
  {
   "cell_type": "code",
   "execution_count": 575,
   "id": "b3b736f7-4f26-4589-9beb-233c734fd431",
   "metadata": {},
   "outputs": [
    {
     "data": {
      "text/plain": [
       "<AxesSubplot:xlabel='gr_liv_area'>"
      ]
     },
     "execution_count": 575,
     "metadata": {},
     "output_type": "execute_result"
    },
    {
     "data": {
      "image/png": "[encoded data removed]",
      "text/plain": [
       "<Figure size 432x288 with 1 Axes>"
      ]
     },
     "metadata": {
      "needs_background": "light"
     },
     "output_type": "display_data"
    }
   ],
   "source": [
    "sns.boxplot(x = house['gr_liv_area'])"
   ]
  },
  {
   "cell_type": "code",
   "execution_count": 579,
   "id": "7adcdcf7-9a2e-4aa4-8b47-f299237f0e6e",
   "metadata": {},
   "outputs": [
    {
     "data": {
      "text/plain": [
       "(330.661, 667.8]     17\n",
       "(667.8, 1001.6]     281\n",
       "(1001.6, 1335.4]    525\n",
       "(1335.4, 1669.2]    599\n",
       "(1669.2, 2003.0]    334\n",
       "(2003.0, 2336.8]    132\n",
       "(2336.8, 2670.6]     81\n",
       "(2670.6, 3004.4]     35\n",
       "(3004.4, 3338.2]      7\n",
       "(3338.2, 3672.0]      6\n",
       "Name: gr_liv_area, dtype: int64"
      ]
     },
     "execution_count": 579,
     "metadata": {},
     "output_type": "execute_result"
    }
   ],
   "source": [
    "house['gr_liv_area'].value_counts(bins = 10).sort_index()"
   ]
  },
  {
   "cell_type": "code",
   "execution_count": null,
   "id": "bdc60b86-d4ae-48fd-83d7-4b4f39953c8c",
   "metadata": {},
   "outputs": [],
   "source": []
  },
  {
   "cell_type": "code",
   "execution_count": null,
   "id": "96b19ad7-800b-48ba-97ad-01f36b65653a",
   "metadata": {},
   "outputs": [],
   "source": []
  },
  {
   "cell_type": "code",
   "execution_count": null,
   "id": "9be47bc1-580b-4e70-972c-e8e642f5cc8c",
   "metadata": {},
   "outputs": [],
   "source": []
  },
  {
   "cell_type": "markdown",
   "id": "1864151d-c011-4c41-9e10-0964eb538ffc",
   "metadata": {
    "tags": []
   },
   "source": [
    "--- \n",
    "\n",
    "## Determining Which Numeric Features to Use"
   ]
  },
  {
   "cell_type": "markdown",
   "id": "fe068acb-758c-472e-a754-c46a46a076b6",
   "metadata": {},
   "source": [
    "Let us begin by determining which numeric values are most relevant to `saleprice` and are not very correlated to one another."
   ]
  },
  {
   "cell_type": "code",
   "execution_count": 245,
   "id": "6805d25a-237f-4232-bf87-e66e0e1278cb",
   "metadata": {},
   "outputs": [
    {
     "data": {
      "text/html": [
       "<div>\n",
       "<style scoped>\n",
       "    .dataframe tbody tr th:only-of-type {\n",
       "        vertical-align: middle;\n",
       "    }\n",
       "\n",
       "    .dataframe tbody tr th {\n",
       "        vertical-align: top;\n",
       "    }\n",
       "\n",
       "    .dataframe thead th {\n",
       "        text-align: right;\n",
       "    }\n",
       "</style>\n",
       "<table border=\"1\" class=\"dataframe\">\n",
       "  <thead>\n",
       "    <tr style=\"text-align: right;\">\n",
       "      <th></th>\n",
       "      <th>ms_zoning</th>\n",
       "      <th>lot_area</th>\n",
       "      <th>land_contour</th>\n",
       "      <th>land_slope</th>\n",
       "      <th>neighborhood</th>\n",
       "      <th>condition_1</th>\n",
       "      <th>bldg_type</th>\n",
       "      <th>house_style</th>\n",
       "      <th>year_built</th>\n",
       "      <th>year_remod_add</th>\n",
       "      <th>...</th>\n",
       "      <th>kitchen_qual</th>\n",
       "      <th>gr_liv_area</th>\n",
       "      <th>bedroom_abvgr</th>\n",
       "      <th>saleprice</th>\n",
       "      <th>bsmt_qual_cond</th>\n",
       "      <th>fireplaces_weighted</th>\n",
       "      <th>bsmt_weighted_sf</th>\n",
       "      <th>qual_cond</th>\n",
       "      <th>exter_qual_cond</th>\n",
       "      <th>bath</th>\n",
       "    </tr>\n",
       "  </thead>\n",
       "  <tbody>\n",
       "    <tr>\n",
       "      <th>0</th>\n",
       "      <td>RL</td>\n",
       "      <td>13517</td>\n",
       "      <td>Lvl</td>\n",
       "      <td>Gtl</td>\n",
       "      <td>Sawyer</td>\n",
       "      <td>RRAe</td>\n",
       "      <td>1Fam</td>\n",
       "      <td>2Story</td>\n",
       "      <td>1976</td>\n",
       "      <td>2005</td>\n",
       "      <td>...</td>\n",
       "      <td>4</td>\n",
       "      <td>1479</td>\n",
       "      <td>3</td>\n",
       "      <td>130500</td>\n",
       "      <td>9</td>\n",
       "      <td>0</td>\n",
       "      <td>629.0</td>\n",
       "      <td>48</td>\n",
       "      <td>12</td>\n",
       "      <td>2.5</td>\n",
       "    </tr>\n",
       "    <tr>\n",
       "      <th>1</th>\n",
       "      <td>RL</td>\n",
       "      <td>11492</td>\n",
       "      <td>Lvl</td>\n",
       "      <td>Gtl</td>\n",
       "      <td>SawyerW</td>\n",
       "      <td>Norm</td>\n",
       "      <td>1Fam</td>\n",
       "      <td>2Story</td>\n",
       "      <td>1996</td>\n",
       "      <td>1997</td>\n",
       "      <td>...</td>\n",
       "      <td>4</td>\n",
       "      <td>2122</td>\n",
       "      <td>4</td>\n",
       "      <td>220000</td>\n",
       "      <td>12</td>\n",
       "      <td>3</td>\n",
       "      <td>775.0</td>\n",
       "      <td>35</td>\n",
       "      <td>12</td>\n",
       "      <td>2.5</td>\n",
       "    </tr>\n",
       "    <tr>\n",
       "      <th>2</th>\n",
       "      <td>RL</td>\n",
       "      <td>7922</td>\n",
       "      <td>Lvl</td>\n",
       "      <td>Gtl</td>\n",
       "      <td>NAmes</td>\n",
       "      <td>Norm</td>\n",
       "      <td>1Fam</td>\n",
       "      <td>1Story</td>\n",
       "      <td>1953</td>\n",
       "      <td>2007</td>\n",
       "      <td>...</td>\n",
       "      <td>4</td>\n",
       "      <td>1057</td>\n",
       "      <td>3</td>\n",
       "      <td>109000</td>\n",
       "      <td>9</td>\n",
       "      <td>0</td>\n",
       "      <td>894.0</td>\n",
       "      <td>35</td>\n",
       "      <td>12</td>\n",
       "      <td>1.0</td>\n",
       "    </tr>\n",
       "    <tr>\n",
       "      <th>3</th>\n",
       "      <td>RL</td>\n",
       "      <td>9802</td>\n",
       "      <td>Lvl</td>\n",
       "      <td>Gtl</td>\n",
       "      <td>Timber</td>\n",
       "      <td>Norm</td>\n",
       "      <td>1Fam</td>\n",
       "      <td>2Story</td>\n",
       "      <td>2006</td>\n",
       "      <td>2007</td>\n",
       "      <td>...</td>\n",
       "      <td>3</td>\n",
       "      <td>1444</td>\n",
       "      <td>3</td>\n",
       "      <td>174000</td>\n",
       "      <td>12</td>\n",
       "      <td>0</td>\n",
       "      <td>192.0</td>\n",
       "      <td>25</td>\n",
       "      <td>9</td>\n",
       "      <td>2.5</td>\n",
       "    </tr>\n",
       "    <tr>\n",
       "      <th>4</th>\n",
       "      <td>RL</td>\n",
       "      <td>14235</td>\n",
       "      <td>Lvl</td>\n",
       "      <td>Gtl</td>\n",
       "      <td>SawyerW</td>\n",
       "      <td>Norm</td>\n",
       "      <td>1Fam</td>\n",
       "      <td>1.5Fin</td>\n",
       "      <td>1900</td>\n",
       "      <td>1993</td>\n",
       "      <td>...</td>\n",
       "      <td>3</td>\n",
       "      <td>1445</td>\n",
       "      <td>3</td>\n",
       "      <td>138500</td>\n",
       "      <td>8</td>\n",
       "      <td>0</td>\n",
       "      <td>338.0</td>\n",
       "      <td>48</td>\n",
       "      <td>9</td>\n",
       "      <td>2.0</td>\n",
       "    </tr>\n",
       "    <tr>\n",
       "      <th>...</th>\n",
       "      <td>...</td>\n",
       "      <td>...</td>\n",
       "      <td>...</td>\n",
       "      <td>...</td>\n",
       "      <td>...</td>\n",
       "      <td>...</td>\n",
       "      <td>...</td>\n",
       "      <td>...</td>\n",
       "      <td>...</td>\n",
       "      <td>...</td>\n",
       "      <td>...</td>\n",
       "      <td>...</td>\n",
       "      <td>...</td>\n",
       "      <td>...</td>\n",
       "      <td>...</td>\n",
       "      <td>...</td>\n",
       "      <td>...</td>\n",
       "      <td>...</td>\n",
       "      <td>...</td>\n",
       "      <td>...</td>\n",
       "      <td>...</td>\n",
       "    </tr>\n",
       "    <tr>\n",
       "      <th>2046</th>\n",
       "      <td>RL</td>\n",
       "      <td>11449</td>\n",
       "      <td>HLS</td>\n",
       "      <td>Gtl</td>\n",
       "      <td>Timber</td>\n",
       "      <td>Norm</td>\n",
       "      <td>1Fam</td>\n",
       "      <td>1Story</td>\n",
       "      <td>2007</td>\n",
       "      <td>2007</td>\n",
       "      <td>...</td>\n",
       "      <td>4</td>\n",
       "      <td>1728</td>\n",
       "      <td>3</td>\n",
       "      <td>298751</td>\n",
       "      <td>12</td>\n",
       "      <td>4</td>\n",
       "      <td>1447.5</td>\n",
       "      <td>40</td>\n",
       "      <td>12</td>\n",
       "      <td>2.0</td>\n",
       "    </tr>\n",
       "    <tr>\n",
       "      <th>2047</th>\n",
       "      <td>RL</td>\n",
       "      <td>12342</td>\n",
       "      <td>Lvl</td>\n",
       "      <td>Gtl</td>\n",
       "      <td>Edwards</td>\n",
       "      <td>Norm</td>\n",
       "      <td>1Fam</td>\n",
       "      <td>1Story</td>\n",
       "      <td>1940</td>\n",
       "      <td>1950</td>\n",
       "      <td>...</td>\n",
       "      <td>3</td>\n",
       "      <td>861</td>\n",
       "      <td>1</td>\n",
       "      <td>82500</td>\n",
       "      <td>9</td>\n",
       "      <td>0</td>\n",
       "      <td>561.5</td>\n",
       "      <td>20</td>\n",
       "      <td>9</td>\n",
       "      <td>1.0</td>\n",
       "    </tr>\n",
       "    <tr>\n",
       "      <th>2048</th>\n",
       "      <td>RL</td>\n",
       "      <td>7558</td>\n",
       "      <td>Bnk</td>\n",
       "      <td>Gtl</td>\n",
       "      <td>Crawfor</td>\n",
       "      <td>Norm</td>\n",
       "      <td>1Fam</td>\n",
       "      <td>1.5Fin</td>\n",
       "      <td>1928</td>\n",
       "      <td>1950</td>\n",
       "      <td>...</td>\n",
       "      <td>3</td>\n",
       "      <td>1913</td>\n",
       "      <td>3</td>\n",
       "      <td>177000</td>\n",
       "      <td>9</td>\n",
       "      <td>3</td>\n",
       "      <td>448.0</td>\n",
       "      <td>36</td>\n",
       "      <td>9</td>\n",
       "      <td>1.5</td>\n",
       "    </tr>\n",
       "    <tr>\n",
       "      <th>2049</th>\n",
       "      <td>RL</td>\n",
       "      <td>10400</td>\n",
       "      <td>Lvl</td>\n",
       "      <td>Gtl</td>\n",
       "      <td>NAmes</td>\n",
       "      <td>Norm</td>\n",
       "      <td>1Fam</td>\n",
       "      <td>1Story</td>\n",
       "      <td>1956</td>\n",
       "      <td>1956</td>\n",
       "      <td>...</td>\n",
       "      <td>3</td>\n",
       "      <td>1200</td>\n",
       "      <td>3</td>\n",
       "      <td>144000</td>\n",
       "      <td>9</td>\n",
       "      <td>8</td>\n",
       "      <td>302.5</td>\n",
       "      <td>20</td>\n",
       "      <td>9</td>\n",
       "      <td>1.0</td>\n",
       "    </tr>\n",
       "    <tr>\n",
       "      <th>2050</th>\n",
       "      <td>RL</td>\n",
       "      <td>7500</td>\n",
       "      <td>Lvl</td>\n",
       "      <td>Gtl</td>\n",
       "      <td>Gilbert</td>\n",
       "      <td>Norm</td>\n",
       "      <td>1Fam</td>\n",
       "      <td>2Story</td>\n",
       "      <td>1999</td>\n",
       "      <td>1999</td>\n",
       "      <td>...</td>\n",
       "      <td>4</td>\n",
       "      <td>1804</td>\n",
       "      <td>3</td>\n",
       "      <td>189000</td>\n",
       "      <td>9</td>\n",
       "      <td>3</td>\n",
       "      <td>497.0</td>\n",
       "      <td>35</td>\n",
       "      <td>9</td>\n",
       "      <td>2.5</td>\n",
       "    </tr>\n",
       "  </tbody>\n",
       "</table>\n",
       "<p>2051 rows × 24 columns</p>\n",
       "</div>"
      ],
      "text/plain": [
       "     ms_zoning  lot_area land_contour land_slope neighborhood condition_1  \\\n",
       "0           RL     13517          Lvl        Gtl       Sawyer        RRAe   \n",
       "1           RL     11492          Lvl        Gtl      SawyerW        Norm   \n",
       "2           RL      7922          Lvl        Gtl        NAmes        Norm   \n",
       "3           RL      9802          Lvl        Gtl       Timber        Norm   \n",
       "4           RL     14235          Lvl        Gtl      SawyerW        Norm   \n",
       "...        ...       ...          ...        ...          ...         ...   \n",
       "2046        RL     11449          HLS        Gtl       Timber        Norm   \n",
       "2047        RL     12342          Lvl        Gtl      Edwards        Norm   \n",
       "2048        RL      7558          Bnk        Gtl      Crawfor        Norm   \n",
       "2049        RL     10400          Lvl        Gtl        NAmes        Norm   \n",
       "2050        RL      7500          Lvl        Gtl      Gilbert        Norm   \n",
       "\n",
       "     bldg_type house_style  year_built  year_remod_add  ... kitchen_qual  \\\n",
       "0         1Fam      2Story        1976            2005  ...            4   \n",
       "1         1Fam      2Story        1996            1997  ...            4   \n",
       "2         1Fam      1Story        1953            2007  ...            4   \n",
       "3         1Fam      2Story        2006            2007  ...            3   \n",
       "4         1Fam      1.5Fin        1900            1993  ...            3   \n",
       "...        ...         ...         ...             ...  ...          ...   \n",
       "2046      1Fam      1Story        2007            2007  ...            4   \n",
       "2047      1Fam      1Story        1940            1950  ...            3   \n",
       "2048      1Fam      1.5Fin        1928            1950  ...            3   \n",
       "2049      1Fam      1Story        1956            1956  ...            3   \n",
       "2050      1Fam      2Story        1999            1999  ...            4   \n",
       "\n",
       "      gr_liv_area  bedroom_abvgr  saleprice  bsmt_qual_cond  \\\n",
       "0            1479              3     130500               9   \n",
       "1            2122              4     220000              12   \n",
       "2            1057              3     109000               9   \n",
       "3            1444              3     174000              12   \n",
       "4            1445              3     138500               8   \n",
       "...           ...            ...        ...             ...   \n",
       "2046         1728              3     298751              12   \n",
       "2047          861              1      82500               9   \n",
       "2048         1913              3     177000               9   \n",
       "2049         1200              3     144000               9   \n",
       "2050         1804              3     189000               9   \n",
       "\n",
       "      fireplaces_weighted  bsmt_weighted_sf  qual_cond  exter_qual_cond  bath  \n",
       "0                       0             629.0         48               12   2.5  \n",
       "1                       3             775.0         35               12   2.5  \n",
       "2                       0             894.0         35               12   1.0  \n",
       "3                       0             192.0         25                9   2.5  \n",
       "4                       0             338.0         48                9   2.0  \n",
       "...                   ...               ...        ...              ...   ...  \n",
       "2046                    4            1447.5         40               12   2.0  \n",
       "2047                    0             561.5         20                9   1.0  \n",
       "2048                    3             448.0         36                9   1.5  \n",
       "2049                    8             302.5         20                9   1.0  \n",
       "2050                    3             497.0         35                9   2.5  \n",
       "\n",
       "[2051 rows x 24 columns]"
      ]
     },
     "execution_count": 245,
     "metadata": {},
     "output_type": "execute_result"
    }
   ],
   "source": [
    "house"
   ]
  },
  {
   "cell_type": "code",
   "execution_count": 246,
   "id": "ef69092f-b05f-44e3-8fc0-fa1ef03f9c36",
   "metadata": {},
   "outputs": [
    {
     "data": {
      "image/png": "[encoded data removed]",
      "text/plain": [
       "<Figure size 216x720 with 2 Axes>"
      ]
     },
     "metadata": {
      "needs_background": "light"
     },
     "output_type": "display_data"
    }
   ],
   "source": [
    "plt.figure(figsize = (3,10))\n",
    "sns.heatmap(house.corr()[['saleprice']], cmap = 'RdYlGn', annot = True);"
   ]
  },
  {
   "cell_type": "markdown",
   "id": "a1901d8a-9270-4041-bea7-6219710de7fc",
   "metadata": {},
   "source": [
    "Out of the numeric features we have selected/created, three stand out as correlated to `saleprice`: `gr_liv_area`, `kitchen_qual`, and `garage_area`. It would be nice if we could use all of these features in our model, unfortunately, their variance inflation factors are quite large."
   ]
  },
  {
   "cell_type": "code",
   "execution_count": 247,
   "id": "0bc6bd2f-ac9f-4f65-8589-d921f19c4c19",
   "metadata": {},
   "outputs": [
    {
     "data": {
      "text/html": [
       "<div>\n",
       "<style scoped>\n",
       "    .dataframe tbody tr th:only-of-type {\n",
       "        vertical-align: middle;\n",
       "    }\n",
       "\n",
       "    .dataframe tbody tr th {\n",
       "        vertical-align: top;\n",
       "    }\n",
       "\n",
       "    .dataframe thead th {\n",
       "        text-align: right;\n",
       "    }\n",
       "</style>\n",
       "<table border=\"1\" class=\"dataframe\">\n",
       "  <thead>\n",
       "    <tr style=\"text-align: right;\">\n",
       "      <th></th>\n",
       "      <th>vif</th>\n",
       "    </tr>\n",
       "  </thead>\n",
       "  <tbody>\n",
       "    <tr>\n",
       "      <th>kitchen_qual</th>\n",
       "      <td>14.528355</td>\n",
       "    </tr>\n",
       "    <tr>\n",
       "      <th>gr_liv_area</th>\n",
       "      <td>13.761834</td>\n",
       "    </tr>\n",
       "    <tr>\n",
       "      <th>garage_area</th>\n",
       "      <td>8.489178</td>\n",
       "    </tr>\n",
       "  </tbody>\n",
       "</table>\n",
       "</div>"
      ],
      "text/plain": [
       "                    vif\n",
       "kitchen_qual  14.528355\n",
       "gr_liv_area   13.761834\n",
       "garage_area    8.489178"
      ]
     },
     "execution_count": 247,
     "metadata": {},
     "output_type": "execute_result"
    }
   ],
   "source": [
    "vif_df(house[['gr_liv_area', 'kitchen_qual', 'garage_area']])"
   ]
  },
  {
   "cell_type": "code",
   "execution_count": 248,
   "id": "07deb457-b102-45ec-8c2d-10295e49181e",
   "metadata": {},
   "outputs": [
    {
     "data": {
      "text/html": [
       "<div>\n",
       "<style scoped>\n",
       "    .dataframe tbody tr th:only-of-type {\n",
       "        vertical-align: middle;\n",
       "    }\n",
       "\n",
       "    .dataframe tbody tr th {\n",
       "        vertical-align: top;\n",
       "    }\n",
       "\n",
       "    .dataframe thead th {\n",
       "        text-align: right;\n",
       "    }\n",
       "</style>\n",
       "<table border=\"1\" class=\"dataframe\">\n",
       "  <thead>\n",
       "    <tr style=\"text-align: right;\">\n",
       "      <th></th>\n",
       "      <th>vif</th>\n",
       "    </tr>\n",
       "  </thead>\n",
       "  <tbody>\n",
       "    <tr>\n",
       "      <th>gr_liv_area</th>\n",
       "      <td>7.136874</td>\n",
       "    </tr>\n",
       "    <tr>\n",
       "      <th>garage_area</th>\n",
       "      <td>7.136874</td>\n",
       "    </tr>\n",
       "  </tbody>\n",
       "</table>\n",
       "</div>"
      ],
      "text/plain": [
       "                  vif\n",
       "gr_liv_area  7.136874\n",
       "garage_area  7.136874"
      ]
     },
     "execution_count": 248,
     "metadata": {},
     "output_type": "execute_result"
    }
   ],
   "source": [
    "vif_df(house[['gr_liv_area', 'garage_area']])"
   ]
  },
  {
   "cell_type": "markdown",
   "id": "a46b90ba-372e-4d88-be77-4fc8950ef3b5",
   "metadata": {},
   "source": [
    "This suggests we should only use `gr_liv_area` out of `gr_liv_area`, `kitchen_qual`, and `garage_area`."
   ]
  },
  {
   "cell_type": "code",
   "execution_count": 250,
   "id": "067af237-18e8-408c-9f16-5deadd71fb21",
   "metadata": {},
   "outputs": [
    {
     "data": {
      "text/html": [
       "<div>\n",
       "<style scoped>\n",
       "    .dataframe tbody tr th:only-of-type {\n",
       "        vertical-align: middle;\n",
       "    }\n",
       "\n",
       "    .dataframe tbody tr th {\n",
       "        vertical-align: top;\n",
       "    }\n",
       "\n",
       "    .dataframe thead th {\n",
       "        text-align: right;\n",
       "    }\n",
       "</style>\n",
       "<table border=\"1\" class=\"dataframe\">\n",
       "  <thead>\n",
       "    <tr style=\"text-align: right;\">\n",
       "      <th></th>\n",
       "      <th>vif</th>\n",
       "    </tr>\n",
       "  </thead>\n",
       "  <tbody>\n",
       "    <tr>\n",
       "      <th>gr_liv_area</th>\n",
       "      <td>3.513992</td>\n",
       "    </tr>\n",
       "    <tr>\n",
       "      <th>lot_area</th>\n",
       "      <td>3.513992</td>\n",
       "    </tr>\n",
       "  </tbody>\n",
       "</table>\n",
       "</div>"
      ],
      "text/plain": [
       "                  vif\n",
       "gr_liv_area  3.513992\n",
       "lot_area     3.513992"
      ]
     },
     "execution_count": 250,
     "metadata": {},
     "output_type": "execute_result"
    }
   ],
   "source": [
    "vif_df(house[['gr_liv_area', 'lot_area']])"
   ]
  },
  {
   "cell_type": "markdown",
   "id": "50a137ed-3a58-4fc9-a90f-e5f8b822b02e",
   "metadata": {},
   "source": [
    "After trial and error, `gr_liv_area` only obtains a VIF score below 5 with `lot_area`, `bsmt_weighted_sf`, `open_porch_sf`, or `wood_deck_sf`. The first two seem the most relevant and `open_porch_sf` makes the VIF too large to reasonably include categorical variables.\n",
    "\n",
    "Of the numeric columns, let us only consider using `gr_liv_area` and `lot_area` in our linear regression model."
   ]
  },
  {
   "cell_type": "code",
   "execution_count": 251,
   "id": "c29f6786-32d3-4dcd-9a8f-20fb825643aa",
   "metadata": {},
   "outputs": [],
   "source": [
    "numeric_features = ['gr_liv_area', 'lot_area']"
   ]
  },
  {
   "cell_type": "code",
   "execution_count": null,
   "id": "2e092cfb-e171-4815-81cf-a42386d34d98",
   "metadata": {},
   "outputs": [],
   "source": []
  },
  {
   "cell_type": "code",
   "execution_count": null,
   "id": "8ca8b54f-7dc5-4934-8550-f1b01673beae",
   "metadata": {},
   "outputs": [],
   "source": []
  },
  {
   "cell_type": "code",
   "execution_count": null,
   "id": "2bf840ea-a551-4c47-b69e-94432d1c82b2",
   "metadata": {},
   "outputs": [],
   "source": [
    "### revise below"
   ]
  },
  {
   "cell_type": "code",
   "execution_count": 160,
   "id": "f720a3cd-ae10-4f21-be67-05497420598c",
   "metadata": {},
   "outputs": [],
   "source": [
    "# seems early to define x\n",
    "\n",
    "# learned about method from https://stackoverflow.com/questions/25039626/how-do-i-find-numeric-columns-in-pandas\n",
    "X = house.select_dtypes(include = ['int64', 'float64']).copy()\n",
    "y = house['saleprice']"
   ]
  },
  {
   "cell_type": "code",
   "execution_count": 161,
   "id": "ed71ad77-e530-4559-8617-d41e49565649",
   "metadata": {},
   "outputs": [],
   "source": [
    "X.drop(columns = ['kitchen_qual', 'garage_area', 'saleprice'], inplace = True)"
   ]
  },
  {
   "cell_type": "code",
   "execution_count": 162,
   "id": "55a667fb-2cc5-43ab-9837-9e3194858c81",
   "metadata": {},
   "outputs": [
    {
     "data": {
      "text/html": [
       "<div>\n",
       "<style scoped>\n",
       "    .dataframe tbody tr th:only-of-type {\n",
       "        vertical-align: middle;\n",
       "    }\n",
       "\n",
       "    .dataframe tbody tr th {\n",
       "        vertical-align: top;\n",
       "    }\n",
       "\n",
       "    .dataframe thead th {\n",
       "        text-align: right;\n",
       "    }\n",
       "</style>\n",
       "<table border=\"1\" class=\"dataframe\">\n",
       "  <thead>\n",
       "    <tr style=\"text-align: right;\">\n",
       "      <th></th>\n",
       "      <th>vif</th>\n",
       "    </tr>\n",
       "  </thead>\n",
       "  <tbody>\n",
       "    <tr>\n",
       "      <th>gr_liv_area</th>\n",
       "      <td>3.513992</td>\n",
       "    </tr>\n",
       "    <tr>\n",
       "      <th>lot_area</th>\n",
       "      <td>3.513992</td>\n",
       "    </tr>\n",
       "  </tbody>\n",
       "</table>\n",
       "</div>"
      ],
      "text/plain": [
       "                  vif\n",
       "gr_liv_area  3.513992\n",
       "lot_area     3.513992"
      ]
     },
     "execution_count": 162,
     "metadata": {},
     "output_type": "execute_result"
    }
   ],
   "source": [
    "#gr_liv_area,\n",
    "# lot_area, bsmt_weighted_sf\n",
    "vif_df(X[['gr_liv_area', 'lot_area']])"
   ]
  },
  {
   "cell_type": "markdown",
   "id": "4751c2c5-9497-4dff-9734-d4c9c4954623",
   "metadata": {},
   "source": [
    "---\n",
    "\n",
    "## Determining Which Categorical Features to Use"
   ]
  },
  {
   "cell_type": "code",
   "execution_count": 254,
   "id": "e69d8a90-f503-45b8-92df-ab413244724e",
   "metadata": {},
   "outputs": [],
   "source": [
    "categoric = house.select_dtypes(include = ['object'])"
   ]
  },
  {
   "cell_type": "code",
   "execution_count": 255,
   "id": "845294de-3320-440c-ad1c-b0b08e64a789",
   "metadata": {},
   "outputs": [
    {
     "data": {
      "text/html": [
       "<div>\n",
       "<style scoped>\n",
       "    .dataframe tbody tr th:only-of-type {\n",
       "        vertical-align: middle;\n",
       "    }\n",
       "\n",
       "    .dataframe tbody tr th {\n",
       "        vertical-align: top;\n",
       "    }\n",
       "\n",
       "    .dataframe thead th {\n",
       "        text-align: right;\n",
       "    }\n",
       "</style>\n",
       "<table border=\"1\" class=\"dataframe\">\n",
       "  <thead>\n",
       "    <tr style=\"text-align: right;\">\n",
       "      <th></th>\n",
       "      <th>ms_zoning</th>\n",
       "      <th>land_contour</th>\n",
       "      <th>land_slope</th>\n",
       "      <th>neighborhood</th>\n",
       "      <th>condition_1</th>\n",
       "      <th>bldg_type</th>\n",
       "      <th>house_style</th>\n",
       "      <th>mas_vnr_type</th>\n",
       "    </tr>\n",
       "  </thead>\n",
       "  <tbody>\n",
       "    <tr>\n",
       "      <th>0</th>\n",
       "      <td>RL</td>\n",
       "      <td>Lvl</td>\n",
       "      <td>Gtl</td>\n",
       "      <td>Sawyer</td>\n",
       "      <td>RRAe</td>\n",
       "      <td>1Fam</td>\n",
       "      <td>2Story</td>\n",
       "      <td>BrkFace</td>\n",
       "    </tr>\n",
       "    <tr>\n",
       "      <th>1</th>\n",
       "      <td>RL</td>\n",
       "      <td>Lvl</td>\n",
       "      <td>Gtl</td>\n",
       "      <td>SawyerW</td>\n",
       "      <td>Norm</td>\n",
       "      <td>1Fam</td>\n",
       "      <td>2Story</td>\n",
       "      <td>BrkFace</td>\n",
       "    </tr>\n",
       "    <tr>\n",
       "      <th>2</th>\n",
       "      <td>RL</td>\n",
       "      <td>Lvl</td>\n",
       "      <td>Gtl</td>\n",
       "      <td>NAmes</td>\n",
       "      <td>Norm</td>\n",
       "      <td>1Fam</td>\n",
       "      <td>1Story</td>\n",
       "      <td>None</td>\n",
       "    </tr>\n",
       "    <tr>\n",
       "      <th>3</th>\n",
       "      <td>RL</td>\n",
       "      <td>Lvl</td>\n",
       "      <td>Gtl</td>\n",
       "      <td>Timber</td>\n",
       "      <td>Norm</td>\n",
       "      <td>1Fam</td>\n",
       "      <td>2Story</td>\n",
       "      <td>None</td>\n",
       "    </tr>\n",
       "    <tr>\n",
       "      <th>4</th>\n",
       "      <td>RL</td>\n",
       "      <td>Lvl</td>\n",
       "      <td>Gtl</td>\n",
       "      <td>SawyerW</td>\n",
       "      <td>Norm</td>\n",
       "      <td>1Fam</td>\n",
       "      <td>1.5Fin</td>\n",
       "      <td>None</td>\n",
       "    </tr>\n",
       "    <tr>\n",
       "      <th>...</th>\n",
       "      <td>...</td>\n",
       "      <td>...</td>\n",
       "      <td>...</td>\n",
       "      <td>...</td>\n",
       "      <td>...</td>\n",
       "      <td>...</td>\n",
       "      <td>...</td>\n",
       "      <td>...</td>\n",
       "    </tr>\n",
       "    <tr>\n",
       "      <th>2046</th>\n",
       "      <td>RL</td>\n",
       "      <td>HLS</td>\n",
       "      <td>Gtl</td>\n",
       "      <td>Timber</td>\n",
       "      <td>Norm</td>\n",
       "      <td>1Fam</td>\n",
       "      <td>1Story</td>\n",
       "      <td>None</td>\n",
       "    </tr>\n",
       "    <tr>\n",
       "      <th>2047</th>\n",
       "      <td>RL</td>\n",
       "      <td>Lvl</td>\n",
       "      <td>Gtl</td>\n",
       "      <td>Edwards</td>\n",
       "      <td>Norm</td>\n",
       "      <td>1Fam</td>\n",
       "      <td>1Story</td>\n",
       "      <td>None</td>\n",
       "    </tr>\n",
       "    <tr>\n",
       "      <th>2048</th>\n",
       "      <td>RL</td>\n",
       "      <td>Bnk</td>\n",
       "      <td>Gtl</td>\n",
       "      <td>Crawfor</td>\n",
       "      <td>Norm</td>\n",
       "      <td>1Fam</td>\n",
       "      <td>1.5Fin</td>\n",
       "      <td>None</td>\n",
       "    </tr>\n",
       "    <tr>\n",
       "      <th>2049</th>\n",
       "      <td>RL</td>\n",
       "      <td>Lvl</td>\n",
       "      <td>Gtl</td>\n",
       "      <td>NAmes</td>\n",
       "      <td>Norm</td>\n",
       "      <td>1Fam</td>\n",
       "      <td>1Story</td>\n",
       "      <td>None</td>\n",
       "    </tr>\n",
       "    <tr>\n",
       "      <th>2050</th>\n",
       "      <td>RL</td>\n",
       "      <td>Lvl</td>\n",
       "      <td>Gtl</td>\n",
       "      <td>Gilbert</td>\n",
       "      <td>Norm</td>\n",
       "      <td>1Fam</td>\n",
       "      <td>2Story</td>\n",
       "      <td>None</td>\n",
       "    </tr>\n",
       "  </tbody>\n",
       "</table>\n",
       "<p>2051 rows × 8 columns</p>\n",
       "</div>"
      ],
      "text/plain": [
       "     ms_zoning land_contour land_slope neighborhood condition_1 bldg_type  \\\n",
       "0           RL          Lvl        Gtl       Sawyer        RRAe      1Fam   \n",
       "1           RL          Lvl        Gtl      SawyerW        Norm      1Fam   \n",
       "2           RL          Lvl        Gtl        NAmes        Norm      1Fam   \n",
       "3           RL          Lvl        Gtl       Timber        Norm      1Fam   \n",
       "4           RL          Lvl        Gtl      SawyerW        Norm      1Fam   \n",
       "...        ...          ...        ...          ...         ...       ...   \n",
       "2046        RL          HLS        Gtl       Timber        Norm      1Fam   \n",
       "2047        RL          Lvl        Gtl      Edwards        Norm      1Fam   \n",
       "2048        RL          Bnk        Gtl      Crawfor        Norm      1Fam   \n",
       "2049        RL          Lvl        Gtl        NAmes        Norm      1Fam   \n",
       "2050        RL          Lvl        Gtl      Gilbert        Norm      1Fam   \n",
       "\n",
       "     house_style mas_vnr_type  \n",
       "0         2Story      BrkFace  \n",
       "1         2Story      BrkFace  \n",
       "2         1Story         None  \n",
       "3         2Story         None  \n",
       "4         1.5Fin         None  \n",
       "...          ...          ...  \n",
       "2046      1Story         None  \n",
       "2047      1Story         None  \n",
       "2048      1.5Fin         None  \n",
       "2049      1Story         None  \n",
       "2050      2Story         None  \n",
       "\n",
       "[2051 rows x 8 columns]"
      ]
     },
     "execution_count": 255,
     "metadata": {},
     "output_type": "execute_result"
    }
   ],
   "source": [
    "categoric"
   ]
  },
  {
   "cell_type": "code",
   "execution_count": 256,
   "id": "c600a26b-426f-4fc3-8b83-34ae814b1f11",
   "metadata": {},
   "outputs": [
    {
     "name": "stdout",
     "output_type": "stream",
     "text": [
      "RL         1598\n",
      "RM          316\n",
      "FV          101\n",
      "C (all)      19\n",
      "RH           14\n",
      "A (agr)       2\n",
      "I (all)       1\n",
      "Name: ms_zoning, dtype: int64\n",
      "Lvl    1843\n",
      "HLS      85\n",
      "Bnk      80\n",
      "Low      43\n",
      "Name: land_contour, dtype: int64\n",
      "Gtl    1953\n",
      "Mod      88\n",
      "Sev      10\n",
      "Name: land_slope, dtype: int64\n",
      "NAmes      310\n",
      "CollgCr    180\n",
      "OldTown    163\n",
      "Edwards    143\n",
      "Somerst    130\n",
      "NridgHt    122\n",
      "Gilbert    116\n",
      "Sawyer     111\n",
      "NWAmes      87\n",
      "SawyerW     87\n",
      "Mitchel     82\n",
      "BrkSide     76\n",
      "Crawfor     71\n",
      "IDOTRR      69\n",
      "NoRidge     48\n",
      "Timber      48\n",
      "StoneBr     38\n",
      "SWISU       32\n",
      "ClearCr     27\n",
      "MeadowV     24\n",
      "Blmngtn     22\n",
      "BrDale      19\n",
      "Veenker     17\n",
      "NPkVill     17\n",
      "Blueste      6\n",
      "Greens       3\n",
      "GrnHill      2\n",
      "Landmrk      1\n",
      "Name: neighborhood, dtype: int64\n",
      "Norm      1767\n",
      "Feedr      109\n",
      "Artery      70\n",
      "RRAn        36\n",
      "PosN        27\n",
      "RRAe        21\n",
      "PosA        12\n",
      "RRNn         6\n",
      "RRNe         3\n",
      "Name: condition_1, dtype: int64\n",
      "1Fam      1700\n",
      "TwnhsE     161\n",
      "Duplex      75\n",
      "Twnhs       69\n",
      "2fmCon      46\n",
      "Name: bldg_type, dtype: int64\n",
      "1Story    1059\n",
      "2Story     598\n",
      "1.5Fin     218\n",
      "SLvl        94\n",
      "SFoyer      50\n",
      "2.5Unf      14\n",
      "1.5Unf      12\n",
      "2.5Fin       6\n",
      "Name: house_style, dtype: int64\n",
      "None       1218\n",
      "BrkFace     630\n",
      "Stone       168\n",
      "NaN          22\n",
      "BrkCmn       13\n",
      "Name: mas_vnr_type, dtype: int64\n"
     ]
    }
   ],
   "source": [
    "for col in categoric.columns:\n",
    "    print(categoric[col].value_counts(dropna = False))"
   ]
  },
  {
   "cell_type": "markdown",
   "id": "1720843b-8832-4d42-bc6d-024778b06940",
   "metadata": {},
   "source": [
    "We saw earlier that despite wanting to include many numeric columns, most of them were correlated to one another and we could really only use two. In the same spirit avoiding multicollinearity among the nurmic variables, let us be picky about which categorical features we decide to use in our model.\n",
    "\n",
    "`neighborhood` immediately stands out as an indicator of property value. Almost all the other categorical variables have more than 1500 appearances of a single category (out of 2051). This leads me to believe these features will not do a great job at separating out the values of the different homes. Besides `neighborhood`, only `house_style` and `mas_vnr_type` have more spread out values. Since `mas_vnr_type` does not stand out to me as influencing the value of a home that much, I will only use `neighborhood` and `house_style` for the categorical features in our model.\n",
    "\n",
    "\\* In a future model, I will include `mas_vnr_type` to see if my intuition was correct.\\*"
   ]
  },
  {
   "cell_type": "code",
   "execution_count": 257,
   "id": "4b5df4b4-da27-4173-84fe-8d767416f6d4",
   "metadata": {},
   "outputs": [],
   "source": [
    "categ_features = ['neighborhood', 'house_style']"
   ]
  },
  {
   "cell_type": "code",
   "execution_count": null,
   "id": "26f7718a-2edf-4a1e-acf3-19ff0194e85e",
   "metadata": {},
   "outputs": [],
   "source": [
    "# possibly keeping\n",
    "# neighborhood, house_style - possibly correlated with gr_liv_area\n",
    "\n",
    "# mid level interest\n",
    "# mas_vnr_type\n",
    "\n",
    "# likely not keeping\n",
    "# ms_zoning, land_contour, land_slope,"
   ]
  },
  {
   "cell_type": "markdown",
   "id": "f86bb2ce-cbba-4d95-9295-f943fc5e6fc4",
   "metadata": {},
   "source": [
    "---\n",
    "\n",
    "## Making Sure Dummy Columns Agree Between Train and Test"
   ]
  },
  {
   "cell_type": "code",
   "execution_count": 258,
   "id": "622b3f64-6cb1-4646-91ae-e91ac58ba7ff",
   "metadata": {},
   "outputs": [],
   "source": [
    "house_predictors = house[numeric_features + categ_features]"
   ]
  },
  {
   "cell_type": "code",
   "execution_count": 430,
   "id": "82017fcd-522c-4acd-8281-b2d18f5c4d47",
   "metadata": {},
   "outputs": [],
   "source": [
    "raw_house_test = pd.read_csv('../datasets/test.csv')"
   ]
  },
  {
   "cell_type": "code",
   "execution_count": 273,
   "id": "fad3c171-89ac-494e-b980-30fb97ddbe6b",
   "metadata": {},
   "outputs": [
    {
     "data": {
      "text/plain": [
       "MS Zoning           0\n",
       "Lot Area            0\n",
       "Land Contour        0\n",
       "Land Slope          0\n",
       "Neighborhood        0\n",
       "Condition 1         0\n",
       "Bldg Type           0\n",
       "House Style         0\n",
       "Overall Qual        0\n",
       "Overall Cond        0\n",
       "Year Built          0\n",
       "Year Remod/Add      0\n",
       "Mas Vnr Type        1\n",
       "Exter Qual          0\n",
       "Exter Cond          0\n",
       "Bsmt Qual          25\n",
       "Bsmt Cond          25\n",
       "Garage Area         0\n",
       "Wood Deck SF        0\n",
       "Open Porch SF       0\n",
       "Kitchen Qual        0\n",
       "Gr Liv Area         0\n",
       "Bedroom AbvGr       0\n",
       "Full Bath           0\n",
       "Half Bath           0\n",
       "Fireplaces          0\n",
       "Fireplace Qu      422\n",
       "BsmtFin SF 1        0\n",
       "Bsmt Unf SF         0\n",
       "dtype: int64"
      ]
     },
     "execution_count": 273,
     "metadata": {},
     "output_type": "execute_result"
    }
   ],
   "source": [
    "# index [:-1] to exclude saleprice from features\n",
    "# since it doesn't appear in test data\n",
    "house_test = house_test[features[:-1]]\n",
    "\n",
    "house_test.isnull().sum()"
   ]
  },
  {
   "cell_type": "code",
   "execution_count": 274,
   "id": "70b09272-30e0-4c0b-b5db-259a873159df",
   "metadata": {},
   "outputs": [],
   "source": [
    "house_test.columns = [col.lower().replace(' ','_').replace('/','_') for col in house_test.columns]"
   ]
  },
  {
   "cell_type": "code",
   "execution_count": 276,
   "id": "0bc6ba65-222a-4a20-9c72-0bce16352176",
   "metadata": {},
   "outputs": [],
   "source": [
    "house_test = house_test[numeric_features + categ_features]"
   ]
  },
  {
   "cell_type": "code",
   "execution_count": 277,
   "id": "079a9a4d-9c8c-4b18-9d17-c5665b7f89ec",
   "metadata": {},
   "outputs": [],
   "source": [
    "# Train and test may have different appearance of categorical values\n",
    "# dummy columns might not agree and will interfere with running model\n",
    "# on test data\n",
    "\n",
    "# dummify\n",
    "train_with_dummies = pd.get_dummies(house_predictors, columns = categ_features, drop_first = True)\n",
    "test_with_dummies = pd.get_dummies(house_test, columns = categ_features, drop_first = True)"
   ]
  },
  {
   "cell_type": "code",
   "execution_count": 278,
   "id": "02d09b4a-6a86-4235-9b32-dd859cfe3632",
   "metadata": {},
   "outputs": [
    {
     "name": "stdout",
     "output_type": "stream",
     "text": [
      "(2051, 36)\n",
      "(878, 34)\n"
     ]
    }
   ],
   "source": [
    "# check column counts pre changes\n",
    "print(train_with_dummies.shape)\n",
    "print(test_with_dummies.shape)"
   ]
  },
  {
   "cell_type": "code",
   "execution_count": 279,
   "id": "e5c37257-f48d-42ac-ade9-ea5ff7084bfb",
   "metadata": {},
   "outputs": [],
   "source": [
    "# save dummy column names from both train and test to a set\n",
    "both_columns_set = set(train_with_dummies.columns).union(set(test_with_dummies.columns))\n",
    "\n",
    "# for any column names not in set add column with 0s\n",
    "for col in both_columns_set:\n",
    "    if col not in train_with_dummies.columns:\n",
    "        train_with_dummies[col] = 0\n",
    "    if col not in test_with_dummies.columns:\n",
    "        test_with_dummies[col] = 0\n",
    "\n",
    "# arrange columns so they agree"
   ]
  },
  {
   "cell_type": "code",
   "execution_count": 280,
   "id": "06bdb8d1-18ba-44e9-99fe-11869951ce4c",
   "metadata": {},
   "outputs": [
    {
     "name": "stdout",
     "output_type": "stream",
     "text": [
      "(2051, 36)\n",
      "(878, 36)\n"
     ]
    }
   ],
   "source": [
    "# check column counts pre changes\n",
    "print(train_with_dummies.shape)\n",
    "print(test_with_dummies.shape)"
   ]
  },
  {
   "cell_type": "code",
   "execution_count": 281,
   "id": "b6f14009-7ef0-4ce0-bdf3-75f3741de2b3",
   "metadata": {},
   "outputs": [
    {
     "data": {
      "text/plain": [
       "gr_liv_area              3075126\n",
       "lot_area                20643742\n",
       "neighborhood_Blueste           6\n",
       "neighborhood_BrDale           19\n",
       "neighborhood_BrkSide          76\n",
       "neighborhood_ClearCr          27\n",
       "neighborhood_CollgCr         180\n",
       "neighborhood_Crawfor          71\n",
       "neighborhood_Edwards         143\n",
       "neighborhood_Gilbert         116\n",
       "neighborhood_Greens            3\n",
       "neighborhood_GrnHill           2\n",
       "neighborhood_IDOTRR           69\n",
       "neighborhood_Landmrk           1\n",
       "neighborhood_MeadowV          24\n",
       "neighborhood_Mitchel          82\n",
       "neighborhood_NAmes           310\n",
       "neighborhood_NPkVill          17\n",
       "neighborhood_NWAmes           87\n",
       "neighborhood_NoRidge          48\n",
       "neighborhood_NridgHt         122\n",
       "neighborhood_OldTown         163\n",
       "neighborhood_SWISU            32\n",
       "neighborhood_Sawyer          111\n",
       "neighborhood_SawyerW          87\n",
       "neighborhood_Somerst         130\n",
       "neighborhood_StoneBr          38\n",
       "neighborhood_Timber           48\n",
       "neighborhood_Veenker          17\n",
       "house_style_1.5Unf            12\n",
       "house_style_1Story          1059\n",
       "house_style_2.5Fin             6\n",
       "house_style_2.5Unf            14\n",
       "house_style_2Story           598\n",
       "house_style_SFoyer            50\n",
       "house_style_SLvl              94\n",
       "dtype: int64"
      ]
     },
     "execution_count": 281,
     "metadata": {},
     "output_type": "execute_result"
    }
   ],
   "source": [
    "train_with_dummies.sum()"
   ]
  },
  {
   "cell_type": "code",
   "execution_count": 282,
   "id": "11232022-61ce-4ae2-a83b-0eecf9eb9b62",
   "metadata": {},
   "outputs": [
    {
     "data": {
      "text/plain": [
       "gr_liv_area             1314291\n",
       "lot_area                9049575\n",
       "neighborhood_Blueste          4\n",
       "neighborhood_BrDale          11\n",
       "neighborhood_BrkSide         32\n",
       "neighborhood_ClearCr         17\n",
       "neighborhood_CollgCr         87\n",
       "neighborhood_Crawfor         32\n",
       "neighborhood_Edwards         50\n",
       "neighborhood_Gilbert         49\n",
       "neighborhood_Greens           5\n",
       "neighborhood_IDOTRR          24\n",
       "neighborhood_MeadowV         13\n",
       "neighborhood_Mitchel         32\n",
       "neighborhood_NAmes          133\n",
       "neighborhood_NPkVill          6\n",
       "neighborhood_NWAmes          44\n",
       "neighborhood_NoRidge         23\n",
       "neighborhood_NridgHt         44\n",
       "neighborhood_OldTown         76\n",
       "neighborhood_SWISU           16\n",
       "neighborhood_Sawyer          40\n",
       "neighborhood_SawyerW         38\n",
       "neighborhood_Somerst         52\n",
       "neighborhood_StoneBr         13\n",
       "neighborhood_Timber          24\n",
       "neighborhood_Veenker          7\n",
       "house_style_1.5Unf            7\n",
       "house_style_1Story          422\n",
       "house_style_2.5Fin            2\n",
       "house_style_2.5Unf           10\n",
       "house_style_2Story          274\n",
       "house_style_SFoyer           33\n",
       "house_style_SLvl             34\n",
       "neighborhood_Landmrk          0\n",
       "neighborhood_GrnHill          0\n",
       "dtype: int64"
      ]
     },
     "execution_count": 282,
     "metadata": {},
     "output_type": "execute_result"
    }
   ],
   "source": [
    "test_with_dummies.sum()"
   ]
  },
  {
   "cell_type": "markdown",
   "id": "5de5374f-e941-4ad8-9df4-4e24b23508d8",
   "metadata": {},
   "source": [
    "It appears that our code above did not change any of the data and only added two columns full of zeros to the test data. Success!\n",
    "\n",
    "Lastly, we will want to arrange our columns so that the model we will eventually build takes the linear combination of the variables in the appropriate order for both the train and test data sets."
   ]
  },
  {
   "cell_type": "code",
   "execution_count": 285,
   "id": "d8408454-a012-458a-82cd-b01780513bfe",
   "metadata": {},
   "outputs": [],
   "source": [
    "column_order = train_with_dummies.columns\n",
    "test_with_dummies = test_with_dummies[column_order]"
   ]
  },
  {
   "cell_type": "markdown",
   "id": "53be25c9-49a2-48ca-a580-f466d44a4d17",
   "metadata": {},
   "source": [
    "As a sanity check, we see if the two columns are identical term-by-term."
   ]
  },
  {
   "cell_type": "code",
   "execution_count": 293,
   "id": "a3cc6daf-c33a-49a1-80e0-c4c02dd275c6",
   "metadata": {},
   "outputs": [
    {
     "data": {
      "text/plain": [
       "array([ True,  True,  True,  True,  True,  True,  True,  True,  True,\n",
       "        True,  True,  True,  True,  True,  True,  True,  True,  True,\n",
       "        True,  True,  True,  True,  True,  True,  True,  True,  True,\n",
       "        True,  True,  True,  True,  True,  True,  True,  True,  True])"
      ]
     },
     "execution_count": 293,
     "metadata": {},
     "output_type": "execute_result"
    }
   ],
   "source": [
    "train_with_dummies.columns == test_with_dummies.columns"
   ]
  },
  {
   "cell_type": "code",
   "execution_count": null,
   "id": "4c1ea5a2-92f8-493f-9fd9-d5eb01c818a8",
   "metadata": {},
   "outputs": [],
   "source": [
    "# maybe rearrange/edit check"
   ]
  },
  {
   "cell_type": "code",
   "execution_count": null,
   "id": "f72869a3-dffe-40a0-9a7b-9b2fdb8edf50",
   "metadata": {},
   "outputs": [],
   "source": []
  },
  {
   "cell_type": "markdown",
   "id": "bd333f63-7e4a-44cf-a390-3f11778c45a1",
   "metadata": {},
   "source": [
    "---\n",
    "\n",
    "## Train-Test-Split and Building the Linear Regression"
   ]
  },
  {
   "cell_type": "code",
   "execution_count": 295,
   "id": "787519e8-66c3-4b5c-bd2f-04ba55ac4d11",
   "metadata": {},
   "outputs": [],
   "source": [
    "X = train_with_dummies\n",
    "y = house['saleprice']"
   ]
  },
  {
   "cell_type": "code",
   "execution_count": 496,
   "id": "d4b12d55-5621-41fd-a3e4-dbd73b1de869",
   "metadata": {},
   "outputs": [],
   "source": [
    "X_train, X_val, y_train, y_val = train_test_split(X, y, test_size = 0.3)"
   ]
  },
  {
   "cell_type": "code",
   "execution_count": 497,
   "id": "4d9711d1-2f8d-4ace-ad9b-b9445bf3ccab",
   "metadata": {},
   "outputs": [],
   "source": [
    "ss = StandardScaler()\n",
    "\n",
    "X_train_sc = ss.fit_transform(X_train)\n",
    "X_val_sc = ss.transform(X_val)"
   ]
  },
  {
   "cell_type": "code",
   "execution_count": 498,
   "id": "7feb3450-a6f6-444b-b728-59208ca3b1f7",
   "metadata": {},
   "outputs": [],
   "source": [
    "lr = LinearRegression()"
   ]
  },
  {
   "cell_type": "code",
   "execution_count": 499,
   "id": "8ace0ec3-ea09-4ace-9c00-3a23e37e818c",
   "metadata": {},
   "outputs": [
    {
     "data": {
      "text/plain": [
       "LinearRegression()"
      ]
     },
     "execution_count": 499,
     "metadata": {},
     "output_type": "execute_result"
    }
   ],
   "source": [
    "lr.fit(X_train_sc, y_train)"
   ]
  },
  {
   "cell_type": "code",
   "execution_count": 500,
   "id": "733fd78a-f4e1-4abd-8a76-7797b852084c",
   "metadata": {},
   "outputs": [
    {
     "data": {
      "text/plain": [
       "0.7730185287675331"
      ]
     },
     "execution_count": 500,
     "metadata": {},
     "output_type": "execute_result"
    }
   ],
   "source": [
    "lr.score(X_train_sc, y_train)"
   ]
  },
  {
   "cell_type": "code",
   "execution_count": 503,
   "id": "73cf0d84-9088-4743-8e98-274450dc268f",
   "metadata": {},
   "outputs": [
    {
     "data": {
      "text/plain": [
       "-1.7740902605713922e+20"
      ]
     },
     "execution_count": 503,
     "metadata": {},
     "output_type": "execute_result"
    }
   ],
   "source": [
    "lr.score(X_val_sc, y_val)"
   ]
  },
  {
   "cell_type": "code",
   "execution_count": 502,
   "id": "5f71e0cf-7a61-455b-8446-dc3779de8ecd",
   "metadata": {},
   "outputs": [
    {
     "data": {
      "text/plain": [
       "9.730560372698291e+29"
      ]
     },
     "execution_count": 502,
     "metadata": {},
     "output_type": "execute_result"
    }
   ],
   "source": [
    "y_pred = lr.predict(X_val_sc)\n",
    "metrics.mean_squared_error(y_val, y_pred)"
   ]
  },
  {
   "cell_type": "code",
   "execution_count": 481,
   "id": "7dd1f7d0-0306-4107-a7da-696ea0838c6b",
   "metadata": {},
   "outputs": [
    {
     "data": {
      "text/plain": [
       "40229.4527497798"
      ]
     },
     "execution_count": 481,
     "metadata": {},
     "output_type": "execute_result"
    }
   ],
   "source": [
    "metrics.mean_squared_error(y_val, y_pred, squared = False)"
   ]
  },
  {
   "cell_type": "code",
   "execution_count": 207,
   "id": "7a40e9c4-f9a3-412d-a8a9-3aab46fbb07c",
   "metadata": {},
   "outputs": [],
   "source": [
    "#cross val score"
   ]
  },
  {
   "cell_type": "code",
   "execution_count": 425,
   "id": "10ce6d6d-ec6f-4758-8677-7548cfff101a",
   "metadata": {},
   "outputs": [],
   "source": [
    "# test_with_dummies was test data modified so model could be applied\n",
    "# renaming for readability\n",
    "X_test = test_with_dummies\n",
    "X_test_sc = ss.transform(X_test)"
   ]
  },
  {
   "cell_type": "code",
   "execution_count": 428,
   "id": "807f6b3b-151e-4538-b30f-b399aad3e86e",
   "metadata": {},
   "outputs": [],
   "source": [
    "kag_preds = lr.predict(X_test_sc)"
   ]
  },
  {
   "cell_type": "markdown",
   "id": "757a1122-c4a8-4738-9c1d-d839ef0bb0b2",
   "metadata": {},
   "source": [
    "---\n",
    "\n",
    "## Exploring Why the Validation Score is So Low 1/3 of The Time"
   ]
  },
  {
   "cell_type": "code",
   "execution_count": null,
   "id": "b25aaf37-06d3-4e63-bf8d-5b869b7ea7b0",
   "metadata": {},
   "outputs": [],
   "source": []
  },
  {
   "cell_type": "code",
   "execution_count": null,
   "id": "6de4a56c-aeeb-4243-8739-5b18ea71966b",
   "metadata": {},
   "outputs": [],
   "source": []
  },
  {
   "cell_type": "code",
   "execution_count": null,
   "id": "eadc36cd-31f2-4f13-8daa-96ddef4da266",
   "metadata": {},
   "outputs": [],
   "source": []
  },
  {
   "cell_type": "code",
   "execution_count": null,
   "id": "ed8e0dd4-920a-4e17-bcbb-0dfb46d3fafe",
   "metadata": {},
   "outputs": [],
   "source": []
  },
  {
   "cell_type": "code",
   "execution_count": null,
   "id": "5e3e09c9-c0a3-4b4f-8f45-51d34645170f",
   "metadata": {},
   "outputs": [],
   "source": []
  },
  {
   "cell_type": "code",
   "execution_count": null,
   "id": "4e665b7c-cbbf-41a7-a5fb-7e92b857442e",
   "metadata": {},
   "outputs": [],
   "source": []
  },
  {
   "cell_type": "code",
   "execution_count": null,
   "id": "7ae020b2-00f3-4475-b4fa-0f5ba1a7b8d6",
   "metadata": {},
   "outputs": [],
   "source": []
  },
  {
   "cell_type": "code",
   "execution_count": null,
   "id": "08199129-563a-4cbe-b15f-0001d553c9b1",
   "metadata": {},
   "outputs": [],
   "source": []
  },
  {
   "cell_type": "code",
   "execution_count": null,
   "id": "f9d6b9a2-b163-4726-9046-581da834678e",
   "metadata": {},
   "outputs": [],
   "source": []
  },
  {
   "cell_type": "code",
   "execution_count": null,
   "id": "e41695c6-f1f2-49d4-9733-96a55a15c5b0",
   "metadata": {},
   "outputs": [],
   "source": []
  },
  {
   "cell_type": "markdown",
   "id": "19b9008a-6628-4bb3-9ced-9c7c8c7301fd",
   "metadata": {
    "tags": []
   },
   "source": [
    "---\n",
    "\n",
    "## Running Our Model on the Test CSV File!"
   ]
  },
  {
   "cell_type": "code",
   "execution_count": 192,
   "id": "d0cc9651-eecc-4af8-975d-1b182b49dd48",
   "metadata": {},
   "outputs": [],
   "source": [
    "house_test = pd.read_csv('../datasets/test.csv')"
   ]
  },
  {
   "cell_type": "code",
   "execution_count": 196,
   "id": "019846b7-3021-40b2-ada3-920bfdc9eb00",
   "metadata": {},
   "outputs": [],
   "source": [
    "X_test"
   ]
  },
  {
   "cell_type": "code",
   "execution_count": 197,
   "id": "65e70228-97f6-4c4c-b940-74b3b3be374a",
   "metadata": {},
   "outputs": [
    {
     "data": {
      "text/plain": [
       "MS Zoning           0\n",
       "Lot Area            0\n",
       "Land Contour        0\n",
       "Land Slope          0\n",
       "Neighborhood        0\n",
       "Condition 1         0\n",
       "Bldg Type           0\n",
       "House Style         0\n",
       "Overall Qual        0\n",
       "Overall Cond        0\n",
       "Year Built          0\n",
       "Year Remod/Add      0\n",
       "Mas Vnr Type        1\n",
       "Exter Qual          0\n",
       "Exter Cond          0\n",
       "Bsmt Qual          25\n",
       "Bsmt Cond          25\n",
       "Garage Area         0\n",
       "Wood Deck SF        0\n",
       "Open Porch SF       0\n",
       "Kitchen Qual        0\n",
       "Gr Liv Area         0\n",
       "Bedroom AbvGr       0\n",
       "Full Bath           0\n",
       "Half Bath           0\n",
       "Fireplaces          0\n",
       "Fireplace Qu      422\n",
       "BsmtFin SF 1        0\n",
       "Bsmt Unf SF         0\n",
       "dtype: int64"
      ]
     },
     "execution_count": 197,
     "metadata": {},
     "output_type": "execute_result"
    }
   ],
   "source": [
    "house_test.isnull().sum()"
   ]
  },
  {
   "cell_type": "code",
   "execution_count": 198,
   "id": "de614b8c-a182-485a-b56a-01109af79b63",
   "metadata": {},
   "outputs": [
    {
     "data": {
      "text/html": [
       "<div>\n",
       "<style scoped>\n",
       "    .dataframe tbody tr th:only-of-type {\n",
       "        vertical-align: middle;\n",
       "    }\n",
       "\n",
       "    .dataframe tbody tr th {\n",
       "        vertical-align: top;\n",
       "    }\n",
       "\n",
       "    .dataframe thead th {\n",
       "        text-align: right;\n",
       "    }\n",
       "</style>\n",
       "<table border=\"1\" class=\"dataframe\">\n",
       "  <thead>\n",
       "    <tr style=\"text-align: right;\">\n",
       "      <th></th>\n",
       "      <th>Lot Area</th>\n",
       "      <th>Overall Qual</th>\n",
       "      <th>Overall Cond</th>\n",
       "      <th>Year Built</th>\n",
       "      <th>Year Remod/Add</th>\n",
       "      <th>Garage Area</th>\n",
       "      <th>Wood Deck SF</th>\n",
       "      <th>Open Porch SF</th>\n",
       "      <th>Gr Liv Area</th>\n",
       "      <th>Bedroom AbvGr</th>\n",
       "      <th>Full Bath</th>\n",
       "      <th>Half Bath</th>\n",
       "      <th>Fireplaces</th>\n",
       "      <th>BsmtFin SF 1</th>\n",
       "      <th>Bsmt Unf SF</th>\n",
       "    </tr>\n",
       "  </thead>\n",
       "  <tbody>\n",
       "    <tr>\n",
       "      <th>count</th>\n",
       "      <td>878.000000</td>\n",
       "      <td>878.000000</td>\n",
       "      <td>878.000000</td>\n",
       "      <td>878.000000</td>\n",
       "      <td>878.000000</td>\n",
       "      <td>878.000000</td>\n",
       "      <td>878.000000</td>\n",
       "      <td>878.000000</td>\n",
       "      <td>878.000000</td>\n",
       "      <td>878.000000</td>\n",
       "      <td>878.000000</td>\n",
       "      <td>878.000000</td>\n",
       "      <td>878.000000</td>\n",
       "      <td>878.000000</td>\n",
       "      <td>878.000000</td>\n",
       "    </tr>\n",
       "    <tr>\n",
       "      <th>mean</th>\n",
       "      <td>10307.033030</td>\n",
       "      <td>6.050114</td>\n",
       "      <td>5.566059</td>\n",
       "      <td>1970.492027</td>\n",
       "      <td>1984.417995</td>\n",
       "      <td>470.362187</td>\n",
       "      <td>93.430524</td>\n",
       "      <td>47.070615</td>\n",
       "      <td>1496.914579</td>\n",
       "      <td>2.879271</td>\n",
       "      <td>1.539863</td>\n",
       "      <td>0.398633</td>\n",
       "      <td>0.618451</td>\n",
       "      <td>441.328018</td>\n",
       "      <td>539.133257</td>\n",
       "    </tr>\n",
       "    <tr>\n",
       "      <th>std</th>\n",
       "      <td>10002.674602</td>\n",
       "      <td>1.369065</td>\n",
       "      <td>1.128903</td>\n",
       "      <td>30.395895</td>\n",
       "      <td>20.450725</td>\n",
       "      <td>212.734075</td>\n",
       "      <td>121.181702</td>\n",
       "      <td>68.180939</td>\n",
       "      <td>506.468967</td>\n",
       "      <td>0.830712</td>\n",
       "      <td>0.559060</td>\n",
       "      <td>0.505927</td>\n",
       "      <td>0.669571</td>\n",
       "      <td>438.457329</td>\n",
       "      <td>426.172161</td>\n",
       "    </tr>\n",
       "    <tr>\n",
       "      <th>min</th>\n",
       "      <td>1477.000000</td>\n",
       "      <td>2.000000</td>\n",
       "      <td>1.000000</td>\n",
       "      <td>1880.000000</td>\n",
       "      <td>1950.000000</td>\n",
       "      <td>0.000000</td>\n",
       "      <td>0.000000</td>\n",
       "      <td>0.000000</td>\n",
       "      <td>407.000000</td>\n",
       "      <td>0.000000</td>\n",
       "      <td>0.000000</td>\n",
       "      <td>0.000000</td>\n",
       "      <td>0.000000</td>\n",
       "      <td>0.000000</td>\n",
       "      <td>0.000000</td>\n",
       "    </tr>\n",
       "    <tr>\n",
       "      <th>25%</th>\n",
       "      <td>7297.250000</td>\n",
       "      <td>5.000000</td>\n",
       "      <td>5.000000</td>\n",
       "      <td>1954.000000</td>\n",
       "      <td>1967.000000</td>\n",
       "      <td>322.500000</td>\n",
       "      <td>0.000000</td>\n",
       "      <td>0.000000</td>\n",
       "      <td>1114.000000</td>\n",
       "      <td>2.000000</td>\n",
       "      <td>1.000000</td>\n",
       "      <td>0.000000</td>\n",
       "      <td>0.000000</td>\n",
       "      <td>0.000000</td>\n",
       "      <td>216.000000</td>\n",
       "    </tr>\n",
       "    <tr>\n",
       "      <th>50%</th>\n",
       "      <td>9446.000000</td>\n",
       "      <td>6.000000</td>\n",
       "      <td>5.000000</td>\n",
       "      <td>1972.000000</td>\n",
       "      <td>1992.000000</td>\n",
       "      <td>473.000000</td>\n",
       "      <td>0.000000</td>\n",
       "      <td>27.000000</td>\n",
       "      <td>1436.000000</td>\n",
       "      <td>3.000000</td>\n",
       "      <td>2.000000</td>\n",
       "      <td>0.000000</td>\n",
       "      <td>1.000000</td>\n",
       "      <td>373.000000</td>\n",
       "      <td>452.000000</td>\n",
       "    </tr>\n",
       "    <tr>\n",
       "      <th>75%</th>\n",
       "      <td>11589.000000</td>\n",
       "      <td>7.000000</td>\n",
       "      <td>6.000000</td>\n",
       "      <td>1999.750000</td>\n",
       "      <td>2003.000000</td>\n",
       "      <td>576.000000</td>\n",
       "      <td>170.750000</td>\n",
       "      <td>69.750000</td>\n",
       "      <td>1779.000000</td>\n",
       "      <td>3.000000</td>\n",
       "      <td>2.000000</td>\n",
       "      <td>1.000000</td>\n",
       "      <td>1.000000</td>\n",
       "      <td>734.750000</td>\n",
       "      <td>780.000000</td>\n",
       "    </tr>\n",
       "    <tr>\n",
       "      <th>max</th>\n",
       "      <td>215245.000000</td>\n",
       "      <td>10.000000</td>\n",
       "      <td>9.000000</td>\n",
       "      <td>2010.000000</td>\n",
       "      <td>2010.000000</td>\n",
       "      <td>1488.000000</td>\n",
       "      <td>690.000000</td>\n",
       "      <td>742.000000</td>\n",
       "      <td>4476.000000</td>\n",
       "      <td>6.000000</td>\n",
       "      <td>4.000000</td>\n",
       "      <td>2.000000</td>\n",
       "      <td>3.000000</td>\n",
       "      <td>2288.000000</td>\n",
       "      <td>2046.000000</td>\n",
       "    </tr>\n",
       "  </tbody>\n",
       "</table>\n",
       "</div>"
      ],
      "text/plain": [
       "            Lot Area  Overall Qual  Overall Cond   Year Built  Year Remod/Add  \\\n",
       "count     878.000000    878.000000    878.000000   878.000000      878.000000   \n",
       "mean    10307.033030      6.050114      5.566059  1970.492027     1984.417995   \n",
       "std     10002.674602      1.369065      1.128903    30.395895       20.450725   \n",
       "min      1477.000000      2.000000      1.000000  1880.000000     1950.000000   \n",
       "25%      7297.250000      5.000000      5.000000  1954.000000     1967.000000   \n",
       "50%      9446.000000      6.000000      5.000000  1972.000000     1992.000000   \n",
       "75%     11589.000000      7.000000      6.000000  1999.750000     2003.000000   \n",
       "max    215245.000000     10.000000      9.000000  2010.000000     2010.000000   \n",
       "\n",
       "       Garage Area  Wood Deck SF  Open Porch SF  Gr Liv Area  Bedroom AbvGr  \\\n",
       "count   878.000000    878.000000     878.000000   878.000000     878.000000   \n",
       "mean    470.362187     93.430524      47.070615  1496.914579       2.879271   \n",
       "std     212.734075    121.181702      68.180939   506.468967       0.830712   \n",
       "min       0.000000      0.000000       0.000000   407.000000       0.000000   \n",
       "25%     322.500000      0.000000       0.000000  1114.000000       2.000000   \n",
       "50%     473.000000      0.000000      27.000000  1436.000000       3.000000   \n",
       "75%     576.000000    170.750000      69.750000  1779.000000       3.000000   \n",
       "max    1488.000000    690.000000     742.000000  4476.000000       6.000000   \n",
       "\n",
       "        Full Bath   Half Bath  Fireplaces  BsmtFin SF 1  Bsmt Unf SF  \n",
       "count  878.000000  878.000000  878.000000    878.000000   878.000000  \n",
       "mean     1.539863    0.398633    0.618451    441.328018   539.133257  \n",
       "std      0.559060    0.505927    0.669571    438.457329   426.172161  \n",
       "min      0.000000    0.000000    0.000000      0.000000     0.000000  \n",
       "25%      1.000000    0.000000    0.000000      0.000000   216.000000  \n",
       "50%      2.000000    0.000000    1.000000    373.000000   452.000000  \n",
       "75%      2.000000    1.000000    1.000000    734.750000   780.000000  \n",
       "max      4.000000    2.000000    3.000000   2288.000000  2046.000000  "
      ]
     },
     "execution_count": 198,
     "metadata": {},
     "output_type": "execute_result"
    }
   ],
   "source": [
    "house_test.describe()"
   ]
  },
  {
   "cell_type": "code",
   "execution_count": 201,
   "id": "78687944-c024-40ba-b559-e37578cd6a84",
   "metadata": {},
   "outputs": [],
   "source": [
    "massive = house_test[house_test['Lot Area'] == house_test['Lot Area'].max()]"
   ]
  },
  {
   "cell_type": "code",
   "execution_count": 206,
   "id": "b7379297-6d9f-491f-9667-fd245682ff4c",
   "metadata": {},
   "outputs": [
    {
     "data": {
      "text/html": [
       "<div>\n",
       "<style scoped>\n",
       "    .dataframe tbody tr th:only-of-type {\n",
       "        vertical-align: middle;\n",
       "    }\n",
       "\n",
       "    .dataframe tbody tr th {\n",
       "        vertical-align: top;\n",
       "    }\n",
       "\n",
       "    .dataframe thead th {\n",
       "        text-align: right;\n",
       "    }\n",
       "</style>\n",
       "<table border=\"1\" class=\"dataframe\">\n",
       "  <thead>\n",
       "    <tr style=\"text-align: right;\">\n",
       "      <th></th>\n",
       "      <th>Overall Qual</th>\n",
       "      <th>Overall Cond</th>\n",
       "      <th>Garage Area</th>\n",
       "      <th>Bedroom AbvGr</th>\n",
       "      <th>Full Bath</th>\n",
       "    </tr>\n",
       "  </thead>\n",
       "  <tbody>\n",
       "    <tr>\n",
       "      <th>213</th>\n",
       "      <td>7</td>\n",
       "      <td>5</td>\n",
       "      <td>513</td>\n",
       "      <td>3</td>\n",
       "      <td>2</td>\n",
       "    </tr>\n",
       "  </tbody>\n",
       "</table>\n",
       "</div>"
      ],
      "text/plain": [
       "     Overall Qual  Overall Cond  Garage Area  Bedroom AbvGr  Full Bath\n",
       "213             7             5          513              3          2"
      ]
     },
     "execution_count": 206,
     "metadata": {},
     "output_type": "execute_result"
    }
   ],
   "source": [
    "massive[['Overall Qual', 'Overall Cond', 'Garage Area', 'Bedroom AbvGr', 'Full Bath']]"
   ]
  },
  {
   "cell_type": "code",
   "execution_count": null,
   "id": "b3b4b0e0-4550-4d1a-91ac-01e17dc8fa20",
   "metadata": {},
   "outputs": [],
   "source": []
  },
  {
   "cell_type": "code",
   "execution_count": 212,
   "id": "fa6b37dc-2288-43d6-8e20-fde6de31d23c",
   "metadata": {},
   "outputs": [],
   "source": [
    "house_test.columns = [col.lower().replace(' ','_').replace('/','_') for col in house_test.columns]\n",
    "X_test_csv = house_test[numeric_features + categ_features]\n",
    "X_test_csv = pd.get_dummies(X_test_csv, columns = ['neighborhood', 'house_style'], drop_first = True)"
   ]
  },
  {
   "cell_type": "code",
   "execution_count": 218,
   "id": "6c434b27-8d82-41c6-9341-b114cb5f7ebc",
   "metadata": {},
   "outputs": [
    {
     "data": {
      "text/plain": [
       "{'neighborhood_GrnHill', 'neighborhood_Landmrk'}"
      ]
     },
     "execution_count": 218,
     "metadata": {},
     "output_type": "execute_result"
    }
   ],
   "source": [
    "set(X_train.columns) - set(X_test_csv.columns)"
   ]
  },
  {
   "cell_type": "code",
   "execution_count": 213,
   "id": "5ca64703-7cc5-4f42-ac30-2e9b5074b97a",
   "metadata": {},
   "outputs": [
    {
     "name": "stderr",
     "output_type": "stream",
     "text": [
      "C:\\Users\\John\\anaconda3\\lib\\site-packages\\sklearn\\base.py:443: UserWarning: X has feature names, but LinearRegression was fitted without feature names\n",
      "  warnings.warn(\n"
     ]
    },
    {
     "ename": "ValueError",
     "evalue": "X has 34 features, but LinearRegression is expecting 36 features as input.",
     "output_type": "error",
     "traceback": [
      "\u001b[1;31m---------------------------------------------------------------------------\u001b[0m",
      "\u001b[1;31mValueError\u001b[0m                                Traceback (most recent call last)",
      "Input \u001b[1;32mIn [213]\u001b[0m, in \u001b[0;36m<cell line: 1>\u001b[1;34m()\u001b[0m\n\u001b[1;32m----> 1\u001b[0m \u001b[43mlr\u001b[49m\u001b[38;5;241;43m.\u001b[39;49m\u001b[43mpredict\u001b[49m\u001b[43m(\u001b[49m\u001b[43mX_test_csv\u001b[49m\u001b[43m)\u001b[49m\n",
      "File \u001b[1;32m~\\anaconda3\\lib\\site-packages\\sklearn\\linear_model\\_base.py:362\u001b[0m, in \u001b[0;36mLinearModel.predict\u001b[1;34m(self, X)\u001b[0m\n\u001b[0;32m    348\u001b[0m \u001b[38;5;28;01mdef\u001b[39;00m \u001b[38;5;21mpredict\u001b[39m(\u001b[38;5;28mself\u001b[39m, X):\n\u001b[0;32m    349\u001b[0m     \u001b[38;5;124;03m\"\"\"\u001b[39;00m\n\u001b[0;32m    350\u001b[0m \u001b[38;5;124;03m    Predict using the linear model.\u001b[39;00m\n\u001b[0;32m    351\u001b[0m \n\u001b[1;32m   (...)\u001b[0m\n\u001b[0;32m    360\u001b[0m \u001b[38;5;124;03m        Returns predicted values.\u001b[39;00m\n\u001b[0;32m    361\u001b[0m \u001b[38;5;124;03m    \"\"\"\u001b[39;00m\n\u001b[1;32m--> 362\u001b[0m     \u001b[38;5;28;01mreturn\u001b[39;00m \u001b[38;5;28;43mself\u001b[39;49m\u001b[38;5;241;43m.\u001b[39;49m\u001b[43m_decision_function\u001b[49m\u001b[43m(\u001b[49m\u001b[43mX\u001b[49m\u001b[43m)\u001b[49m\n",
      "File \u001b[1;32m~\\anaconda3\\lib\\site-packages\\sklearn\\linear_model\\_base.py:345\u001b[0m, in \u001b[0;36mLinearModel._decision_function\u001b[1;34m(self, X)\u001b[0m\n\u001b[0;32m    342\u001b[0m \u001b[38;5;28;01mdef\u001b[39;00m \u001b[38;5;21m_decision_function\u001b[39m(\u001b[38;5;28mself\u001b[39m, X):\n\u001b[0;32m    343\u001b[0m     check_is_fitted(\u001b[38;5;28mself\u001b[39m)\n\u001b[1;32m--> 345\u001b[0m     X \u001b[38;5;241m=\u001b[39m \u001b[38;5;28;43mself\u001b[39;49m\u001b[38;5;241;43m.\u001b[39;49m\u001b[43m_validate_data\u001b[49m\u001b[43m(\u001b[49m\u001b[43mX\u001b[49m\u001b[43m,\u001b[49m\u001b[43m \u001b[49m\u001b[43maccept_sparse\u001b[49m\u001b[38;5;241;43m=\u001b[39;49m\u001b[43m[\u001b[49m\u001b[38;5;124;43m\"\u001b[39;49m\u001b[38;5;124;43mcsr\u001b[39;49m\u001b[38;5;124;43m\"\u001b[39;49m\u001b[43m,\u001b[49m\u001b[43m \u001b[49m\u001b[38;5;124;43m\"\u001b[39;49m\u001b[38;5;124;43mcsc\u001b[39;49m\u001b[38;5;124;43m\"\u001b[39;49m\u001b[43m,\u001b[49m\u001b[43m \u001b[49m\u001b[38;5;124;43m\"\u001b[39;49m\u001b[38;5;124;43mcoo\u001b[39;49m\u001b[38;5;124;43m\"\u001b[39;49m\u001b[43m]\u001b[49m\u001b[43m,\u001b[49m\u001b[43m \u001b[49m\u001b[43mreset\u001b[49m\u001b[38;5;241;43m=\u001b[39;49m\u001b[38;5;28;43;01mFalse\u001b[39;49;00m\u001b[43m)\u001b[49m\n\u001b[0;32m    346\u001b[0m     \u001b[38;5;28;01mreturn\u001b[39;00m safe_sparse_dot(X, \u001b[38;5;28mself\u001b[39m\u001b[38;5;241m.\u001b[39mcoef_\u001b[38;5;241m.\u001b[39mT, dense_output\u001b[38;5;241m=\u001b[39m\u001b[38;5;28;01mTrue\u001b[39;00m) \u001b[38;5;241m+\u001b[39m \u001b[38;5;28mself\u001b[39m\u001b[38;5;241m.\u001b[39mintercept_\n",
      "File \u001b[1;32m~\\anaconda3\\lib\\site-packages\\sklearn\\base.py:585\u001b[0m, in \u001b[0;36mBaseEstimator._validate_data\u001b[1;34m(self, X, y, reset, validate_separately, **check_params)\u001b[0m\n\u001b[0;32m    582\u001b[0m     out \u001b[38;5;241m=\u001b[39m X, y\n\u001b[0;32m    584\u001b[0m \u001b[38;5;28;01mif\u001b[39;00m \u001b[38;5;129;01mnot\u001b[39;00m no_val_X \u001b[38;5;129;01mand\u001b[39;00m check_params\u001b[38;5;241m.\u001b[39mget(\u001b[38;5;124m\"\u001b[39m\u001b[38;5;124mensure_2d\u001b[39m\u001b[38;5;124m\"\u001b[39m, \u001b[38;5;28;01mTrue\u001b[39;00m):\n\u001b[1;32m--> 585\u001b[0m     \u001b[38;5;28;43mself\u001b[39;49m\u001b[38;5;241;43m.\u001b[39;49m\u001b[43m_check_n_features\u001b[49m\u001b[43m(\u001b[49m\u001b[43mX\u001b[49m\u001b[43m,\u001b[49m\u001b[43m \u001b[49m\u001b[43mreset\u001b[49m\u001b[38;5;241;43m=\u001b[39;49m\u001b[43mreset\u001b[49m\u001b[43m)\u001b[49m\n\u001b[0;32m    587\u001b[0m \u001b[38;5;28;01mreturn\u001b[39;00m out\n",
      "File \u001b[1;32m~\\anaconda3\\lib\\site-packages\\sklearn\\base.py:400\u001b[0m, in \u001b[0;36mBaseEstimator._check_n_features\u001b[1;34m(self, X, reset)\u001b[0m\n\u001b[0;32m    397\u001b[0m     \u001b[38;5;28;01mreturn\u001b[39;00m\n\u001b[0;32m    399\u001b[0m \u001b[38;5;28;01mif\u001b[39;00m n_features \u001b[38;5;241m!=\u001b[39m \u001b[38;5;28mself\u001b[39m\u001b[38;5;241m.\u001b[39mn_features_in_:\n\u001b[1;32m--> 400\u001b[0m     \u001b[38;5;28;01mraise\u001b[39;00m \u001b[38;5;167;01mValueError\u001b[39;00m(\n\u001b[0;32m    401\u001b[0m         \u001b[38;5;124mf\u001b[39m\u001b[38;5;124m\"\u001b[39m\u001b[38;5;124mX has \u001b[39m\u001b[38;5;132;01m{\u001b[39;00mn_features\u001b[38;5;132;01m}\u001b[39;00m\u001b[38;5;124m features, but \u001b[39m\u001b[38;5;132;01m{\u001b[39;00m\u001b[38;5;28mself\u001b[39m\u001b[38;5;241m.\u001b[39m\u001b[38;5;18m__class__\u001b[39m\u001b[38;5;241m.\u001b[39m\u001b[38;5;18m__name__\u001b[39m\u001b[38;5;132;01m}\u001b[39;00m\u001b[38;5;124m \u001b[39m\u001b[38;5;124m\"\u001b[39m\n\u001b[0;32m    402\u001b[0m         \u001b[38;5;124mf\u001b[39m\u001b[38;5;124m\"\u001b[39m\u001b[38;5;124mis expecting \u001b[39m\u001b[38;5;132;01m{\u001b[39;00m\u001b[38;5;28mself\u001b[39m\u001b[38;5;241m.\u001b[39mn_features_in_\u001b[38;5;132;01m}\u001b[39;00m\u001b[38;5;124m features as input.\u001b[39m\u001b[38;5;124m\"\u001b[39m\n\u001b[0;32m    403\u001b[0m     )\n",
      "\u001b[1;31mValueError\u001b[0m: X has 34 features, but LinearRegression is expecting 36 features as input."
     ]
    }
   ],
   "source": [
    "lr.predict(X_test_csv)"
   ]
  },
  {
   "cell_type": "code",
   "execution_count": 431,
   "id": "a281c5c3-a6ae-4e3f-bcf7-dc00f5ddfe1c",
   "metadata": {},
   "outputs": [],
   "source": [
    "kag_sub = {'Id': raw_house_test['Id'], 'SalePrice': kag_preds}\n",
    "kag_sub = pd.DataFrame(kag_sub)"
   ]
  },
  {
   "cell_type": "code",
   "execution_count": 434,
   "id": "a4153218-0a38-45b2-9746-f02381639f40",
   "metadata": {},
   "outputs": [],
   "source": [
    "kag_sub.to_csv('../datasets/submission1_john.csv', index = False)"
   ]
  },
  {
   "cell_type": "code",
   "execution_count": null,
   "id": "85e5fe63-8d70-47b6-8f00-b962a90ceb4c",
   "metadata": {},
   "outputs": [],
   "source": [
    "# create some variable with scores and submission results - notes on what you did\n",
    "# to keep track of what you did and how it performed"
   ]
  },
  {
   "cell_type": "code",
   "execution_count": null,
   "id": "c7e0c22b-273f-4da2-b443-a0788c20c9b2",
   "metadata": {},
   "outputs": [],
   "source": []
  },
  {
   "cell_type": "code",
   "execution_count": null,
   "id": "b639a602-8fcf-46df-8ddd-f4591ea46e1f",
   "metadata": {},
   "outputs": [],
   "source": []
  },
  {
   "cell_type": "code",
   "execution_count": null,
   "id": "7077bdbf-b709-447f-a738-dcb8b5b3a1b4",
   "metadata": {},
   "outputs": [],
   "source": []
  },
  {
   "cell_type": "code",
   "execution_count": null,
   "id": "c7d905e1-6ebe-4d2b-a09f-7062a722877d",
   "metadata": {},
   "outputs": [],
   "source": []
  },
  {
   "cell_type": "code",
   "execution_count": null,
   "id": "2f60e371-d475-422c-8ff7-412afd38b618",
   "metadata": {},
   "outputs": [],
   "source": []
  },
  {
   "cell_type": "code",
   "execution_count": null,
   "id": "59ca5a93-56bc-4ed8-a433-29ec0d99290c",
   "metadata": {},
   "outputs": [],
   "source": []
  },
  {
   "cell_type": "code",
   "execution_count": null,
   "id": "14eeb8eb-b058-41eb-8b1e-8920b3bd75b1",
   "metadata": {},
   "outputs": [],
   "source": []
  },
  {
   "cell_type": "code",
   "execution_count": null,
   "id": "20c6697e-b3e4-4094-8a5a-2b0079c73945",
   "metadata": {},
   "outputs": [],
   "source": []
  },
  {
   "cell_type": "code",
   "execution_count": null,
   "id": "d1d6d939-4717-46e8-987c-db5b47015c7d",
   "metadata": {},
   "outputs": [],
   "source": []
  },
  {
   "cell_type": "code",
   "execution_count": null,
   "id": "c19a35b3-d321-4fab-a1ed-cff58ad07d5d",
   "metadata": {},
   "outputs": [],
   "source": []
  },
  {
   "cell_type": "markdown",
   "id": "ac9f0759-b015-4182-aeb9-e36e30ca1698",
   "metadata": {},
   "source": [
    "## To Check On Other Attempts\n",
    "\n",
    "Check msn_vnr_type to see if intuition was correct.\n",
    "\n",
    "One-hot encode kitchen quality (or ordinal encode)\n",
    "\n",
    "Try kitchen rating with 0-5 values even with correlation\n",
    "\n",
    "need to use ridge/lasso - for overfit data. try with slightly more numeric columns than you'd want\n",
    "\n"
   ]
  },
  {
   "cell_type": "code",
   "execution_count": null,
   "id": "facaaa1c-8966-4caa-b85f-f4fd4b826291",
   "metadata": {},
   "outputs": [],
   "source": []
  }
 ],
 "metadata": {
  "kernelspec": {
   "display_name": "Python 3 (ipykernel)",
   "language": "python",
   "name": "python3"
  },
  "language_info": {
   "codemirror_mode": {
    "name": "ipython",
    "version": 3
   },
   "file_extension": ".py",
   "mimetype": "text/x-python",
   "name": "python",
   "nbconvert_exporter": "python",
   "pygments_lexer": "ipython3",
   "version": "3.9.12"
  }
 },
 "nbformat": 4,
 "nbformat_minor": 5
}
