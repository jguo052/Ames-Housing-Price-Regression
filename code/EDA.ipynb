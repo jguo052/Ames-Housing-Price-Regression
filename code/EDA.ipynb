{
 "cells": [
  {
   "cell_type": "markdown",
   "id": "8b43839b-b279-468d-9f7f-b9b328b62057",
   "metadata": {},
   "source": [
    "# Cleaning and EDA\n",
    "\n",
    "---"
   ]
  },
  {
   "cell_type": "markdown",
   "id": "c405b697-872c-4093-932a-fc43302bdb77",
   "metadata": {
    "tags": []
   },
   "source": [
    "## Imports and Functions"
   ]
  },
  {
   "cell_type": "code",
   "execution_count": 1,
   "id": "4dcf0420-3aaf-4aa8-8bbb-fbe0a7b40d7f",
   "metadata": {},
   "outputs": [],
   "source": [
    "import numpy as np\n",
    "import pandas as pd\n",
    "import matplotlib.pyplot as plt\n",
    "import seaborn as sns\n",
    "\n",
    "from statsmodels.stats.outliers_influence import variance_inflation_factor\n",
    "\n",
    "from sklearn.model_selection import train_test_split, cross_val_score\n",
    "from sklearn.preprocessing import StandardScaler\n",
    "from sklearn.linear_model import LinearRegression, Ridge, RidgeCV, Lasso, LassoCV\n",
    "from sklearn import metrics\n",
    "\n",
    "from sklearn.model_selection import GridSearchCV"
   ]
  },
  {
   "cell_type": "code",
   "execution_count": 60,
   "id": "737c8448-1543-49fa-9863-76bd4e2b4532",
   "metadata": {},
   "outputs": [],
   "source": [
    "def qual_to_num(data, feature):\n",
    "    qual_conversion = {'Ex': 5, 'Gd': 4, 'TA': 3, 'Fa': 2, 'Po': 1, 'NA': 0, np.nan: 0}\n",
    "    \n",
    "    data[feature] = data[feature].apply(lambda x: qual_conversion[x])\n",
    "    \n",
    "    return data\n",
    "    \n",
    "    \n",
    "def vif_df(df):\n",
    "    corr_features = df.columns\n",
    "    vif_values = [variance_inflation_factor(df.values, i) for i in range(len(corr_features))]\n",
    "    \n",
    "    vif = pd.DataFrame(vif_values,\n",
    "                   index = corr_features,\n",
    "                   columns = ['vif']).sort_values(by = 'vif', ascending = False)\n",
    "    \n",
    "    return vif"
   ]
  },
  {
   "cell_type": "code",
   "execution_count": 3,
   "id": "cbc07478-ee84-4359-91a5-ebf7adbde73e",
   "metadata": {},
   "outputs": [],
   "source": [
    "def setup_test():\n",
    "    test_data = pd.read_csv('../datasets/test.csv')\n",
    "    test_features = ['MS Zoning', 'Lot Area', 'Land Contour', 'Land Slope', 'Neighborhood', 'Condition 1',\n",
    "            'Bldg Type', 'House Style', 'Overall Qual', 'Overall Cond', 'Year Built', 'Year Remod/Add',\n",
    "           'Mas Vnr Type', 'Exter Qual', 'Exter Cond', 'Bsmt Qual', 'Bsmt Cond',\n",
    "           'Garage Area', 'Wood Deck SF', 'Open Porch SF', 'Kitchen Qual', 'Bedroom AbvGr',\n",
    "           'Full Bath', 'Half Bath', 'Fireplaces', 'Fireplace Qu', 'BsmtFin SF 1', 'Bsmt Unf SF', '1st Flr SF', '2nd Flr SF']\n",
    "    \n",
    "    \n",
    "    test_data = test_data[test_features]\n",
    "    test_data.columns = [col.lower().replace(' ','_').replace('/','_') for col in test_data.columns]\n",
    "    \n",
    "    \n",
    "    # converts descriptive rating to numerical\n",
    "    test_data = qual_to_num(test_data, 'bsmt_qual')\n",
    "    test_data = qual_to_num(test_data, 'bsmt_cond')\n",
    "    test_data = qual_to_num(test_data, 'kitchen_qual')\n",
    "    test_data = qual_to_num(test_data, 'exter_qual')\n",
    "    test_data = qual_to_num(test_data, 'exter_cond')\n",
    "    test_data = qual_to_num(test_data, 'fireplace_qu')\n",
    "    \n",
    "    # combines basment quality and condition ratings via multiplication\n",
    "    test_data['bsmt_qual_cond'] = test_data['bsmt_qual'] * test_data['bsmt_cond']\n",
    "    test_data.drop(columns = ['bsmt_qual', 'bsmt_cond'], inplace = True)\n",
    "    \n",
    "    # combines overall quality and condition into one column via multiplication\n",
    "    test_data['qual_cond'] = test_data['overall_qual'] * test_data['overall_cond']\n",
    "    test_data.drop(columns = ['overall_qual', 'overall_cond'], inplace = True)\n",
    "\n",
    "    # combines exterior quality and condition into one column via multiplication\n",
    "    test_data['exter_qual_cond'] = test_data['exter_qual'] * test_data['exter_cond']\n",
    "    test_data.drop(columns = ['exter_qual', 'exter_cond'], inplace = True)\n",
    "\n",
    "    # combines fireplace count and quality rating via multiplication\n",
    "    test_data['fireplaces_weighted'] = test_data['fireplaces'] * test_data['fireplace_qu']\n",
    "    test_data.drop(columns = ['fireplaces', 'fireplace_qu'], inplace = True)\n",
    "    \n",
    "    # adds square feet (SF) measurements with weights:\n",
    "    # 1*(Finished SF) + 0.5(Unfinished SF)\n",
    "    test_data['bsmt_weighted_sf'] = test_data['bsmtfin_sf_1'] + 0.5*test_data['bsmt_unf_sf']\n",
    "    test_data.drop(columns = ['bsmtfin_sf_1', 'bsmt_unf_sf'], inplace = True)\n",
    "    \n",
    "    # combines full bath and half bath into one column\n",
    "    test_data['bath'] = test_data['full_bath'] + 0.5*test_data['half_bath']\n",
    "    test_data.drop(columns = ['full_bath', 'half_bath'], inplace = True)\n",
    "    \n",
    "    #combines 1st floor and 2nd floor square feet areas\n",
    "    test_data['sq_ft'] = test_data['1st_flr_sf'] + test_data['2nd_flr_sf']\n",
    "    test_data.drop(columns = ['1st_flr_sf', '2nd_flr_sf'], inplace = True)\n",
    "    \n",
    "    return test_data\n",
    "    \n",
    "    \n",
    "\n",
    "def dummify_train_test(train, numeric_cols, categ_cols):\n",
    "    \n",
    "    test = setup_test()\n",
    "    features = numeric_cols + categ_cols\n",
    "    \n",
    "    train_with_dummies = pd.get_dummies(train[features], columns = categ_cols, drop_first = True)\n",
    "    test_with_dummies = pd.get_dummies(test[features], columns = categ_cols, drop_first = True)\n",
    "    \n",
    "    # save dummy column names from both train and test to a set\n",
    "    both_columns_set = set(train_with_dummies.columns).union(set(test_with_dummies.columns))\n",
    "\n",
    "    # for any column names not in set add column with 0s\n",
    "    for col in both_columns_set:\n",
    "        if col not in train_with_dummies.columns:\n",
    "            train_with_dummies[col] = 0\n",
    "        if col not in test_with_dummies.columns:\n",
    "            test_with_dummies[col] = 0\n",
    "            \n",
    "    column_order = train_with_dummies.columns\n",
    "    test_with_dummies = test_with_dummies[column_order]\n",
    "    \n",
    "    return train_with_dummies, test_with_dummies"
   ]
  },
  {
   "cell_type": "code",
   "execution_count": 4,
   "id": "dfd5f0be-2b84-4a4b-a547-7dea975761fe",
   "metadata": {},
   "outputs": [],
   "source": [
    "def submit(test, kag_preds, attempt_num):\n",
    "    kag_sub = {'Id': test['Id'], 'SalePrice': kag_preds}\n",
    "    kag_sub = pd.DataFrame(kag_sub)\n",
    "    \n",
    "    file_path = '../datasets/submission' + str(attempt_num) + '_john.csv'\n",
    "    kag_sub.to_csv(file_path, index = False)"
   ]
  },
  {
   "cell_type": "markdown",
   "id": "aca0a587-4975-4861-be26-6766b09255db",
   "metadata": {},
   "source": [
    "---\n",
    "\n",
    "## Dealing with Missing Values"
   ]
  },
  {
   "cell_type": "code",
   "execution_count": 5,
   "id": "77b241f2-9371-4a8f-8c9b-4909e1c2b4af",
   "metadata": {},
   "outputs": [],
   "source": [
    "raw_housing = pd.read_csv('../datasets/train.csv')"
   ]
  },
  {
   "cell_type": "code",
   "execution_count": 6,
   "id": "69fb46b6-2266-4c20-a587-1e50ad0fe308",
   "metadata": {},
   "outputs": [
    {
     "data": {
      "text/html": [
       "<div>\n",
       "<style scoped>\n",
       "    .dataframe tbody tr th:only-of-type {\n",
       "        vertical-align: middle;\n",
       "    }\n",
       "\n",
       "    .dataframe tbody tr th {\n",
       "        vertical-align: top;\n",
       "    }\n",
       "\n",
       "    .dataframe thead th {\n",
       "        text-align: right;\n",
       "    }\n",
       "</style>\n",
       "<table border=\"1\" class=\"dataframe\">\n",
       "  <thead>\n",
       "    <tr style=\"text-align: right;\">\n",
       "      <th></th>\n",
       "      <th>Id</th>\n",
       "      <th>PID</th>\n",
       "      <th>MS SubClass</th>\n",
       "      <th>MS Zoning</th>\n",
       "      <th>Lot Frontage</th>\n",
       "      <th>Lot Area</th>\n",
       "      <th>Street</th>\n",
       "      <th>Alley</th>\n",
       "      <th>Lot Shape</th>\n",
       "      <th>Land Contour</th>\n",
       "      <th>...</th>\n",
       "      <th>Screen Porch</th>\n",
       "      <th>Pool Area</th>\n",
       "      <th>Pool QC</th>\n",
       "      <th>Fence</th>\n",
       "      <th>Misc Feature</th>\n",
       "      <th>Misc Val</th>\n",
       "      <th>Mo Sold</th>\n",
       "      <th>Yr Sold</th>\n",
       "      <th>Sale Type</th>\n",
       "      <th>SalePrice</th>\n",
       "    </tr>\n",
       "  </thead>\n",
       "  <tbody>\n",
       "    <tr>\n",
       "      <th>0</th>\n",
       "      <td>109</td>\n",
       "      <td>533352170</td>\n",
       "      <td>60</td>\n",
       "      <td>RL</td>\n",
       "      <td>NaN</td>\n",
       "      <td>13517</td>\n",
       "      <td>Pave</td>\n",
       "      <td>NaN</td>\n",
       "      <td>IR1</td>\n",
       "      <td>Lvl</td>\n",
       "      <td>...</td>\n",
       "      <td>0</td>\n",
       "      <td>0</td>\n",
       "      <td>NaN</td>\n",
       "      <td>NaN</td>\n",
       "      <td>NaN</td>\n",
       "      <td>0</td>\n",
       "      <td>3</td>\n",
       "      <td>2010</td>\n",
       "      <td>WD</td>\n",
       "      <td>130500</td>\n",
       "    </tr>\n",
       "    <tr>\n",
       "      <th>1</th>\n",
       "      <td>544</td>\n",
       "      <td>531379050</td>\n",
       "      <td>60</td>\n",
       "      <td>RL</td>\n",
       "      <td>43.0</td>\n",
       "      <td>11492</td>\n",
       "      <td>Pave</td>\n",
       "      <td>NaN</td>\n",
       "      <td>IR1</td>\n",
       "      <td>Lvl</td>\n",
       "      <td>...</td>\n",
       "      <td>0</td>\n",
       "      <td>0</td>\n",
       "      <td>NaN</td>\n",
       "      <td>NaN</td>\n",
       "      <td>NaN</td>\n",
       "      <td>0</td>\n",
       "      <td>4</td>\n",
       "      <td>2009</td>\n",
       "      <td>WD</td>\n",
       "      <td>220000</td>\n",
       "    </tr>\n",
       "    <tr>\n",
       "      <th>2</th>\n",
       "      <td>153</td>\n",
       "      <td>535304180</td>\n",
       "      <td>20</td>\n",
       "      <td>RL</td>\n",
       "      <td>68.0</td>\n",
       "      <td>7922</td>\n",
       "      <td>Pave</td>\n",
       "      <td>NaN</td>\n",
       "      <td>Reg</td>\n",
       "      <td>Lvl</td>\n",
       "      <td>...</td>\n",
       "      <td>0</td>\n",
       "      <td>0</td>\n",
       "      <td>NaN</td>\n",
       "      <td>NaN</td>\n",
       "      <td>NaN</td>\n",
       "      <td>0</td>\n",
       "      <td>1</td>\n",
       "      <td>2010</td>\n",
       "      <td>WD</td>\n",
       "      <td>109000</td>\n",
       "    </tr>\n",
       "    <tr>\n",
       "      <th>3</th>\n",
       "      <td>318</td>\n",
       "      <td>916386060</td>\n",
       "      <td>60</td>\n",
       "      <td>RL</td>\n",
       "      <td>73.0</td>\n",
       "      <td>9802</td>\n",
       "      <td>Pave</td>\n",
       "      <td>NaN</td>\n",
       "      <td>Reg</td>\n",
       "      <td>Lvl</td>\n",
       "      <td>...</td>\n",
       "      <td>0</td>\n",
       "      <td>0</td>\n",
       "      <td>NaN</td>\n",
       "      <td>NaN</td>\n",
       "      <td>NaN</td>\n",
       "      <td>0</td>\n",
       "      <td>4</td>\n",
       "      <td>2010</td>\n",
       "      <td>WD</td>\n",
       "      <td>174000</td>\n",
       "    </tr>\n",
       "    <tr>\n",
       "      <th>4</th>\n",
       "      <td>255</td>\n",
       "      <td>906425045</td>\n",
       "      <td>50</td>\n",
       "      <td>RL</td>\n",
       "      <td>82.0</td>\n",
       "      <td>14235</td>\n",
       "      <td>Pave</td>\n",
       "      <td>NaN</td>\n",
       "      <td>IR1</td>\n",
       "      <td>Lvl</td>\n",
       "      <td>...</td>\n",
       "      <td>0</td>\n",
       "      <td>0</td>\n",
       "      <td>NaN</td>\n",
       "      <td>NaN</td>\n",
       "      <td>NaN</td>\n",
       "      <td>0</td>\n",
       "      <td>3</td>\n",
       "      <td>2010</td>\n",
       "      <td>WD</td>\n",
       "      <td>138500</td>\n",
       "    </tr>\n",
       "  </tbody>\n",
       "</table>\n",
       "<p>5 rows × 81 columns</p>\n",
       "</div>"
      ],
      "text/plain": [
       "    Id        PID  MS SubClass MS Zoning  Lot Frontage  Lot Area Street Alley  \\\n",
       "0  109  533352170           60        RL           NaN     13517   Pave   NaN   \n",
       "1  544  531379050           60        RL          43.0     11492   Pave   NaN   \n",
       "2  153  535304180           20        RL          68.0      7922   Pave   NaN   \n",
       "3  318  916386060           60        RL          73.0      9802   Pave   NaN   \n",
       "4  255  906425045           50        RL          82.0     14235   Pave   NaN   \n",
       "\n",
       "  Lot Shape Land Contour  ... Screen Porch Pool Area Pool QC Fence  \\\n",
       "0       IR1          Lvl  ...            0         0     NaN   NaN   \n",
       "1       IR1          Lvl  ...            0         0     NaN   NaN   \n",
       "2       Reg          Lvl  ...            0         0     NaN   NaN   \n",
       "3       Reg          Lvl  ...            0         0     NaN   NaN   \n",
       "4       IR1          Lvl  ...            0         0     NaN   NaN   \n",
       "\n",
       "  Misc Feature Misc Val Mo Sold Yr Sold  Sale Type  SalePrice  \n",
       "0          NaN        0       3    2010        WD      130500  \n",
       "1          NaN        0       4    2009        WD      220000  \n",
       "2          NaN        0       1    2010        WD      109000  \n",
       "3          NaN        0       4    2010        WD      174000  \n",
       "4          NaN        0       3    2010        WD      138500  \n",
       "\n",
       "[5 rows x 81 columns]"
      ]
     },
     "execution_count": 6,
     "metadata": {},
     "output_type": "execute_result"
    }
   ],
   "source": [
    "raw_housing.head()"
   ]
  },
  {
   "cell_type": "code",
   "execution_count": 7,
   "id": "53b5ca37-0baa-439a-b6d7-d1b4d3228338",
   "metadata": {},
   "outputs": [],
   "source": [
    "init_features = ['MS Zoning', 'Lot Area', 'Land Contour', 'Land Slope', 'Neighborhood', 'Condition 1',\n",
    "            'Bldg Type', 'House Style', 'Overall Qual', 'Overall Cond', 'Year Built', 'Year Remod/Add',\n",
    "           'Mas Vnr Type', 'Exter Qual', 'Exter Cond', 'Bsmt Qual', 'Bsmt Cond',\n",
    "           'Garage Area', 'Wood Deck SF', 'Open Porch SF', 'Kitchen Qual', 'Bedroom AbvGr',\n",
    "           'Full Bath', 'Half Bath', 'Fireplaces', 'Fireplace Qu', 'BsmtFin SF 1', 'Bsmt Unf SF', '1st Flr SF', '2nd Flr SF', 'Sale Type', 'SalePrice']"
   ]
  },
  {
   "cell_type": "code",
   "execution_count": 8,
   "id": "113861de-929c-4100-8563-5242865078ce",
   "metadata": {},
   "outputs": [
    {
     "data": {
      "text/html": [
       "<div>\n",
       "<style scoped>\n",
       "    .dataframe tbody tr th:only-of-type {\n",
       "        vertical-align: middle;\n",
       "    }\n",
       "\n",
       "    .dataframe tbody tr th {\n",
       "        vertical-align: top;\n",
       "    }\n",
       "\n",
       "    .dataframe thead th {\n",
       "        text-align: right;\n",
       "    }\n",
       "</style>\n",
       "<table border=\"1\" class=\"dataframe\">\n",
       "  <thead>\n",
       "    <tr style=\"text-align: right;\">\n",
       "      <th></th>\n",
       "      <th>MS Zoning</th>\n",
       "      <th>Lot Area</th>\n",
       "      <th>Land Contour</th>\n",
       "      <th>Land Slope</th>\n",
       "      <th>Neighborhood</th>\n",
       "      <th>Condition 1</th>\n",
       "      <th>Bldg Type</th>\n",
       "      <th>House Style</th>\n",
       "      <th>Overall Qual</th>\n",
       "      <th>Overall Cond</th>\n",
       "      <th>...</th>\n",
       "      <th>Full Bath</th>\n",
       "      <th>Half Bath</th>\n",
       "      <th>Fireplaces</th>\n",
       "      <th>Fireplace Qu</th>\n",
       "      <th>BsmtFin SF 1</th>\n",
       "      <th>Bsmt Unf SF</th>\n",
       "      <th>1st Flr SF</th>\n",
       "      <th>2nd Flr SF</th>\n",
       "      <th>Sale Type</th>\n",
       "      <th>SalePrice</th>\n",
       "    </tr>\n",
       "  </thead>\n",
       "  <tbody>\n",
       "    <tr>\n",
       "      <th>0</th>\n",
       "      <td>RL</td>\n",
       "      <td>13517</td>\n",
       "      <td>Lvl</td>\n",
       "      <td>Gtl</td>\n",
       "      <td>Sawyer</td>\n",
       "      <td>RRAe</td>\n",
       "      <td>1Fam</td>\n",
       "      <td>2Story</td>\n",
       "      <td>6</td>\n",
       "      <td>8</td>\n",
       "      <td>...</td>\n",
       "      <td>2</td>\n",
       "      <td>1</td>\n",
       "      <td>0</td>\n",
       "      <td>NaN</td>\n",
       "      <td>533.0</td>\n",
       "      <td>192.0</td>\n",
       "      <td>725</td>\n",
       "      <td>754</td>\n",
       "      <td>WD</td>\n",
       "      <td>130500</td>\n",
       "    </tr>\n",
       "    <tr>\n",
       "      <th>1</th>\n",
       "      <td>RL</td>\n",
       "      <td>11492</td>\n",
       "      <td>Lvl</td>\n",
       "      <td>Gtl</td>\n",
       "      <td>SawyerW</td>\n",
       "      <td>Norm</td>\n",
       "      <td>1Fam</td>\n",
       "      <td>2Story</td>\n",
       "      <td>7</td>\n",
       "      <td>5</td>\n",
       "      <td>...</td>\n",
       "      <td>2</td>\n",
       "      <td>1</td>\n",
       "      <td>1</td>\n",
       "      <td>TA</td>\n",
       "      <td>637.0</td>\n",
       "      <td>276.0</td>\n",
       "      <td>913</td>\n",
       "      <td>1209</td>\n",
       "      <td>WD</td>\n",
       "      <td>220000</td>\n",
       "    </tr>\n",
       "    <tr>\n",
       "      <th>2</th>\n",
       "      <td>RL</td>\n",
       "      <td>7922</td>\n",
       "      <td>Lvl</td>\n",
       "      <td>Gtl</td>\n",
       "      <td>NAmes</td>\n",
       "      <td>Norm</td>\n",
       "      <td>1Fam</td>\n",
       "      <td>1Story</td>\n",
       "      <td>5</td>\n",
       "      <td>7</td>\n",
       "      <td>...</td>\n",
       "      <td>1</td>\n",
       "      <td>0</td>\n",
       "      <td>0</td>\n",
       "      <td>NaN</td>\n",
       "      <td>731.0</td>\n",
       "      <td>326.0</td>\n",
       "      <td>1057</td>\n",
       "      <td>0</td>\n",
       "      <td>WD</td>\n",
       "      <td>109000</td>\n",
       "    </tr>\n",
       "    <tr>\n",
       "      <th>3</th>\n",
       "      <td>RL</td>\n",
       "      <td>9802</td>\n",
       "      <td>Lvl</td>\n",
       "      <td>Gtl</td>\n",
       "      <td>Timber</td>\n",
       "      <td>Norm</td>\n",
       "      <td>1Fam</td>\n",
       "      <td>2Story</td>\n",
       "      <td>5</td>\n",
       "      <td>5</td>\n",
       "      <td>...</td>\n",
       "      <td>2</td>\n",
       "      <td>1</td>\n",
       "      <td>0</td>\n",
       "      <td>NaN</td>\n",
       "      <td>0.0</td>\n",
       "      <td>384.0</td>\n",
       "      <td>744</td>\n",
       "      <td>700</td>\n",
       "      <td>WD</td>\n",
       "      <td>174000</td>\n",
       "    </tr>\n",
       "    <tr>\n",
       "      <th>4</th>\n",
       "      <td>RL</td>\n",
       "      <td>14235</td>\n",
       "      <td>Lvl</td>\n",
       "      <td>Gtl</td>\n",
       "      <td>SawyerW</td>\n",
       "      <td>Norm</td>\n",
       "      <td>1Fam</td>\n",
       "      <td>1.5Fin</td>\n",
       "      <td>6</td>\n",
       "      <td>8</td>\n",
       "      <td>...</td>\n",
       "      <td>2</td>\n",
       "      <td>0</td>\n",
       "      <td>0</td>\n",
       "      <td>NaN</td>\n",
       "      <td>0.0</td>\n",
       "      <td>676.0</td>\n",
       "      <td>831</td>\n",
       "      <td>614</td>\n",
       "      <td>WD</td>\n",
       "      <td>138500</td>\n",
       "    </tr>\n",
       "  </tbody>\n",
       "</table>\n",
       "<p>5 rows × 32 columns</p>\n",
       "</div>"
      ],
      "text/plain": [
       "  MS Zoning  Lot Area Land Contour Land Slope Neighborhood Condition 1  \\\n",
       "0        RL     13517          Lvl        Gtl       Sawyer        RRAe   \n",
       "1        RL     11492          Lvl        Gtl      SawyerW        Norm   \n",
       "2        RL      7922          Lvl        Gtl        NAmes        Norm   \n",
       "3        RL      9802          Lvl        Gtl       Timber        Norm   \n",
       "4        RL     14235          Lvl        Gtl      SawyerW        Norm   \n",
       "\n",
       "  Bldg Type House Style  Overall Qual  Overall Cond  ...  Full Bath  \\\n",
       "0      1Fam      2Story             6             8  ...          2   \n",
       "1      1Fam      2Story             7             5  ...          2   \n",
       "2      1Fam      1Story             5             7  ...          1   \n",
       "3      1Fam      2Story             5             5  ...          2   \n",
       "4      1Fam      1.5Fin             6             8  ...          2   \n",
       "\n",
       "   Half Bath Fireplaces Fireplace Qu BsmtFin SF 1 Bsmt Unf SF 1st Flr SF  \\\n",
       "0          1          0          NaN        533.0       192.0        725   \n",
       "1          1          1           TA        637.0       276.0        913   \n",
       "2          0          0          NaN        731.0       326.0       1057   \n",
       "3          1          0          NaN          0.0       384.0        744   \n",
       "4          0          0          NaN          0.0       676.0        831   \n",
       "\n",
       "   2nd Flr SF  Sale Type  SalePrice  \n",
       "0         754        WD      130500  \n",
       "1        1209        WD      220000  \n",
       "2           0        WD      109000  \n",
       "3         700        WD      174000  \n",
       "4         614        WD      138500  \n",
       "\n",
       "[5 rows x 32 columns]"
      ]
     },
     "execution_count": 8,
     "metadata": {},
     "output_type": "execute_result"
    }
   ],
   "source": [
    "house = raw_housing[init_features].copy()\n",
    "house.head()"
   ]
  },
  {
   "cell_type": "code",
   "execution_count": 9,
   "id": "9cb51782-fd69-4135-a19b-29ce72f047c8",
   "metadata": {},
   "outputs": [],
   "source": [
    "house.columns = [col.lower().replace(' ','_').replace('/','_') for col in house.columns]"
   ]
  },
  {
   "cell_type": "code",
   "execution_count": 10,
   "id": "d597c85b-f286-4117-beac-e6e56b59eb95",
   "metadata": {
    "tags": []
   },
   "outputs": [
    {
     "data": {
      "text/html": [
       "<div>\n",
       "<style scoped>\n",
       "    .dataframe tbody tr th:only-of-type {\n",
       "        vertical-align: middle;\n",
       "    }\n",
       "\n",
       "    .dataframe tbody tr th {\n",
       "        vertical-align: top;\n",
       "    }\n",
       "\n",
       "    .dataframe thead th {\n",
       "        text-align: right;\n",
       "    }\n",
       "</style>\n",
       "<table border=\"1\" class=\"dataframe\">\n",
       "  <thead>\n",
       "    <tr style=\"text-align: right;\">\n",
       "      <th></th>\n",
       "      <th>ms_zoning</th>\n",
       "      <th>lot_area</th>\n",
       "      <th>land_contour</th>\n",
       "      <th>land_slope</th>\n",
       "      <th>neighborhood</th>\n",
       "      <th>condition_1</th>\n",
       "      <th>bldg_type</th>\n",
       "      <th>house_style</th>\n",
       "      <th>overall_qual</th>\n",
       "      <th>overall_cond</th>\n",
       "      <th>...</th>\n",
       "      <th>full_bath</th>\n",
       "      <th>half_bath</th>\n",
       "      <th>fireplaces</th>\n",
       "      <th>fireplace_qu</th>\n",
       "      <th>bsmtfin_sf_1</th>\n",
       "      <th>bsmt_unf_sf</th>\n",
       "      <th>1st_flr_sf</th>\n",
       "      <th>2nd_flr_sf</th>\n",
       "      <th>sale_type</th>\n",
       "      <th>saleprice</th>\n",
       "    </tr>\n",
       "  </thead>\n",
       "  <tbody>\n",
       "    <tr>\n",
       "      <th>0</th>\n",
       "      <td>RL</td>\n",
       "      <td>13517</td>\n",
       "      <td>Lvl</td>\n",
       "      <td>Gtl</td>\n",
       "      <td>Sawyer</td>\n",
       "      <td>RRAe</td>\n",
       "      <td>1Fam</td>\n",
       "      <td>2Story</td>\n",
       "      <td>6</td>\n",
       "      <td>8</td>\n",
       "      <td>...</td>\n",
       "      <td>2</td>\n",
       "      <td>1</td>\n",
       "      <td>0</td>\n",
       "      <td>NaN</td>\n",
       "      <td>533.0</td>\n",
       "      <td>192.0</td>\n",
       "      <td>725</td>\n",
       "      <td>754</td>\n",
       "      <td>WD</td>\n",
       "      <td>130500</td>\n",
       "    </tr>\n",
       "    <tr>\n",
       "      <th>1</th>\n",
       "      <td>RL</td>\n",
       "      <td>11492</td>\n",
       "      <td>Lvl</td>\n",
       "      <td>Gtl</td>\n",
       "      <td>SawyerW</td>\n",
       "      <td>Norm</td>\n",
       "      <td>1Fam</td>\n",
       "      <td>2Story</td>\n",
       "      <td>7</td>\n",
       "      <td>5</td>\n",
       "      <td>...</td>\n",
       "      <td>2</td>\n",
       "      <td>1</td>\n",
       "      <td>1</td>\n",
       "      <td>TA</td>\n",
       "      <td>637.0</td>\n",
       "      <td>276.0</td>\n",
       "      <td>913</td>\n",
       "      <td>1209</td>\n",
       "      <td>WD</td>\n",
       "      <td>220000</td>\n",
       "    </tr>\n",
       "    <tr>\n",
       "      <th>2</th>\n",
       "      <td>RL</td>\n",
       "      <td>7922</td>\n",
       "      <td>Lvl</td>\n",
       "      <td>Gtl</td>\n",
       "      <td>NAmes</td>\n",
       "      <td>Norm</td>\n",
       "      <td>1Fam</td>\n",
       "      <td>1Story</td>\n",
       "      <td>5</td>\n",
       "      <td>7</td>\n",
       "      <td>...</td>\n",
       "      <td>1</td>\n",
       "      <td>0</td>\n",
       "      <td>0</td>\n",
       "      <td>NaN</td>\n",
       "      <td>731.0</td>\n",
       "      <td>326.0</td>\n",
       "      <td>1057</td>\n",
       "      <td>0</td>\n",
       "      <td>WD</td>\n",
       "      <td>109000</td>\n",
       "    </tr>\n",
       "    <tr>\n",
       "      <th>3</th>\n",
       "      <td>RL</td>\n",
       "      <td>9802</td>\n",
       "      <td>Lvl</td>\n",
       "      <td>Gtl</td>\n",
       "      <td>Timber</td>\n",
       "      <td>Norm</td>\n",
       "      <td>1Fam</td>\n",
       "      <td>2Story</td>\n",
       "      <td>5</td>\n",
       "      <td>5</td>\n",
       "      <td>...</td>\n",
       "      <td>2</td>\n",
       "      <td>1</td>\n",
       "      <td>0</td>\n",
       "      <td>NaN</td>\n",
       "      <td>0.0</td>\n",
       "      <td>384.0</td>\n",
       "      <td>744</td>\n",
       "      <td>700</td>\n",
       "      <td>WD</td>\n",
       "      <td>174000</td>\n",
       "    </tr>\n",
       "    <tr>\n",
       "      <th>4</th>\n",
       "      <td>RL</td>\n",
       "      <td>14235</td>\n",
       "      <td>Lvl</td>\n",
       "      <td>Gtl</td>\n",
       "      <td>SawyerW</td>\n",
       "      <td>Norm</td>\n",
       "      <td>1Fam</td>\n",
       "      <td>1.5Fin</td>\n",
       "      <td>6</td>\n",
       "      <td>8</td>\n",
       "      <td>...</td>\n",
       "      <td>2</td>\n",
       "      <td>0</td>\n",
       "      <td>0</td>\n",
       "      <td>NaN</td>\n",
       "      <td>0.0</td>\n",
       "      <td>676.0</td>\n",
       "      <td>831</td>\n",
       "      <td>614</td>\n",
       "      <td>WD</td>\n",
       "      <td>138500</td>\n",
       "    </tr>\n",
       "  </tbody>\n",
       "</table>\n",
       "<p>5 rows × 32 columns</p>\n",
       "</div>"
      ],
      "text/plain": [
       "  ms_zoning  lot_area land_contour land_slope neighborhood condition_1  \\\n",
       "0        RL     13517          Lvl        Gtl       Sawyer        RRAe   \n",
       "1        RL     11492          Lvl        Gtl      SawyerW        Norm   \n",
       "2        RL      7922          Lvl        Gtl        NAmes        Norm   \n",
       "3        RL      9802          Lvl        Gtl       Timber        Norm   \n",
       "4        RL     14235          Lvl        Gtl      SawyerW        Norm   \n",
       "\n",
       "  bldg_type house_style  overall_qual  overall_cond  ...  full_bath  \\\n",
       "0      1Fam      2Story             6             8  ...          2   \n",
       "1      1Fam      2Story             7             5  ...          2   \n",
       "2      1Fam      1Story             5             7  ...          1   \n",
       "3      1Fam      2Story             5             5  ...          2   \n",
       "4      1Fam      1.5Fin             6             8  ...          2   \n",
       "\n",
       "   half_bath fireplaces fireplace_qu bsmtfin_sf_1 bsmt_unf_sf 1st_flr_sf  \\\n",
       "0          1          0          NaN        533.0       192.0        725   \n",
       "1          1          1           TA        637.0       276.0        913   \n",
       "2          0          0          NaN        731.0       326.0       1057   \n",
       "3          1          0          NaN          0.0       384.0        744   \n",
       "4          0          0          NaN          0.0       676.0        831   \n",
       "\n",
       "   2nd_flr_sf  sale_type  saleprice  \n",
       "0         754        WD      130500  \n",
       "1        1209        WD      220000  \n",
       "2           0        WD      109000  \n",
       "3         700        WD      174000  \n",
       "4         614        WD      138500  \n",
       "\n",
       "[5 rows x 32 columns]"
      ]
     },
     "execution_count": 10,
     "metadata": {},
     "output_type": "execute_result"
    }
   ],
   "source": [
    "house.head()"
   ]
  },
  {
   "cell_type": "code",
   "execution_count": 11,
   "id": "44fce3a9-4869-4c59-b5e9-c6b37e0fe2bf",
   "metadata": {},
   "outputs": [
    {
     "data": {
      "text/plain": [
       "ms_zoning            0\n",
       "lot_area             0\n",
       "land_contour         0\n",
       "land_slope           0\n",
       "neighborhood         0\n",
       "condition_1          0\n",
       "bldg_type            0\n",
       "house_style          0\n",
       "overall_qual         0\n",
       "overall_cond         0\n",
       "year_built           0\n",
       "year_remod_add       0\n",
       "mas_vnr_type        22\n",
       "exter_qual           0\n",
       "exter_cond           0\n",
       "bsmt_qual           55\n",
       "bsmt_cond           55\n",
       "garage_area          1\n",
       "wood_deck_sf         0\n",
       "open_porch_sf        0\n",
       "kitchen_qual         0\n",
       "bedroom_abvgr        0\n",
       "full_bath            0\n",
       "half_bath            0\n",
       "fireplaces           0\n",
       "fireplace_qu      1000\n",
       "bsmtfin_sf_1         1\n",
       "bsmt_unf_sf          1\n",
       "1st_flr_sf           0\n",
       "2nd_flr_sf           0\n",
       "sale_type            0\n",
       "saleprice            0\n",
       "dtype: int64"
      ]
     },
     "execution_count": 11,
     "metadata": {},
     "output_type": "execute_result"
    }
   ],
   "source": [
    "house.isnull().sum()"
   ]
  },
  {
   "cell_type": "markdown",
   "id": "face7f8c-b2f4-44ef-8cbf-cb5b527ca083",
   "metadata": {},
   "source": [
    "Below we see that **there is one row missing all the basement data**. It may be **fair to assume that the home is missing a basement and these values would all be zero**."
   ]
  },
  {
   "cell_type": "code",
   "execution_count": 12,
   "id": "8376669d-e119-4d4b-9989-9ad503c45edb",
   "metadata": {},
   "outputs": [
    {
     "data": {
      "text/html": [
       "<div>\n",
       "<style scoped>\n",
       "    .dataframe tbody tr th:only-of-type {\n",
       "        vertical-align: middle;\n",
       "    }\n",
       "\n",
       "    .dataframe tbody tr th {\n",
       "        vertical-align: top;\n",
       "    }\n",
       "\n",
       "    .dataframe thead th {\n",
       "        text-align: right;\n",
       "    }\n",
       "</style>\n",
       "<table border=\"1\" class=\"dataframe\">\n",
       "  <thead>\n",
       "    <tr style=\"text-align: right;\">\n",
       "      <th></th>\n",
       "      <th>bsmt_qual</th>\n",
       "      <th>bsmt_cond</th>\n",
       "      <th>garage_area</th>\n",
       "      <th>bsmtfin_sf_1</th>\n",
       "      <th>bsmt_unf_sf</th>\n",
       "    </tr>\n",
       "  </thead>\n",
       "  <tbody>\n",
       "    <tr>\n",
       "      <th>1327</th>\n",
       "      <td>NaN</td>\n",
       "      <td>NaN</td>\n",
       "      <td>280.0</td>\n",
       "      <td>NaN</td>\n",
       "      <td>NaN</td>\n",
       "    </tr>\n",
       "  </tbody>\n",
       "</table>\n",
       "</div>"
      ],
      "text/plain": [
       "     bsmt_qual bsmt_cond  garage_area  bsmtfin_sf_1  bsmt_unf_sf\n",
       "1327       NaN       NaN        280.0           NaN          NaN"
      ]
     },
     "execution_count": 12,
     "metadata": {},
     "output_type": "execute_result"
    }
   ],
   "source": [
    "null_basement_info = house[house['bsmtfin_sf_1'].isna()]\n",
    "null_basement_info[['bsmt_qual', 'bsmt_cond', 'garage_area', 'bsmtfin_sf_1', 'bsmt_unf_sf']]"
   ]
  },
  {
   "cell_type": "code",
   "execution_count": 13,
   "id": "75803380-5e48-44d2-a48f-c29392bf2b69",
   "metadata": {},
   "outputs": [],
   "source": [
    "# turn missing basement square feet info into zeros\n",
    "# basement quality and condition will be dealt with later\n",
    "house.loc[house['bsmtfin_sf_1'].isna(), ['bsmtfin_sf_1', 'bsmt_unf_sf']] = 0"
   ]
  },
  {
   "cell_type": "markdown",
   "id": "5b2bfbf1-d74a-4b84-88f0-5acf7b3aea55",
   "metadata": {},
   "source": [
    "We only have one garage related column so it is more challenging to infer about the row with a missing `garage_area` value. It is likely fine to convert this singe row's `garage_area` value to zero also."
   ]
  },
  {
   "cell_type": "code",
   "execution_count": 14,
   "id": "15a9b41d-0a1d-48a2-9f63-ece6ffc68c45",
   "metadata": {},
   "outputs": [],
   "source": [
    "house.loc[house['garage_area'].isna(), 'garage_area'] = 0"
   ]
  },
  {
   "cell_type": "markdown",
   "id": "a94ea6f8-4274-4e7d-bd2b-6cf107bfbb7b",
   "metadata": {},
   "source": [
    "Missing values in the basement columns appear to be homes without basements. We see the missing 55 entries in the same rows for `bsmt_qual` and `bsmt_cond`."
   ]
  },
  {
   "cell_type": "code",
   "execution_count": 15,
   "id": "d164a23e-340c-4439-9231-457053fe8b97",
   "metadata": {},
   "outputs": [
    {
     "data": {
      "text/plain": [
       "NaN    55\n",
       "Name: bsmt_cond, dtype: int64"
      ]
     },
     "execution_count": 15,
     "metadata": {},
     "output_type": "execute_result"
    }
   ],
   "source": [
    "# takes the data that is missing bsmt_qual and checks what the bsmt_cond are\n",
    "house.loc[house['bsmt_qual'].isnull(), 'bsmt_cond'].value_counts(dropna = False)"
   ]
  },
  {
   "cell_type": "code",
   "execution_count": 16,
   "id": "807cdbf5-f123-4210-9c38-bcaab22a6832",
   "metadata": {},
   "outputs": [],
   "source": [
    "# converts descriptive rating to numerical\n",
    "house = qual_to_num(house, 'bsmt_qual')\n",
    "house = qual_to_num(house, 'bsmt_cond')"
   ]
  },
  {
   "cell_type": "markdown",
   "id": "6597ea8c-0f9d-4bd7-a6ef-ed4a965f202b",
   "metadata": {},
   "source": [
    "We see the same issue arise with `fireplaces` and `fireplace_qu`. The homes with zero fireplaces are fittingly missing descriptions for the quality of their fireplace."
   ]
  },
  {
   "cell_type": "code",
   "execution_count": 17,
   "id": "8e0dca17-b486-45f9-a21a-cb5559f34a24",
   "metadata": {},
   "outputs": [
    {
     "data": {
      "text/plain": [
       "NaN    1000\n",
       "Name: fireplace_qu, dtype: int64"
      ]
     },
     "execution_count": 17,
     "metadata": {},
     "output_type": "execute_result"
    }
   ],
   "source": [
    "# homes with 0 fireplaces are have NaN fireplace_qu values\n",
    "house.loc[house['fireplaces'] == 0, 'fireplace_qu'].value_counts(dropna = False)"
   ]
  },
  {
   "cell_type": "code",
   "execution_count": 18,
   "id": "b848078a-c82c-4ae0-944f-8a28d09e58cb",
   "metadata": {},
   "outputs": [],
   "source": [
    "# converts descriptive rating to numerical\n",
    "house = qual_to_num(house, 'fireplace_qu')"
   ]
  },
  {
   "cell_type": "markdown",
   "id": "3cd2b301-706c-4485-8ed7-a0dd2bd95635",
   "metadata": {},
   "source": [
    "The only remaining column with missing entires is `mas_vnr_typ`. Below we see that 'None' is the most frequent value in the column. With only 22 missing values, it seems like it will not be harmful to replace the missing values with 'None'"
   ]
  },
  {
   "cell_type": "code",
   "execution_count": 19,
   "id": "f8dd6791-45bb-4c33-9bc2-322960061532",
   "metadata": {},
   "outputs": [
    {
     "data": {
      "text/plain": [
       "ms_zoning          0\n",
       "lot_area           0\n",
       "land_contour       0\n",
       "land_slope         0\n",
       "neighborhood       0\n",
       "condition_1        0\n",
       "bldg_type          0\n",
       "house_style        0\n",
       "overall_qual       0\n",
       "overall_cond       0\n",
       "year_built         0\n",
       "year_remod_add     0\n",
       "mas_vnr_type      22\n",
       "exter_qual         0\n",
       "exter_cond         0\n",
       "bsmt_qual          0\n",
       "bsmt_cond          0\n",
       "garage_area        0\n",
       "wood_deck_sf       0\n",
       "open_porch_sf      0\n",
       "kitchen_qual       0\n",
       "bedroom_abvgr      0\n",
       "full_bath          0\n",
       "half_bath          0\n",
       "fireplaces         0\n",
       "fireplace_qu       0\n",
       "bsmtfin_sf_1       0\n",
       "bsmt_unf_sf        0\n",
       "1st_flr_sf         0\n",
       "2nd_flr_sf         0\n",
       "sale_type          0\n",
       "saleprice          0\n",
       "dtype: int64"
      ]
     },
     "execution_count": 19,
     "metadata": {},
     "output_type": "execute_result"
    }
   ],
   "source": [
    "house.isnull().sum()"
   ]
  },
  {
   "cell_type": "code",
   "execution_count": 20,
   "id": "b0eecd39-e610-4dbc-8719-7af65ae17a92",
   "metadata": {},
   "outputs": [
    {
     "data": {
      "text/plain": [
       "None       1218\n",
       "BrkFace     630\n",
       "Stone       168\n",
       "NaN          22\n",
       "BrkCmn       13\n",
       "Name: mas_vnr_type, dtype: int64"
      ]
     },
     "execution_count": 20,
     "metadata": {},
     "output_type": "execute_result"
    }
   ],
   "source": [
    "house['mas_vnr_type'].value_counts(dropna = False)"
   ]
  },
  {
   "cell_type": "code",
   "execution_count": 21,
   "id": "6d9503fd-c925-4673-a6b1-0666d5acbb71",
   "metadata": {},
   "outputs": [],
   "source": [
    "house.loc[house['mas_vnr_type'].isna(), 'mas_vnr_type'] = 'None'"
   ]
  },
  {
   "cell_type": "markdown",
   "id": "4d8848e3-ab8f-49c1-a0ed-b368b6e15288",
   "metadata": {},
   "source": [
    "---\n",
    "\n",
    "## Feature Engineering"
   ]
  },
  {
   "cell_type": "code",
   "execution_count": 22,
   "id": "3319d9db-8c34-427d-9da8-065f5e70695f",
   "metadata": {},
   "outputs": [],
   "source": [
    "# convert descriptive rating to numerical\n",
    "house = qual_to_num(house, 'kitchen_qual')"
   ]
  },
  {
   "cell_type": "code",
   "execution_count": 23,
   "id": "346c573d-0074-466e-98ef-757937f125bd",
   "metadata": {},
   "outputs": [],
   "source": [
    "# combines overall quality and condition into one column via multiplication\n",
    "house['qual_cond'] = house['overall_qual'] * house['overall_cond']\n",
    "house.drop(columns = ['overall_qual', 'overall_cond'], inplace = True)"
   ]
  },
  {
   "cell_type": "code",
   "execution_count": 24,
   "id": "b27b4461-910a-46d6-a339-c97b9458deec",
   "metadata": {},
   "outputs": [],
   "source": [
    "# converts descriptive rating to numerical\n",
    "house = qual_to_num(house,'exter_qual')\n",
    "house = qual_to_num(house, 'exter_cond')\n",
    "\n",
    "# combines exterior quality and condition into one column via multiplication\n",
    "house['exter_qual_cond'] = house['exter_qual'] * house['exter_cond']\n",
    "house.drop(columns = ['exter_qual', 'exter_cond'], inplace = True)"
   ]
  },
  {
   "cell_type": "code",
   "execution_count": 25,
   "id": "1eb3dd4d-d74b-4cfc-8bbe-2ed7b59de70b",
   "metadata": {},
   "outputs": [],
   "source": [
    "# combines basment quality and condition ratings via multiplication\n",
    "house['bsmt_qual_cond'] = house['bsmt_qual'] * house['bsmt_cond']\n",
    "house.drop(columns = ['bsmt_qual', 'bsmt_cond'], inplace = True)"
   ]
  },
  {
   "cell_type": "code",
   "execution_count": 26,
   "id": "1418a55c-762c-4245-9fe4-d89c8c6d3dc7",
   "metadata": {},
   "outputs": [],
   "source": [
    "# combines fireplace count and quality rating via multiplication\n",
    "house['fireplaces_weighted'] = house['fireplaces'] * house['fireplace_qu']\n",
    "house.drop(columns = ['fireplaces', 'fireplace_qu'], inplace = True)"
   ]
  },
  {
   "cell_type": "code",
   "execution_count": 27,
   "id": "d91f3338-7286-4574-a993-a72ab6d85f9e",
   "metadata": {},
   "outputs": [],
   "source": [
    "house['sq_ft'] = house['1st_flr_sf'] + house['2nd_flr_sf']\n",
    "house.drop(columns = ['1st_flr_sf', '2nd_flr_sf'], inplace = True)"
   ]
  },
  {
   "cell_type": "code",
   "execution_count": 28,
   "id": "559380ae-e65a-4ed2-b65d-f22694392d9f",
   "metadata": {},
   "outputs": [],
   "source": [
    "# adds square feet (SF) measurements with weights:\n",
    "# 1*(Finished SF) + 0.5(Unfinished SF)\n",
    "house['bsmt_weighted_sf'] = house['bsmtfin_sf_1'] + 0.5*house['bsmt_unf_sf']\n",
    "house.drop(columns = ['bsmtfin_sf_1', 'bsmt_unf_sf'], inplace = True)"
   ]
  },
  {
   "cell_type": "code",
   "execution_count": 29,
   "id": "76f690be-f344-4d6a-a71d-8db8b2522e12",
   "metadata": {},
   "outputs": [],
   "source": [
    "# combines full bath and half bath into one column\n",
    "house['bath'] = house['full_bath'] + 0.5*house['half_bath']\n",
    "house.drop(columns = ['full_bath', 'half_bath'], inplace = True)"
   ]
  },
  {
   "cell_type": "markdown",
   "id": "623ec94e-ec22-48fc-984f-6424df557379",
   "metadata": {},
   "source": [
    "---\n",
    "\n",
    "## Removing Outliers and Exploratory Data Analysis"
   ]
  },
  {
   "cell_type": "code",
   "execution_count": 30,
   "id": "611f8fc2-687e-4b3e-adea-c39c6aafc850",
   "metadata": {},
   "outputs": [
    {
     "data": {
      "text/html": [
       "<div>\n",
       "<style scoped>\n",
       "    .dataframe tbody tr th:only-of-type {\n",
       "        vertical-align: middle;\n",
       "    }\n",
       "\n",
       "    .dataframe tbody tr th {\n",
       "        vertical-align: top;\n",
       "    }\n",
       "\n",
       "    .dataframe thead th {\n",
       "        text-align: right;\n",
       "    }\n",
       "</style>\n",
       "<table border=\"1\" class=\"dataframe\">\n",
       "  <thead>\n",
       "    <tr style=\"text-align: right;\">\n",
       "      <th></th>\n",
       "      <th>lot_area</th>\n",
       "      <th>year_built</th>\n",
       "      <th>year_remod_add</th>\n",
       "      <th>garage_area</th>\n",
       "      <th>wood_deck_sf</th>\n",
       "      <th>open_porch_sf</th>\n",
       "      <th>kitchen_qual</th>\n",
       "      <th>bedroom_abvgr</th>\n",
       "      <th>saleprice</th>\n",
       "      <th>qual_cond</th>\n",
       "      <th>exter_qual_cond</th>\n",
       "      <th>bsmt_qual_cond</th>\n",
       "      <th>fireplaces_weighted</th>\n",
       "      <th>sq_ft</th>\n",
       "      <th>bsmt_weighted_sf</th>\n",
       "      <th>bath</th>\n",
       "    </tr>\n",
       "  </thead>\n",
       "  <tbody>\n",
       "    <tr>\n",
       "      <th>count</th>\n",
       "      <td>2051.000000</td>\n",
       "      <td>2051.000000</td>\n",
       "      <td>2051.000000</td>\n",
       "      <td>2051.000000</td>\n",
       "      <td>2051.000000</td>\n",
       "      <td>2051.000000</td>\n",
       "      <td>2051.000000</td>\n",
       "      <td>2051.000000</td>\n",
       "      <td>2051.000000</td>\n",
       "      <td>2051.000000</td>\n",
       "      <td>2051.000000</td>\n",
       "      <td>2051.000000</td>\n",
       "      <td>2051.000000</td>\n",
       "      <td>2051.000000</td>\n",
       "      <td>2051.000000</td>\n",
       "      <td>2051.000000</td>\n",
       "    </tr>\n",
       "    <tr>\n",
       "      <th>mean</th>\n",
       "      <td>10065.208191</td>\n",
       "      <td>1971.708922</td>\n",
       "      <td>1984.190151</td>\n",
       "      <td>473.440761</td>\n",
       "      <td>93.833740</td>\n",
       "      <td>47.556802</td>\n",
       "      <td>3.517309</td>\n",
       "      <td>2.843491</td>\n",
       "      <td>181469.701609</td>\n",
       "      <td>33.866407</td>\n",
       "      <td>10.518284</td>\n",
       "      <td>10.549000</td>\n",
       "      <td>2.033642</td>\n",
       "      <td>1493.817162</td>\n",
       "      <td>725.810580</td>\n",
       "      <td>1.762799</td>\n",
       "    </tr>\n",
       "    <tr>\n",
       "      <th>std</th>\n",
       "      <td>6742.488909</td>\n",
       "      <td>30.177889</td>\n",
       "      <td>21.036250</td>\n",
       "      <td>216.135102</td>\n",
       "      <td>128.549416</td>\n",
       "      <td>66.747241</td>\n",
       "      <td>0.665577</td>\n",
       "      <td>0.826618</td>\n",
       "      <td>79258.659352</td>\n",
       "      <td>9.255859</td>\n",
       "      <td>2.195124</td>\n",
       "      <td>3.061151</td>\n",
       "      <td>2.283203</td>\n",
       "      <td>497.618666</td>\n",
       "      <td>406.466601</td>\n",
       "      <td>0.637775</td>\n",
       "    </tr>\n",
       "    <tr>\n",
       "      <th>min</th>\n",
       "      <td>1300.000000</td>\n",
       "      <td>1872.000000</td>\n",
       "      <td>1950.000000</td>\n",
       "      <td>0.000000</td>\n",
       "      <td>0.000000</td>\n",
       "      <td>0.000000</td>\n",
       "      <td>2.000000</td>\n",
       "      <td>0.000000</td>\n",
       "      <td>12789.000000</td>\n",
       "      <td>1.000000</td>\n",
       "      <td>2.000000</td>\n",
       "      <td>0.000000</td>\n",
       "      <td>0.000000</td>\n",
       "      <td>334.000000</td>\n",
       "      <td>0.000000</td>\n",
       "      <td>0.000000</td>\n",
       "    </tr>\n",
       "    <tr>\n",
       "      <th>25%</th>\n",
       "      <td>7500.000000</td>\n",
       "      <td>1953.500000</td>\n",
       "      <td>1964.500000</td>\n",
       "      <td>319.000000</td>\n",
       "      <td>0.000000</td>\n",
       "      <td>0.000000</td>\n",
       "      <td>3.000000</td>\n",
       "      <td>2.000000</td>\n",
       "      <td>129825.000000</td>\n",
       "      <td>30.000000</td>\n",
       "      <td>9.000000</td>\n",
       "      <td>9.000000</td>\n",
       "      <td>0.000000</td>\n",
       "      <td>1124.500000</td>\n",
       "      <td>440.250000</td>\n",
       "      <td>1.000000</td>\n",
       "    </tr>\n",
       "    <tr>\n",
       "      <th>50%</th>\n",
       "      <td>9430.000000</td>\n",
       "      <td>1974.000000</td>\n",
       "      <td>1993.000000</td>\n",
       "      <td>480.000000</td>\n",
       "      <td>0.000000</td>\n",
       "      <td>27.000000</td>\n",
       "      <td>3.000000</td>\n",
       "      <td>3.000000</td>\n",
       "      <td>162500.000000</td>\n",
       "      <td>35.000000</td>\n",
       "      <td>9.000000</td>\n",
       "      <td>12.000000</td>\n",
       "      <td>1.000000</td>\n",
       "      <td>1440.000000</td>\n",
       "      <td>674.500000</td>\n",
       "      <td>2.000000</td>\n",
       "    </tr>\n",
       "    <tr>\n",
       "      <th>75%</th>\n",
       "      <td>11513.500000</td>\n",
       "      <td>2001.000000</td>\n",
       "      <td>2004.000000</td>\n",
       "      <td>576.000000</td>\n",
       "      <td>168.000000</td>\n",
       "      <td>70.000000</td>\n",
       "      <td>4.000000</td>\n",
       "      <td>3.000000</td>\n",
       "      <td>214000.000000</td>\n",
       "      <td>40.000000</td>\n",
       "      <td>12.000000</td>\n",
       "      <td>12.000000</td>\n",
       "      <td>4.000000</td>\n",
       "      <td>1728.000000</td>\n",
       "      <td>916.750000</td>\n",
       "      <td>2.500000</td>\n",
       "    </tr>\n",
       "    <tr>\n",
       "      <th>max</th>\n",
       "      <td>159000.000000</td>\n",
       "      <td>2010.000000</td>\n",
       "      <td>2010.000000</td>\n",
       "      <td>1418.000000</td>\n",
       "      <td>1424.000000</td>\n",
       "      <td>547.000000</td>\n",
       "      <td>5.000000</td>\n",
       "      <td>8.000000</td>\n",
       "      <td>611657.000000</td>\n",
       "      <td>90.000000</td>\n",
       "      <td>25.000000</td>\n",
       "      <td>20.000000</td>\n",
       "      <td>12.000000</td>\n",
       "      <td>5642.000000</td>\n",
       "      <td>5877.000000</td>\n",
       "      <td>5.000000</td>\n",
       "    </tr>\n",
       "  </tbody>\n",
       "</table>\n",
       "</div>"
      ],
      "text/plain": [
       "            lot_area   year_built  year_remod_add  garage_area  wood_deck_sf  \\\n",
       "count    2051.000000  2051.000000     2051.000000  2051.000000   2051.000000   \n",
       "mean    10065.208191  1971.708922     1984.190151   473.440761     93.833740   \n",
       "std      6742.488909    30.177889       21.036250   216.135102    128.549416   \n",
       "min      1300.000000  1872.000000     1950.000000     0.000000      0.000000   \n",
       "25%      7500.000000  1953.500000     1964.500000   319.000000      0.000000   \n",
       "50%      9430.000000  1974.000000     1993.000000   480.000000      0.000000   \n",
       "75%     11513.500000  2001.000000     2004.000000   576.000000    168.000000   \n",
       "max    159000.000000  2010.000000     2010.000000  1418.000000   1424.000000   \n",
       "\n",
       "       open_porch_sf  kitchen_qual  bedroom_abvgr      saleprice    qual_cond  \\\n",
       "count    2051.000000   2051.000000    2051.000000    2051.000000  2051.000000   \n",
       "mean       47.556802      3.517309       2.843491  181469.701609    33.866407   \n",
       "std        66.747241      0.665577       0.826618   79258.659352     9.255859   \n",
       "min         0.000000      2.000000       0.000000   12789.000000     1.000000   \n",
       "25%         0.000000      3.000000       2.000000  129825.000000    30.000000   \n",
       "50%        27.000000      3.000000       3.000000  162500.000000    35.000000   \n",
       "75%        70.000000      4.000000       3.000000  214000.000000    40.000000   \n",
       "max       547.000000      5.000000       8.000000  611657.000000    90.000000   \n",
       "\n",
       "       exter_qual_cond  bsmt_qual_cond  fireplaces_weighted        sq_ft  \\\n",
       "count      2051.000000     2051.000000          2051.000000  2051.000000   \n",
       "mean         10.518284       10.549000             2.033642  1493.817162   \n",
       "std           2.195124        3.061151             2.283203   497.618666   \n",
       "min           2.000000        0.000000             0.000000   334.000000   \n",
       "25%           9.000000        9.000000             0.000000  1124.500000   \n",
       "50%           9.000000       12.000000             1.000000  1440.000000   \n",
       "75%          12.000000       12.000000             4.000000  1728.000000   \n",
       "max          25.000000       20.000000            12.000000  5642.000000   \n",
       "\n",
       "       bsmt_weighted_sf         bath  \n",
       "count       2051.000000  2051.000000  \n",
       "mean         725.810580     1.762799  \n",
       "std          406.466601     0.637775  \n",
       "min            0.000000     0.000000  \n",
       "25%          440.250000     1.000000  \n",
       "50%          674.500000     2.000000  \n",
       "75%          916.750000     2.500000  \n",
       "max         5877.000000     5.000000  "
      ]
     },
     "execution_count": 30,
     "metadata": {},
     "output_type": "execute_result"
    }
   ],
   "source": [
    "house.describe()"
   ]
  },
  {
   "cell_type": "markdown",
   "id": "7282922c-64fa-446c-8e97-be8309d7ef36",
   "metadata": {},
   "source": [
    "The first thing that stands out in our summary statistics is the massive gap between the maximum `lot_area` and the 75th percentile. A full list of columns with questionable max values are:\n",
    "\n",
    "- `lot_area`\n",
    "- `wood_deck_sf`\n",
    "- `open_porch_sf`\n",
    "- `sale_price`\n",
    "- `sq_ft`\n",
    "- and `bsmt_weighted_sf`\n",
    "\n",
    "Another interesting statistic is the minimum `year_built` is so much lower than the 25th percentile.\n",
    "\n",
    "Let us investigate the distributions of these columns and remove any outliers that are very distant from the rest of the data.\n",
    "\n",
    "#### Lot Area"
   ]
  },
  {
   "cell_type": "code",
   "execution_count": 31,
   "id": "fd362a13-55db-4466-8a67-0c56c689e666",
   "metadata": {},
   "outputs": [
    {
     "data": {
      "image/png": "[encoded data removed]",
      "text/plain": [
       "<Figure size 432x288 with 1 Axes>"
      ]
     },
     "metadata": {
      "needs_background": "light"
     },
     "output_type": "display_data"
    }
   ],
   "source": [
    "sns.boxplot(x = house['lot_area']);"
   ]
  },
  {
   "cell_type": "code",
   "execution_count": 32,
   "id": "2015c13c-dbb1-4112-9ae5-9ecac79dbb16",
   "metadata": {},
   "outputs": [],
   "source": [
    "perc_25 = house['lot_area'].quantile(0.25)\n",
    "perc_75 = house['lot_area'].quantile(0.75)\n",
    "large_lot = house[house['lot_area'] > perc_75]"
   ]
  },
  {
   "cell_type": "code",
   "execution_count": 33,
   "id": "f86cbfa9-ef3a-43c2-bd36-a2f0e68a6a2f",
   "metadata": {},
   "outputs": [
    {
     "data": {
      "text/plain": [
       "(11367.514, 17414.4]    424\n",
       "(17414.4, 23313.8]       55\n",
       "(23313.8, 29213.2]        9\n",
       "(29213.2, 35112.6]        6\n",
       "(35112.6, 41012.0]        3\n",
       "(41012.0, 46911.4]        3\n",
       "(46911.4, 52810.8]        5\n",
       "(52810.8, 58710.2]        4\n",
       "(58710.2, 64609.6]        1\n",
       "(64609.6, 70509.0]        0\n",
       "(70509.0, 76408.4]        1\n",
       "(76408.4, 82307.8]        0\n",
       "(82307.8, 88207.2]        0\n",
       "(88207.2, 94106.6]        0\n",
       "(94106.6, 100006.0]       0\n",
       "(100006.0, 105905.4]      0\n",
       "(105905.4, 111804.8]      0\n",
       "(111804.8, 117704.2]      1\n",
       "(117704.2, 123603.6]      0\n",
       "(123603.6, 129503.0]      0\n",
       "(129503.0, 135402.4]      0\n",
       "(135402.4, 141301.8]      0\n",
       "(141301.8, 147201.2]      0\n",
       "(147201.2, 153100.6]      0\n",
       "(153100.6, 159000.0]      1\n",
       "Name: lot_area, dtype: int64"
      ]
     },
     "execution_count": 33,
     "metadata": {},
     "output_type": "execute_result"
    }
   ],
   "source": [
    "large_lot['lot_area'].value_counts(bins = 25).sort_index()"
   ]
  },
  {
   "cell_type": "markdown",
   "id": "24eccd1b-28a0-4fc7-adb7-cc52c375963b",
   "metadata": {},
   "source": [
    "We see a significant drop off in number of homes containing more than 77,000 square feet of lot area. **Let us trim off these outliers**."
   ]
  },
  {
   "cell_type": "code",
   "execution_count": 34,
   "id": "d92e1322-fbea-4147-8521-291703ffa556",
   "metadata": {},
   "outputs": [],
   "source": [
    "# consider homes with less than 77,000 lot_area\n",
    "house = house[house['lot_area'] <= 77_000]"
   ]
  },
  {
   "cell_type": "markdown",
   "id": "f8d06fbc-df47-41b6-8a22-a2e1573d7670",
   "metadata": {},
   "source": [
    "#### Wood Deck"
   ]
  },
  {
   "cell_type": "code",
   "execution_count": 35,
   "id": "0e421208-7906-4c27-b1f0-5d9c6cd449be",
   "metadata": {},
   "outputs": [
    {
     "data": {
      "image/png": "[encoded data removed]",
      "text/plain": [
       "<Figure size 432x288 with 1 Axes>"
      ]
     },
     "metadata": {
      "needs_background": "light"
     },
     "output_type": "display_data"
    }
   ],
   "source": [
    "house['wood_deck_sf'].plot.hist(bins = 15);"
   ]
  },
  {
   "cell_type": "code",
   "execution_count": 36,
   "id": "4d3baff1-af77-48bb-91da-515a850b4373",
   "metadata": {},
   "outputs": [
    {
     "data": {
      "text/plain": [
       "(-1.4249999999999998, 94.933]    1176\n",
       "(94.933, 189.867]                 441\n",
       "(189.867, 284.8]                  274\n",
       "(284.8, 379.733]                   89\n",
       "(379.733, 474.667]                 39\n",
       "(474.667, 569.6]                   16\n",
       "(569.6, 664.533]                    7\n",
       "(664.533, 759.467]                  4\n",
       "(759.467, 854.4]                    0\n",
       "(854.4, 949.333]                    2\n",
       "(949.333, 1044.267]                 0\n",
       "(1044.267, 1139.2]                  0\n",
       "(1139.2, 1234.133]                  0\n",
       "(1234.133, 1329.067]                0\n",
       "(1329.067, 1424.0]                  1\n",
       "Name: wood_deck_sf, dtype: int64"
      ]
     },
     "execution_count": 36,
     "metadata": {},
     "output_type": "execute_result"
    }
   ],
   "source": [
    "house['wood_deck_sf'].value_counts(bins = 15).sort_index()"
   ]
  },
  {
   "cell_type": "markdown",
   "id": "6a659a36-12d6-4830-9b92-4b805b23aa20",
   "metadata": {},
   "source": [
    "There is three homes with wood decks significantly larger than the rest. Let us drop them."
   ]
  },
  {
   "cell_type": "code",
   "execution_count": 37,
   "id": "5a86469f-da7a-415a-8aa1-d52c124fe340",
   "metadata": {},
   "outputs": [],
   "source": [
    "house = house[house['wood_deck_sf'] < 760]"
   ]
  },
  {
   "cell_type": "markdown",
   "id": "f9d3311d-8662-409f-b3f4-8de3a6387ca2",
   "metadata": {},
   "source": [
    "#### Open Porch"
   ]
  },
  {
   "cell_type": "code",
   "execution_count": 38,
   "id": "81a748cd-fa21-4658-ba94-5fd551005001",
   "metadata": {},
   "outputs": [
    {
     "data": {
      "text/plain": [
       "(-0.548, 36.467]      1178\n",
       "(36.467, 72.933]       378\n",
       "(72.933, 109.4]        197\n",
       "(109.4, 145.867]       122\n",
       "(145.867, 182.333]      69\n",
       "(182.333, 218.8]        42\n",
       "(218.8, 255.267]        27\n",
       "(255.267, 291.733]      13\n",
       "(291.733, 328.2]         9\n",
       "(328.2, 364.667]         2\n",
       "(364.667, 401.133]       3\n",
       "(401.133, 437.6]         1\n",
       "(437.6, 474.067]         1\n",
       "(474.067, 510.533]       2\n",
       "(510.533, 547.0]         2\n",
       "Name: open_porch_sf, dtype: int64"
      ]
     },
     "execution_count": 38,
     "metadata": {},
     "output_type": "execute_result"
    }
   ],
   "source": [
    "house['open_porch_sf'].value_counts(bins = 15).sort_index()"
   ]
  },
  {
   "cell_type": "markdown",
   "id": "929fbf50-6f44-4de9-aa03-0ab50f35ece1",
   "metadata": {},
   "source": [
    "Although there are a few homes with very large open porches, they do not appear to stand out too far from the rest of the data."
   ]
  },
  {
   "cell_type": "markdown",
   "id": "f106dcca-620f-4694-9716-1ee9e621181d",
   "metadata": {},
   "source": [
    "#### Square Feet"
   ]
  },
  {
   "cell_type": "code",
   "execution_count": 39,
   "id": "04b88a2b-86a4-4cfb-9de8-32a4ec5f221f",
   "metadata": {},
   "outputs": [
    {
     "data": {
      "image/png": "[encoded data removed]",
      "text/plain": [
       "<Figure size 432x288 with 1 Axes>"
      ]
     },
     "metadata": {
      "needs_background": "light"
     },
     "output_type": "display_data"
    }
   ],
   "source": [
    "house['sq_ft'].plot.hist();"
   ]
  },
  {
   "cell_type": "code",
   "execution_count": 40,
   "id": "b3b736f7-4f26-4589-9beb-233c734fd431",
   "metadata": {},
   "outputs": [
    {
     "data": {
      "image/png": "[encoded data removed]",
      "text/plain": [
       "<Figure size 432x288 with 1 Axes>"
      ]
     },
     "metadata": {
      "needs_background": "light"
     },
     "output_type": "display_data"
    }
   ],
   "source": [
    "sns.boxplot(x = house['sq_ft']);"
   ]
  },
  {
   "cell_type": "code",
   "execution_count": 41,
   "id": "7adcdcf7-9a2e-4aa4-8b47-f299237f0e6e",
   "metadata": {},
   "outputs": [
    {
     "data": {
      "text/plain": [
       "(328.69100000000003, 599.4]      9\n",
       "(599.4, 864.8]                 113\n",
       "(864.8, 1130.2]                401\n",
       "(1130.2, 1395.6]               428\n",
       "(1395.6, 1661.0]               475\n",
       "(1661.0, 1926.4]               288\n",
       "(1926.4, 2191.8]               146\n",
       "(2191.8, 2457.2]                81\n",
       "(2457.2, 2722.6]                66\n",
       "(2722.6, 2988.0]                26\n",
       "(2988.0, 3253.4]                 6\n",
       "(3253.4, 3518.8]                 3\n",
       "(3518.8, 3784.2]                 1\n",
       "(3784.2, 4049.6]                 1\n",
       "(4049.6, 4315.0]                 0\n",
       "(4315.0, 4580.4]                 0\n",
       "(4580.4, 4845.8]                 0\n",
       "(4845.8, 5111.2]                 1\n",
       "(5111.2, 5376.6]                 0\n",
       "(5376.6, 5642.0]                 1\n",
       "Name: sq_ft, dtype: int64"
      ]
     },
     "execution_count": 41,
     "metadata": {},
     "output_type": "execute_result"
    }
   ],
   "source": [
    "house['sq_ft'].value_counts(bins = 20).sort_index()"
   ]
  },
  {
   "cell_type": "markdown",
   "id": "7d2d8ca7-432f-4405-bf4c-42a36d128812",
   "metadata": {},
   "source": [
    "We see two homes with substantially more living space than others. Let us drop these observations."
   ]
  },
  {
   "cell_type": "code",
   "execution_count": 42,
   "id": "ded349a9-478e-4d40-a4c5-404283b57d52",
   "metadata": {},
   "outputs": [],
   "source": [
    "house = house[house['sq_ft'] < 4050]"
   ]
  },
  {
   "cell_type": "markdown",
   "id": "2667a465-a13f-457d-9c9a-52d000467dc5",
   "metadata": {},
   "source": [
    "#### Sale Price"
   ]
  },
  {
   "cell_type": "code",
   "execution_count": 46,
   "id": "96b19ad7-800b-48ba-97ad-01f36b65653a",
   "metadata": {},
   "outputs": [
    {
     "data": {
      "image/png": "[encoded data removed]",
      "text/plain": [
       "<Figure size 432x288 with 1 Axes>"
      ]
     },
     "metadata": {
      "needs_background": "light"
     },
     "output_type": "display_data"
    }
   ],
   "source": [
    "house['saleprice'].plot.hist();"
   ]
  },
  {
   "cell_type": "code",
   "execution_count": 47,
   "id": "9be47bc1-580b-4e70-972c-e8e642f5cc8c",
   "metadata": {},
   "outputs": [
    {
     "data": {
      "image/png": "[encoded data removed]",
      "text/plain": [
       "<Figure size 432x288 with 1 Axes>"
      ]
     },
     "metadata": {
      "needs_background": "light"
     },
     "output_type": "display_data"
    }
   ],
   "source": [
    "sns.boxplot(x = house['saleprice']);"
   ]
  },
  {
   "cell_type": "code",
   "execution_count": 52,
   "id": "d83fa7b3-cfb1-4586-84ec-e7dbb854accd",
   "metadata": {},
   "outputs": [
    {
     "data": {
      "text/plain": [
       "(12190.131, 52713.533]       15\n",
       "(52713.533, 92638.067]      109\n",
       "(92638.067, 132562.6]       443\n",
       "(132562.6, 172487.133]      567\n",
       "(172487.133, 212411.667]    383\n",
       "(212411.667, 252336.2]      215\n",
       "(252336.2, 292260.733]      130\n",
       "(292260.733, 332185.267]     75\n",
       "(332185.267, 372109.8]       40\n",
       "(372109.8, 412034.333]       28\n",
       "(412034.333, 451958.867]     18\n",
       "(451958.867, 491883.4]        9\n",
       "(491883.4, 531807.933]        3\n",
       "(531807.933, 571732.467]      6\n",
       "(571732.467, 611657.0]        3\n",
       "Name: saleprice, dtype: int64"
      ]
     },
     "execution_count": 52,
     "metadata": {},
     "output_type": "execute_result"
    }
   ],
   "source": [
    "house['saleprice'].value_counts(bins = 15).sort_index()"
   ]
  },
  {
   "cell_type": "markdown",
   "id": "3c9e13c0-55da-43d6-a80a-4dbfe2183c48",
   "metadata": {},
   "source": [
    "Nothing in the above boxplot really suggests we need to remove any data due to their sale price. Let us move on."
   ]
  },
  {
   "cell_type": "markdown",
   "id": "0b0a6074-c5a9-46d5-92b5-ec876ca8c311",
   "metadata": {},
   "source": [
    "#### Weighted Basement Square Feet"
   ]
  },
  {
   "cell_type": "code",
   "execution_count": 54,
   "id": "8b2e647f-faad-47d7-80aa-b61ec90b0ea4",
   "metadata": {},
   "outputs": [
    {
     "data": {
      "image/png": "[encoded data removed]",
      "text/plain": [
       "<Figure size 432x288 with 1 Axes>"
      ]
     },
     "metadata": {
      "needs_background": "light"
     },
     "output_type": "display_data"
    }
   ],
   "source": [
    "house['bsmt_weighted_sf'].plot.hist();"
   ]
  },
  {
   "cell_type": "code",
   "execution_count": 56,
   "id": "e0e65f06-20b4-436a-b039-3b1f42a82945",
   "metadata": {},
   "outputs": [
    {
     "data": {
      "text/plain": [
       "(347.85, 463.8]      292\n",
       "(579.75, 695.7]      261\n",
       "(695.7, 811.65]      260\n",
       "(463.8, 579.75]      244\n",
       "(811.65, 927.6]      231\n",
       "(231.9, 347.85]      154\n",
       "(927.6, 1043.55]     125\n",
       "(1043.55, 1159.5]    104\n",
       "(1159.5, 1275.45]     72\n",
       "(-2.32, 115.95]       68\n",
       "(1275.45, 1391.4]     54\n",
       "(115.95, 231.9]       49\n",
       "(1391.4, 1507.35]     48\n",
       "(1507.35, 1623.3]     35\n",
       "(1623.3, 1739.25]     21\n",
       "(1739.25, 1855.2]      7\n",
       "(1855.2, 1971.15]      7\n",
       "(2203.05, 2319.0]      5\n",
       "(1971.15, 2087.1]      4\n",
       "(2087.1, 2203.05]      3\n",
       "Name: bsmt_weighted_sf, dtype: int64"
      ]
     },
     "execution_count": 56,
     "metadata": {},
     "output_type": "execute_result"
    }
   ],
   "source": [
    "house['bsmt_weighted_sf'].value_counts(bins = 20)"
   ]
  },
  {
   "cell_type": "markdown",
   "id": "53f895bd-3469-48c5-a359-f72b5d1f3bf8",
   "metadata": {},
   "source": [
    "The weighted basement size column also appears fine as is."
   ]
  },
  {
   "cell_type": "markdown",
   "id": "d3a5023f-4c5b-4b2d-91ee-f22a4deaf3f9",
   "metadata": {},
   "source": [
    "#### Year Built"
   ]
  },
  {
   "cell_type": "code",
   "execution_count": 57,
   "id": "ca35ba08-c625-4506-83db-60e4bfcab404",
   "metadata": {},
   "outputs": [
    {
     "data": {
      "image/png": "[encoded data removed]",
      "text/plain": [
       "<Figure size 432x288 with 1 Axes>"
      ]
     },
     "metadata": {
      "needs_background": "light"
     },
     "output_type": "display_data"
    }
   ],
   "source": [
    "house['year_built'].plot.hist(bins = 10);"
   ]
  },
  {
   "cell_type": "code",
   "execution_count": 58,
   "id": "9350b0b6-82f8-4311-8cf4-b4a8a5c189c9",
   "metadata": {},
   "outputs": [
    {
     "data": {
      "text/plain": [
       "(1871.861, 1885.8]      7\n",
       "(1885.8, 1899.6]       12\n",
       "(1899.6, 1913.4]       56\n",
       "(1913.4, 1927.2]      162\n",
       "(1927.2, 1941.0]      139\n",
       "(1941.0, 1954.8]      165\n",
       "(1954.8, 1968.6]      369\n",
       "(1968.6, 1982.4]      285\n",
       "(1982.4, 1996.2]      197\n",
       "(1996.2, 2010.0]      652\n",
       "Name: year_built, dtype: int64"
      ]
     },
     "execution_count": 58,
     "metadata": {},
     "output_type": "execute_result"
    }
   ],
   "source": [
    "house['year_built'].value_counts(bins = 10).sort_index()"
   ]
  },
  {
   "cell_type": "markdown",
   "id": "a0953c93-9b10-40e7-9f3a-57791a0ca7cd",
   "metadata": {},
   "source": [
    "It does not seem necessary to drop homes built especially long ago. These homes to not appear to have extraordinary sale prices."
   ]
  },
  {
   "cell_type": "code",
   "execution_count": 59,
   "id": "91b31bea-4dcc-443a-8485-cd4181921fbd",
   "metadata": {},
   "outputs": [
    {
     "data": {
      "text/html": [
       "<div>\n",
       "<style scoped>\n",
       "    .dataframe tbody tr th:only-of-type {\n",
       "        vertical-align: middle;\n",
       "    }\n",
       "\n",
       "    .dataframe tbody tr th {\n",
       "        vertical-align: top;\n",
       "    }\n",
       "\n",
       "    .dataframe thead th {\n",
       "        text-align: right;\n",
       "    }\n",
       "</style>\n",
       "<table border=\"1\" class=\"dataframe\">\n",
       "  <thead>\n",
       "    <tr style=\"text-align: right;\">\n",
       "      <th></th>\n",
       "      <th>year_built</th>\n",
       "      <th>saleprice</th>\n",
       "    </tr>\n",
       "  </thead>\n",
       "  <tbody>\n",
       "    <tr>\n",
       "      <th>951</th>\n",
       "      <td>1872</td>\n",
       "      <td>122000</td>\n",
       "    </tr>\n",
       "    <tr>\n",
       "      <th>136</th>\n",
       "      <td>1875</td>\n",
       "      <td>94000</td>\n",
       "    </tr>\n",
       "    <tr>\n",
       "      <th>1134</th>\n",
       "      <td>1879</td>\n",
       "      <td>185000</td>\n",
       "    </tr>\n",
       "    <tr>\n",
       "      <th>12</th>\n",
       "      <td>1880</td>\n",
       "      <td>131000</td>\n",
       "    </tr>\n",
       "    <tr>\n",
       "      <th>784</th>\n",
       "      <td>1880</td>\n",
       "      <td>117500</td>\n",
       "    </tr>\n",
       "    <tr>\n",
       "      <th>1939</th>\n",
       "      <td>1880</td>\n",
       "      <td>295000</td>\n",
       "    </tr>\n",
       "    <tr>\n",
       "      <th>394</th>\n",
       "      <td>1885</td>\n",
       "      <td>122500</td>\n",
       "    </tr>\n",
       "    <tr>\n",
       "      <th>501</th>\n",
       "      <td>1890</td>\n",
       "      <td>78500</td>\n",
       "    </tr>\n",
       "    <tr>\n",
       "      <th>175</th>\n",
       "      <td>1890</td>\n",
       "      <td>184000</td>\n",
       "    </tr>\n",
       "    <tr>\n",
       "      <th>1204</th>\n",
       "      <td>1890</td>\n",
       "      <td>95000</td>\n",
       "    </tr>\n",
       "    <tr>\n",
       "      <th>1318</th>\n",
       "      <td>1890</td>\n",
       "      <td>159500</td>\n",
       "    </tr>\n",
       "    <tr>\n",
       "      <th>918</th>\n",
       "      <td>1890</td>\n",
       "      <td>124900</td>\n",
       "    </tr>\n",
       "    <tr>\n",
       "      <th>1035</th>\n",
       "      <td>1892</td>\n",
       "      <td>475000</td>\n",
       "    </tr>\n",
       "    <tr>\n",
       "      <th>1141</th>\n",
       "      <td>1893</td>\n",
       "      <td>325000</td>\n",
       "    </tr>\n",
       "    <tr>\n",
       "      <th>457</th>\n",
       "      <td>1895</td>\n",
       "      <td>148000</td>\n",
       "    </tr>\n",
       "    <tr>\n",
       "      <th>1793</th>\n",
       "      <td>1895</td>\n",
       "      <td>89000</td>\n",
       "    </tr>\n",
       "    <tr>\n",
       "      <th>28</th>\n",
       "      <td>1895</td>\n",
       "      <td>119600</td>\n",
       "    </tr>\n",
       "    <tr>\n",
       "      <th>410</th>\n",
       "      <td>1896</td>\n",
       "      <td>50138</td>\n",
       "    </tr>\n",
       "    <tr>\n",
       "      <th>1359</th>\n",
       "      <td>1898</td>\n",
       "      <td>106000</td>\n",
       "    </tr>\n",
       "  </tbody>\n",
       "</table>\n",
       "</div>"
      ],
      "text/plain": [
       "      year_built  saleprice\n",
       "951         1872     122000\n",
       "136         1875      94000\n",
       "1134        1879     185000\n",
       "12          1880     131000\n",
       "784         1880     117500\n",
       "1939        1880     295000\n",
       "394         1885     122500\n",
       "501         1890      78500\n",
       "175         1890     184000\n",
       "1204        1890      95000\n",
       "1318        1890     159500\n",
       "918         1890     124900\n",
       "1035        1892     475000\n",
       "1141        1893     325000\n",
       "457         1895     148000\n",
       "1793        1895      89000\n",
       "28          1895     119600\n",
       "410         1896      50138\n",
       "1359        1898     106000"
      ]
     },
     "execution_count": 59,
     "metadata": {},
     "output_type": "execute_result"
    }
   ],
   "source": [
    "house.loc[house['year_built'] < 1900, ['year_built', 'saleprice']].sort_values(by = 'year_built')"
   ]
  },
  {
   "cell_type": "markdown",
   "id": "35fae200-af7c-41b7-bc08-64aefbc808ca",
   "metadata": {},
   "source": [
    "The sale price does not seem to have any outlandish values based on the year built. Below we see that these older homes typically have less value, though not by much, but this seems appropriate."
   ]
  },
  {
   "cell_type": "code",
   "execution_count": 39,
   "id": "6a088fa4-8093-49f6-887d-3e13e138ce38",
   "metadata": {},
   "outputs": [
    {
     "data": {
      "text/plain": [
       "160591.0"
      ]
     },
     "execution_count": 39,
     "metadata": {},
     "output_type": "execute_result"
    }
   ],
   "source": [
    "house.loc[house['year_built'] < 1900, 'saleprice'].mean()"
   ]
  },
  {
   "cell_type": "code",
   "execution_count": 236,
   "id": "e33bec4c-a15a-4356-b66e-0b8abcdac398",
   "metadata": {},
   "outputs": [
    {
     "data": {
      "text/plain": [
       "181364.25475841874"
      ]
     },
     "execution_count": 236,
     "metadata": {},
     "output_type": "execute_result"
    }
   ],
   "source": [
    "house['saleprice'].mean()"
   ]
  },
  {
   "cell_type": "markdown",
   "id": "50c0f8e9-3a89-49b4-88f5-da85d45f2d07",
   "metadata": {},
   "source": [
    "#### Bedroom Count"
   ]
  },
  {
   "cell_type": "code",
   "execution_count": 49,
   "id": "edd9d956-4d9e-445f-9458-168ead750eeb",
   "metadata": {},
   "outputs": [
    {
     "data": {
      "text/plain": [
       "0       4\n",
       "1      75\n",
       "2     542\n",
       "3    1106\n",
       "4     263\n",
       "5      41\n",
       "6      12\n",
       "8       1\n",
       "Name: bedroom_abvgr, dtype: int64"
      ]
     },
     "execution_count": 49,
     "metadata": {},
     "output_type": "execute_result"
    }
   ],
   "source": [
    "house['bedroom_abvgr'].value_counts().sort_index()"
   ]
  },
  {
   "cell_type": "markdown",
   "id": "1864151d-c011-4c41-9e10-0964eb538ffc",
   "metadata": {
    "tags": []
   },
   "source": [
    "--- \n",
    "\n",
    "## Determining Which Numeric Features to Use"
   ]
  },
  {
   "cell_type": "markdown",
   "id": "fe068acb-758c-472e-a754-c46a46a076b6",
   "metadata": {},
   "source": [
    "Let us begin by determining which numeric values are most relevant to `saleprice` and are not very correlated to one another."
   ]
  },
  {
   "cell_type": "code",
   "execution_count": 57,
   "id": "6805d25a-237f-4232-bf87-e66e0e1278cb",
   "metadata": {},
   "outputs": [
    {
     "data": {
      "text/html": [
       "<div>\n",
       "<style scoped>\n",
       "    .dataframe tbody tr th:only-of-type {\n",
       "        vertical-align: middle;\n",
       "    }\n",
       "\n",
       "    .dataframe tbody tr th {\n",
       "        vertical-align: top;\n",
       "    }\n",
       "\n",
       "    .dataframe thead th {\n",
       "        text-align: right;\n",
       "    }\n",
       "</style>\n",
       "<table border=\"1\" class=\"dataframe\">\n",
       "  <thead>\n",
       "    <tr style=\"text-align: right;\">\n",
       "      <th></th>\n",
       "      <th>ms_zoning</th>\n",
       "      <th>lot_area</th>\n",
       "      <th>land_contour</th>\n",
       "      <th>land_slope</th>\n",
       "      <th>neighborhood</th>\n",
       "      <th>condition_1</th>\n",
       "      <th>bldg_type</th>\n",
       "      <th>house_style</th>\n",
       "      <th>year_built</th>\n",
       "      <th>year_remod_add</th>\n",
       "      <th>...</th>\n",
       "      <th>bedroom_abvgr</th>\n",
       "      <th>sale_type</th>\n",
       "      <th>saleprice</th>\n",
       "      <th>bsmt_qual_cond</th>\n",
       "      <th>fireplaces_weighted</th>\n",
       "      <th>bsmt_weighted_sf</th>\n",
       "      <th>qual_cond</th>\n",
       "      <th>exter_qual_cond</th>\n",
       "      <th>bath</th>\n",
       "      <th>sq_ft</th>\n",
       "    </tr>\n",
       "  </thead>\n",
       "  <tbody>\n",
       "    <tr>\n",
       "      <th>0</th>\n",
       "      <td>RL</td>\n",
       "      <td>13517</td>\n",
       "      <td>Lvl</td>\n",
       "      <td>Gtl</td>\n",
       "      <td>Sawyer</td>\n",
       "      <td>RRAe</td>\n",
       "      <td>1Fam</td>\n",
       "      <td>2Story</td>\n",
       "      <td>1976</td>\n",
       "      <td>2005</td>\n",
       "      <td>...</td>\n",
       "      <td>3</td>\n",
       "      <td>WD</td>\n",
       "      <td>130500</td>\n",
       "      <td>9</td>\n",
       "      <td>0</td>\n",
       "      <td>629.0</td>\n",
       "      <td>48</td>\n",
       "      <td>12</td>\n",
       "      <td>2.5</td>\n",
       "      <td>1479</td>\n",
       "    </tr>\n",
       "    <tr>\n",
       "      <th>1</th>\n",
       "      <td>RL</td>\n",
       "      <td>11492</td>\n",
       "      <td>Lvl</td>\n",
       "      <td>Gtl</td>\n",
       "      <td>SawyerW</td>\n",
       "      <td>Norm</td>\n",
       "      <td>1Fam</td>\n",
       "      <td>2Story</td>\n",
       "      <td>1996</td>\n",
       "      <td>1997</td>\n",
       "      <td>...</td>\n",
       "      <td>4</td>\n",
       "      <td>WD</td>\n",
       "      <td>220000</td>\n",
       "      <td>12</td>\n",
       "      <td>3</td>\n",
       "      <td>775.0</td>\n",
       "      <td>35</td>\n",
       "      <td>12</td>\n",
       "      <td>2.5</td>\n",
       "      <td>2122</td>\n",
       "    </tr>\n",
       "    <tr>\n",
       "      <th>2</th>\n",
       "      <td>RL</td>\n",
       "      <td>7922</td>\n",
       "      <td>Lvl</td>\n",
       "      <td>Gtl</td>\n",
       "      <td>NAmes</td>\n",
       "      <td>Norm</td>\n",
       "      <td>1Fam</td>\n",
       "      <td>1Story</td>\n",
       "      <td>1953</td>\n",
       "      <td>2007</td>\n",
       "      <td>...</td>\n",
       "      <td>3</td>\n",
       "      <td>WD</td>\n",
       "      <td>109000</td>\n",
       "      <td>9</td>\n",
       "      <td>0</td>\n",
       "      <td>894.0</td>\n",
       "      <td>35</td>\n",
       "      <td>12</td>\n",
       "      <td>1.0</td>\n",
       "      <td>1057</td>\n",
       "    </tr>\n",
       "    <tr>\n",
       "      <th>3</th>\n",
       "      <td>RL</td>\n",
       "      <td>9802</td>\n",
       "      <td>Lvl</td>\n",
       "      <td>Gtl</td>\n",
       "      <td>Timber</td>\n",
       "      <td>Norm</td>\n",
       "      <td>1Fam</td>\n",
       "      <td>2Story</td>\n",
       "      <td>2006</td>\n",
       "      <td>2007</td>\n",
       "      <td>...</td>\n",
       "      <td>3</td>\n",
       "      <td>WD</td>\n",
       "      <td>174000</td>\n",
       "      <td>12</td>\n",
       "      <td>0</td>\n",
       "      <td>192.0</td>\n",
       "      <td>25</td>\n",
       "      <td>9</td>\n",
       "      <td>2.5</td>\n",
       "      <td>1444</td>\n",
       "    </tr>\n",
       "    <tr>\n",
       "      <th>4</th>\n",
       "      <td>RL</td>\n",
       "      <td>14235</td>\n",
       "      <td>Lvl</td>\n",
       "      <td>Gtl</td>\n",
       "      <td>SawyerW</td>\n",
       "      <td>Norm</td>\n",
       "      <td>1Fam</td>\n",
       "      <td>1.5Fin</td>\n",
       "      <td>1900</td>\n",
       "      <td>1993</td>\n",
       "      <td>...</td>\n",
       "      <td>3</td>\n",
       "      <td>WD</td>\n",
       "      <td>138500</td>\n",
       "      <td>8</td>\n",
       "      <td>0</td>\n",
       "      <td>338.0</td>\n",
       "      <td>48</td>\n",
       "      <td>9</td>\n",
       "      <td>2.0</td>\n",
       "      <td>1445</td>\n",
       "    </tr>\n",
       "    <tr>\n",
       "      <th>...</th>\n",
       "      <td>...</td>\n",
       "      <td>...</td>\n",
       "      <td>...</td>\n",
       "      <td>...</td>\n",
       "      <td>...</td>\n",
       "      <td>...</td>\n",
       "      <td>...</td>\n",
       "      <td>...</td>\n",
       "      <td>...</td>\n",
       "      <td>...</td>\n",
       "      <td>...</td>\n",
       "      <td>...</td>\n",
       "      <td>...</td>\n",
       "      <td>...</td>\n",
       "      <td>...</td>\n",
       "      <td>...</td>\n",
       "      <td>...</td>\n",
       "      <td>...</td>\n",
       "      <td>...</td>\n",
       "      <td>...</td>\n",
       "      <td>...</td>\n",
       "    </tr>\n",
       "    <tr>\n",
       "      <th>2046</th>\n",
       "      <td>RL</td>\n",
       "      <td>11449</td>\n",
       "      <td>HLS</td>\n",
       "      <td>Gtl</td>\n",
       "      <td>Timber</td>\n",
       "      <td>Norm</td>\n",
       "      <td>1Fam</td>\n",
       "      <td>1Story</td>\n",
       "      <td>2007</td>\n",
       "      <td>2007</td>\n",
       "      <td>...</td>\n",
       "      <td>3</td>\n",
       "      <td>WD</td>\n",
       "      <td>298751</td>\n",
       "      <td>12</td>\n",
       "      <td>4</td>\n",
       "      <td>1447.5</td>\n",
       "      <td>40</td>\n",
       "      <td>12</td>\n",
       "      <td>2.0</td>\n",
       "      <td>1728</td>\n",
       "    </tr>\n",
       "    <tr>\n",
       "      <th>2047</th>\n",
       "      <td>RL</td>\n",
       "      <td>12342</td>\n",
       "      <td>Lvl</td>\n",
       "      <td>Gtl</td>\n",
       "      <td>Edwards</td>\n",
       "      <td>Norm</td>\n",
       "      <td>1Fam</td>\n",
       "      <td>1Story</td>\n",
       "      <td>1940</td>\n",
       "      <td>1950</td>\n",
       "      <td>...</td>\n",
       "      <td>1</td>\n",
       "      <td>WD</td>\n",
       "      <td>82500</td>\n",
       "      <td>9</td>\n",
       "      <td>0</td>\n",
       "      <td>561.5</td>\n",
       "      <td>20</td>\n",
       "      <td>9</td>\n",
       "      <td>1.0</td>\n",
       "      <td>861</td>\n",
       "    </tr>\n",
       "    <tr>\n",
       "      <th>2048</th>\n",
       "      <td>RL</td>\n",
       "      <td>7558</td>\n",
       "      <td>Bnk</td>\n",
       "      <td>Gtl</td>\n",
       "      <td>Crawfor</td>\n",
       "      <td>Norm</td>\n",
       "      <td>1Fam</td>\n",
       "      <td>1.5Fin</td>\n",
       "      <td>1928</td>\n",
       "      <td>1950</td>\n",
       "      <td>...</td>\n",
       "      <td>3</td>\n",
       "      <td>WD</td>\n",
       "      <td>177000</td>\n",
       "      <td>9</td>\n",
       "      <td>3</td>\n",
       "      <td>448.0</td>\n",
       "      <td>36</td>\n",
       "      <td>9</td>\n",
       "      <td>1.5</td>\n",
       "      <td>1913</td>\n",
       "    </tr>\n",
       "    <tr>\n",
       "      <th>2049</th>\n",
       "      <td>RL</td>\n",
       "      <td>10400</td>\n",
       "      <td>Lvl</td>\n",
       "      <td>Gtl</td>\n",
       "      <td>NAmes</td>\n",
       "      <td>Norm</td>\n",
       "      <td>1Fam</td>\n",
       "      <td>1Story</td>\n",
       "      <td>1956</td>\n",
       "      <td>1956</td>\n",
       "      <td>...</td>\n",
       "      <td>3</td>\n",
       "      <td>WD</td>\n",
       "      <td>144000</td>\n",
       "      <td>9</td>\n",
       "      <td>8</td>\n",
       "      <td>302.5</td>\n",
       "      <td>20</td>\n",
       "      <td>9</td>\n",
       "      <td>1.0</td>\n",
       "      <td>1200</td>\n",
       "    </tr>\n",
       "    <tr>\n",
       "      <th>2050</th>\n",
       "      <td>RL</td>\n",
       "      <td>7500</td>\n",
       "      <td>Lvl</td>\n",
       "      <td>Gtl</td>\n",
       "      <td>Gilbert</td>\n",
       "      <td>Norm</td>\n",
       "      <td>1Fam</td>\n",
       "      <td>2Story</td>\n",
       "      <td>1999</td>\n",
       "      <td>1999</td>\n",
       "      <td>...</td>\n",
       "      <td>3</td>\n",
       "      <td>WD</td>\n",
       "      <td>189000</td>\n",
       "      <td>9</td>\n",
       "      <td>3</td>\n",
       "      <td>497.0</td>\n",
       "      <td>35</td>\n",
       "      <td>9</td>\n",
       "      <td>2.5</td>\n",
       "      <td>1804</td>\n",
       "    </tr>\n",
       "  </tbody>\n",
       "</table>\n",
       "<p>2002 rows × 25 columns</p>\n",
       "</div>"
      ],
      "text/plain": [
       "     ms_zoning  lot_area land_contour land_slope neighborhood condition_1  \\\n",
       "0           RL     13517          Lvl        Gtl       Sawyer        RRAe   \n",
       "1           RL     11492          Lvl        Gtl      SawyerW        Norm   \n",
       "2           RL      7922          Lvl        Gtl        NAmes        Norm   \n",
       "3           RL      9802          Lvl        Gtl       Timber        Norm   \n",
       "4           RL     14235          Lvl        Gtl      SawyerW        Norm   \n",
       "...        ...       ...          ...        ...          ...         ...   \n",
       "2046        RL     11449          HLS        Gtl       Timber        Norm   \n",
       "2047        RL     12342          Lvl        Gtl      Edwards        Norm   \n",
       "2048        RL      7558          Bnk        Gtl      Crawfor        Norm   \n",
       "2049        RL     10400          Lvl        Gtl        NAmes        Norm   \n",
       "2050        RL      7500          Lvl        Gtl      Gilbert        Norm   \n",
       "\n",
       "     bldg_type house_style  year_built  year_remod_add  ... bedroom_abvgr  \\\n",
       "0         1Fam      2Story        1976            2005  ...             3   \n",
       "1         1Fam      2Story        1996            1997  ...             4   \n",
       "2         1Fam      1Story        1953            2007  ...             3   \n",
       "3         1Fam      2Story        2006            2007  ...             3   \n",
       "4         1Fam      1.5Fin        1900            1993  ...             3   \n",
       "...        ...         ...         ...             ...  ...           ...   \n",
       "2046      1Fam      1Story        2007            2007  ...             3   \n",
       "2047      1Fam      1Story        1940            1950  ...             1   \n",
       "2048      1Fam      1.5Fin        1928            1950  ...             3   \n",
       "2049      1Fam      1Story        1956            1956  ...             3   \n",
       "2050      1Fam      2Story        1999            1999  ...             3   \n",
       "\n",
       "      sale_type  saleprice  bsmt_qual_cond  fireplaces_weighted  \\\n",
       "0           WD      130500               9                    0   \n",
       "1           WD      220000              12                    3   \n",
       "2           WD      109000               9                    0   \n",
       "3           WD      174000              12                    0   \n",
       "4           WD      138500               8                    0   \n",
       "...         ...        ...             ...                  ...   \n",
       "2046        WD      298751              12                    4   \n",
       "2047        WD       82500               9                    0   \n",
       "2048        WD      177000               9                    3   \n",
       "2049        WD      144000               9                    8   \n",
       "2050        WD      189000               9                    3   \n",
       "\n",
       "      bsmt_weighted_sf qual_cond  exter_qual_cond  bath  sq_ft  \n",
       "0                629.0        48               12   2.5   1479  \n",
       "1                775.0        35               12   2.5   2122  \n",
       "2                894.0        35               12   1.0   1057  \n",
       "3                192.0        25                9   2.5   1444  \n",
       "4                338.0        48                9   2.0   1445  \n",
       "...                ...       ...              ...   ...    ...  \n",
       "2046            1447.5        40               12   2.0   1728  \n",
       "2047             561.5        20                9   1.0    861  \n",
       "2048             448.0        36                9   1.5   1913  \n",
       "2049             302.5        20                9   1.0   1200  \n",
       "2050             497.0        35                9   2.5   1804  \n",
       "\n",
       "[2002 rows x 25 columns]"
      ]
     },
     "execution_count": 57,
     "metadata": {},
     "output_type": "execute_result"
    }
   ],
   "source": [
    "house"
   ]
  },
  {
   "cell_type": "code",
   "execution_count": 58,
   "id": "ef69092f-b05f-44e3-8fc0-fa1ef03f9c36",
   "metadata": {},
   "outputs": [
    {
     "data": {
      "image/png": "[encoded data removed]",
      "text/plain": [
       "<Figure size 216x720 with 2 Axes>"
      ]
     },
     "metadata": {
      "needs_background": "light"
     },
     "output_type": "display_data"
    }
   ],
   "source": [
    "plt.figure(figsize = (3,10))\n",
    "sns.heatmap(house.corr()[['saleprice']], cmap = 'RdYlGn', annot = True);"
   ]
  },
  {
   "cell_type": "markdown",
   "id": "a1901d8a-9270-4041-bea7-6219710de7fc",
   "metadata": {},
   "source": [
    "Out of the numeric features we have selected/created, three stand out as correlated to `saleprice`: `sq_ft`, `kitchen_qual`, and `garage_area`. It would be nice if we could use all of these features in our model, unfortunately, their variance inflation factors are quite large."
   ]
  },
  {
   "cell_type": "code",
   "execution_count": 59,
   "id": "0bc6bd2f-ac9f-4f65-8589-d921f19c4c19",
   "metadata": {},
   "outputs": [
    {
     "data": {
      "text/html": [
       "<div>\n",
       "<style scoped>\n",
       "    .dataframe tbody tr th:only-of-type {\n",
       "        vertical-align: middle;\n",
       "    }\n",
       "\n",
       "    .dataframe tbody tr th {\n",
       "        vertical-align: top;\n",
       "    }\n",
       "\n",
       "    .dataframe thead th {\n",
       "        text-align: right;\n",
       "    }\n",
       "</style>\n",
       "<table border=\"1\" class=\"dataframe\">\n",
       "  <thead>\n",
       "    <tr style=\"text-align: right;\">\n",
       "      <th></th>\n",
       "      <th>vif</th>\n",
       "    </tr>\n",
       "  </thead>\n",
       "  <tbody>\n",
       "    <tr>\n",
       "      <th>kitchen_qual</th>\n",
       "      <td>15.746913</td>\n",
       "    </tr>\n",
       "    <tr>\n",
       "      <th>sq_ft</th>\n",
       "      <td>14.933578</td>\n",
       "    </tr>\n",
       "    <tr>\n",
       "      <th>garage_area</th>\n",
       "      <td>8.486028</td>\n",
       "    </tr>\n",
       "  </tbody>\n",
       "</table>\n",
       "</div>"
      ],
      "text/plain": [
       "                    vif\n",
       "kitchen_qual  15.746913\n",
       "sq_ft         14.933578\n",
       "garage_area    8.486028"
      ]
     },
     "execution_count": 59,
     "metadata": {},
     "output_type": "execute_result"
    }
   ],
   "source": [
    "vif_df(house[['sq_ft', 'kitchen_qual', 'garage_area']])"
   ]
  },
  {
   "cell_type": "code",
   "execution_count": 60,
   "id": "68687575-de38-48d1-8628-f5b57c05bc44",
   "metadata": {},
   "outputs": [
    {
     "data": {
      "text/html": [
       "<div>\n",
       "<style scoped>\n",
       "    .dataframe tbody tr th:only-of-type {\n",
       "        vertical-align: middle;\n",
       "    }\n",
       "\n",
       "    .dataframe tbody tr th {\n",
       "        vertical-align: top;\n",
       "    }\n",
       "\n",
       "    .dataframe thead th {\n",
       "        text-align: right;\n",
       "    }\n",
       "</style>\n",
       "<table border=\"1\" class=\"dataframe\">\n",
       "  <thead>\n",
       "    <tr style=\"text-align: right;\">\n",
       "      <th></th>\n",
       "      <th>vif</th>\n",
       "    </tr>\n",
       "  </thead>\n",
       "  <tbody>\n",
       "    <tr>\n",
       "      <th>sq_ft</th>\n",
       "      <td>13.41123</td>\n",
       "    </tr>\n",
       "    <tr>\n",
       "      <th>kitchen_qual</th>\n",
       "      <td>13.41123</td>\n",
       "    </tr>\n",
       "  </tbody>\n",
       "</table>\n",
       "</div>"
      ],
      "text/plain": [
       "                   vif\n",
       "sq_ft         13.41123\n",
       "kitchen_qual  13.41123"
      ]
     },
     "execution_count": 60,
     "metadata": {},
     "output_type": "execute_result"
    }
   ],
   "source": [
    "vif_df(house[['sq_ft', 'kitchen_qual']])"
   ]
  },
  {
   "cell_type": "code",
   "execution_count": 61,
   "id": "65bf8749-d1ca-4510-a842-ac91b2b4929e",
   "metadata": {},
   "outputs": [
    {
     "data": {
      "text/html": [
       "<div>\n",
       "<style scoped>\n",
       "    .dataframe tbody tr th:only-of-type {\n",
       "        vertical-align: middle;\n",
       "    }\n",
       "\n",
       "    .dataframe tbody tr th {\n",
       "        vertical-align: top;\n",
       "    }\n",
       "\n",
       "    .dataframe thead th {\n",
       "        text-align: right;\n",
       "    }\n",
       "</style>\n",
       "<table border=\"1\" class=\"dataframe\">\n",
       "  <thead>\n",
       "    <tr style=\"text-align: right;\">\n",
       "      <th></th>\n",
       "      <th>vif</th>\n",
       "    </tr>\n",
       "  </thead>\n",
       "  <tbody>\n",
       "    <tr>\n",
       "      <th>garage_area</th>\n",
       "      <td>7.227326</td>\n",
       "    </tr>\n",
       "    <tr>\n",
       "      <th>sq_ft</th>\n",
       "      <td>7.227326</td>\n",
       "    </tr>\n",
       "  </tbody>\n",
       "</table>\n",
       "</div>"
      ],
      "text/plain": [
       "                  vif\n",
       "garage_area  7.227326\n",
       "sq_ft        7.227326"
      ]
     },
     "execution_count": 61,
     "metadata": {},
     "output_type": "execute_result"
    }
   ],
   "source": [
    "vif_df(house[['sq_ft', 'garage_area']])"
   ]
  },
  {
   "cell_type": "code",
   "execution_count": 62,
   "id": "28ac1960-59cf-435e-8a8d-25bc8bba5fd5",
   "metadata": {},
   "outputs": [
    {
     "data": {
      "text/html": [
       "<div>\n",
       "<style scoped>\n",
       "    .dataframe tbody tr th:only-of-type {\n",
       "        vertical-align: middle;\n",
       "    }\n",
       "\n",
       "    .dataframe tbody tr th {\n",
       "        vertical-align: top;\n",
       "    }\n",
       "\n",
       "    .dataframe thead th {\n",
       "        text-align: right;\n",
       "    }\n",
       "</style>\n",
       "<table border=\"1\" class=\"dataframe\">\n",
       "  <thead>\n",
       "    <tr style=\"text-align: right;\">\n",
       "      <th></th>\n",
       "      <th>vif</th>\n",
       "    </tr>\n",
       "  </thead>\n",
       "  <tbody>\n",
       "    <tr>\n",
       "      <th>kitchen_qual</th>\n",
       "      <td>7.620952</td>\n",
       "    </tr>\n",
       "    <tr>\n",
       "      <th>garage_area</th>\n",
       "      <td>7.620952</td>\n",
       "    </tr>\n",
       "  </tbody>\n",
       "</table>\n",
       "</div>"
      ],
      "text/plain": [
       "                   vif\n",
       "kitchen_qual  7.620952\n",
       "garage_area   7.620952"
      ]
     },
     "execution_count": 62,
     "metadata": {},
     "output_type": "execute_result"
    }
   ],
   "source": [
    "vif_df(house[['kitchen_qual', 'garage_area']])"
   ]
  },
  {
   "cell_type": "markdown",
   "id": "a46b90ba-372e-4d88-be77-4fc8950ef3b5",
   "metadata": {},
   "source": [
    "Because each possible pair of the three features produce large VIF scores, we can only use one of these features. Let us use `sq_ft` since it has the highest correlation with `saleprice`."
   ]
  },
  {
   "cell_type": "code",
   "execution_count": 63,
   "id": "311833e3-132d-4ce0-9923-201b7e920e59",
   "metadata": {},
   "outputs": [],
   "source": [
    "numeric_cols = house.select_dtypes(include = 'number').columns"
   ]
  },
  {
   "cell_type": "code",
   "execution_count": 64,
   "id": "7fdb71c4-a084-48c9-ac46-c8838af21cd1",
   "metadata": {},
   "outputs": [
    {
     "name": "stdout",
     "output_type": "stream",
     "text": [
      "               vif\n",
      "sq_ft     7.699412\n",
      "lot_area  7.699412\n",
      "                  vif\n",
      "sq_ft       11.380339\n",
      "year_built  11.380339\n",
      "                      vif\n",
      "sq_ft           11.323346\n",
      "year_remod_add  11.323346\n",
      "                 vif\n",
      "sq_ft         1.6834\n",
      "wood_deck_sf  1.6834\n",
      "                    vif\n",
      "sq_ft          1.723933\n",
      "open_porch_sf  1.723933\n",
      "                   vif\n",
      "sq_ft         13.41123\n",
      "kitchen_qual  13.41123\n",
      "                     vif\n",
      "sq_ft          12.668996\n",
      "bedroom_abvgr  12.668996\n",
      "                 vif\n",
      "sq_ft      14.210332\n",
      "saleprice  14.210332\n",
      "                     vif\n",
      "sq_ft           9.442448\n",
      "bsmt_qual_cond  9.442448\n",
      "                          vif\n",
      "fireplaces_weighted  2.193622\n",
      "sq_ft                2.193622\n",
      "                       vif\n",
      "sq_ft             4.870735\n",
      "bsmt_weighted_sf  4.870735\n",
      "                 vif\n",
      "sq_ft      10.518976\n",
      "qual_cond  10.518976\n",
      "                       vif\n",
      "sq_ft            11.739249\n",
      "exter_qual_cond  11.739249\n",
      "             vif\n",
      "sq_ft  17.198704\n",
      "bath   17.198704\n"
     ]
    }
   ],
   "source": [
    "for col in numeric_cols:\n",
    "    if col not in ['sq_ft', 'kitche_qual', 'garage_area']:\n",
    "        print(vif_df(house[['sq_ft', col]]))"
   ]
  },
  {
   "cell_type": "markdown",
   "id": "12632326-554e-4e67-b311-e71395c4ca15",
   "metadata": {},
   "source": [
    "The only features which produce VIFs below 5 when paired with `sq_ft` are:\n",
    "- `wood_deck_sf`\n",
    "- `open_porch_sf`\n",
    "- `fireplaces_weighted`\n",
    "- `bsmt_weighted_sf`\n",
    "\n",
    "Although wood decks and open porches surely add value to properties, I highly doubt they are the strongest indicators for home price. Moreover, many homes simply do not have these (47.5% own a wood deck and 55.3% own an open porch). **These may be worth including in a Lasso or Ridge regression**."
   ]
  },
  {
   "cell_type": "code",
   "execution_count": 65,
   "id": "53eaa186-6195-465c-b1fa-94cb079c4097",
   "metadata": {},
   "outputs": [
    {
     "name": "stdout",
     "output_type": "stream",
     "text": [
      "0.474025974025974\n",
      "0.5529470529470529\n"
     ]
    }
   ],
   "source": [
    "print( (house['wood_deck_sf'] != 0).sum()/len(house) )\n",
    "print( (house['open_porch_sf'] != 0).sum()/len(house) )"
   ]
  },
  {
   "cell_type": "markdown",
   "id": "480e86cb-8143-4ae4-9fe4-0702b617aa17",
   "metadata": {},
   "source": [
    "Of the two left, `bsmt_weighted_sf` has a stronger correlation to `saleprice`. It produces a little higher VIF than I would like to have since I am still looking to add more columns, but our primary goal is prediction instead of inference, so slightly high VIF is not too problematic."
   ]
  },
  {
   "cell_type": "code",
   "execution_count": 66,
   "id": "d2fbb23c-5997-46f6-af91-add4314f97f2",
   "metadata": {},
   "outputs": [
    {
     "data": {
      "text/html": [
       "<div>\n",
       "<style scoped>\n",
       "    .dataframe tbody tr th:only-of-type {\n",
       "        vertical-align: middle;\n",
       "    }\n",
       "\n",
       "    .dataframe tbody tr th {\n",
       "        vertical-align: top;\n",
       "    }\n",
       "\n",
       "    .dataframe thead th {\n",
       "        text-align: right;\n",
       "    }\n",
       "</style>\n",
       "<table border=\"1\" class=\"dataframe\">\n",
       "  <thead>\n",
       "    <tr style=\"text-align: right;\">\n",
       "      <th></th>\n",
       "      <th>vif</th>\n",
       "    </tr>\n",
       "  </thead>\n",
       "  <tbody>\n",
       "    <tr>\n",
       "      <th>sq_ft</th>\n",
       "      <td>5.522034</td>\n",
       "    </tr>\n",
       "    <tr>\n",
       "      <th>bsmt_weighted_sf</th>\n",
       "      <td>4.982449</td>\n",
       "    </tr>\n",
       "    <tr>\n",
       "      <th>fireplaces_weighted</th>\n",
       "      <td>2.243934</td>\n",
       "    </tr>\n",
       "  </tbody>\n",
       "</table>\n",
       "</div>"
      ],
      "text/plain": [
       "                          vif\n",
       "sq_ft                5.522034\n",
       "bsmt_weighted_sf     4.982449\n",
       "fireplaces_weighted  2.243934"
      ]
     },
     "execution_count": 66,
     "metadata": {},
     "output_type": "execute_result"
    }
   ],
   "source": [
    "# may even be worth including all 3\n",
    "vif_df(house[['sq_ft', 'bsmt_weighted_sf', 'fireplaces_weighted']])"
   ]
  },
  {
   "cell_type": "code",
   "execution_count": 67,
   "id": "c29f6786-32d3-4dcd-9a8f-20fb825643aa",
   "metadata": {},
   "outputs": [],
   "source": [
    "numeric_features = ['sq_ft', 'bsmt_weighted_sf']"
   ]
  },
  {
   "cell_type": "code",
   "execution_count": 68,
   "id": "2bf840ea-a551-4c47-b69e-94432d1c82b2",
   "metadata": {},
   "outputs": [],
   "source": [
    "### revise below"
   ]
  },
  {
   "cell_type": "code",
   "execution_count": 69,
   "id": "f720a3cd-ae10-4f21-be67-05497420598c",
   "metadata": {},
   "outputs": [],
   "source": [
    "# seems early to define x\n",
    "\n",
    "# learned about method from https://stackoverflow.com/questions/25039626/how-do-i-find-numeric-columns-in-pandas\n",
    "#X = house.select_dtypes(include = ['int64', 'float64']).copy()\n",
    "#y = house['saleprice']"
   ]
  },
  {
   "cell_type": "code",
   "execution_count": 70,
   "id": "ed71ad77-e530-4559-8617-d41e49565649",
   "metadata": {},
   "outputs": [],
   "source": [
    "#X.drop(columns = ['kitchen_qual', 'garage_area', 'saleprice'], inplace = True)"
   ]
  },
  {
   "cell_type": "code",
   "execution_count": 71,
   "id": "55a667fb-2cc5-43ab-9837-9e3194858c81",
   "metadata": {},
   "outputs": [],
   "source": [
    "#gr_liv_area,\n",
    "# lot_area, bsmt_weighted_sf\n",
    "#vif_df(X[['gr_liv_area', 'lot_area']])"
   ]
  },
  {
   "cell_type": "markdown",
   "id": "4751c2c5-9497-4dff-9734-d4c9c4954623",
   "metadata": {},
   "source": [
    "---\n",
    "\n",
    "## Determining Which Categorical Features to Use"
   ]
  },
  {
   "cell_type": "code",
   "execution_count": 72,
   "id": "e69d8a90-f503-45b8-92df-ab413244724e",
   "metadata": {},
   "outputs": [],
   "source": [
    "categoric = house.select_dtypes(include = ['object'])"
   ]
  },
  {
   "cell_type": "code",
   "execution_count": 73,
   "id": "845294de-3320-440c-ad1c-b0b08e64a789",
   "metadata": {},
   "outputs": [
    {
     "data": {
      "text/html": [
       "<div>\n",
       "<style scoped>\n",
       "    .dataframe tbody tr th:only-of-type {\n",
       "        vertical-align: middle;\n",
       "    }\n",
       "\n",
       "    .dataframe tbody tr th {\n",
       "        vertical-align: top;\n",
       "    }\n",
       "\n",
       "    .dataframe thead th {\n",
       "        text-align: right;\n",
       "    }\n",
       "</style>\n",
       "<table border=\"1\" class=\"dataframe\">\n",
       "  <thead>\n",
       "    <tr style=\"text-align: right;\">\n",
       "      <th></th>\n",
       "      <th>ms_zoning</th>\n",
       "      <th>land_contour</th>\n",
       "      <th>land_slope</th>\n",
       "      <th>neighborhood</th>\n",
       "      <th>condition_1</th>\n",
       "      <th>bldg_type</th>\n",
       "      <th>house_style</th>\n",
       "      <th>mas_vnr_type</th>\n",
       "      <th>sale_type</th>\n",
       "    </tr>\n",
       "  </thead>\n",
       "  <tbody>\n",
       "    <tr>\n",
       "      <th>0</th>\n",
       "      <td>RL</td>\n",
       "      <td>Lvl</td>\n",
       "      <td>Gtl</td>\n",
       "      <td>Sawyer</td>\n",
       "      <td>RRAe</td>\n",
       "      <td>1Fam</td>\n",
       "      <td>2Story</td>\n",
       "      <td>BrkFace</td>\n",
       "      <td>WD</td>\n",
       "    </tr>\n",
       "    <tr>\n",
       "      <th>1</th>\n",
       "      <td>RL</td>\n",
       "      <td>Lvl</td>\n",
       "      <td>Gtl</td>\n",
       "      <td>SawyerW</td>\n",
       "      <td>Norm</td>\n",
       "      <td>1Fam</td>\n",
       "      <td>2Story</td>\n",
       "      <td>BrkFace</td>\n",
       "      <td>WD</td>\n",
       "    </tr>\n",
       "    <tr>\n",
       "      <th>2</th>\n",
       "      <td>RL</td>\n",
       "      <td>Lvl</td>\n",
       "      <td>Gtl</td>\n",
       "      <td>NAmes</td>\n",
       "      <td>Norm</td>\n",
       "      <td>1Fam</td>\n",
       "      <td>1Story</td>\n",
       "      <td>None</td>\n",
       "      <td>WD</td>\n",
       "    </tr>\n",
       "    <tr>\n",
       "      <th>3</th>\n",
       "      <td>RL</td>\n",
       "      <td>Lvl</td>\n",
       "      <td>Gtl</td>\n",
       "      <td>Timber</td>\n",
       "      <td>Norm</td>\n",
       "      <td>1Fam</td>\n",
       "      <td>2Story</td>\n",
       "      <td>None</td>\n",
       "      <td>WD</td>\n",
       "    </tr>\n",
       "    <tr>\n",
       "      <th>4</th>\n",
       "      <td>RL</td>\n",
       "      <td>Lvl</td>\n",
       "      <td>Gtl</td>\n",
       "      <td>SawyerW</td>\n",
       "      <td>Norm</td>\n",
       "      <td>1Fam</td>\n",
       "      <td>1.5Fin</td>\n",
       "      <td>None</td>\n",
       "      <td>WD</td>\n",
       "    </tr>\n",
       "    <tr>\n",
       "      <th>...</th>\n",
       "      <td>...</td>\n",
       "      <td>...</td>\n",
       "      <td>...</td>\n",
       "      <td>...</td>\n",
       "      <td>...</td>\n",
       "      <td>...</td>\n",
       "      <td>...</td>\n",
       "      <td>...</td>\n",
       "      <td>...</td>\n",
       "    </tr>\n",
       "    <tr>\n",
       "      <th>2046</th>\n",
       "      <td>RL</td>\n",
       "      <td>HLS</td>\n",
       "      <td>Gtl</td>\n",
       "      <td>Timber</td>\n",
       "      <td>Norm</td>\n",
       "      <td>1Fam</td>\n",
       "      <td>1Story</td>\n",
       "      <td>None</td>\n",
       "      <td>WD</td>\n",
       "    </tr>\n",
       "    <tr>\n",
       "      <th>2047</th>\n",
       "      <td>RL</td>\n",
       "      <td>Lvl</td>\n",
       "      <td>Gtl</td>\n",
       "      <td>Edwards</td>\n",
       "      <td>Norm</td>\n",
       "      <td>1Fam</td>\n",
       "      <td>1Story</td>\n",
       "      <td>None</td>\n",
       "      <td>WD</td>\n",
       "    </tr>\n",
       "    <tr>\n",
       "      <th>2048</th>\n",
       "      <td>RL</td>\n",
       "      <td>Bnk</td>\n",
       "      <td>Gtl</td>\n",
       "      <td>Crawfor</td>\n",
       "      <td>Norm</td>\n",
       "      <td>1Fam</td>\n",
       "      <td>1.5Fin</td>\n",
       "      <td>None</td>\n",
       "      <td>WD</td>\n",
       "    </tr>\n",
       "    <tr>\n",
       "      <th>2049</th>\n",
       "      <td>RL</td>\n",
       "      <td>Lvl</td>\n",
       "      <td>Gtl</td>\n",
       "      <td>NAmes</td>\n",
       "      <td>Norm</td>\n",
       "      <td>1Fam</td>\n",
       "      <td>1Story</td>\n",
       "      <td>None</td>\n",
       "      <td>WD</td>\n",
       "    </tr>\n",
       "    <tr>\n",
       "      <th>2050</th>\n",
       "      <td>RL</td>\n",
       "      <td>Lvl</td>\n",
       "      <td>Gtl</td>\n",
       "      <td>Gilbert</td>\n",
       "      <td>Norm</td>\n",
       "      <td>1Fam</td>\n",
       "      <td>2Story</td>\n",
       "      <td>None</td>\n",
       "      <td>WD</td>\n",
       "    </tr>\n",
       "  </tbody>\n",
       "</table>\n",
       "<p>2002 rows × 9 columns</p>\n",
       "</div>"
      ],
      "text/plain": [
       "     ms_zoning land_contour land_slope neighborhood condition_1 bldg_type  \\\n",
       "0           RL          Lvl        Gtl       Sawyer        RRAe      1Fam   \n",
       "1           RL          Lvl        Gtl      SawyerW        Norm      1Fam   \n",
       "2           RL          Lvl        Gtl        NAmes        Norm      1Fam   \n",
       "3           RL          Lvl        Gtl       Timber        Norm      1Fam   \n",
       "4           RL          Lvl        Gtl      SawyerW        Norm      1Fam   \n",
       "...        ...          ...        ...          ...         ...       ...   \n",
       "2046        RL          HLS        Gtl       Timber        Norm      1Fam   \n",
       "2047        RL          Lvl        Gtl      Edwards        Norm      1Fam   \n",
       "2048        RL          Bnk        Gtl      Crawfor        Norm      1Fam   \n",
       "2049        RL          Lvl        Gtl        NAmes        Norm      1Fam   \n",
       "2050        RL          Lvl        Gtl      Gilbert        Norm      1Fam   \n",
       "\n",
       "     house_style mas_vnr_type sale_type  \n",
       "0         2Story      BrkFace       WD   \n",
       "1         2Story      BrkFace       WD   \n",
       "2         1Story         None       WD   \n",
       "3         2Story         None       WD   \n",
       "4         1.5Fin         None       WD   \n",
       "...          ...          ...       ...  \n",
       "2046      1Story         None       WD   \n",
       "2047      1Story         None       WD   \n",
       "2048      1.5Fin         None       WD   \n",
       "2049      1Story         None       WD   \n",
       "2050      2Story         None       WD   \n",
       "\n",
       "[2002 rows x 9 columns]"
      ]
     },
     "execution_count": 73,
     "metadata": {},
     "output_type": "execute_result"
    }
   ],
   "source": [
    "categoric"
   ]
  },
  {
   "cell_type": "code",
   "execution_count": 74,
   "id": "c600a26b-426f-4fc3-8b83-34ae814b1f11",
   "metadata": {},
   "outputs": [
    {
     "name": "stdout",
     "output_type": "stream",
     "text": [
      "RL         1556\n",
      "RM          312\n",
      "FV          101\n",
      "C (all)      17\n",
      "RH           14\n",
      "A (agr)       1\n",
      "I (all)       1\n",
      "Name: ms_zoning, dtype: int64\n",
      "Lvl    1815\n",
      "HLS      81\n",
      "Bnk      75\n",
      "Low      31\n",
      "Name: land_contour, dtype: int64\n",
      "Gtl    1919\n",
      "Mod      78\n",
      "Sev       5\n",
      "Name: land_slope, dtype: int64\n",
      "NAmes      307\n",
      "CollgCr    180\n",
      "OldTown    159\n",
      "Edwards    139\n",
      "Somerst    130\n",
      "NridgHt    118\n",
      "Gilbert    113\n",
      "Sawyer     109\n",
      "NWAmes      87\n",
      "SawyerW     86\n",
      "BrkSide     76\n",
      "Mitchel     75\n",
      "Crawfor     69\n",
      "IDOTRR      67\n",
      "NoRidge     46\n",
      "Timber      46\n",
      "StoneBr     34\n",
      "SWISU       32\n",
      "MeadowV     24\n",
      "Blmngtn     22\n",
      "ClearCr     20\n",
      "BrDale      19\n",
      "NPkVill     17\n",
      "Veenker     15\n",
      "Blueste      6\n",
      "Greens       3\n",
      "GrnHill      2\n",
      "Landmrk      1\n",
      "Name: neighborhood, dtype: int64\n",
      "Norm      1727\n",
      "Feedr      106\n",
      "Artery      67\n",
      "RRAn        35\n",
      "PosN        26\n",
      "RRAe        21\n",
      "PosA        11\n",
      "RRNn         6\n",
      "RRNe         3\n",
      "Name: condition_1, dtype: int64\n",
      "1Fam      1655\n",
      "TwnhsE     161\n",
      "Duplex      74\n",
      "Twnhs       69\n",
      "2fmCon      43\n",
      "Name: bldg_type, dtype: int64\n",
      "1Story    1028\n",
      "2Story     587\n",
      "1.5Fin     215\n",
      "SLvl        93\n",
      "SFoyer      50\n",
      "2.5Unf      12\n",
      "1.5Unf      12\n",
      "2.5Fin       5\n",
      "Name: house_style, dtype: int64\n",
      "None       1190\n",
      "BrkFace     622\n",
      "Stone       157\n",
      "NaN          21\n",
      "BrkCmn       12\n",
      "Name: mas_vnr_type, dtype: int64\n",
      "WD       1740\n",
      "New       153\n",
      "COD        62\n",
      "ConLD      17\n",
      "CWD        10\n",
      "ConLI       7\n",
      "ConLw       5\n",
      "Con         4\n",
      "Oth         4\n",
      "Name: sale_type, dtype: int64\n"
     ]
    }
   ],
   "source": [
    "for col in categoric.columns:\n",
    "    print(categoric[col].value_counts(dropna = False))"
   ]
  },
  {
   "cell_type": "markdown",
   "id": "1720843b-8832-4d42-bc6d-024778b06940",
   "metadata": {},
   "source": [
    "We saw earlier that despite wanting to include many numeric columns, most of them were correlated to one another and we could really only use two. In the same spirit avoiding multicollinearity among the nurmic variables, let us be picky about which categorical features we decide to use in our model.\n",
    "\n",
    "`neighborhood` immediately stands out as an indicator of property value. Almost all the other categorical variables have more than 1500 appearances of a single category (out of 2051). This leads me to believe these features will not do a great job at separating out the values of the different homes. Besides `neighborhood`, only `house_style` and `mas_vnr_type` have more spread out values. Since `mas_vnr_type` does not stand out to me as influencing the value of a home that much, I will only use `neighborhood` and `house_style` for the categorical features in our model.\n",
    "\n",
    "\\* In a future model, I will include `mas_vnr_type` to see if my intuition was correct.\\*"
   ]
  },
  {
   "cell_type": "code",
   "execution_count": 75,
   "id": "4b5df4b4-da27-4173-84fe-8d767416f6d4",
   "metadata": {},
   "outputs": [],
   "source": [
    "categ_features = ['neighborhood', 'house_style']"
   ]
  },
  {
   "cell_type": "markdown",
   "id": "f86bb2ce-cbba-4d95-9295-f943fc5e6fc4",
   "metadata": {},
   "source": [
    "---\n",
    "\n",
    "## Making Sure Dummy Columns Agree Between Train and Test"
   ]
  },
  {
   "cell_type": "code",
   "execution_count": 77,
   "id": "622b3f64-6cb1-4646-91ae-e91ac58ba7ff",
   "metadata": {},
   "outputs": [],
   "source": [
    "house_predictors = house[numeric_features + categ_features]"
   ]
  },
  {
   "cell_type": "code",
   "execution_count": 78,
   "id": "82017fcd-522c-4acd-8281-b2d18f5c4d47",
   "metadata": {},
   "outputs": [],
   "source": [
    "raw_house_test = pd.read_csv('../datasets/test.csv')"
   ]
  },
  {
   "cell_type": "code",
   "execution_count": 79,
   "id": "fad3c171-89ac-494e-b980-30fb97ddbe6b",
   "metadata": {},
   "outputs": [
    {
     "data": {
      "text/plain": [
       "MS Zoning           0\n",
       "Lot Area            0\n",
       "Land Contour        0\n",
       "Land Slope          0\n",
       "Neighborhood        0\n",
       "Condition 1         0\n",
       "Bldg Type           0\n",
       "House Style         0\n",
       "Overall Qual        0\n",
       "Overall Cond        0\n",
       "Year Built          0\n",
       "Year Remod/Add      0\n",
       "Mas Vnr Type        1\n",
       "Exter Qual          0\n",
       "Exter Cond          0\n",
       "Bsmt Qual          25\n",
       "Bsmt Cond          25\n",
       "Garage Area         0\n",
       "Wood Deck SF        0\n",
       "Open Porch SF       0\n",
       "Kitchen Qual        0\n",
       "Bedroom AbvGr       0\n",
       "Full Bath           0\n",
       "Half Bath           0\n",
       "Fireplaces          0\n",
       "Fireplace Qu      422\n",
       "BsmtFin SF 1        0\n",
       "Bsmt Unf SF         0\n",
       "1st Flr SF          0\n",
       "2nd Flr SF          0\n",
       "Sale Type           0\n",
       "dtype: int64"
      ]
     },
     "execution_count": 79,
     "metadata": {},
     "output_type": "execute_result"
    }
   ],
   "source": [
    "# index [:-1] to exclude saleprice from features\n",
    "# since it doesn't appear in test data\n",
    "house_test = raw_house_test[init_features[:-1]].copy()\n",
    "\n",
    "house_test.isnull().sum()"
   ]
  },
  {
   "cell_type": "markdown",
   "id": "428940ab-1676-497e-a756-436590b3986c",
   "metadata": {},
   "source": [
    "Since the columns we chose for our model do not overlap with the columns containing missing data, we do not need to fill in these missing values. All that we need to do is make sure the column names are in the same format as our train data and that we **feature engineer `bsmt_weighted_sf` into the test dataset**."
   ]
  },
  {
   "cell_type": "code",
   "execution_count": 80,
   "id": "70b09272-30e0-4c0b-b5db-259a873159df",
   "metadata": {},
   "outputs": [],
   "source": [
    "house_test.columns = [col.lower().replace(' ','_').replace('/','_') for col in house_test.columns]"
   ]
  },
  {
   "cell_type": "code",
   "execution_count": 81,
   "id": "451dc1a4-7b7c-4b08-9686-f009464b73c6",
   "metadata": {
    "tags": []
   },
   "outputs": [],
   "source": [
    "# adds square feet (SF) measurements with weights:\n",
    "# 1*(Finished SF) + 0.5(Unfinished SF)\n",
    "house_test['bsmt_weighted_sf'] = house_test['bsmtfin_sf_1'] + 0.5*house_test['bsmt_unf_sf']\n",
    "house_test.drop(columns = ['bsmtfin_sf_1', 'bsmt_unf_sf'], inplace = True)"
   ]
  },
  {
   "cell_type": "code",
   "execution_count": 82,
   "id": "276b88e1-6641-49fd-a62d-1ef7d1b3e4bc",
   "metadata": {},
   "outputs": [],
   "source": [
    "house_test['sq_ft'] = house_test['1st_flr_sf'] + house_test['2nd_flr_sf']\n",
    "house_test.drop(columns = ['1st_flr_sf', '2nd_flr_sf'], inplace = True)"
   ]
  },
  {
   "cell_type": "code",
   "execution_count": 83,
   "id": "0bc6ba65-222a-4a20-9c72-0bce16352176",
   "metadata": {},
   "outputs": [],
   "source": [
    "house_test = house_test[numeric_features + categ_features]"
   ]
  },
  {
   "cell_type": "code",
   "execution_count": 84,
   "id": "079a9a4d-9c8c-4b18-9d17-c5665b7f89ec",
   "metadata": {},
   "outputs": [],
   "source": [
    "# Train and test may have different appearance of categorical values\n",
    "# dummy columns might not agree and will interfere with running model\n",
    "# on test data\n",
    "\n",
    "# dummify\n",
    "train_with_dummies = pd.get_dummies(house_predictors, columns = categ_features, drop_first = True)\n",
    "test_with_dummies = pd.get_dummies(house_test, columns = categ_features, drop_first = True)"
   ]
  },
  {
   "cell_type": "code",
   "execution_count": 85,
   "id": "02d09b4a-6a86-4235-9b32-dd859cfe3632",
   "metadata": {},
   "outputs": [
    {
     "name": "stdout",
     "output_type": "stream",
     "text": [
      "(2002, 36)\n",
      "(878, 34)\n"
     ]
    }
   ],
   "source": [
    "# check column counts pre changes\n",
    "print(train_with_dummies.shape)\n",
    "print(test_with_dummies.shape)"
   ]
  },
  {
   "cell_type": "code",
   "execution_count": 86,
   "id": "e5c37257-f48d-42ac-ade9-ea5ff7084bfb",
   "metadata": {},
   "outputs": [],
   "source": [
    "# save dummy column names from both train and test to a set\n",
    "both_columns_set = set(train_with_dummies.columns).union(set(test_with_dummies.columns))\n",
    "\n",
    "# for any column names not in set add column with 0s\n",
    "for col in both_columns_set:\n",
    "    if col not in train_with_dummies.columns:\n",
    "        train_with_dummies[col] = 0\n",
    "    if col not in test_with_dummies.columns:\n",
    "        test_with_dummies[col] = 0\n",
    "\n",
    "# arrange columns so they agree"
   ]
  },
  {
   "cell_type": "code",
   "execution_count": 87,
   "id": "06bdb8d1-18ba-44e9-99fe-11869951ce4c",
   "metadata": {},
   "outputs": [
    {
     "name": "stdout",
     "output_type": "stream",
     "text": [
      "(2002, 36)\n",
      "(878, 36)\n"
     ]
    }
   ],
   "source": [
    "# check column counts pre changes\n",
    "print(train_with_dummies.shape)\n",
    "print(test_with_dummies.shape)"
   ]
  },
  {
   "cell_type": "code",
   "execution_count": 88,
   "id": "b6f14009-7ef0-4ce0-bdf3-75f3741de2b3",
   "metadata": {},
   "outputs": [
    {
     "data": {
      "text/plain": [
       "sq_ft                   2952734.0\n",
       "bsmt_weighted_sf        1431221.5\n",
       "neighborhood_Blueste          6.0\n",
       "neighborhood_BrDale          19.0\n",
       "neighborhood_BrkSide         76.0\n",
       "neighborhood_ClearCr         20.0\n",
       "neighborhood_CollgCr        180.0\n",
       "neighborhood_Crawfor         69.0\n",
       "neighborhood_Edwards        139.0\n",
       "neighborhood_Gilbert        113.0\n",
       "neighborhood_Greens           3.0\n",
       "neighborhood_GrnHill          2.0\n",
       "neighborhood_IDOTRR          67.0\n",
       "neighborhood_Landmrk          1.0\n",
       "neighborhood_MeadowV         24.0\n",
       "neighborhood_Mitchel         75.0\n",
       "neighborhood_NAmes          307.0\n",
       "neighborhood_NPkVill         17.0\n",
       "neighborhood_NWAmes          87.0\n",
       "neighborhood_NoRidge         46.0\n",
       "neighborhood_NridgHt        118.0\n",
       "neighborhood_OldTown        159.0\n",
       "neighborhood_SWISU           32.0\n",
       "neighborhood_Sawyer         109.0\n",
       "neighborhood_SawyerW         86.0\n",
       "neighborhood_Somerst        130.0\n",
       "neighborhood_StoneBr         34.0\n",
       "neighborhood_Timber          46.0\n",
       "neighborhood_Veenker         15.0\n",
       "house_style_1.5Unf           12.0\n",
       "house_style_1Story         1028.0\n",
       "house_style_2.5Fin            5.0\n",
       "house_style_2.5Unf           12.0\n",
       "house_style_2Story          587.0\n",
       "house_style_SFoyer           50.0\n",
       "house_style_SLvl             93.0\n",
       "dtype: float64"
      ]
     },
     "execution_count": 88,
     "metadata": {},
     "output_type": "execute_result"
    }
   ],
   "source": [
    "train_with_dummies.sum()"
   ]
  },
  {
   "cell_type": "code",
   "execution_count": 89,
   "id": "11232022-61ce-4ae2-a83b-0eecf9eb9b62",
   "metadata": {},
   "outputs": [
    {
     "data": {
      "text/plain": [
       "sq_ft                   1311895.0\n",
       "bsmt_weighted_sf         624165.5\n",
       "neighborhood_Blueste          4.0\n",
       "neighborhood_BrDale          11.0\n",
       "neighborhood_BrkSide         32.0\n",
       "neighborhood_ClearCr         17.0\n",
       "neighborhood_CollgCr         87.0\n",
       "neighborhood_Crawfor         32.0\n",
       "neighborhood_Edwards         50.0\n",
       "neighborhood_Gilbert         49.0\n",
       "neighborhood_Greens           5.0\n",
       "neighborhood_IDOTRR          24.0\n",
       "neighborhood_MeadowV         13.0\n",
       "neighborhood_Mitchel         32.0\n",
       "neighborhood_NAmes          133.0\n",
       "neighborhood_NPkVill          6.0\n",
       "neighborhood_NWAmes          44.0\n",
       "neighborhood_NoRidge         23.0\n",
       "neighborhood_NridgHt         44.0\n",
       "neighborhood_OldTown         76.0\n",
       "neighborhood_SWISU           16.0\n",
       "neighborhood_Sawyer          40.0\n",
       "neighborhood_SawyerW         38.0\n",
       "neighborhood_Somerst         52.0\n",
       "neighborhood_StoneBr         13.0\n",
       "neighborhood_Timber          24.0\n",
       "neighborhood_Veenker          7.0\n",
       "house_style_1.5Unf            7.0\n",
       "house_style_1Story          422.0\n",
       "house_style_2.5Fin            2.0\n",
       "house_style_2.5Unf           10.0\n",
       "house_style_2Story          274.0\n",
       "house_style_SFoyer           33.0\n",
       "house_style_SLvl             34.0\n",
       "neighborhood_GrnHill          0.0\n",
       "neighborhood_Landmrk          0.0\n",
       "dtype: float64"
      ]
     },
     "execution_count": 89,
     "metadata": {},
     "output_type": "execute_result"
    }
   ],
   "source": [
    "test_with_dummies.sum()"
   ]
  },
  {
   "cell_type": "markdown",
   "id": "5de5374f-e941-4ad8-9df4-4e24b23508d8",
   "metadata": {},
   "source": [
    "It appears that our code above did not change any of the data and only added two columns full of zeros to the test data. Success!\n",
    "\n",
    "Lastly, we will want to arrange our columns so that the model we will eventually build takes the linear combination of the variables in the appropriate order for both the train and test data sets."
   ]
  },
  {
   "cell_type": "code",
   "execution_count": 90,
   "id": "d8408454-a012-458a-82cd-b01780513bfe",
   "metadata": {},
   "outputs": [],
   "source": [
    "column_order = train_with_dummies.columns\n",
    "test_with_dummies = test_with_dummies[column_order]"
   ]
  },
  {
   "cell_type": "markdown",
   "id": "53be25c9-49a2-48ca-a580-f466d44a4d17",
   "metadata": {},
   "source": [
    "As a sanity check, we see if the two columns are identical term-by-term."
   ]
  },
  {
   "cell_type": "code",
   "execution_count": 91,
   "id": "a3cc6daf-c33a-49a1-80e0-c4c02dd275c6",
   "metadata": {},
   "outputs": [
    {
     "data": {
      "text/plain": [
       "array([ True,  True,  True,  True,  True,  True,  True,  True,  True,\n",
       "        True,  True,  True,  True,  True,  True,  True,  True,  True,\n",
       "        True,  True,  True,  True,  True,  True,  True,  True,  True,\n",
       "        True,  True,  True,  True,  True,  True,  True,  True,  True])"
      ]
     },
     "execution_count": 91,
     "metadata": {},
     "output_type": "execute_result"
    }
   ],
   "source": [
    "train_with_dummies.columns == test_with_dummies.columns"
   ]
  },
  {
   "cell_type": "code",
   "execution_count": 92,
   "id": "4c1ea5a2-92f8-493f-9fd9-d5eb01c818a8",
   "metadata": {},
   "outputs": [],
   "source": [
    "# maybe rearrange/edit check"
   ]
  },
  {
   "cell_type": "code",
   "execution_count": null,
   "id": "f72869a3-dffe-40a0-9a7b-9b2fdb8edf50",
   "metadata": {},
   "outputs": [],
   "source": []
  },
  {
   "cell_type": "markdown",
   "id": "bd333f63-7e4a-44cf-a390-3f11778c45a1",
   "metadata": {
    "tags": []
   },
   "source": [
    "---\n",
    "\n",
    "## Train-Test-Split and Building the Linear Regression"
   ]
  },
  {
   "cell_type": "markdown",
   "id": "5612b651-6762-4ac0-aa7f-364ab5eec4a0",
   "metadata": {},
   "source": [
    "Before we try to create models to predict the saleprice we should have some idea of a baseline score. For linear regressions, the baseline score is the mean."
   ]
  },
  {
   "cell_type": "code",
   "execution_count": 93,
   "id": "23b77e49-57f3-4985-bae2-b184e7f34ece",
   "metadata": {},
   "outputs": [],
   "source": [
    "y = house['saleprice']"
   ]
  },
  {
   "cell_type": "code",
   "execution_count": 94,
   "id": "8524db7e-bd46-4476-a557-e7ddfbc9bfb5",
   "metadata": {},
   "outputs": [],
   "source": [
    "# creates an array with shape of y and filled with the mean\n",
    "baseline_model = np.full_like(y, y.mean())"
   ]
  },
  {
   "cell_type": "code",
   "execution_count": 95,
   "id": "56f40504-b008-4c79-a40b-678b2b324e26",
   "metadata": {},
   "outputs": [
    {
     "name": "stdout",
     "output_type": "stream",
     "text": [
      "0.0\n",
      "5583924624.956044\n",
      "74725.66242567572\n"
     ]
    }
   ],
   "source": [
    "print(metrics.r2_score(baseline_model, y))\n",
    "print(metrics.mean_squared_error(baseline_model, y,))\n",
    "print(metrics.mean_squared_error(baseline_model, y, squared = False))"
   ]
  },
  {
   "cell_type": "markdown",
   "id": "f356ba54-d55d-4ac3-b6ca-7c5069be4a3a",
   "metadata": {},
   "source": [
    "An R squared score of 0 is to be expected because by definition, R squared scores compare a model's performance against the mean. Our main metric for this project is Root Mean Squared Error (RMSE), which for the baseline model is 74,725. This means that if create a model whose RMSE score is lower, it would have been better to just guess the saleprice using the mean of the sale prices we already know."
   ]
  },
  {
   "cell_type": "code",
   "execution_count": null,
   "id": "6072ea8d-3725-4085-87f8-112a1ccd92b1",
   "metadata": {},
   "outputs": [],
   "source": []
  },
  {
   "cell_type": "code",
   "execution_count": null,
   "id": "8ee4966b-f735-411f-b01c-281e6832337a",
   "metadata": {},
   "outputs": [],
   "source": []
  },
  {
   "cell_type": "code",
   "execution_count": 96,
   "id": "787519e8-66c3-4b5c-bd2f-04ba55ac4d11",
   "metadata": {},
   "outputs": [],
   "source": [
    "X = train_with_dummies\n",
    "y = house['saleprice']"
   ]
  },
  {
   "cell_type": "code",
   "execution_count": 97,
   "id": "d4b12d55-5621-41fd-a3e4-dbd73b1de869",
   "metadata": {},
   "outputs": [],
   "source": [
    "X_train, X_val, y_train, y_val = train_test_split(X, y, test_size = 0.3, random_state = 6)"
   ]
  },
  {
   "cell_type": "code",
   "execution_count": 99,
   "id": "4d9711d1-2f8d-4ace-ad9b-b9445bf3ccab",
   "metadata": {},
   "outputs": [],
   "source": [
    "ss = StandardScaler()\n",
    "\n",
    "X_train_sc = ss.fit_transform(X_train)\n",
    "X_val_sc = ss.transform(X_val)"
   ]
  },
  {
   "cell_type": "code",
   "execution_count": 100,
   "id": "7feb3450-a6f6-444b-b728-59208ca3b1f7",
   "metadata": {},
   "outputs": [],
   "source": [
    "lr = LinearRegression()"
   ]
  },
  {
   "cell_type": "code",
   "execution_count": 102,
   "id": "8ace0ec3-ea09-4ace-9c00-3a23e37e818c",
   "metadata": {},
   "outputs": [
    {
     "data": {
      "text/plain": [
       "LinearRegression()"
      ]
     },
     "execution_count": 102,
     "metadata": {},
     "output_type": "execute_result"
    }
   ],
   "source": [
    "lr.fit(X_train_sc, y_train)"
   ]
  },
  {
   "cell_type": "code",
   "execution_count": 103,
   "id": "733fd78a-f4e1-4abd-8a76-7797b852084c",
   "metadata": {},
   "outputs": [
    {
     "data": {
      "text/plain": [
       "0.8305166248932667"
      ]
     },
     "execution_count": 103,
     "metadata": {},
     "output_type": "execute_result"
    }
   ],
   "source": [
    "lr.score(X_train_sc, y_train)"
   ]
  },
  {
   "cell_type": "code",
   "execution_count": 104,
   "id": "73cf0d84-9088-4743-8e98-274450dc268f",
   "metadata": {},
   "outputs": [
    {
     "data": {
      "text/plain": [
       "0.8234789724626479"
      ]
     },
     "execution_count": 104,
     "metadata": {},
     "output_type": "execute_result"
    }
   ],
   "source": [
    "lr.score(X_val_sc, y_val)"
   ]
  },
  {
   "cell_type": "code",
   "execution_count": 105,
   "id": "5f71e0cf-7a61-455b-8446-dc3779de8ecd",
   "metadata": {},
   "outputs": [
    {
     "data": {
      "text/plain": [
       "951242461.293546"
      ]
     },
     "execution_count": 105,
     "metadata": {},
     "output_type": "execute_result"
    }
   ],
   "source": [
    "y_pred = lr.predict(X_val_sc)\n",
    "metrics.mean_squared_error(y_val, y_pred)"
   ]
  },
  {
   "cell_type": "code",
   "execution_count": 106,
   "id": "7dd1f7d0-0306-4107-a7da-696ea0838c6b",
   "metadata": {},
   "outputs": [
    {
     "data": {
      "text/plain": [
       "30842.218812749936"
      ]
     },
     "execution_count": 106,
     "metadata": {},
     "output_type": "execute_result"
    }
   ],
   "source": [
    "metrics.mean_squared_error(y_val, y_pred, squared = False)"
   ]
  },
  {
   "cell_type": "code",
   "execution_count": 123,
   "id": "7a40e9c4-f9a3-412d-a8a9-3aab46fbb07c",
   "metadata": {},
   "outputs": [
    {
     "data": {
      "text/plain": [
       "0.8045549832607662"
      ]
     },
     "execution_count": 123,
     "metadata": {},
     "output_type": "execute_result"
    }
   ],
   "source": [
    "#cross val score\n",
    "cross_val_score(lr, X_train_sc, y_train).mean()"
   ]
  },
  {
   "cell_type": "code",
   "execution_count": 108,
   "id": "10ce6d6d-ec6f-4758-8677-7548cfff101a",
   "metadata": {},
   "outputs": [],
   "source": [
    "# test_with_dummies was test data modified so model could be applied\n",
    "# renaming for readability\n",
    "X_test = test_with_dummies\n",
    "X_test_sc = ss.transform(X_test)"
   ]
  },
  {
   "cell_type": "code",
   "execution_count": 109,
   "id": "807f6b3b-151e-4538-b30f-b399aad3e86e",
   "metadata": {},
   "outputs": [],
   "source": [
    "kag_preds = lr.predict(X_test_sc)"
   ]
  },
  {
   "cell_type": "markdown",
   "id": "0739d8c7-1940-4ccd-8b00-bfe93c480417",
   "metadata": {},
   "source": [
    "After running the model on the test data and submitting it to Kaggle, the RMSE came out to be 35,257.3 which is significantly higher than RMSE we obtained from our validation set. This suggests that the model is overfit/has high variance."
   ]
  },
  {
   "cell_type": "markdown",
   "id": "6c52496c-560c-471d-afe5-4c062b1e30a5",
   "metadata": {},
   "source": [
    "---\n",
    "\n",
    "## Take Two (Really Three...) - More Features\n",
    "\n",
    "Although it is not illustrated above, the linear model I created was my second attempt. In my first attempt, I used the features `sq_ft`, `lot_area`, `neighborhood`, and `house_style` because `lot_area` had a low VIF score when paired with `sq_ft`. I ran into an issue where roughly 1/3 of the time my R squared scores were abyssmal, leading me to believe I had some outliers in the dataset still. I went back and removed some outliers which led to `lot_area` having larger VIF score this time and in the iteration above I included `bsmt_weighted_sf` instead of `lot_area`. This gave me an improvement from an initial RMSE score of 38,000.\n",
    "\n",
    "Earlier we made a few decisions with a goal of keeping VIF scores low. Let us build another model where we are a bit more lax with this constraint."
   ]
  },
  {
   "cell_type": "code",
   "execution_count": 111,
   "id": "e468c169-9439-4915-9557-9d8c1da228e9",
   "metadata": {},
   "outputs": [
    {
     "data": {
      "text/html": [
       "<div>\n",
       "<style scoped>\n",
       "    .dataframe tbody tr th:only-of-type {\n",
       "        vertical-align: middle;\n",
       "    }\n",
       "\n",
       "    .dataframe tbody tr th {\n",
       "        vertical-align: top;\n",
       "    }\n",
       "\n",
       "    .dataframe thead th {\n",
       "        text-align: right;\n",
       "    }\n",
       "</style>\n",
       "<table border=\"1\" class=\"dataframe\">\n",
       "  <thead>\n",
       "    <tr style=\"text-align: right;\">\n",
       "      <th></th>\n",
       "      <th>vif</th>\n",
       "    </tr>\n",
       "  </thead>\n",
       "  <tbody>\n",
       "    <tr>\n",
       "      <th>sq_ft</th>\n",
       "      <td>8.800787</td>\n",
       "    </tr>\n",
       "    <tr>\n",
       "      <th>garage_area</th>\n",
       "      <td>7.374722</td>\n",
       "    </tr>\n",
       "    <tr>\n",
       "      <th>fireplaces_weighted</th>\n",
       "      <td>2.235950</td>\n",
       "    </tr>\n",
       "    <tr>\n",
       "      <th>open_porch_sf</th>\n",
       "      <td>1.741490</td>\n",
       "    </tr>\n",
       "    <tr>\n",
       "      <th>wood_deck_sf</th>\n",
       "      <td>1.736595</td>\n",
       "    </tr>\n",
       "  </tbody>\n",
       "</table>\n",
       "</div>"
      ],
      "text/plain": [
       "                          vif\n",
       "sq_ft                8.800787\n",
       "garage_area          7.374722\n",
       "fireplaces_weighted  2.235950\n",
       "open_porch_sf        1.741490\n",
       "wood_deck_sf         1.736595"
      ]
     },
     "execution_count": 111,
     "metadata": {},
     "output_type": "execute_result"
    }
   ],
   "source": [
    "vif_df(house[['sq_ft', 'garage_area', 'wood_deck_sf', 'open_porch_sf', 'fireplaces_weighted']])"
   ]
  },
  {
   "cell_type": "markdown",
   "id": "257f0752-412d-4e76-9d1e-c45cf09d25a2",
   "metadata": {},
   "source": [
    "The VIFs are not great and I do not feel strongly that fireplaces, open porches, and wood decks significantly influence the sales price. I expect the model I build with these variables to be overfit. This will just serve as an experiment to learn from."
   ]
  },
  {
   "cell_type": "code",
   "execution_count": 112,
   "id": "1663de63-dcf7-4e78-89e2-56514a076409",
   "metadata": {},
   "outputs": [],
   "source": [
    "numeric_features = ['sq_ft', 'garage_area', 'wood_deck_sf', 'open_porch_sf', 'fireplaces_weighted']"
   ]
  },
  {
   "cell_type": "markdown",
   "id": "7ef0f5bd-49df-4ac2-a4c6-1551aa4c889b",
   "metadata": {},
   "source": [
    "I will use the same categoric features as before."
   ]
  },
  {
   "cell_type": "code",
   "execution_count": 113,
   "id": "335471b8-7aaf-4473-a177-dc8e417a2935",
   "metadata": {},
   "outputs": [],
   "source": [
    "categoric_features = ['neighborhood', 'house_style']"
   ]
  },
  {
   "cell_type": "code",
   "execution_count": 114,
   "id": "8f3507d8-d4fd-4db6-9685-4456abb6bbfa",
   "metadata": {},
   "outputs": [],
   "source": [
    "house_test = setup_test()"
   ]
  },
  {
   "cell_type": "code",
   "execution_count": 115,
   "id": "056ffcb4-2a04-4ef4-b560-4794cb244869",
   "metadata": {},
   "outputs": [
    {
     "data": {
      "text/html": [
       "<div>\n",
       "<style scoped>\n",
       "    .dataframe tbody tr th:only-of-type {\n",
       "        vertical-align: middle;\n",
       "    }\n",
       "\n",
       "    .dataframe tbody tr th {\n",
       "        vertical-align: top;\n",
       "    }\n",
       "\n",
       "    .dataframe thead th {\n",
       "        text-align: right;\n",
       "    }\n",
       "</style>\n",
       "<table border=\"1\" class=\"dataframe\">\n",
       "  <thead>\n",
       "    <tr style=\"text-align: right;\">\n",
       "      <th></th>\n",
       "      <th>ms_zoning</th>\n",
       "      <th>lot_area</th>\n",
       "      <th>land_contour</th>\n",
       "      <th>land_slope</th>\n",
       "      <th>neighborhood</th>\n",
       "      <th>condition_1</th>\n",
       "      <th>bldg_type</th>\n",
       "      <th>house_style</th>\n",
       "      <th>year_built</th>\n",
       "      <th>year_remod_add</th>\n",
       "      <th>...</th>\n",
       "      <th>bedroom_abvgr</th>\n",
       "      <th>sale_type</th>\n",
       "      <th>saleprice</th>\n",
       "      <th>bsmt_qual_cond</th>\n",
       "      <th>fireplaces_weighted</th>\n",
       "      <th>bsmt_weighted_sf</th>\n",
       "      <th>qual_cond</th>\n",
       "      <th>exter_qual_cond</th>\n",
       "      <th>bath</th>\n",
       "      <th>sq_ft</th>\n",
       "    </tr>\n",
       "  </thead>\n",
       "  <tbody>\n",
       "    <tr>\n",
       "      <th>0</th>\n",
       "      <td>RL</td>\n",
       "      <td>13517</td>\n",
       "      <td>Lvl</td>\n",
       "      <td>Gtl</td>\n",
       "      <td>Sawyer</td>\n",
       "      <td>RRAe</td>\n",
       "      <td>1Fam</td>\n",
       "      <td>2Story</td>\n",
       "      <td>1976</td>\n",
       "      <td>2005</td>\n",
       "      <td>...</td>\n",
       "      <td>3</td>\n",
       "      <td>WD</td>\n",
       "      <td>130500</td>\n",
       "      <td>9</td>\n",
       "      <td>0</td>\n",
       "      <td>629.0</td>\n",
       "      <td>48</td>\n",
       "      <td>12</td>\n",
       "      <td>2.5</td>\n",
       "      <td>1479</td>\n",
       "    </tr>\n",
       "    <tr>\n",
       "      <th>1</th>\n",
       "      <td>RL</td>\n",
       "      <td>11492</td>\n",
       "      <td>Lvl</td>\n",
       "      <td>Gtl</td>\n",
       "      <td>SawyerW</td>\n",
       "      <td>Norm</td>\n",
       "      <td>1Fam</td>\n",
       "      <td>2Story</td>\n",
       "      <td>1996</td>\n",
       "      <td>1997</td>\n",
       "      <td>...</td>\n",
       "      <td>4</td>\n",
       "      <td>WD</td>\n",
       "      <td>220000</td>\n",
       "      <td>12</td>\n",
       "      <td>3</td>\n",
       "      <td>775.0</td>\n",
       "      <td>35</td>\n",
       "      <td>12</td>\n",
       "      <td>2.5</td>\n",
       "      <td>2122</td>\n",
       "    </tr>\n",
       "    <tr>\n",
       "      <th>2</th>\n",
       "      <td>RL</td>\n",
       "      <td>7922</td>\n",
       "      <td>Lvl</td>\n",
       "      <td>Gtl</td>\n",
       "      <td>NAmes</td>\n",
       "      <td>Norm</td>\n",
       "      <td>1Fam</td>\n",
       "      <td>1Story</td>\n",
       "      <td>1953</td>\n",
       "      <td>2007</td>\n",
       "      <td>...</td>\n",
       "      <td>3</td>\n",
       "      <td>WD</td>\n",
       "      <td>109000</td>\n",
       "      <td>9</td>\n",
       "      <td>0</td>\n",
       "      <td>894.0</td>\n",
       "      <td>35</td>\n",
       "      <td>12</td>\n",
       "      <td>1.0</td>\n",
       "      <td>1057</td>\n",
       "    </tr>\n",
       "    <tr>\n",
       "      <th>3</th>\n",
       "      <td>RL</td>\n",
       "      <td>9802</td>\n",
       "      <td>Lvl</td>\n",
       "      <td>Gtl</td>\n",
       "      <td>Timber</td>\n",
       "      <td>Norm</td>\n",
       "      <td>1Fam</td>\n",
       "      <td>2Story</td>\n",
       "      <td>2006</td>\n",
       "      <td>2007</td>\n",
       "      <td>...</td>\n",
       "      <td>3</td>\n",
       "      <td>WD</td>\n",
       "      <td>174000</td>\n",
       "      <td>12</td>\n",
       "      <td>0</td>\n",
       "      <td>192.0</td>\n",
       "      <td>25</td>\n",
       "      <td>9</td>\n",
       "      <td>2.5</td>\n",
       "      <td>1444</td>\n",
       "    </tr>\n",
       "    <tr>\n",
       "      <th>4</th>\n",
       "      <td>RL</td>\n",
       "      <td>14235</td>\n",
       "      <td>Lvl</td>\n",
       "      <td>Gtl</td>\n",
       "      <td>SawyerW</td>\n",
       "      <td>Norm</td>\n",
       "      <td>1Fam</td>\n",
       "      <td>1.5Fin</td>\n",
       "      <td>1900</td>\n",
       "      <td>1993</td>\n",
       "      <td>...</td>\n",
       "      <td>3</td>\n",
       "      <td>WD</td>\n",
       "      <td>138500</td>\n",
       "      <td>8</td>\n",
       "      <td>0</td>\n",
       "      <td>338.0</td>\n",
       "      <td>48</td>\n",
       "      <td>9</td>\n",
       "      <td>2.0</td>\n",
       "      <td>1445</td>\n",
       "    </tr>\n",
       "    <tr>\n",
       "      <th>...</th>\n",
       "      <td>...</td>\n",
       "      <td>...</td>\n",
       "      <td>...</td>\n",
       "      <td>...</td>\n",
       "      <td>...</td>\n",
       "      <td>...</td>\n",
       "      <td>...</td>\n",
       "      <td>...</td>\n",
       "      <td>...</td>\n",
       "      <td>...</td>\n",
       "      <td>...</td>\n",
       "      <td>...</td>\n",
       "      <td>...</td>\n",
       "      <td>...</td>\n",
       "      <td>...</td>\n",
       "      <td>...</td>\n",
       "      <td>...</td>\n",
       "      <td>...</td>\n",
       "      <td>...</td>\n",
       "      <td>...</td>\n",
       "      <td>...</td>\n",
       "    </tr>\n",
       "    <tr>\n",
       "      <th>2046</th>\n",
       "      <td>RL</td>\n",
       "      <td>11449</td>\n",
       "      <td>HLS</td>\n",
       "      <td>Gtl</td>\n",
       "      <td>Timber</td>\n",
       "      <td>Norm</td>\n",
       "      <td>1Fam</td>\n",
       "      <td>1Story</td>\n",
       "      <td>2007</td>\n",
       "      <td>2007</td>\n",
       "      <td>...</td>\n",
       "      <td>3</td>\n",
       "      <td>WD</td>\n",
       "      <td>298751</td>\n",
       "      <td>12</td>\n",
       "      <td>4</td>\n",
       "      <td>1447.5</td>\n",
       "      <td>40</td>\n",
       "      <td>12</td>\n",
       "      <td>2.0</td>\n",
       "      <td>1728</td>\n",
       "    </tr>\n",
       "    <tr>\n",
       "      <th>2047</th>\n",
       "      <td>RL</td>\n",
       "      <td>12342</td>\n",
       "      <td>Lvl</td>\n",
       "      <td>Gtl</td>\n",
       "      <td>Edwards</td>\n",
       "      <td>Norm</td>\n",
       "      <td>1Fam</td>\n",
       "      <td>1Story</td>\n",
       "      <td>1940</td>\n",
       "      <td>1950</td>\n",
       "      <td>...</td>\n",
       "      <td>1</td>\n",
       "      <td>WD</td>\n",
       "      <td>82500</td>\n",
       "      <td>9</td>\n",
       "      <td>0</td>\n",
       "      <td>561.5</td>\n",
       "      <td>20</td>\n",
       "      <td>9</td>\n",
       "      <td>1.0</td>\n",
       "      <td>861</td>\n",
       "    </tr>\n",
       "    <tr>\n",
       "      <th>2048</th>\n",
       "      <td>RL</td>\n",
       "      <td>7558</td>\n",
       "      <td>Bnk</td>\n",
       "      <td>Gtl</td>\n",
       "      <td>Crawfor</td>\n",
       "      <td>Norm</td>\n",
       "      <td>1Fam</td>\n",
       "      <td>1.5Fin</td>\n",
       "      <td>1928</td>\n",
       "      <td>1950</td>\n",
       "      <td>...</td>\n",
       "      <td>3</td>\n",
       "      <td>WD</td>\n",
       "      <td>177000</td>\n",
       "      <td>9</td>\n",
       "      <td>3</td>\n",
       "      <td>448.0</td>\n",
       "      <td>36</td>\n",
       "      <td>9</td>\n",
       "      <td>1.5</td>\n",
       "      <td>1913</td>\n",
       "    </tr>\n",
       "    <tr>\n",
       "      <th>2049</th>\n",
       "      <td>RL</td>\n",
       "      <td>10400</td>\n",
       "      <td>Lvl</td>\n",
       "      <td>Gtl</td>\n",
       "      <td>NAmes</td>\n",
       "      <td>Norm</td>\n",
       "      <td>1Fam</td>\n",
       "      <td>1Story</td>\n",
       "      <td>1956</td>\n",
       "      <td>1956</td>\n",
       "      <td>...</td>\n",
       "      <td>3</td>\n",
       "      <td>WD</td>\n",
       "      <td>144000</td>\n",
       "      <td>9</td>\n",
       "      <td>8</td>\n",
       "      <td>302.5</td>\n",
       "      <td>20</td>\n",
       "      <td>9</td>\n",
       "      <td>1.0</td>\n",
       "      <td>1200</td>\n",
       "    </tr>\n",
       "    <tr>\n",
       "      <th>2050</th>\n",
       "      <td>RL</td>\n",
       "      <td>7500</td>\n",
       "      <td>Lvl</td>\n",
       "      <td>Gtl</td>\n",
       "      <td>Gilbert</td>\n",
       "      <td>Norm</td>\n",
       "      <td>1Fam</td>\n",
       "      <td>2Story</td>\n",
       "      <td>1999</td>\n",
       "      <td>1999</td>\n",
       "      <td>...</td>\n",
       "      <td>3</td>\n",
       "      <td>WD</td>\n",
       "      <td>189000</td>\n",
       "      <td>9</td>\n",
       "      <td>3</td>\n",
       "      <td>497.0</td>\n",
       "      <td>35</td>\n",
       "      <td>9</td>\n",
       "      <td>2.5</td>\n",
       "      <td>1804</td>\n",
       "    </tr>\n",
       "  </tbody>\n",
       "</table>\n",
       "<p>2002 rows × 25 columns</p>\n",
       "</div>"
      ],
      "text/plain": [
       "     ms_zoning  lot_area land_contour land_slope neighborhood condition_1  \\\n",
       "0           RL     13517          Lvl        Gtl       Sawyer        RRAe   \n",
       "1           RL     11492          Lvl        Gtl      SawyerW        Norm   \n",
       "2           RL      7922          Lvl        Gtl        NAmes        Norm   \n",
       "3           RL      9802          Lvl        Gtl       Timber        Norm   \n",
       "4           RL     14235          Lvl        Gtl      SawyerW        Norm   \n",
       "...        ...       ...          ...        ...          ...         ...   \n",
       "2046        RL     11449          HLS        Gtl       Timber        Norm   \n",
       "2047        RL     12342          Lvl        Gtl      Edwards        Norm   \n",
       "2048        RL      7558          Bnk        Gtl      Crawfor        Norm   \n",
       "2049        RL     10400          Lvl        Gtl        NAmes        Norm   \n",
       "2050        RL      7500          Lvl        Gtl      Gilbert        Norm   \n",
       "\n",
       "     bldg_type house_style  year_built  year_remod_add  ... bedroom_abvgr  \\\n",
       "0         1Fam      2Story        1976            2005  ...             3   \n",
       "1         1Fam      2Story        1996            1997  ...             4   \n",
       "2         1Fam      1Story        1953            2007  ...             3   \n",
       "3         1Fam      2Story        2006            2007  ...             3   \n",
       "4         1Fam      1.5Fin        1900            1993  ...             3   \n",
       "...        ...         ...         ...             ...  ...           ...   \n",
       "2046      1Fam      1Story        2007            2007  ...             3   \n",
       "2047      1Fam      1Story        1940            1950  ...             1   \n",
       "2048      1Fam      1.5Fin        1928            1950  ...             3   \n",
       "2049      1Fam      1Story        1956            1956  ...             3   \n",
       "2050      1Fam      2Story        1999            1999  ...             3   \n",
       "\n",
       "      sale_type  saleprice  bsmt_qual_cond  fireplaces_weighted  \\\n",
       "0           WD      130500               9                    0   \n",
       "1           WD      220000              12                    3   \n",
       "2           WD      109000               9                    0   \n",
       "3           WD      174000              12                    0   \n",
       "4           WD      138500               8                    0   \n",
       "...         ...        ...             ...                  ...   \n",
       "2046        WD      298751              12                    4   \n",
       "2047        WD       82500               9                    0   \n",
       "2048        WD      177000               9                    3   \n",
       "2049        WD      144000               9                    8   \n",
       "2050        WD      189000               9                    3   \n",
       "\n",
       "      bsmt_weighted_sf qual_cond  exter_qual_cond  bath  sq_ft  \n",
       "0                629.0        48               12   2.5   1479  \n",
       "1                775.0        35               12   2.5   2122  \n",
       "2                894.0        35               12   1.0   1057  \n",
       "3                192.0        25                9   2.5   1444  \n",
       "4                338.0        48                9   2.0   1445  \n",
       "...                ...       ...              ...   ...    ...  \n",
       "2046            1447.5        40               12   2.0   1728  \n",
       "2047             561.5        20                9   1.0    861  \n",
       "2048             448.0        36                9   1.5   1913  \n",
       "2049             302.5        20                9   1.0   1200  \n",
       "2050             497.0        35                9   2.5   1804  \n",
       "\n",
       "[2002 rows x 25 columns]"
      ]
     },
     "execution_count": 115,
     "metadata": {},
     "output_type": "execute_result"
    }
   ],
   "source": [
    "house"
   ]
  },
  {
   "cell_type": "code",
   "execution_count": 116,
   "id": "6cb766c8-93ef-4446-baac-684ea2b8f5b3",
   "metadata": {},
   "outputs": [],
   "source": [
    "dummy_train, dummy_test = dummify_train_test(house, numeric_features, categoric_features)"
   ]
  },
  {
   "cell_type": "code",
   "execution_count": 117,
   "id": "cea77609-bc0c-49e1-a848-eb21c8f932df",
   "metadata": {},
   "outputs": [],
   "source": [
    "X_train, X_val, y_train, y_val = train_test_split(dummy_train, house['saleprice'], test_size = 0.3, random_state = 6)"
   ]
  },
  {
   "cell_type": "code",
   "execution_count": 118,
   "id": "2f0ab508-26c8-4040-9204-f8ffc29e1eb1",
   "metadata": {},
   "outputs": [],
   "source": [
    "ss = StandardScaler()\n",
    "\n",
    "X_train_sc = ss.fit_transform(X_train)\n",
    "X_val_sc = ss.transform(X_val)"
   ]
  },
  {
   "cell_type": "code",
   "execution_count": 119,
   "id": "d7144384-f440-4a33-92b7-2aea09c56a06",
   "metadata": {},
   "outputs": [],
   "source": [
    "lr = LinearRegression()\n",
    "\n",
    "lr.fit(X_train_sc, y_train)\n",
    "y_pred = lr.predict(X_train_sc)\n",
    "y_val_pred = lr.predict(X_val_sc)"
   ]
  },
  {
   "cell_type": "code",
   "execution_count": 120,
   "id": "22a521d8-0736-4500-bc96-3827df1a41ae",
   "metadata": {},
   "outputs": [
    {
     "name": "stdout",
     "output_type": "stream",
     "text": [
      "0.8256928531922241\n",
      "0.8200877456847311\n",
      "987832897.8973339\n",
      "31429.80906555644\n",
      "969517218.4260786\n",
      "31137.071449095507\n"
     ]
    }
   ],
   "source": [
    "print(lr.score(X_train_sc, y_train))\n",
    "print(lr.score(X_val_sc, y_val))\n",
    "print(metrics.mean_squared_error(y_train, y_pred))\n",
    "print(metrics.mean_squared_error(y_train, y_pred, squared = False))\n",
    "print(metrics.mean_squared_error(y_val, y_val_pred))\n",
    "print(metrics.mean_squared_error(y_val, y_val_pred, squared = False))"
   ]
  },
  {
   "cell_type": "code",
   "execution_count": 122,
   "id": "996b3605-31c6-4b69-8da8-5307b7407998",
   "metadata": {},
   "outputs": [
    {
     "data": {
      "text/plain": [
       "0.8045549832607662"
      ]
     },
     "execution_count": 122,
     "metadata": {},
     "output_type": "execute_result"
    }
   ],
   "source": [
    "cross_val_score(lr, X_train_sc, y_train).mean()"
   ]
  },
  {
   "cell_type": "markdown",
   "id": "186f3f04-301c-402d-8423-06258194d6c8",
   "metadata": {},
   "source": [
    "We see above that the Root Mean Squared Errors do not appear to be better than our previous model despite including more features. Unfortunately, our validation score did not make clear that our previous model was overfit. This model could very well be overfit, too. Or this model could be better and the agreement between the train and validation scores could be more authentic now that we have included more features.\n",
    "\n",
    "One thing to note is that we would expect our R squared scores to improve from adding features. Since our R squared score did not increase, it could mean two things:\n",
    "1. The previous R squared score was inflated and the new features are producing a more authentically higher R squared score,\n",
    "2. or the new features contribute negligible guidance for predicting the sale price of homes. This is probably more likely.\n",
    "\n",
    "Regardless, we should still search for a more convincingly successful model."
   ]
  },
  {
   "cell_type": "markdown",
   "id": "052b9465-2deb-47e7-913a-784a4fb63fbc",
   "metadata": {},
   "source": [
    "---\n",
    "\n",
    "## Take Three - Kitchen Quality\n",
    "\n",
    "In our first approach, we converted the kitchen quality ratings from descriptive ratings to numeric ratings. This could be problematic because a numbered rating system introduces an implicit relationships between the ratings that did not exist before. For example, a house may have a kitchen quality of 4 while another has a kitchen quality of 2. This does not necessarily mean the first home's kitchen is twice as nice as the second.\n",
    "\n",
    "Let us plan to one-hot-encode `kitchen_qual`. As for numeric columns, we will use `sq_ft` again with `bsmt_weighted_sf` as these seem to be the most relevant columns that still produce low VIFs."
   ]
  },
  {
   "cell_type": "code",
   "execution_count": 173,
   "id": "e6cf1c4c-28cf-4a18-bd3d-6b2c6524c280",
   "metadata": {},
   "outputs": [],
   "source": [
    "#\n",
    "# Edit above: include plan to overfit a bit\n",
    "# test the model\n",
    "#\n",
    "# include ridge\n",
    "#"
   ]
  },
  {
   "cell_type": "code",
   "execution_count": 124,
   "id": "63cfa66c-4c4c-46c6-b1ff-2bdeef003a9e",
   "metadata": {},
   "outputs": [],
   "source": [
    "numeric_features = ['sq_ft', 'garage_area', 'bsmt_weighted_sf']\n",
    "categ_features = ['neighborhood', 'house_style', 'kitchen_qual']"
   ]
  },
  {
   "cell_type": "code",
   "execution_count": 125,
   "id": "856cd83c-852f-4e54-a939-74af61445bdb",
   "metadata": {},
   "outputs": [],
   "source": [
    "dummy_train, dummy_test = dummify_train_test(house, numeric_features, categ_features)"
   ]
  },
  {
   "cell_type": "code",
   "execution_count": 126,
   "id": "715c878c-59b7-4d14-b792-80e2f3ecb294",
   "metadata": {},
   "outputs": [],
   "source": [
    "y = house['saleprice']"
   ]
  },
  {
   "cell_type": "code",
   "execution_count": 127,
   "id": "24f1baec-9b88-4494-a9fb-465964d14bf5",
   "metadata": {},
   "outputs": [],
   "source": [
    "X_train, X_val, y_train, y_val = train_test_split(dummy_train, y, test_size = 0.3, random_state = 6)"
   ]
  },
  {
   "cell_type": "code",
   "execution_count": 128,
   "id": "b0bf6868-defa-4ebf-85ce-c43d5b4f8b5b",
   "metadata": {},
   "outputs": [],
   "source": [
    "ss = StandardScaler()\n",
    "\n",
    "X_train_sc = ss.fit_transform(X_train)\n",
    "X_val_sc = ss.transform(X_val)"
   ]
  },
  {
   "cell_type": "code",
   "execution_count": 129,
   "id": "e758a6b2-8cff-4548-a1d5-c686aaf3356d",
   "metadata": {},
   "outputs": [],
   "source": [
    "lr = LinearRegression()\n",
    "\n",
    "lr.fit(X_train_sc, y_train)\n",
    "yt_pred = lr.predict(X_train_sc)\n",
    "yv_pred = lr.predict(X_val_sc)"
   ]
  },
  {
   "cell_type": "code",
   "execution_count": 130,
   "id": "06f87c81-c5a5-475f-b5ae-7bfd0b748fa8",
   "metadata": {},
   "outputs": [
    {
     "name": "stdout",
     "output_type": "stream",
     "text": [
      "0.8759465544939518\n",
      "0.8666992405886502\n",
      "703035284.6262172\n",
      "26514.812551217805\n",
      "718335624.0543063\n",
      "26801.783971487912\n"
     ]
    }
   ],
   "source": [
    "print(lr.score(X_train_sc, y_train))\n",
    "print(lr.score(X_val_sc, y_val))\n",
    "print(metrics.mean_squared_error(y_train, yt_pred))\n",
    "print(metrics.mean_squared_error(y_train, yt_pred, squared = False))\n",
    "print(metrics.mean_squared_error(y_val, yv_pred))\n",
    "print(metrics.mean_squared_error(y_val, yv_pred, squared = False))"
   ]
  },
  {
   "cell_type": "code",
   "execution_count": 131,
   "id": "e017612d-1789-4494-aa49-012d861ad3f3",
   "metadata": {},
   "outputs": [
    {
     "data": {
      "text/plain": [
       "0.8626531975648142"
      ]
     },
     "execution_count": 131,
     "metadata": {},
     "output_type": "execute_result"
    }
   ],
   "source": [
    "cross_val_score(lr, X_train_sc, y_train).mean()"
   ]
  },
  {
   "cell_type": "markdown",
   "id": "3794b888-6ec2-4744-aead-8b12229b9462",
   "metadata": {},
   "source": [
    "It is not clear to me why these warnings appear, but they do not seem to harm the code's ability to produce metrics on our regression. The R squared scores of our model are extremely poor but the RMSE scores are a bit better. "
   ]
  },
  {
   "cell_type": "code",
   "execution_count": 234,
   "id": "4cfc354a-4867-4f25-a123-3578f8233827",
   "metadata": {},
   "outputs": [],
   "source": [
    "#\n",
    "# Edit above line, fixed:\n",
    "# issue was running scores on unscaled datasets when fit was scaled\n",
    "#\n",
    "# "
   ]
  },
  {
   "cell_type": "code",
   "execution_count": 235,
   "id": "9187587e-07e7-43f7-83a7-823b80297410",
   "metadata": {},
   "outputs": [],
   "source": [
    "# Now I am curious what will happen to my model's performance if I am a little more lax on my choice of features. Earlier we made decisions to leave out some features because they contributed to large VIFs (`garage_area`) or they seemed like they only applied to a significantly smaller subset of the data (``)"
   ]
  },
  {
   "cell_type": "code",
   "execution_count": null,
   "id": "106bfd17-4908-44dc-8621-0cb5d5e1aa96",
   "metadata": {},
   "outputs": [],
   "source": []
  },
  {
   "cell_type": "markdown",
   "id": "9ce3ff58-021c-48b9-9c04-bbe02f1abd43",
   "metadata": {
    "tags": []
   },
   "source": [
    "---\n",
    "\n",
    "## Ridge"
   ]
  },
  {
   "cell_type": "code",
   "execution_count": 132,
   "id": "e4c20949-f64a-466e-b878-17c0603ad72f",
   "metadata": {},
   "outputs": [],
   "source": [
    "alphas = np.logspace(0, 5, 100)\n",
    "\n",
    "ridge_cv = RidgeCV(alphas = alphas, cv = 5)"
   ]
  },
  {
   "cell_type": "code",
   "execution_count": 133,
   "id": "b58fc35b-d33a-4a1e-a2bb-03e6bc2d8132",
   "metadata": {},
   "outputs": [],
   "source": [
    "# using the same train test split as above\n",
    "# X_train and X_val have already been 'standard scaled'\n",
    "# expressed as X_train_sc and X_val_sc\n",
    "\n",
    "ridge_cv.fit(X_train_sc, y_train);"
   ]
  },
  {
   "cell_type": "code",
   "execution_count": 134,
   "id": "211bf2e2-e59d-4e4a-bf77-cc8a452ffcdb",
   "metadata": {},
   "outputs": [
    {
     "data": {
      "text/plain": [
       "1.0"
      ]
     },
     "execution_count": 134,
     "metadata": {},
     "output_type": "execute_result"
    }
   ],
   "source": [
    "ridge_cv.alpha_"
   ]
  },
  {
   "cell_type": "code",
   "execution_count": 135,
   "id": "25fb61cb-0eb8-4cf0-a22b-779b816e0bb9",
   "metadata": {},
   "outputs": [],
   "source": [
    "alphas = np.logspace(-10, 1, 100)\n",
    "\n",
    "ridge_cv = RidgeCV(alphas = alphas, cv = 5)"
   ]
  },
  {
   "cell_type": "code",
   "execution_count": 136,
   "id": "f24280d6-783a-486d-9b27-43fab5b8eb7b",
   "metadata": {},
   "outputs": [],
   "source": [
    "# using the same train test split as above\n",
    "# X_train and X_val have already been 'standard scaled'\n",
    "# expressed as X_train_sc and X_val_sc\n",
    "\n",
    "ridge_cv.fit(X_train_sc, y_train);"
   ]
  },
  {
   "cell_type": "code",
   "execution_count": 137,
   "id": "1cc7d7ed-ff91-4f15-b52f-2bac9fbcbeb0",
   "metadata": {},
   "outputs": [
    {
     "data": {
      "text/plain": [
       "1e-10"
      ]
     },
     "execution_count": 137,
     "metadata": {},
     "output_type": "execute_result"
    }
   ],
   "source": [
    "ridge_cv.alpha_"
   ]
  },
  {
   "cell_type": "markdown",
   "id": "90b25428-7615-45b5-ba1a-7c65b8d46205",
   "metadata": {},
   "source": [
    "In both instances of running `RidgeCV`, the optimal alpha value is the lowest. This means that Ridge views our model as a good fit already and believes the penalty term is not very necessary. For the sake of example, let us fit a Ridge regression with the default alpha = 1 that our first RidgeCV suggested."
   ]
  },
  {
   "cell_type": "code",
   "execution_count": 138,
   "id": "0c7238fd-2fe3-4bdd-9c99-030a9efef40d",
   "metadata": {},
   "outputs": [],
   "source": [
    "ridge = Ridge()"
   ]
  },
  {
   "cell_type": "code",
   "execution_count": 140,
   "id": "f7cabd6e-b1c0-4fc7-9a62-b9530d4d0df9",
   "metadata": {},
   "outputs": [],
   "source": [
    "ridge.fit(X_train_sc, y_train);"
   ]
  },
  {
   "cell_type": "code",
   "execution_count": 142,
   "id": "8a6d9e84-c8ac-408b-b177-260918a50bad",
   "metadata": {},
   "outputs": [],
   "source": [
    "yt_pred = ridge.predict(X_train_sc)\n",
    "yv_pred = ridge.predict(X_val_sc)"
   ]
  },
  {
   "cell_type": "code",
   "execution_count": 143,
   "id": "cd04f0ef-7019-4e6f-9e27-7665d8279bec",
   "metadata": {},
   "outputs": [
    {
     "name": "stdout",
     "output_type": "stream",
     "text": [
      "0.8759446677927176\n",
      "0.8667628148927261\n",
      "703045976.9333413\n",
      "26515.01417939167\n",
      "717993032.7022852\n",
      "26795.39200501245\n"
     ]
    }
   ],
   "source": [
    "print(ridge.score(X_train_sc, y_train))\n",
    "print(ridge.score(X_val_sc, y_val))\n",
    "print(metrics.mean_squared_error(y_train, yt_pred))\n",
    "print(metrics.mean_squared_error(y_train, yt_pred, squared = False))\n",
    "print(metrics.mean_squared_error(y_val, yv_pred))\n",
    "print(metrics.mean_squared_error(y_val, yv_pred, squared = False))"
   ]
  },
  {
   "cell_type": "code",
   "execution_count": 141,
   "id": "22556810-f343-48b2-86e2-8cec2968ef0e",
   "metadata": {},
   "outputs": [
    {
     "data": {
      "text/plain": [
       "0.8631841956284261"
      ]
     },
     "execution_count": 141,
     "metadata": {},
     "output_type": "execute_result"
    }
   ],
   "source": [
    "cross_val_score(ridge, X_train_sc, y_train).mean()"
   ]
  },
  {
   "cell_type": "code",
   "execution_count": null,
   "id": "ac47fadd-7897-483b-a93e-b058256534be",
   "metadata": {},
   "outputs": [],
   "source": []
  },
  {
   "cell_type": "code",
   "execution_count": null,
   "id": "cec671ef-fdf3-41eb-8cfc-65bd14b729cc",
   "metadata": {},
   "outputs": [],
   "source": []
  },
  {
   "cell_type": "markdown",
   "id": "79a3dd7f-bc78-49b0-b1ea-a26df77dd048",
   "metadata": {
    "tags": []
   },
   "source": [
    "---\n",
    "\n",
    "## Take Four - Lot Area and Quality/Condition\n",
    "\n",
    "We will eventually use Ridge and Lasso to deal with overfit models. First, let us include a few more variables that may make our model overfit. Namely, let us include `lot_area` and `qual_cond`."
   ]
  },
  {
   "cell_type": "code",
   "execution_count": 285,
   "id": "4c90b8a0-b31e-459c-925f-ff1da457b9fd",
   "metadata": {},
   "outputs": [],
   "source": [
    "numeric_features = ['sq_ft', 'garage_area', 'bsmt_weighted_sf', 'lot_area', 'qual_cond']\n",
    "categ_features = ['neighborhood', 'house_style', 'kitchen_qual']"
   ]
  },
  {
   "cell_type": "code",
   "execution_count": 286,
   "id": "140e0b13-9aa6-4c81-9502-36b1b2f15d55",
   "metadata": {},
   "outputs": [],
   "source": [
    "dummy_train, dummy_test = dummify_train_test(house, numeric_features, categ_features)"
   ]
  },
  {
   "cell_type": "code",
   "execution_count": 287,
   "id": "1d39c7e8-e93b-4cb1-a39f-7e172f07dec7",
   "metadata": {},
   "outputs": [],
   "source": [
    "X_train, X_val, y_train, y_val = train_test_split(dummy_train, y, test_size = 0.3, random_state = 8)"
   ]
  },
  {
   "cell_type": "code",
   "execution_count": 288,
   "id": "64297db5-332e-45fe-88cd-1bca9b63fcd3",
   "metadata": {},
   "outputs": [],
   "source": [
    "ss = StandardScaler()\n",
    "\n",
    "X_train_sc = ss.fit_transform(X_train)\n",
    "X_val_sc = ss.transform(X_val)"
   ]
  },
  {
   "cell_type": "code",
   "execution_count": 289,
   "id": "fe2cf723-e8eb-4dfe-a2aa-a8e30a7d15d5",
   "metadata": {},
   "outputs": [],
   "source": [
    "lr = LinearRegression()\n",
    "\n",
    "lr.fit(X_train_sc, y_train)\n",
    "yt_pred = lr.predict(X_train_sc)\n",
    "yv_pred = lr.predict(X_val_sc)"
   ]
  },
  {
   "cell_type": "code",
   "execution_count": 290,
   "id": "d9207a0e-6f48-43c4-9983-09b741a95f9c",
   "metadata": {},
   "outputs": [
    {
     "name": "stdout",
     "output_type": "stream",
     "text": [
      "0.8947403220017641\n",
      "0.9018904981266351\n",
      "585153630.4006903\n",
      "24189.94895407368\n",
      "553068947.5777028\n",
      "23517.417961538693\n"
     ]
    }
   ],
   "source": [
    "print(lr.score(X_train_sc, y_train))\n",
    "print(lr.score(X_val_sc, y_val))\n",
    "print(metrics.mean_squared_error(y_train, yt_pred))\n",
    "print(metrics.mean_squared_error(y_train, yt_pred, squared = False))\n",
    "print(metrics.mean_squared_error(y_val, yv_pred))\n",
    "print(metrics.mean_squared_error(y_val, yv_pred, squared = False))"
   ]
  },
  {
   "cell_type": "code",
   "execution_count": 291,
   "id": "4543b7d2-5ce1-4e8d-b32f-5f5139558ffa",
   "metadata": {},
   "outputs": [],
   "source": [
    "X_test_sc = ss.transform(dummy_test)"
   ]
  },
  {
   "cell_type": "code",
   "execution_count": 292,
   "id": "a3774ac4-99e2-441b-a169-0901cebc77b5",
   "metadata": {},
   "outputs": [],
   "source": [
    "kag_preds = lr.predict(X_test_sc)"
   ]
  },
  {
   "cell_type": "markdown",
   "id": "bc03780b-c5e8-45f4-9290-bf03637b0e82",
   "metadata": {},
   "source": [
    "Our scores once again improve, though not very significantly. Feeling more confident that our model is overfit, let us now use Ridge and Lasso."
   ]
  },
  {
   "cell_type": "code",
   "execution_count": 293,
   "id": "538ff280-e2d2-41fe-84c2-14b6630f1eef",
   "metadata": {},
   "outputs": [],
   "source": [
    "submit(raw_house_test, kag_preds, 5)"
   ]
  },
  {
   "cell_type": "markdown",
   "id": "621797bc-aaac-4db4-afdb-56f7d5204f24",
   "metadata": {},
   "source": [
    "The Kaggle submission score was 30,007, which again is significantly lower than the scores anticipate."
   ]
  },
  {
   "cell_type": "markdown",
   "id": "590f06e6-3770-42d9-ac83-b72a811368b1",
   "metadata": {},
   "source": [
    "--- \n",
    "\n",
    "## Take Five - Even More Features"
   ]
  },
  {
   "cell_type": "code",
   "execution_count": 294,
   "id": "05194edd-5c76-497f-9844-b971a70b09f6",
   "metadata": {},
   "outputs": [
    {
     "data": {
      "text/plain": [
       "Index(['lot_area', 'year_built', 'year_remod_add', 'garage_area',\n",
       "       'wood_deck_sf', 'open_porch_sf', 'kitchen_qual', 'bedroom_abvgr',\n",
       "       'saleprice', 'bsmt_qual_cond', 'fireplaces_weighted',\n",
       "       'bsmt_weighted_sf', 'qual_cond', 'exter_qual_cond', 'bath', 'sq_ft'],\n",
       "      dtype='object')"
      ]
     },
     "execution_count": 294,
     "metadata": {},
     "output_type": "execute_result"
    }
   ],
   "source": [
    "house.select_dtypes('number').columns"
   ]
  },
  {
   "cell_type": "code",
   "execution_count": 295,
   "id": "88aef68f-f193-4293-bfdf-1b5a23222685",
   "metadata": {},
   "outputs": [
    {
     "data": {
      "text/plain": [
       "Index(['ms_zoning', 'land_contour', 'land_slope', 'neighborhood',\n",
       "       'condition_1', 'bldg_type', 'house_style', 'mas_vnr_type', 'sale_type'],\n",
       "      dtype='object')"
      ]
     },
     "execution_count": 295,
     "metadata": {},
     "output_type": "execute_result"
    }
   ],
   "source": [
    "house.select_dtypes('object').columns"
   ]
  },
  {
   "cell_type": "code",
   "execution_count": 296,
   "id": "fd2c8db5-b625-4353-90b3-1b9f0b84a71e",
   "metadata": {},
   "outputs": [],
   "source": [
    "numeric_features = ['sq_ft', 'bedroom_abvgr', 'garage_area', 'bsmt_weighted_sf', 'lot_area', 'year_built', 'bath', 'qual_cond', 'fireplaces_weighted']\n",
    "categ_features = ['neighborhood', 'house_style', 'kitchen_qual']"
   ]
  },
  {
   "cell_type": "code",
   "execution_count": 297,
   "id": "9e534510-ce5c-4741-9865-6c4bd5503d10",
   "metadata": {},
   "outputs": [],
   "source": [
    "dummy_train, dummy_test = dummify_train_test(house, numeric_features, categ_features)"
   ]
  },
  {
   "cell_type": "code",
   "execution_count": 298,
   "id": "af4f4671-db41-40a8-aeb5-a593263b0fb9",
   "metadata": {},
   "outputs": [],
   "source": [
    "X_train, X_val, y_train, y_val = train_test_split(dummy_train, y, test_size = 0.2, random_state = 8)"
   ]
  },
  {
   "cell_type": "code",
   "execution_count": 299,
   "id": "3c0c2347-12d9-4e8d-a7e0-4097d7018fe7",
   "metadata": {},
   "outputs": [],
   "source": [
    "ss = StandardScaler()\n",
    "\n",
    "X_train_sc = ss.fit_transform(X_train)\n",
    "X_val_sc = ss.transform(X_val)"
   ]
  },
  {
   "cell_type": "code",
   "execution_count": 300,
   "id": "d350f8bf-ab08-4be9-8c0e-8a864686965e",
   "metadata": {},
   "outputs": [],
   "source": [
    "lr = LinearRegression()\n",
    "\n",
    "lr.fit(X_train_sc, y_train)\n",
    "yt_pred = lr.predict(X_train_sc)\n",
    "yv_pred = lr.predict(X_val_sc)"
   ]
  },
  {
   "cell_type": "code",
   "execution_count": 301,
   "id": "f49638b7-71bc-43a6-955c-f398eb91bc09",
   "metadata": {},
   "outputs": [
    {
     "name": "stdout",
     "output_type": "stream",
     "text": [
      "0.9075228715252514\n",
      "0.9100119238912097\n",
      "509583060.948662\n",
      "22573.946508057958\n",
      "528836763.0327791\n",
      "22996.451096479628\n"
     ]
    }
   ],
   "source": [
    "print(lr.score(X_train_sc, y_train))\n",
    "print(lr.score(X_val_sc, y_val))\n",
    "print(metrics.mean_squared_error(y_train, yt_pred))\n",
    "print(metrics.mean_squared_error(y_train, yt_pred, squared = False))\n",
    "print(metrics.mean_squared_error(y_val, yv_pred))\n",
    "print(metrics.mean_squared_error(y_val, yv_pred, squared = False))"
   ]
  },
  {
   "cell_type": "code",
   "execution_count": 302,
   "id": "2aa0dbb4-720c-4f58-943c-32b617e23668",
   "metadata": {},
   "outputs": [],
   "source": [
    "X_test_sc = ss.transform(dummy_test)"
   ]
  },
  {
   "cell_type": "code",
   "execution_count": 303,
   "id": "f8d9b1ea-bcef-4878-b3bc-8a064008ed2e",
   "metadata": {},
   "outputs": [],
   "source": [
    "kag_preds = lr.predict(X_test_sc)"
   ]
  },
  {
   "cell_type": "code",
   "execution_count": 304,
   "id": "6df1149f-c7b4-46ea-9125-17a77896776f",
   "metadata": {},
   "outputs": [],
   "source": [
    "submit(raw_house_test, kag_preds, 6)"
   ]
  },
  {
   "cell_type": "markdown",
   "id": "7ddae149-927e-45eb-9d6b-dcbcaec5d245",
   "metadata": {},
   "source": [
    "---\n",
    "\n",
    "## Lasso"
   ]
  },
  {
   "cell_type": "code",
   "execution_count": 305,
   "id": "ddc6c676-40ae-430e-ad99-ac01bdc88b59",
   "metadata": {},
   "outputs": [],
   "source": [
    "alphas = np.logspace(0, 5, 100)\n",
    "\n",
    "lasso_cv = LassoCV(alphas = alphas, cv = 5)"
   ]
  },
  {
   "cell_type": "code",
   "execution_count": 306,
   "id": "bc19dbba-f5ce-49e4-aba9-581bb781b4a0",
   "metadata": {},
   "outputs": [],
   "source": [
    "lasso_cv.fit(X_train_sc, y_train);"
   ]
  },
  {
   "cell_type": "code",
   "execution_count": 307,
   "id": "e3a7fc52-6071-4dbd-a00a-80d4bbfc4e22",
   "metadata": {},
   "outputs": [
    {
     "data": {
      "text/plain": [
       "298.364724028334"
      ]
     },
     "execution_count": 307,
     "metadata": {},
     "output_type": "execute_result"
    }
   ],
   "source": [
    "lasso_cv.alpha_"
   ]
  },
  {
   "cell_type": "code",
   "execution_count": 314,
   "id": "9d458c88-6a6c-4556-abf9-2b3922e050e1",
   "metadata": {},
   "outputs": [],
   "source": [
    "alphas = np.logspace(-10, 1, 100)\n",
    "\n",
    "lasso_cv =LassoCV(alphas = alphas, cv = 5)"
   ]
  },
  {
   "cell_type": "code",
   "execution_count": 315,
   "id": "b4adbea0-544a-4ac2-accd-1d53d0b093b8",
   "metadata": {},
   "outputs": [],
   "source": [
    "lasso_cv.fit(X_train_sc, y_train);"
   ]
  },
  {
   "cell_type": "code",
   "execution_count": 316,
   "id": "beb9983b-beb9-435f-9a1a-ab19566f0595",
   "metadata": {},
   "outputs": [
    {
     "data": {
      "text/plain": [
       "10.0"
      ]
     },
     "execution_count": 316,
     "metadata": {},
     "output_type": "execute_result"
    }
   ],
   "source": [
    "lasso_cv.alpha_"
   ]
  },
  {
   "cell_type": "markdown",
   "id": "5f04848e-4366-4747-bd6a-91c8b73745ef",
   "metadata": {},
   "source": [
    "We see above that our Lasso model was best fit with alpha = 298."
   ]
  },
  {
   "cell_type": "code",
   "execution_count": 317,
   "id": "a3fe6887-f7ae-44ae-a778-61b66a012ef9",
   "metadata": {},
   "outputs": [],
   "source": [
    "lasso = Lasso(alpha = 298.36)"
   ]
  },
  {
   "cell_type": "code",
   "execution_count": 318,
   "id": "c2d2d9cf-4bc8-4ec8-9d18-153441c4a5bc",
   "metadata": {},
   "outputs": [],
   "source": [
    "lasso.fit(X_train_sc, y_train);"
   ]
  },
  {
   "cell_type": "code",
   "execution_count": 322,
   "id": "92739956-ded1-437b-b988-66f5c9ae3a1a",
   "metadata": {},
   "outputs": [],
   "source": [
    "yt_pred = lasso.predict(X_train_sc)\n",
    "yv_pred = lasso.predict(X_val_sc)"
   ]
  },
  {
   "cell_type": "code",
   "execution_count": 323,
   "id": "efc1972e-5bae-4a53-9e29-dca963231825",
   "metadata": {},
   "outputs": [
    {
     "name": "stdout",
     "output_type": "stream",
     "text": [
      "0.9067927186731571\n",
      "0.9105503346489553\n",
      "513606472.2663283\n",
      "22662.887553582583\n",
      "525672661.5804485\n",
      "22927.552455080076\n"
     ]
    }
   ],
   "source": [
    "print(lasso.score(X_train_sc, y_train))\n",
    "print(lasso.score(X_val_sc, y_val))\n",
    "print(metrics.mean_squared_error(y_train, yt_pred))\n",
    "print(metrics.mean_squared_error(y_train, yt_pred, squared = False))\n",
    "print(metrics.mean_squared_error(y_val, yv_pred))\n",
    "print(metrics.mean_squared_error(y_val, yv_pred, squared = False))"
   ]
  },
  {
   "cell_type": "code",
   "execution_count": 324,
   "id": "487e053b-38c3-4338-a2db-1e9fc4214697",
   "metadata": {},
   "outputs": [],
   "source": [
    "lasso_kag_preds = lasso.predict(X_test_sc)"
   ]
  },
  {
   "cell_type": "code",
   "execution_count": 325,
   "id": "db1e0adf-258d-4d9f-aea0-524e92ce4c41",
   "metadata": {},
   "outputs": [],
   "source": [
    "submit(raw_house_test, lasso_kag_preds, 7)"
   ]
  },
  {
   "cell_type": "markdown",
   "id": "a542a2c8-1e59-45e0-b373-6df4715accb8",
   "metadata": {},
   "source": [
    "Kaggle score: 27,992."
   ]
  },
  {
   "cell_type": "markdown",
   "id": "a561be00-9732-49a4-a5f6-76f35fa0357c",
   "metadata": {},
   "source": [
    "---\n",
    "\n",
    "## Residuals"
   ]
  },
  {
   "cell_type": "code",
   "execution_count": null,
   "id": "9d25e7b7-9eab-4217-bc6b-368ca8fe0484",
   "metadata": {},
   "outputs": [],
   "source": []
  },
  {
   "cell_type": "code",
   "execution_count": null,
   "id": "fdebf3c9-b80e-4557-9c83-814243257f62",
   "metadata": {},
   "outputs": [],
   "source": []
  },
  {
   "cell_type": "code",
   "execution_count": null,
   "id": "069eefb5-f752-4c7f-b83a-52de9327f878",
   "metadata": {},
   "outputs": [],
   "source": []
  },
  {
   "cell_type": "code",
   "execution_count": null,
   "id": "3c113db3-92d5-4e43-8b92-5261d22575bc",
   "metadata": {},
   "outputs": [],
   "source": []
  },
  {
   "cell_type": "markdown",
   "id": "757a1122-c4a8-4738-9c1d-d839ef0bb0b2",
   "metadata": {
    "jp-MarkdownHeadingCollapsed": true,
    "tags": []
   },
   "source": [
    "---\n",
    "\n",
    "## Exploring Why the Validation Score is So Low 1/3 of The Time"
   ]
  },
  {
   "cell_type": "code",
   "execution_count": null,
   "id": "99a6d688-41c2-4643-ba90-9cb22d39eb0d",
   "metadata": {},
   "outputs": [],
   "source": []
  },
  {
   "cell_type": "code",
   "execution_count": null,
   "id": "efc337d6-239a-4af8-b789-882ba967c601",
   "metadata": {},
   "outputs": [],
   "source": []
  },
  {
   "cell_type": "code",
   "execution_count": null,
   "id": "9a32b364-8359-4a37-9747-bbbd3713a008",
   "metadata": {},
   "outputs": [],
   "source": []
  },
  {
   "cell_type": "code",
   "execution_count": null,
   "id": "b25aaf37-06d3-4e63-bf8d-5b869b7ea7b0",
   "metadata": {},
   "outputs": [],
   "source": []
  },
  {
   "cell_type": "code",
   "execution_count": null,
   "id": "6de4a56c-aeeb-4243-8739-5b18ea71966b",
   "metadata": {},
   "outputs": [],
   "source": []
  },
  {
   "cell_type": "code",
   "execution_count": null,
   "id": "eadc36cd-31f2-4f13-8daa-96ddef4da266",
   "metadata": {},
   "outputs": [],
   "source": []
  },
  {
   "cell_type": "code",
   "execution_count": null,
   "id": "ed8e0dd4-920a-4e17-bcbb-0dfb46d3fafe",
   "metadata": {},
   "outputs": [],
   "source": []
  },
  {
   "cell_type": "code",
   "execution_count": null,
   "id": "5e3e09c9-c0a3-4b4f-8f45-51d34645170f",
   "metadata": {},
   "outputs": [],
   "source": []
  },
  {
   "cell_type": "code",
   "execution_count": null,
   "id": "4e665b7c-cbbf-41a7-a5fb-7e92b857442e",
   "metadata": {},
   "outputs": [],
   "source": []
  },
  {
   "cell_type": "code",
   "execution_count": null,
   "id": "7ae020b2-00f3-4475-b4fa-0f5ba1a7b8d6",
   "metadata": {},
   "outputs": [],
   "source": []
  },
  {
   "cell_type": "code",
   "execution_count": null,
   "id": "08199129-563a-4cbe-b15f-0001d553c9b1",
   "metadata": {},
   "outputs": [],
   "source": []
  },
  {
   "cell_type": "code",
   "execution_count": null,
   "id": "f9d6b9a2-b163-4726-9046-581da834678e",
   "metadata": {},
   "outputs": [],
   "source": []
  },
  {
   "cell_type": "code",
   "execution_count": 114,
   "id": "e41695c6-f1f2-49d4-9733-96a55a15c5b0",
   "metadata": {
    "collapsed": true,
    "jupyter": {
     "outputs_hidden": true
    },
    "tags": []
   },
   "outputs": [
    {
     "data": {
      "text/plain": [
       "array([163579.64309522, 222738.74732565, 181249.06768879,  97206.7680454 ,\n",
       "       171265.59670832,  87365.33954503, 104056.70756845, 183462.48781632,\n",
       "       210778.99809075, 159366.73001299, 165541.88763481, 104730.580277  ,\n",
       "       151160.6010684 , 292402.29006131, 167802.33391479, 102105.466006  ,\n",
       "       134509.81370155, 120226.65244206, 207353.87190157, 152352.93701053,\n",
       "       111387.49396107, 123743.272013  , 180135.40792217, 161663.35359981,\n",
       "       157508.84200723, 145805.10902674, 146366.39871188, 138453.1293064 ,\n",
       "       147057.4568179 ,  63794.73543714, 105363.75973876,  72580.82920917,\n",
       "       225550.95555952, 169278.23321377, 202455.04011885, 160716.3918256 ,\n",
       "       150486.63075016,  89568.67717507,  77941.4245881 , 210298.37741024,\n",
       "       168539.03518039, 203525.09849483, 150374.50410435, 153474.98426336,\n",
       "       237967.02390511,  98410.15480745, 212142.51177239, 145126.92217398,\n",
       "       104536.54372562, 147425.40887368, 112878.52456151, 170360.58113446,\n",
       "       214946.77880131, 108734.69402825, 105701.33570832, 112990.50538803,\n",
       "       178109.89504157, 141129.6442565 , 157329.88250487, 227703.20408628,\n",
       "       332916.858448  , 176775.81812256, 117359.82742656, 172680.81540398,\n",
       "       175464.73048679, 252211.0848817 , 113914.02179481, 266655.20420307,\n",
       "        89821.27561481, 153078.23915662,  86331.3653174 , 363515.39249463,\n",
       "       192787.10767246, 171493.59635487, 130967.22635176, 216562.12608517,\n",
       "       152117.20509378, 151791.30028147,  72683.10619233, 328267.83792792,\n",
       "       198212.29106322,  92926.81302871, 118627.19024844, 114564.02079847,\n",
       "       176645.54735312, 315876.57765057, 149727.73205759, 189630.63001347,\n",
       "       231661.86171904, 101677.49126069, 136116.75645324, 108950.38591494,\n",
       "       101136.27325294, 252426.49484107, 126127.57481651, 132314.11452132,\n",
       "       184947.0941967 , 264230.42855527, 185657.57731814, 173608.539586  ,\n",
       "       295074.72837099, 172721.7613599 , 130899.30164666, 429781.29895023,\n",
       "       160094.07196817,  90627.9637874 , 181843.99291401, 199306.15600924,\n",
       "       217804.21889006, 228871.30952727, 182437.69505209, 232292.59667094,\n",
       "       107373.84176771, 136286.27264468, 229018.15303929, 439802.33696401,\n",
       "       135206.79431165, 116960.35992204, 258537.39450185, 199042.20678314,\n",
       "       322107.18616359, 272217.85951699, 316976.30949955, 172427.95220888,\n",
       "       154811.02870524, 346579.03297398, 144926.65744564, 130854.04525086,\n",
       "       109862.14834945, 229305.57553308, 172286.34789842, 208809.34627952,\n",
       "       129656.19051588, 162345.32281964, 213856.12511651, 241675.84975769,\n",
       "       212034.72600852, 146352.51684851, 261853.00222639, 118981.93362549,\n",
       "       181684.37154633,  90838.87972398, 115859.43275173, 201969.50943315,\n",
       "        72260.24361296, 164318.44034663, 151921.02916951, 171487.69756334,\n",
       "        67865.23095852, 270873.9460334 , 191007.31089328, 153705.32850676,\n",
       "        99169.61667628, 133114.30509896,  77624.07189653, 148092.52272429,\n",
       "        78756.51405025, 129865.23098069, 197884.34155659, 239066.16256394,\n",
       "       230526.35447453, 109969.1794967 , 117526.35347855, 449380.88572764,\n",
       "       252868.56767859, 233811.86006304, 170187.83641571, 170263.16919488,\n",
       "       287124.82627515, 197413.23932597, 540422.40882248, 169745.7181417 ,\n",
       "       161327.88482988, 161870.41287599, 197843.59941349, 169391.96649809,\n",
       "        67492.32507457, 234950.91535006,  86135.50733149, 158766.82191751,\n",
       "       135673.84694842, 195999.17062012, 248036.45365393, 167174.69703317,\n",
       "       147671.68657038, 104068.34440064, 187320.80180094, 199998.80335717,\n",
       "        92967.0476691 ,  71221.17338754, 161027.25477707, 115788.85629326,\n",
       "        88157.80388201, 118736.09800072, 167868.44930142, 144970.50268218,\n",
       "       250622.95299658, 141783.32793671, 158427.8422397 , 116167.44141775,\n",
       "       300529.57977732, 175245.97324507, 130858.32241742, 187030.71787551,\n",
       "       108782.05019288,  85005.62698455, 142646.15205021, 114218.56875215,\n",
       "       244492.31481291, 232091.84233186, 215410.11430737, 186843.57505756,\n",
       "       118696.24931245, 282678.75057095, 265612.37098127, 188404.42211525,\n",
       "       220317.21033865, 110737.73480588, 119156.27211924, 132266.32204778,\n",
       "       201810.93017413, 148778.55083487, 168498.19134697, 170896.84756612,\n",
       "        92370.89699702,  80430.04381474, 243309.47530193, 238100.22170514,\n",
       "       199275.56988671, 279624.97863903, 192559.49570936,  56752.64282222,\n",
       "       145335.00118681,  95912.43692615, 270780.27517993, 183601.17791739,\n",
       "        83904.99574077, 394823.15756111, 339937.20676802, 210211.09593449,\n",
       "       212940.14438247, 156462.40288744, 306537.12229839, 201721.53785506,\n",
       "       265169.97343478, 218574.32990899, 115024.4724014 , 121289.63298185,\n",
       "       198340.55304049, 297318.45983846, 258352.53135609, 142844.77786231,\n",
       "       224501.71622638, 245175.40598651, 229473.92600314, 118593.17386303,\n",
       "        85129.60088134, 394963.93925554, 208849.24289906, 244033.33358598,\n",
       "       169472.60395723, 136321.32185918, 122063.27064558, 129594.82975218,\n",
       "       212238.36801382, 157565.40997821, 171848.9862875 , 191953.70074381,\n",
       "       160383.09966517, 124448.49572552, 220107.52036573, 200618.2513906 ,\n",
       "       138217.7481867 , 321257.24344433, 117837.20850803, 148551.91967181,\n",
       "       151965.53382055, 246868.7590173 ,  85629.55208795, 143053.2485808 ,\n",
       "       195812.47065448, 123383.31222007, 124686.78584008,  68801.95696141,\n",
       "       123985.50976481, 249999.24619237, 254969.61644184,  97136.94751348,\n",
       "       112069.09017447, 141956.77854639, 105712.32195936, 126717.41275996,\n",
       "        78756.51405025,  76036.70362313, 187523.58857352, 153078.23915662,\n",
       "       179111.06111841, 275766.8575543 , 233531.69390473, 177452.52940389,\n",
       "       225021.49331966, 322352.92069392, 133258.69352226, 169838.61309087,\n",
       "        65454.15028595, 128083.1471433 , 250602.77244455, 180278.09835451,\n",
       "       166118.62719729, 142429.49858751, 266480.1505661 , 259804.91451869,\n",
       "       266547.41311282, 245078.90892765, 190231.11367857, 339646.54095549,\n",
       "       352839.69009581, 297350.80325446, 236428.98422628, 116490.798812  ,\n",
       "        67617.6660589 , 111017.3928079 , 147872.21467606, 262454.94371744,\n",
       "       160355.30514181, 142845.78502488, 159980.88094601, 169941.35212299,\n",
       "       162674.82960719, 149256.72954791, 204065.58225542, 201726.26052375,\n",
       "       177232.01542988, 194473.3621515 ,  65568.27831101, 203543.36704363,\n",
       "        73407.50430724, 126857.13866335, 129802.71184412, 141866.82506061,\n",
       "       211236.16089958, 115661.1135827 , 120036.69971248, 201191.15864926,\n",
       "       307092.6505353 , 242006.80955226, 191754.4209117 , 108718.20269311,\n",
       "       189682.76654973, 148682.26807712, 155444.79652628, 125069.96746752,\n",
       "       120921.28359015, 278974.67961293, 154596.88879273, 263165.1580081 ,\n",
       "       123667.85375533, 211606.42790617, 202136.58620478, 120686.40698884,\n",
       "       143521.58231655, 204029.4857616 , 125074.96639243, 188788.97997978,\n",
       "       174076.01067175, 258352.53135609, 251732.52234079, 243084.92815583,\n",
       "       222920.15000391, 125591.71615737, 228826.34543234, 102231.96668387,\n",
       "       165108.69757393, 362170.94146042, 105101.15568852, 240732.71237652,\n",
       "       163403.9104421 , 254748.90698529, 264252.97584999, 114782.5073687 ,\n",
       "       185097.58480887, 149664.18856072, 323218.99110543, 318125.90905925,\n",
       "       226078.90922417, 172703.1815972 , 215001.22518189, 182653.70348809,\n",
       "       158799.40538129, 105375.35837318, 106292.26123486, 283302.17357365,\n",
       "       157840.79936142, 148475.54787258, 173217.83181338,  75279.27961745,\n",
       "       184374.15697211, 191437.69682364, 135042.00054619,  89068.81611186,\n",
       "       190721.79316919, 214539.83020041, 151630.69628832, 280778.80777459,\n",
       "       178630.38229031, 119949.70007792, 157204.35599966, 216023.18015185,\n",
       "       282267.68976696, 130966.67259065, 113052.38599984, 147053.97031659,\n",
       "       257845.19273387, 141470.84884255, 262000.24109916, 324391.07088962,\n",
       "       117929.83638095, 306423.68240907, 106651.59170867, 170505.80671445,\n",
       "       260397.07036153,  94686.61236993, 254055.31051456, 117312.53585405,\n",
       "       207008.62436145, 355155.19073426, 197402.37961206, 210783.17151179,\n",
       "       107802.66369081, 250411.72233729,  85415.46948996, 132166.6494812 ,\n",
       "       105842.48557206, 178292.16779353, 100904.50950276, 306019.62402873,\n",
       "       243575.00883344, 144203.80443739, 154907.28233079, 153218.48489738,\n",
       "       193781.84027678, 154474.80026096,  85246.83908068, 232721.04266527,\n",
       "       162204.37884999, 219179.48066475,  89214.85530912,  98071.64373768,\n",
       "       308257.42704161, 154033.27216972, 174410.84393025, 285646.96585272,\n",
       "       263965.78555872, 145585.59180919, 198414.52264714, 223367.59092795,\n",
       "       226238.84227692, 138613.70088392, 215873.47345366,  78501.05778457,\n",
       "       153083.7593845 , 141947.30743315, 133324.13180143, 510579.84716798,\n",
       "       127233.56673098, 206788.03235568, 216471.77602813, 237026.02480829,\n",
       "       121985.09287635, 117517.84765699, 150752.04317898, 215425.14083142,\n",
       "       185707.77066493, 103828.60258835, 232757.7320403 , 233381.92511031,\n",
       "       122103.31069691, 156424.39793355, 129671.51940785, 181213.85346237,\n",
       "        63500.10023292, 231817.40022731,  82608.40102595, 182678.51695542,\n",
       "       319368.20143958, 151876.05510781, 152053.37897867, 165790.60835571,\n",
       "       224831.69281803, 115535.0989517 , 197446.16163048, 202395.91299774,\n",
       "       192127.03498776, 220839.06772129, 331685.05601718, 197508.938742  ,\n",
       "       153659.04299018, 127506.62411748, 191222.39643291, 128584.3236321 ,\n",
       "       166667.89880725, 293277.64843559, 179979.41599234, 164255.18302963,\n",
       "       285581.86587003, 153301.22918547, 275831.11572149, 113743.06254383,\n",
       "        87033.08442809, 239800.2524757 , 126016.08570882, 137598.05341305,\n",
       "       132501.262972  ,  97002.41469207,  37026.97560266, 185039.81237819,\n",
       "       171714.40509912, 203935.52107242, 216321.61040578, 286021.05647247,\n",
       "       116214.46249612, 143661.94989415, 138332.55632756, 112903.39011342,\n",
       "       233297.10855579, 388762.9789375 , 174092.45978892, 127374.43269384,\n",
       "       114711.9893132 ,  52264.71355867, 117401.67186068, 185813.05029143,\n",
       "       151657.68418261, 173491.50364908, 165477.17434664, 109231.07405162,\n",
       "        78756.51405025, 231122.03969364, 167439.21657863, 147318.50524613,\n",
       "       156054.77201509,  96578.68024538,  81320.00537367,  99142.35713861,\n",
       "       207365.71981012, 340953.83268065, 256221.32418071,  98099.63860552,\n",
       "        88088.89622814, 296164.39329714, 128811.074796  , 257559.64336192,\n",
       "        73519.76260884, 193822.04952984, 218041.69617588,  83069.70813781,\n",
       "        95125.74651597, 155238.4088228 ,  85522.09064163, 190347.16612793,\n",
       "       109464.31789405, 170947.45411826, 164279.589456  , 138373.1210616 ,\n",
       "       143069.61065603, 136144.95012522, 146352.51684851, 250330.95756299,\n",
       "        94262.41604539, 142818.20381777, 158169.83353295,  86226.7419639 ,\n",
       "        94174.66920069, 179123.39876376, 195240.5507627 ,  98602.54737684,\n",
       "       165386.00934577, 152053.37897867, 236166.63958282,  92158.78058866,\n",
       "       117467.85302819, 145801.68423269, 253253.87353564, 125897.77988672,\n",
       "       129824.08216783, 158550.30431464, 171821.2195171 , 156827.08559968,\n",
       "       278662.37110207, 249620.89819109,  88237.38906863, 133903.1500463 ,\n",
       "       143364.08376777, 151405.27858105, 283224.42303776, 199602.2213873 ,\n",
       "       120201.06530238, 125423.9118869 ,  62898.28686584, 324574.95919309,\n",
       "       135990.99486401, 205165.57100917, 156138.73755252, 168121.88610014,\n",
       "       234991.22066149, 124636.88062197, 113214.85954418, 119768.11093934,\n",
       "       128666.25012535, 127180.49696903,  82838.83585869, 328839.63692841,\n",
       "       232114.61335011, 135113.97768573, 124541.98478723,  80626.21141912,\n",
       "       183671.26315998, 263208.66330397,  87443.22607603, 175538.41940451,\n",
       "       195061.43078106, 146566.74003689, 168712.27652528, 133267.14875778,\n",
       "       110125.74362312, 184392.19943072, 168405.22547633, 118140.42406177,\n",
       "       417121.96510448, 148176.14692253, 240461.66674061, 193949.18042486,\n",
       "       147854.82938265,  96225.51692133, 175349.64739998, 208862.18771863,\n",
       "       149266.49242358, 166129.85989598, 156277.31208869, 122407.04877532,\n",
       "       252869.99993728, 134290.24852157, 264059.04056999, 217687.73723363,\n",
       "       163806.99178345,  61928.90971612, 238440.55633468, 203659.06058865,\n",
       "       116885.03869961, 184463.00086864, 136909.43257433,  94876.91334908,\n",
       "       122430.71427884, 121762.6301082 ,  66656.5864714 , 137052.40799802,\n",
       "       206848.70122996, 181957.29913349, 290782.17908508, 157256.70995973,\n",
       "       145872.7428805 , 187293.23013119, 206696.27518581, 224258.53661909,\n",
       "       396875.13264648, 216292.06068742, 234817.11264214, 141662.21796373,\n",
       "       181137.97516642, 299115.07351778, 212795.76887095, 329811.59492426,\n",
       "       236499.53796048, 167146.71450996, 137429.8913014 , 119163.31135143,\n",
       "       148455.44550401,  88536.60831984, 174285.32233305, 143880.40710147,\n",
       "       345430.83674116, 179837.63049522, 184973.46302995, 234728.32051896,\n",
       "       198127.91591313, 160072.50360515, 232348.64941425, 351609.235801  ,\n",
       "       142972.18844189, 187653.22385174,  78326.83316141, 103153.71383692,\n",
       "       299668.5784649 , 101726.95427273, 211001.99932861, 159654.40206121,\n",
       "       195874.57111351, 341100.81488113, 126791.05311763, 202682.51976414,\n",
       "       152053.37897867, 149014.8002793 , 163608.70463118, 109088.72868355,\n",
       "       374228.78320308, 261425.06856459, 148959.23274824, 155728.84105256,\n",
       "       111704.08262404, 282195.87587164, 243807.62641196, 118140.09114163,\n",
       "       158818.06740673, 100500.15606899, 128105.22319935, 219899.76462252,\n",
       "       299288.2337206 , 238190.9051176 , 193042.04151917, 190120.9915668 ,\n",
       "       223445.53336948, 241349.08334929, 171011.47070172, 123724.43709652,\n",
       "       283933.34708426, 181883.51676373, 185927.40244315, 112705.85166742,\n",
       "       270393.0981573 ,  75486.06068842, 233132.49161644, 196369.66884606,\n",
       "       233285.56451964, 160608.05826926, 224393.57784545, 150948.37848551,\n",
       "       135763.0089696 , 148539.47179244, 145451.14258505, 160673.51577077,\n",
       "       228964.56882773, 180890.37702881, 163433.19393281, 111121.90324049,\n",
       "       172837.89628006, 215352.12741514, 199687.09091765, 245551.96358228,\n",
       "       112470.8352198 , 304777.43969869, 247112.78684413, 153013.58577143,\n",
       "       149703.04641839, 172330.87677044, 144797.12654125, 111638.97854985,\n",
       "       423643.95536974,  71390.67707504, 136771.95517179, 239557.78637732,\n",
       "       146296.6253681 , 225758.48151569, 166309.26969174, 260899.4574164 ,\n",
       "       172094.82120046, 292153.64647726, 191976.14417233, 189501.84987733,\n",
       "       284456.78582163, 166614.11282645, 274746.50683529, 118697.58256833,\n",
       "       182702.89180976, 229614.70312619, 158528.50912762, 185546.15656646,\n",
       "       188171.23411097, 121244.57807743, 125785.22396932, 234520.28286874,\n",
       "       207515.22862761, 346901.5974855 ,  93563.28707554, 154623.346649  ,\n",
       "       125536.31352668, 191247.44007482, 218574.32990899, 133327.34580769,\n",
       "       249134.13178094, 183579.11842516, 165750.55722554, 248002.17603468,\n",
       "       202927.03355837, 257643.69822996, 218155.16432665, 190368.28461602,\n",
       "       162880.16675806, 257949.50471103, 252828.59651068, 196765.00478269,\n",
       "       153213.70351851, 108766.95801237, 168217.98956201, 153330.02613633,\n",
       "       240603.59716417, 126470.94590753, 112304.79423848, 164074.21687416,\n",
       "       162067.54724873, 106739.43686678, 152412.13505311, 298292.62353791,\n",
       "       142310.96642504, 233184.57600369, 267918.81767367, 212356.5430804 ,\n",
       "       236725.9839099 ,  93792.90620751, 115805.96826199, 155503.90855675,\n",
       "       197323.78236867, 101954.85438985, 342431.52265822, 158979.9906508 ,\n",
       "       218147.72552838, 229321.44480977, 374432.18362908, 139286.6068258 ,\n",
       "       215174.54719422, 156493.54785039, 170263.16919488, 168797.20512579,\n",
       "       277443.23893226, 241488.68880864, 171172.45708352,  95445.85745419,\n",
       "       335403.51005867, 131142.90674673, 161177.71993357, 140034.70483629,\n",
       "       216498.33714618, 252592.38303568, 218149.82918667, 136622.94663754,\n",
       "       168069.6279502 , 176792.64328569, 259737.13712243, 250019.86429828,\n",
       "       122610.23651826, 182754.81961126, 168509.67248604, 144968.75939171,\n",
       "       108701.31206458, 143876.17753037, 148195.85580626, 133117.9575587 ,\n",
       "       265013.66855109,  81495.69568989, 186366.16333376, 121654.73356125,\n",
       "       341263.27458328, 109125.55074782, 148227.31754437, 138829.06135829,\n",
       "       197980.32650605, 190811.62969551, 209105.94865   , 304977.84458711,\n",
       "       229254.80075061, 218163.90140336, 241416.48496227, 317716.20435193,\n",
       "       220092.21777987, 202118.77804853, 198083.9717943 , 126970.70380591,\n",
       "       114616.21937732, 126284.1340621 ])"
      ]
     },
     "execution_count": 114,
     "metadata": {},
     "output_type": "execute_result"
    }
   ],
   "source": [
    "kag_preds"
   ]
  },
  {
   "cell_type": "markdown",
   "id": "19b9008a-6628-4bb3-9ced-9c7c8c7301fd",
   "metadata": {
    "tags": []
   },
   "source": [
    "---\n",
    "\n",
    "## Running Our Model on the Test CSV File!"
   ]
  },
  {
   "cell_type": "code",
   "execution_count": 792,
   "id": "a281c5c3-a6ae-4e3f-bcf7-dc00f5ddfe1c",
   "metadata": {},
   "outputs": [],
   "source": [
    "kag_sub = {'Id': raw_house_test['Id'], 'SalePrice': kag_preds}\n",
    "kag_sub = pd.DataFrame(kag_sub)\n",
    "kag_sub.to_csv('../datasets/submission3_john.csv', index = False)"
   ]
  },
  {
   "cell_type": "code",
   "execution_count": 793,
   "id": "a4153218-0a38-45b2-9746-f02381639f40",
   "metadata": {},
   "outputs": [],
   "source": [
    "kag_sub.to_csv('../datasets/submission3_john.csv', index = False)"
   ]
  },
  {
   "cell_type": "code",
   "execution_count": null,
   "id": "85e5fe63-8d70-47b6-8f00-b962a90ceb4c",
   "metadata": {},
   "outputs": [],
   "source": [
    "# create some variable with scores and submission results - notes on what you did\n",
    "# to keep track of what you did and how it performed"
   ]
  },
  {
   "cell_type": "code",
   "execution_count": null,
   "id": "c7e0c22b-273f-4da2-b443-a0788c20c9b2",
   "metadata": {},
   "outputs": [],
   "source": []
  },
  {
   "cell_type": "code",
   "execution_count": null,
   "id": "b639a602-8fcf-46df-8ddd-f4591ea46e1f",
   "metadata": {},
   "outputs": [],
   "source": []
  },
  {
   "cell_type": "code",
   "execution_count": null,
   "id": "7077bdbf-b709-447f-a738-dcb8b5b3a1b4",
   "metadata": {},
   "outputs": [],
   "source": []
  },
  {
   "cell_type": "code",
   "execution_count": null,
   "id": "c7d905e1-6ebe-4d2b-a09f-7062a722877d",
   "metadata": {},
   "outputs": [],
   "source": []
  },
  {
   "cell_type": "code",
   "execution_count": null,
   "id": "2f60e371-d475-422c-8ff7-412afd38b618",
   "metadata": {},
   "outputs": [],
   "source": []
  },
  {
   "cell_type": "code",
   "execution_count": null,
   "id": "59ca5a93-56bc-4ed8-a433-29ec0d99290c",
   "metadata": {},
   "outputs": [],
   "source": []
  },
  {
   "cell_type": "code",
   "execution_count": null,
   "id": "14eeb8eb-b058-41eb-8b1e-8920b3bd75b1",
   "metadata": {},
   "outputs": [],
   "source": []
  },
  {
   "cell_type": "code",
   "execution_count": null,
   "id": "20c6697e-b3e4-4094-8a5a-2b0079c73945",
   "metadata": {},
   "outputs": [],
   "source": []
  },
  {
   "cell_type": "code",
   "execution_count": null,
   "id": "d1d6d939-4717-46e8-987c-db5b47015c7d",
   "metadata": {},
   "outputs": [],
   "source": []
  },
  {
   "cell_type": "code",
   "execution_count": null,
   "id": "c19a35b3-d321-4fab-a1ed-cff58ad07d5d",
   "metadata": {},
   "outputs": [],
   "source": []
  },
  {
   "cell_type": "markdown",
   "id": "ac9f0759-b015-4182-aeb9-e36e30ca1698",
   "metadata": {},
   "source": [
    "## To Check On Other Attempts\n",
    "\n",
    "try models without scaling\n",
    "\n",
    "Check msn_vnr_type to see if intuition was correct.\n",
    "\n",
    "Try kitchen rating with 0-5 values even with correlation\n",
    "\n",
    "need to use ridge/lasso - for overfit data. try with slightly more numeric columns than you'd want\n",
    "- overfit with open porch sf, wood_deck_sf, and possibly bsmt_sf\n",
    "\n",
    "try including some features despite high vif\n",
    "- prediction not inference\n",
    "\n",
    "check line assumptions/residuals"
   ]
  },
  {
   "cell_type": "code",
   "execution_count": null,
   "id": "facaaa1c-8966-4caa-b85f-f4fd4b826291",
   "metadata": {},
   "outputs": [],
   "source": []
  }
 ],
 "metadata": {
  "kernelspec": {
   "display_name": "Python 3 (ipykernel)",
   "language": "python",
   "name": "python3"
  },
  "language_info": {
   "codemirror_mode": {
    "name": "ipython",
    "version": 3
   },
   "file_extension": ".py",
   "mimetype": "text/x-python",
   "name": "python",
   "nbconvert_exporter": "python",
   "pygments_lexer": "ipython3",
   "version": "3.9.12"
  }
 },
 "nbformat": 4,
 "nbformat_minor": 5
}
